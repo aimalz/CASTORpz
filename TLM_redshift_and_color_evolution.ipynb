{
  "nbformat": 4,
  "nbformat_minor": 0,
  "metadata": {
    "colab": {
      "provenance": [],
      "authorship_tag": "ABX9TyN83O49kWf2rXgf4olNe1/m",
      "include_colab_link": true
    },
    "kernelspec": {
      "name": "python3",
      "display_name": "Python 3"
    },
    "language_info": {
      "name": "python"
    }
  },
  "cells": [
    {
      "cell_type": "markdown",
      "metadata": {
        "id": "view-in-github",
        "colab_type": "text"
      },
      "source": [
        "<a href=\"https://colab.research.google.com/github/aimalz/CASTORpz/blob/main/TLM_redshift_and_color_evolution.ipynb\" target=\"_parent\"><img src=\"https://colab.research.google.com/assets/colab-badge.svg\" alt=\"Open In Colab\"/></a>"
      ]
    },
    {
      "cell_type": "code",
      "execution_count": 3,
      "metadata": {
        "colab": {
          "base_uri": "https://localhost:8080/"
        },
        "id": "KY5J0o-6g7IO",
        "outputId": "c79baa2e-acde-454f-a688-af86a1232704"
      },
      "outputs": [
        {
          "output_type": "stream",
          "name": "stdout",
          "text": [
            "Mounted at /content/drive\n",
            "698211\n",
            "Collecting jaxlib==0.4.16\n",
            "  Downloading jaxlib-0.4.16-cp310-cp310-manylinux2014_x86_64.whl (84.5 MB)\n",
            "\u001b[2K     \u001b[90m━━━━━━━━━━━━━━━━━━━━━━━━━━━━━━━━━━━━━━━━\u001b[0m \u001b[32m84.5/84.5 MB\u001b[0m \u001b[31m8.3 MB/s\u001b[0m eta \u001b[36m0:00:00\u001b[0m\n",
            "\u001b[?25hRequirement already satisfied: scipy>=1.7 in /usr/local/lib/python3.10/dist-packages (from jaxlib==0.4.16) (1.11.4)\n",
            "Requirement already satisfied: numpy>=1.22 in /usr/local/lib/python3.10/dist-packages (from jaxlib==0.4.16) (1.25.2)\n",
            "Requirement already satisfied: ml-dtypes>=0.2.0 in /usr/local/lib/python3.10/dist-packages (from jaxlib==0.4.16) (0.2.0)\n",
            "Installing collected packages: jaxlib\n",
            "  Attempting uninstall: jaxlib\n",
            "    Found existing installation: jaxlib 0.4.26+cuda12.cudnn89\n",
            "    Uninstalling jaxlib-0.4.26+cuda12.cudnn89:\n",
            "      Successfully uninstalled jaxlib-0.4.26+cuda12.cudnn89\n",
            "Successfully installed jaxlib-0.4.16\n",
            "Collecting jax==0.4.16\n",
            "  Downloading jax-0.4.16-py3-none-any.whl (1.6 MB)\n",
            "\u001b[2K     \u001b[90m━━━━━━━━━━━━━━━━━━━━━━━━━━━━━━━━━━━━━━━━\u001b[0m \u001b[32m1.6/1.6 MB\u001b[0m \u001b[31m10.0 MB/s\u001b[0m eta \u001b[36m0:00:00\u001b[0m\n",
            "\u001b[?25hRequirement already satisfied: ml-dtypes>=0.2.0 in /usr/local/lib/python3.10/dist-packages (from jax==0.4.16) (0.2.0)\n",
            "Requirement already satisfied: numpy>=1.22 in /usr/local/lib/python3.10/dist-packages (from jax==0.4.16) (1.25.2)\n",
            "Requirement already satisfied: opt-einsum in /usr/local/lib/python3.10/dist-packages (from jax==0.4.16) (3.3.0)\n",
            "Requirement already satisfied: scipy>=1.7 in /usr/local/lib/python3.10/dist-packages (from jax==0.4.16) (1.11.4)\n",
            "Installing collected packages: jax\n",
            "  Attempting uninstall: jax\n",
            "    Found existing installation: jax 0.4.26\n",
            "    Uninstalling jax-0.4.26:\n",
            "      Successfully uninstalled jax-0.4.26\n",
            "\u001b[31mERROR: pip's dependency resolver does not currently take into account all the packages that are installed. This behaviour is the source of the following dependency conflicts.\n",
            "flax 0.8.3 requires jax>=0.4.19, but you have jax 0.4.16 which is incompatible.\u001b[0m\u001b[31m\n",
            "\u001b[0mSuccessfully installed jax-0.4.16\n",
            "nvcc: NVIDIA (R) Cuda compiler driver\n",
            "Copyright (c) 2005-2023 NVIDIA Corporation\n",
            "Built on Tue_Aug_15_22:02:13_PDT_2023\n",
            "Cuda compilation tools, release 12.2, V12.2.140\n",
            "Build cuda_12.2.r12.2/compiler.33191640_0\n",
            "Requirement already satisfied: astropy in /usr/local/lib/python3.10/dist-packages (5.3.4)\n",
            "Collecting pzflow\n",
            "  Downloading pzflow-3.1.3-py3-none-any.whl (8.7 MB)\n",
            "\u001b[2K     \u001b[90m━━━━━━━━━━━━━━━━━━━━━━━━━━━━━━━━━━━━━━━━\u001b[0m \u001b[32m8.7/8.7 MB\u001b[0m \u001b[31m26.5 MB/s\u001b[0m eta \u001b[36m0:00:00\u001b[0m\n",
            "\u001b[?25hCollecting corner\n",
            "  Downloading corner-2.2.2-py3-none-any.whl (15 kB)\n",
            "Requirement already satisfied: numpy<2,>=1.21 in /usr/local/lib/python3.10/dist-packages (from astropy) (1.25.2)\n",
            "Requirement already satisfied: pyerfa>=2.0 in /usr/local/lib/python3.10/dist-packages (from astropy) (2.0.1.4)\n",
            "Requirement already satisfied: PyYAML>=3.13 in /usr/local/lib/python3.10/dist-packages (from astropy) (6.0.1)\n",
            "Requirement already satisfied: packaging>=19.0 in /usr/local/lib/python3.10/dist-packages (from astropy) (24.0)\n",
            "Collecting dill>=0.3.6 (from pzflow)\n",
            "  Downloading dill-0.3.8-py3-none-any.whl (116 kB)\n",
            "\u001b[2K     \u001b[90m━━━━━━━━━━━━━━━━━━━━━━━━━━━━━━━━━━━━━━━━\u001b[0m \u001b[32m116.3/116.3 kB\u001b[0m \u001b[31m13.9 MB/s\u001b[0m eta \u001b[36m0:00:00\u001b[0m\n",
            "\u001b[?25hRequirement already satisfied: jax>=0.4.16 in /usr/local/lib/python3.10/dist-packages (from pzflow) (0.4.16)\n",
            "Requirement already satisfied: jaxlib>=0.4.16 in /usr/local/lib/python3.10/dist-packages (from pzflow) (0.4.16)\n",
            "Requirement already satisfied: optax>=0.1.4 in /usr/local/lib/python3.10/dist-packages (from pzflow) (0.2.2)\n",
            "Requirement already satisfied: pandas>=1.1 in /usr/local/lib/python3.10/dist-packages (from pzflow) (2.0.3)\n",
            "Requirement already satisfied: tqdm>=4.64.1 in /usr/local/lib/python3.10/dist-packages (from pzflow) (4.66.2)\n",
            "Requirement already satisfied: matplotlib>=2.1 in /usr/local/lib/python3.10/dist-packages (from corner) (3.7.1)\n",
            "Requirement already satisfied: ml-dtypes>=0.2.0 in /usr/local/lib/python3.10/dist-packages (from jax>=0.4.16->pzflow) (0.2.0)\n",
            "Requirement already satisfied: opt-einsum in /usr/local/lib/python3.10/dist-packages (from jax>=0.4.16->pzflow) (3.3.0)\n",
            "Requirement already satisfied: scipy>=1.7 in /usr/local/lib/python3.10/dist-packages (from jax>=0.4.16->pzflow) (1.11.4)\n",
            "Requirement already satisfied: contourpy>=1.0.1 in /usr/local/lib/python3.10/dist-packages (from matplotlib>=2.1->corner) (1.2.1)\n",
            "Requirement already satisfied: cycler>=0.10 in /usr/local/lib/python3.10/dist-packages (from matplotlib>=2.1->corner) (0.12.1)\n",
            "Requirement already satisfied: fonttools>=4.22.0 in /usr/local/lib/python3.10/dist-packages (from matplotlib>=2.1->corner) (4.51.0)\n",
            "Requirement already satisfied: kiwisolver>=1.0.1 in /usr/local/lib/python3.10/dist-packages (from matplotlib>=2.1->corner) (1.4.5)\n",
            "Requirement already satisfied: pillow>=6.2.0 in /usr/local/lib/python3.10/dist-packages (from matplotlib>=2.1->corner) (9.4.0)\n",
            "Requirement already satisfied: pyparsing>=2.3.1 in /usr/local/lib/python3.10/dist-packages (from matplotlib>=2.1->corner) (3.1.2)\n",
            "Requirement already satisfied: python-dateutil>=2.7 in /usr/local/lib/python3.10/dist-packages (from matplotlib>=2.1->corner) (2.8.2)\n",
            "Requirement already satisfied: absl-py>=0.7.1 in /usr/local/lib/python3.10/dist-packages (from optax>=0.1.4->pzflow) (1.4.0)\n",
            "Requirement already satisfied: chex>=0.1.86 in /usr/local/lib/python3.10/dist-packages (from optax>=0.1.4->pzflow) (0.1.86)\n",
            "Requirement already satisfied: pytz>=2020.1 in /usr/local/lib/python3.10/dist-packages (from pandas>=1.1->pzflow) (2023.4)\n",
            "Requirement already satisfied: tzdata>=2022.1 in /usr/local/lib/python3.10/dist-packages (from pandas>=1.1->pzflow) (2024.1)\n",
            "Requirement already satisfied: typing-extensions>=4.2.0 in /usr/local/lib/python3.10/dist-packages (from chex>=0.1.86->optax>=0.1.4->pzflow) (4.11.0)\n",
            "Requirement already satisfied: toolz>=0.9.0 in /usr/local/lib/python3.10/dist-packages (from chex>=0.1.86->optax>=0.1.4->pzflow) (0.12.1)\n",
            "Requirement already satisfied: six>=1.5 in /usr/local/lib/python3.10/dist-packages (from python-dateutil>=2.7->matplotlib>=2.1->corner) (1.16.0)\n",
            "Installing collected packages: dill, corner, pzflow\n",
            "Successfully installed corner-2.2.2 dill-0.3.8 pzflow-3.1.3\n"
          ]
        }
      ],
      "source": [
        "from google.colab import drive\n",
        "drive.mount('/content/drive')\n",
        "\n",
        "from astropy.table import Table\n",
        "prepend = '/content/drive/MyDrive/Research/CASTORpz/'\n",
        "unp = Table.read(prepend+\"unperturbed_mags.fits\")\n",
        "print(len(unp))\n",
        "\n",
        "# !pip install --upgrade \"jax[cuda]\" -f https://storage.googleapis.com/jax-releases/jax_cuda_releases.html\n",
        "!pip install jaxlib==0.4.16\n",
        "!pip install jax==0.4.16\n",
        "\n",
        "# jaxlib==0.3.22+cuda11.cudnn82\n",
        "\n",
        "# !pip install jax[cuda]==0.4.17+cuda12.cudnn89 -f https://storage.googleapis.com/jax-releases/jax_cuda_releases.html\n",
        "\n",
        "# !pip install \"jax[cuda]\"==0.4.16\n",
        "!nvcc --version\n",
        "\n",
        "!pip install astropy pzflow corner\n",
        "\n",
        "from pzflow import Flow\n",
        "import jax.numpy as jnp\n",
        "import pandas as pd\n",
        "import numpy as np\n",
        "import pickle\n",
        "import corner\n",
        "import matplotlib.pyplot as plt\n",
        "from astropy.table import Table\n",
        "from pzflow import Flow, FlowEnsemble\n",
        "from pzflow.distributions import Uniform\n",
        "from pzflow.bijectors import Chain, StandardScaler, NeuralSplineCoupling, ColorTransform, InvSoftplus, RollingSplineCoupling, ShiftBounds"
      ]
    },
    {
      "cell_type": "code",
      "source": [],
      "metadata": {
        "colab": {
          "base_uri": "https://localhost:8080/"
        },
        "id": "1FNxp0EErjzz",
        "outputId": "9887d95a-ed23-4bac-c70b-8f543a6a99bf"
      },
      "execution_count": 1,
      "outputs": [
        {
          "output_type": "stream",
          "name": "stdout",
          "text": [
            "\u001b[0m\u001b[01;34msample_data\u001b[0m/\n"
          ]
        }
      ]
    },
    {
      "cell_type": "code",
      "source": [
        "cd /content/drive/MyDrive/Research/CASTORpz\n"
      ],
      "metadata": {
        "colab": {
          "base_uri": "https://localhost:8080/"
        },
        "id": "_N3SfovvhCme",
        "outputId": "6d92a65f-584b-423d-db77-618317a1f841"
      },
      "execution_count": 4,
      "outputs": [
        {
          "output_type": "stream",
          "name": "stdout",
          "text": [
            "/content/drive/MyDrive/Research/CASTORpz\n"
          ]
        }
      ]
    },
    {
      "cell_type": "code",
      "source": [
        "unp = Table.read(prepend+\"unperturbed_mags.fits\").to_pandas()#.set_index('ID')\n",
        "mock = Table.read(prepend+\"ext_phot.fits\").to_pandas()#.set_index('ID')"
      ],
      "metadata": {
        "id": "KFKSp_xyhEZC"
      },
      "execution_count": 5,
      "outputs": []
    },
    {
      "cell_type": "code",
      "source": [
        "names_phot = [\"ID\", \"photoz\",\n",
        "              \"LSST_u_MAG\",\n",
        "              \"LSST_g_MAG\", \"LSST_g_MAGERR\",\n",
        "              \"LSST_r_MAG\", \"LSST_r_MAGERR\",\n",
        "              \"LSST_i_MAG\", \"LSST_i_MAGERR\",\n",
        "              \"LSST_z_MAG\", \"LSST_z_MAGERR\",\n",
        "              \"castor_uv_MAG\", \"castor_uv_MAGERR\",\n",
        "              \"castor_u_MAG\", \"castor_u_MAGERR\",\n",
        "              \"castor_g_MAG\", \"castor_g_MAGERR\",\n",
        "              \"Euclid_VIS_MAG\",\n",
        "              'Euclid_Y_MAG','Euclid_J_MAG','Euclid_H_MAG',\n",
        "              'Roman_106_MAG',\n",
        "              'Roman_129_MAG','Roman_158_MAG',\n",
        "              'Roman_184_MAG']\n",
        "\n",
        "\n",
        "\n",
        "available_os = [\"CASTOR-only\", \"LSST-only\", \"Euclid-only\", #\"Roman-only\",\n",
        "\"LSST+CASTOR\", \"Euclid+CASTOR\", #\"Roman+CASTOR\",\n",
        "\"Euclid+LSST\", \"Euclid+LSST+CASTOR\"\n",
        "]\n",
        "\n",
        "Roman_os = [\"Roman-only\", \"Roman+CASTOR\", \"Roman+Euclid+LSST+CASTOR\", \"Roman+LSST\"]\n",
        "\n",
        "available_os = available_os + Roman_os\n",
        "print(available_os)\n",
        "\n",
        "names = available_os"
      ],
      "metadata": {
        "colab": {
          "base_uri": "https://localhost:8080/"
        },
        "id": "lkWUpl9yhGpg",
        "outputId": "071131ee-6885-41db-faa6-6e85b301a5f1"
      },
      "execution_count": 6,
      "outputs": [
        {
          "output_type": "stream",
          "name": "stdout",
          "text": [
            "['CASTOR-only', 'LSST-only', 'Euclid-only', 'LSST+CASTOR', 'Euclid+CASTOR', 'Euclid+LSST', 'Euclid+LSST+CASTOR', 'Roman-only', 'Roman+CASTOR', 'Roman+Euclid+LSST+CASTOR', 'Roman+LSST']\n"
          ]
        }
      ]
    },
    {
      "cell_type": "code",
      "source": [
        "# load data\n",
        "def getTrueY(test_cat, mag_col_names, y_col_name):\n",
        "    test_cat = Table(test_cat, masked=True, copy=True)\n",
        "    # remove nans\n",
        "    for col in mag_col_names:\n",
        "        test_cat[col].mask = np.isnan(test_cat[col].data) | test_cat[col].mask\n",
        "        test_cat = test_cat[~test_cat[col].mask] # then remove nans from test set\n",
        "\n",
        "    true_y = test_cat[y_col_name]\n",
        "    return true_y.filled()"
      ],
      "metadata": {
        "id": "8GStRYFGhIic"
      },
      "execution_count": 7,
      "outputs": []
    },
    {
      "cell_type": "code",
      "source": [
        "available_os = ['LSST-only',\n",
        "                'CASTOR-only',\n",
        "                'Euclid+LSST',\n",
        "                'LSST+CASTOR',\n",
        "                'Roman+Euclid+LSST',\n",
        "                'Roman+Euclid+LSST+CASTOR']\n",
        "\n",
        "os_combo_labels = {'LSST-only': 'LSST',\n",
        "                  'CASTOR-only': 'CASTOR',\n",
        "                  'LSST+CASTOR': 'LSST+CASTOR',\n",
        "                  'Roman+LSST': 'LSST+Roman',\n",
        "                  # 'Roman+LSST+CASTOR' : 'LSST+Roman+CASTOR', #(currently training, will be in Mar_experiments)\n",
        "                  'Roman+Euclid+LSST': 'LSST+Roman+Euclid',\n",
        "                  'Roman+Euclid+LSST+CASTOR': 'LSST+Roman+Euclid+CASTOR'}"
      ],
      "metadata": {
        "id": "xVsoSzslhKv5"
      },
      "execution_count": 8,
      "outputs": []
    },
    {
      "cell_type": "code",
      "source": [
        "tav_cats = {}\n",
        "just_tav = {}\n",
        "for os in available_os:\n",
        "  # print(os)\n",
        "  with (open(f\"{os}_with_tav.pkl\", 'rb')) as openfile:\n",
        "    tav_cats[os] = pd.read_pickle(openfile)\n",
        "    # print(tav_cats[os].columns)\n",
        "    just_tav[os] = tav_cats[os]['log_prob']"
      ],
      "metadata": {
        "colab": {
          "base_uri": "https://localhost:8080/",
          "height": 207
        },
        "id": "MJ_Y4D7kVehg",
        "outputId": "204867db-6773-48a8-c228-61b76a5d75ca"
      },
      "execution_count": null,
      "outputs": [
        {
          "output_type": "error",
          "ename": "FileNotFoundError",
          "evalue": "[Errno 2] No such file or directory: 'CASTOR-only_with_tav.pkl'",
          "traceback": [
            "\u001b[0;31m---------------------------------------------------------------------------\u001b[0m",
            "\u001b[0;31mFileNotFoundError\u001b[0m                         Traceback (most recent call last)",
            "\u001b[0;32m<ipython-input-13-5f69c5e3c09c>\u001b[0m in \u001b[0;36m<cell line: 3>\u001b[0;34m()\u001b[0m\n\u001b[1;32m      3\u001b[0m \u001b[0;32mfor\u001b[0m \u001b[0mos\u001b[0m \u001b[0;32min\u001b[0m \u001b[0mavailable_os\u001b[0m\u001b[0;34m:\u001b[0m\u001b[0;34m\u001b[0m\u001b[0;34m\u001b[0m\u001b[0m\n\u001b[1;32m      4\u001b[0m   \u001b[0;31m# print(os)\u001b[0m\u001b[0;34m\u001b[0m\u001b[0;34m\u001b[0m\u001b[0m\n\u001b[0;32m----> 5\u001b[0;31m   \u001b[0;32mwith\u001b[0m \u001b[0;34m(\u001b[0m\u001b[0mopen\u001b[0m\u001b[0;34m(\u001b[0m\u001b[0;34mf\"{os}_with_tav.pkl\"\u001b[0m\u001b[0;34m,\u001b[0m \u001b[0;34m'rb'\u001b[0m\u001b[0;34m)\u001b[0m\u001b[0;34m)\u001b[0m \u001b[0;32mas\u001b[0m \u001b[0mopenfile\u001b[0m\u001b[0;34m:\u001b[0m\u001b[0;34m\u001b[0m\u001b[0;34m\u001b[0m\u001b[0m\n\u001b[0m\u001b[1;32m      6\u001b[0m     \u001b[0mtav_cats\u001b[0m\u001b[0;34m[\u001b[0m\u001b[0mos\u001b[0m\u001b[0;34m]\u001b[0m \u001b[0;34m=\u001b[0m \u001b[0mpd\u001b[0m\u001b[0;34m.\u001b[0m\u001b[0mread_pickle\u001b[0m\u001b[0;34m(\u001b[0m\u001b[0mopenfile\u001b[0m\u001b[0;34m)\u001b[0m\u001b[0;34m\u001b[0m\u001b[0;34m\u001b[0m\u001b[0m\n\u001b[1;32m      7\u001b[0m     \u001b[0;31m# print(tav_cats[os].columns)\u001b[0m\u001b[0;34m\u001b[0m\u001b[0;34m\u001b[0m\u001b[0m\n",
            "\u001b[0;31mFileNotFoundError\u001b[0m: [Errno 2] No such file or directory: 'CASTOR-only_with_tav.pkl'"
          ]
        }
      ]
    },
    {
      "cell_type": "code",
      "source": [
        "[(tav_cats['LSST-only']['z_true'] > 1.5) & (tav_cats['LSST-only']['z_true'] < 2.25)]"
      ],
      "metadata": {
        "colab": {
          "base_uri": "https://localhost:8080/"
        },
        "id": "uNL2o-GpWRul",
        "outputId": "1ff74d53-6c0e-4c32-be19-00b8d55b83f7"
      },
      "execution_count": null,
      "outputs": [
        {
          "output_type": "execute_result",
          "data": {
            "text/plain": [
              "[CASTOR_ID\n",
              " 1          True\n",
              " 2         False\n",
              " 3         False\n",
              " 5         False\n",
              " 12        False\n",
              "           ...  \n",
              " 964428    False\n",
              " 964429    False\n",
              " 964437     True\n",
              " 964439    False\n",
              " 964449    False\n",
              " Name: z_true, Length: 430635, dtype: bool]"
            ]
          },
          "metadata": {},
          "execution_count": 21
        }
      ]
    },
    {
      "cell_type": "code",
      "source": [
        "just_tav['LSST-only'][(tav_cats['LSST-only']['z_true'] > 1.5) & (tav_cats['LSST-only']['z_true'] < 2.25) & tav_cats['LSST-only']['z_true'] < 2.25)]"
      ],
      "metadata": {
        "colab": {
          "base_uri": "https://localhost:8080/",
          "height": 207
        },
        "id": "3IU6UMEcVlVW",
        "outputId": "91f37ed0-35bc-4e98-9af4-16daa1ac4fbd"
      },
      "execution_count": null,
      "outputs": [
        {
          "output_type": "error",
          "ename": "SyntaxError",
          "evalue": "closing parenthesis ')' does not match opening parenthesis '[' (<ipython-input-12-cefc52ac1198>, line 1)",
          "traceback": [
            "\u001b[0;31m---------------------------------------------------------------------------\u001b[0m",
            "\u001b[0;31mSyntaxError\u001b[0m                               Traceback (most recent call last)",
            "\u001b[0;32m/usr/local/lib/python3.10/dist-packages/IPython/core/compilerop.py\u001b[0m in \u001b[0;36mast_parse\u001b[0;34m(self, source, filename, symbol)\u001b[0m\n\u001b[1;32m     99\u001b[0m         \u001b[0mArguments\u001b[0m \u001b[0mare\u001b[0m \u001b[0mexactly\u001b[0m \u001b[0mthe\u001b[0m \u001b[0msame\u001b[0m \u001b[0;32mas\u001b[0m \u001b[0mast\u001b[0m\u001b[0;34m.\u001b[0m\u001b[0mparse\u001b[0m \u001b[0;34m(\u001b[0m\u001b[0;32min\u001b[0m \u001b[0mthe\u001b[0m \u001b[0mstandard\u001b[0m \u001b[0mlibrary\u001b[0m\u001b[0;34m)\u001b[0m\u001b[0;34m,\u001b[0m\u001b[0;34m\u001b[0m\u001b[0;34m\u001b[0m\u001b[0m\n\u001b[1;32m    100\u001b[0m         and are passed to the built-in compile function.\"\"\"\n\u001b[0;32m--> 101\u001b[0;31m         \u001b[0;32mreturn\u001b[0m \u001b[0mcompile\u001b[0m\u001b[0;34m(\u001b[0m\u001b[0msource\u001b[0m\u001b[0;34m,\u001b[0m \u001b[0mfilename\u001b[0m\u001b[0;34m,\u001b[0m \u001b[0msymbol\u001b[0m\u001b[0;34m,\u001b[0m \u001b[0mself\u001b[0m\u001b[0;34m.\u001b[0m\u001b[0mflags\u001b[0m \u001b[0;34m|\u001b[0m \u001b[0mPyCF_ONLY_AST\u001b[0m\u001b[0;34m,\u001b[0m \u001b[0;36m1\u001b[0m\u001b[0;34m)\u001b[0m\u001b[0;34m\u001b[0m\u001b[0;34m\u001b[0m\u001b[0m\n\u001b[0m\u001b[1;32m    102\u001b[0m \u001b[0;34m\u001b[0m\u001b[0m\n\u001b[1;32m    103\u001b[0m     \u001b[0;32mdef\u001b[0m \u001b[0mreset_compiler_flags\u001b[0m\u001b[0;34m(\u001b[0m\u001b[0mself\u001b[0m\u001b[0;34m)\u001b[0m\u001b[0;34m:\u001b[0m\u001b[0;34m\u001b[0m\u001b[0;34m\u001b[0m\u001b[0m\n",
            "\u001b[0;31mSyntaxError\u001b[0m: closing parenthesis ')' does not match opening parenthesis '[' (<ipython-input-12-cefc52ac1198>, line 1)"
          ]
        }
      ]
    },
    {
      "cell_type": "code",
      "source": [
        "# u-band cuts on just_tav - 30, 38, 45 second exposures\n",
        "# distribution of these values\n",
        "# plot the CDF\n"
      ],
      "metadata": {
        "id": "QxIcr1VNW_Pq"
      },
      "execution_count": null,
      "outputs": []
    },
    {
      "cell_type": "code",
      "source": [
        "ls reruns_of_old_catalogs/"
      ],
      "metadata": {
        "colab": {
          "base_uri": "https://localhost:8080/"
        },
        "id": "5Ar2iM2RsVnA",
        "outputId": "c0d76335-1772-40f7-a18c-58ef09d3ea40"
      },
      "execution_count": 12,
      "outputs": [
        {
          "output_type": "stream",
          "name": "stdout",
          "text": [
            "losses_for_LSST-only.pkl  pzflow_ensemble_for_LSST-only_z15to225.pkl\n"
          ]
        }
      ]
    },
    {
      "cell_type": "code",
      "source": [
        "flows = FlowEnsemble(file=f\"reruns_of_old_catalogs/pzflow_ensemble_for_LSST-only_z15to225.pkl\")"
      ],
      "metadata": {
        "colab": {
          "base_uri": "https://localhost:8080/"
        },
        "id": "osBzMqAFsfZJ",
        "outputId": "ced13a9f-1602-4ca4-ebcb-a53e734ba5d3"
      },
      "execution_count": 15,
      "outputs": [
        {
          "output_type": "stream",
          "name": "stderr",
          "text": [
            "WARNING:jax._src.xla_bridge:No GPU/TPU found, falling back to CPU. (Set TF_CPP_MIN_LOG_LEVEL=0 and rerun for more info.)\n"
          ]
        }
      ]
    },
    {
      "cell_type": "code",
      "source": [
        "flows = {}\n",
        "for os in available_os:\n",
        "  flows[os] = FlowEnsemble(file=f\"Oct_flows_draftpzflow_ensemble_for_{os}.pkl\")"
      ],
      "metadata": {
        "colab": {
          "base_uri": "https://localhost:8080/"
        },
        "id": "Y4kN2L8hhNhh",
        "outputId": "6f355d11-a743-4a6f-e6e0-1d38024cfff9"
      },
      "execution_count": null,
      "outputs": [
        {
          "output_type": "stream",
          "name": "stderr",
          "text": [
            "WARNING:jax._src.xla_bridge:No GPU/TPU found, falling back to CPU. (Set TF_CPP_MIN_LOG_LEVEL=0 and rerun for more info.)\n"
          ]
        }
      ]
    },
    {
      "cell_type": "code",
      "source": [
        "mock_cat = pd.merge(mock, unp[['ID',\"Euclid_VIS_MAG\"]], on='ID')\n",
        "\n",
        "CASTOR_baseline = Table.from_pandas(mock_cat[(mock_cat[\"Euclid_VIS_MAG\"] <= 24.5) & (mock_cat[\"LSST_r_MAG\"] >= 17.5)]) # apply magnitude limit cuts\n",
        "# CASTOR_baseline = Table.from_pandas(mock_cat) # apply magnitude limit cuts"
      ],
      "metadata": {
        "id": "ViTIVTuohwap"
      },
      "execution_count": null,
      "outputs": []
    },
    {
      "cell_type": "code",
      "source": [],
      "metadata": {
        "id": "oZUo14pn7YbG"
      },
      "execution_count": null,
      "outputs": []
    },
    {
      "cell_type": "code",
      "source": [
        "# put data in expected format for TLM\n",
        "\n",
        "LSST_u_mag = getTrueY(test_cat=CASTOR_baseline, mag_col_names=names_phot, y_col_name=\"LSST_u_MAG\")\n",
        "LSST_g_mag = getTrueY(test_cat=CASTOR_baseline, mag_col_names=names_phot, y_col_name=\"LSST_g_MAG\")\n",
        "LSST_r_mag = getTrueY(test_cat=CASTOR_baseline, mag_col_names=names_phot, y_col_name=\"LSST_r_MAG\")\n",
        "LSST_i_mag = getTrueY(test_cat=CASTOR_baseline, mag_col_names=names_phot, y_col_name=\"LSST_i_MAG\")\n",
        "LSST_z_mag = getTrueY(test_cat=CASTOR_baseline, mag_col_names=names_phot, y_col_name=\"LSST_z_MAG\")\n",
        "LSST_y_mag = getTrueY(test_cat=CASTOR_baseline, mag_col_names=names_phot, y_col_name=\"LSST_y_MAG\")\n",
        "\n",
        "\n",
        "# LSST_g_mag_ERR = getTrueY(test_cat=CASTOR_baseline, mag_col_names=names_phot, y_col_name=\"LSST_g_MAGERR\")\n",
        "# LSST_r_mag_ERR = getTrueY(test_cat=CASTOR_baseline, mag_col_names=names_phot, y_col_name=\"LSST_r_MAGERR\")\n",
        "# LSST_i_mag_ERR = getTrueY(test_cat=CASTOR_baseline, mag_col_names=names_phot, y_col_name=\"LSST_i_MAGERR\")\n",
        "# LSST_z_mag_ERR = getTrueY(test_cat=CASTOR_baseline, mag_col_names=names_phot, y_col_name=\"LSST_z_MAGERR\")\n",
        "\n",
        "CASTOR_g_mag = getTrueY(test_cat=CASTOR_baseline, mag_col_names=names_phot, y_col_name=\"castor_g_MAG\")\n",
        "CASTOR_u_mag = getTrueY(test_cat=CASTOR_baseline, mag_col_names=names_phot, y_col_name=\"castor_u_MAG\")\n",
        "CASTOR_uv_mag = getTrueY(test_cat=CASTOR_baseline, mag_col_names=names_phot, y_col_name=\"castor_uv_MAG\")\n",
        "\n",
        "# CASTOR_g_mag_ERR = getTrueY(test_cat=CASTOR_baseline, mag_col_names=names_phot, y_col_name=\"castor_g_MAGERR\")\n",
        "# CASTOR_u_mag_ERR = getTrueY(test_cat=CASTOR_baseline, mag_col_names=names_phot, y_col_name=\"castor_u_MAGERR\")\n",
        "# CASTOR_uv_mag_ERR = getTrueY(test_cat=CASTOR_baseline, mag_col_names=names_phot, y_col_name=\"castor_uv_MAGERR\")\n",
        "\n",
        "Euclid_VIS_mag = getTrueY(test_cat=CASTOR_baseline, mag_col_names=names_phot, y_col_name=\"Euclid_VIS_MAG\")\n",
        "Euclid_J_mag = getTrueY(test_cat=CASTOR_baseline, mag_col_names=names_phot, y_col_name=\"Euclid_J_MAG\")\n",
        "Euclid_H_mag = getTrueY(test_cat=CASTOR_baseline, mag_col_names=names_phot, y_col_name=\"Euclid_H_MAG\")\n",
        "Euclid_Y_mag = getTrueY(test_cat=CASTOR_baseline, mag_col_names=names_phot, y_col_name=\"Euclid_Y_MAG\")\n",
        "\n",
        "# Roman - only a subset of the Roman filters are available?\n",
        "\n",
        "# Roman_062_mag = getTrueY(test_cat=CASTOR_baseline, mag_col_names=names_phot, y_col_name='Roman_062_MAG')\n",
        "# Roman_087_mag = getTrueY(test_cat=CASTOR_baseline, mag_col_names=names_phot, y_col_name='Roman_087_MAG')\n",
        "Roman_106_mag = getTrueY(test_cat=CASTOR_baseline, mag_col_names=names_phot, y_col_name='Roman_106_MAG')\n",
        "\n",
        "Roman_129_mag = getTrueY(test_cat=CASTOR_baseline, mag_col_names=names_phot, y_col_name='Roman_129_MAG')\n",
        "# Roman_146_mag = getTrueY(test_cat=CASTOR_baseline, mag_col_names=names_phot, y_col_name='Roman_146_MAG')\n",
        "Roman_158_mag = getTrueY(test_cat=CASTOR_baseline, mag_col_names=names_phot, y_col_name='Roman_158_MAG')\n",
        "\n",
        "Roman_184_mag = getTrueY(test_cat=CASTOR_baseline, mag_col_names=names_phot, y_col_name='Roman_184_MAG')\n",
        "# Roman_213_mag = getTrueY(test_cat=CASTOR_baseline, mag_col_names=names_phot, y_col_name='Roman_213_MAG')\n",
        "\n",
        "ID = getTrueY(test_cat=CASTOR_baseline, mag_col_names=names_phot, y_col_name=\"ID\")\n",
        "z_true = getTrueY(test_cat=CASTOR_baseline, mag_col_names=names_phot, y_col_name=\"photoz\")"
      ],
      "metadata": {
        "id": "-zMlsuTljEdk"
      },
      "execution_count": null,
      "outputs": []
    },
    {
      "cell_type": "code",
      "source": [
        "# get magnitudes and set up the catalogs\n",
        "\n",
        "catalogs = dict()\n",
        "catalogs['LSST+CASTOR'] = pd.DataFrame({'CASTOR_ID': ID, 'z_true': z_true,\n",
        "                             'r': LSST_r_mag,\n",
        "                             'g-r': LSST_g_mag - LSST_r_mag,\n",
        "                             'r-i': LSST_r_mag - LSST_i_mag,\n",
        "                             'i-z': LSST_i_mag - LSST_z_mag,\n",
        "                             'uv-u': CASTOR_uv_mag - CASTOR_u_mag,\n",
        "                             'u-g': CASTOR_u_mag - CASTOR_g_mag\n",
        "                      }).set_index('CASTOR_ID').dropna()\n",
        "catalogs['LSST-only'] = pd.DataFrame({'CASTOR_ID': ID, 'z_true': z_true,\n",
        "                             'r': LSST_r_mag,\n",
        "                             'g-r': LSST_g_mag - LSST_r_mag,\n",
        "                             'r-i': LSST_r_mag - LSST_i_mag,\n",
        "                             'i-z': LSST_i_mag - LSST_z_mag\n",
        "                      }).set_index('CASTOR_ID').dropna()\n",
        "catalogs['CASTOR-only'] = pd.DataFrame({'CASTOR_ID': ID, 'z_true': z_true,\n",
        "                             'g': CASTOR_g_mag,\n",
        "                             'uv-u': CASTOR_uv_mag - CASTOR_u_mag,\n",
        "                             'u-g': CASTOR_u_mag - CASTOR_g_mag\n",
        "                      }).set_index('CASTOR_ID').dropna()\n",
        "catalogs['Euclid-only'] = pd.DataFrame({'CASTOR_ID': ID, 'z_true': z_true,\n",
        "                             'v': Euclid_VIS_mag,\n",
        "                             'v-y': Euclid_VIS_mag - Euclid_Y_mag,\n",
        "                             'y-j': Euclid_Y_mag - Euclid_J_mag,\n",
        "                             'j-h': Euclid_J_mag - Euclid_H_mag\n",
        "                      }).set_index('CASTOR_ID').dropna()\n",
        "\n",
        "catalogs['Euclid+CASTOR'] = pd.DataFrame({'CASTOR_ID': ID, 'z_true': z_true,\n",
        "                             'g': CASTOR_g_mag,\n",
        "                             'uv-u': CASTOR_uv_mag - CASTOR_u_mag,\n",
        "                             'u-g': CASTOR_u_mag - CASTOR_g_mag,\n",
        "                             'v': Euclid_VIS_mag,\n",
        "                             'v-y': Euclid_VIS_mag - Euclid_Y_mag,\n",
        "                             'y-j': Euclid_Y_mag - Euclid_J_mag,\n",
        "                             'j-h': Euclid_J_mag - Euclid_H_mag\n",
        "                      }).set_index('CASTOR_ID').dropna()\n",
        "catalogs['Euclid+LSST'] = pd.DataFrame({'CASTOR_ID': ID, 'z_true': z_true,\n",
        "                              'r': LSST_r_mag,\n",
        "                             'g-r': LSST_g_mag - LSST_r_mag,\n",
        "                             'r-i': LSST_r_mag - LSST_i_mag,\n",
        "                             'i-z': LSST_i_mag - LSST_z_mag,\n",
        "                             'v': Euclid_VIS_mag,\n",
        "                             'v-y': Euclid_VIS_mag - Euclid_Y_mag,\n",
        "                             'y-j': Euclid_Y_mag - Euclid_J_mag,\n",
        "                             'j-h': Euclid_J_mag - Euclid_H_mag\n",
        "                      }).set_index('CASTOR_ID').dropna()\n",
        "catalogs['Euclid+LSST+CASTOR'] = pd.DataFrame({'CASTOR_ID': ID, 'z_true': z_true,\n",
        "                              'r': LSST_r_mag,\n",
        "                             'g-r': LSST_g_mag - LSST_r_mag,\n",
        "                             'r-i': LSST_r_mag - LSST_i_mag,\n",
        "                             'i-z': LSST_i_mag - LSST_z_mag,\n",
        "                             'v': Euclid_VIS_mag,\n",
        "                             'v-y': Euclid_VIS_mag - Euclid_Y_mag,\n",
        "                             'y-j': Euclid_Y_mag - Euclid_J_mag,\n",
        "                             'j-h': Euclid_J_mag - Euclid_H_mag,\n",
        "                             'g': CASTOR_g_mag,\n",
        "                             'uv-u': CASTOR_uv_mag - CASTOR_u_mag,\n",
        "                             'u-g': CASTOR_u_mag - CASTOR_g_mag\n",
        "                      }).set_index('CASTOR_ID').dropna()\n",
        "\n",
        "catalogs[\"Roman+Euclid+LSST+CASTOR\"] = pd.DataFrame({'CASTOR_ID': ID, 'z_true': z_true,\n",
        "                             'r': LSST_r_mag,\n",
        "                             'g-r': LSST_g_mag - LSST_r_mag,\n",
        "                             'r-i': LSST_r_mag - LSST_i_mag,\n",
        "                             'i-z': LSST_i_mag - LSST_z_mag,\n",
        "                             'v': Euclid_VIS_mag,\n",
        "                             'v-y': Euclid_VIS_mag - Euclid_Y_mag,\n",
        "                             'y-j': Euclid_Y_mag - Euclid_J_mag,\n",
        "                             'j-h': Euclid_J_mag - Euclid_H_mag,\n",
        "                             'g': CASTOR_g_mag,\n",
        "                             'uv-u': CASTOR_uv_mag - CASTOR_u_mag,\n",
        "                             'u-g': CASTOR_u_mag - CASTOR_g_mag,\n",
        "                             '106': Roman_106_mag,\n",
        "                             '129 - 106': Roman_129_mag - Roman_106_mag,\n",
        "                             '158-129': Roman_158_mag - Roman_129_mag,\n",
        "                             '184-158': Roman_184_mag - Roman_158_mag\n",
        "                      }).set_index('CASTOR_ID').dropna()\n",
        "\n",
        "catalogs[\"Roman+Euclid+LSST\"] = pd.DataFrame({'CASTOR_ID': ID, 'z_true': z_true,\n",
        "                             'r': LSST_r_mag,\n",
        "                             'g-r': LSST_g_mag - LSST_r_mag,\n",
        "                             'r-i': LSST_r_mag - LSST_i_mag,\n",
        "                             'i-z': LSST_i_mag - LSST_z_mag,\n",
        "                             'v': Euclid_VIS_mag,\n",
        "                             'v-y': Euclid_VIS_mag - Euclid_Y_mag,\n",
        "                             'y-j': Euclid_Y_mag - Euclid_J_mag,\n",
        "                             'j-h': Euclid_J_mag - Euclid_H_mag,\n",
        "                             '106': Roman_106_mag,\n",
        "                             '129 - 106': Roman_129_mag - Roman_106_mag,\n",
        "                             '158-129': Roman_158_mag - Roman_129_mag,\n",
        "                             '184-158': Roman_184_mag - Roman_158_mag\n",
        "                      }).set_index('CASTOR_ID').dropna()"
      ],
      "metadata": {
        "id": "gqVRlebAjFCL"
      },
      "execution_count": null,
      "outputs": []
    },
    {
      "cell_type": "code",
      "source": [
        "\n",
        "available_os = ['LSST-only',\n",
        "                'CASTOR-only',\n",
        "                'Euclid+LSST',\n",
        "                'LSST+CASTOR',\n",
        "                'Roman+Euclid+LSST',\n",
        "                'Roman+Euclid+LSST+CASTOR']\n",
        "\n",
        "just_tav = {}\n",
        "for os in available_os:\n",
        "  just_tav[os] = flows[os].log_prob(catalogs[os])"
      ],
      "metadata": {
        "id": "o9Ux-oDcjfgW"
      },
      "execution_count": null,
      "outputs": []
    },
    {
      "cell_type": "markdown",
      "source": [
        "**Dropping bad flows here**"
      ],
      "metadata": {
        "id": "sl5L4J5kjwQ4"
      }
    },
    {
      "cell_type": "code",
      "source": [
        "losses = {}\n",
        "for os in available_os:\n",
        "  with (open(f\"losses_for_{os}.pkl\", 'rb')) as openfile:\n",
        "    losses[os] = pd.read_pickle(openfile)"
      ],
      "metadata": {
        "id": "sE-rroJWhSGN"
      },
      "execution_count": null,
      "outputs": []
    },
    {
      "cell_type": "code",
      "source": [
        "flow_list = list(np.linspace(0, 29, 30).astype(int))\n",
        "bad_flows = {}\n",
        "\n",
        "for os in available_os:\n",
        "  bad_flows_list = []\n",
        "  for flow in flow_list:\n",
        "    if np.sum(np.isinf(np.array(losses[os]['losses'][f\"Flow {flow}\"]))) > 0:\n",
        "      bad_flows_list.append(flow)\n",
        "    bad_flows[os] = bad_flows_list"
      ],
      "metadata": {
        "id": "o_3Foe0fh4BG"
      },
      "execution_count": null,
      "outputs": []
    },
    {
      "cell_type": "code",
      "source": [
        "bad_flows"
      ],
      "metadata": {
        "colab": {
          "base_uri": "https://localhost:8080/"
        },
        "id": "UgyT-HOuiYt3",
        "outputId": "97719f22-d093-4f4b-a855-e6ea975e32ba"
      },
      "execution_count": null,
      "outputs": [
        {
          "output_type": "execute_result",
          "data": {
            "text/plain": [
              "{'LSST-only': [8, 17, 20],\n",
              " 'CASTOR-only': [3, 13, 16],\n",
              " 'Euclid+LSST': [2, 8, 9, 13],\n",
              " 'LSST+CASTOR': [25, 28],\n",
              " 'Roman+Euclid+LSST': [2, 5, 14, 16, 19],\n",
              " 'Roman+Euclid+LSST+CASTOR': [7, 15]}"
            ]
          },
          "metadata": {},
          "execution_count": 14
        }
      ]
    },
    {
      "cell_type": "code",
      "source": [
        "just_tav_ensemble = {}\n",
        "for os in available_os:\n",
        "  just_tav_ensemble[os] = flows[os].log_prob(catalogs[os], returnEnsemble = True)"
      ],
      "metadata": {
        "id": "aoKal4j5mLlP"
      },
      "execution_count": null,
      "outputs": []
    },
    {
      "cell_type": "code",
      "source": [
        "new_tav = {}\n",
        "\n",
        "for os in available_os:\n",
        "  new_tav[os] = np.delete(just_tav_ensemble[os], bad_flows[os], axis = 1)"
      ],
      "metadata": {
        "id": "od4qFYbKtaMd"
      },
      "execution_count": null,
      "outputs": []
    },
    {
      "cell_type": "code",
      "source": [
        "for os in available_os:\n",
        "  print(new_tav[os].shape)"
      ],
      "metadata": {
        "colab": {
          "base_uri": "https://localhost:8080/"
        },
        "id": "CjEBRN08saQm",
        "outputId": "6c0a0f42-4369-458f-ac50-fc1e1067082a"
      },
      "execution_count": null,
      "outputs": [
        {
          "output_type": "stream",
          "name": "stdout",
          "text": [
            "(430635, 27)\n",
            "(430635, 27)\n",
            "(430635, 26)\n",
            "(430635, 28)\n",
            "(430635, 25)\n",
            "(430635, 28)\n"
          ]
        }
      ]
    },
    {
      "cell_type": "markdown",
      "source": [
        "**Redshift Binned Plots**"
      ],
      "metadata": {
        "id": "o9aZYeRknDMQ"
      }
    },
    {
      "cell_type": "code",
      "source": [
        "import scipy.stats as sps"
      ],
      "metadata": {
        "id": "PD5uk_-9qA74"
      },
      "execution_count": null,
      "outputs": []
    },
    {
      "cell_type": "code",
      "source": [
        "available_os"
      ],
      "metadata": {
        "colab": {
          "base_uri": "https://localhost:8080/"
        },
        "id": "wCq-ntePpzD4",
        "outputId": "ac06cf42-7548-416e-a44a-28c00ef4c515"
      },
      "execution_count": null,
      "outputs": [
        {
          "output_type": "execute_result",
          "data": {
            "text/plain": [
              "['LSST-only',\n",
              " 'CASTOR-only',\n",
              " 'Euclid+LSST',\n",
              " 'LSST+CASTOR',\n",
              " 'Roman+Euclid+LSST',\n",
              " 'Roman+Euclid+LSST+CASTOR']"
            ]
          },
          "metadata": {},
          "execution_count": 19
        }
      ]
    },
    {
      "cell_type": "code",
      "source": [
        "def compute_milb(just_tav, available_os):\n",
        "\n",
        "  all_tlm = {}\n",
        "  all_milb = {}\n",
        "  all_ent = {}\n",
        "  is_inf_mask = {}\n",
        "\n",
        "  print(available_os)\n",
        "\n",
        "  for os in available_os:\n",
        "      # print(os_names[os])\n",
        "      # load the photometric catalog for this os\n",
        "    cat = catalogs[os]\n",
        "    # print(cat.shape)\n",
        "\n",
        "    # Computing the entropy H(z)\n",
        "    b = sps.mstats.mquantiles(z_true, np.linspace(0,1,101, endpoint=True))\n",
        "\n",
        "    pz = sps.rv_histogram(np.histogram(z_true, bins=b))\n",
        "    entropy = pz.entropy()\n",
        "    # just checking that this isn't discrete entropy and that binning doesn't need to match anything else\n",
        "    # testent = sum(-1 * pz.logpdf(b_centers) * pz.pdf(b_centers) * db)\n",
        "    # print(entropy - testent)\n",
        "    all_ent[os] = entropy\n",
        "\n",
        "\n",
        "    # Computing lower bound\n",
        "    # all_milb = []\n",
        "    # print(len(flows[os]))\n",
        "    # for i in range(10):\n",
        "    milb = just_tav[os]\n",
        "    # print(np.sum(np.isinf(milb)))\n",
        "    # print(np.sum(np.isnan(milb)))\n",
        "    # print(np.shape(milb[0,:]))\n",
        "      # print(milb)\n",
        "    all_milb[os] = np.array(milb)\n",
        "      # print(np.shape(all_milb[os]))\n",
        "    all_tlm[os] = milb.mean(axis=1) + entropy\n",
        "    is_inf_mask[os] = np.isinf(all_tlm[os])\n",
        "    all_tlm[os] = all_tlm[os][~np.isinf(all_tlm[os])]\n",
        "    # print(np.sum(np.isinf(all_tlm[os])))\n",
        "\n",
        "    # print('shape is: ')\n",
        "    # print(np.shape(all_tlm[os]))\n",
        "  return all_tlm, is_inf_mask"
      ],
      "metadata": {
        "id": "9DlmTpsNnFmX"
      },
      "execution_count": null,
      "outputs": []
    },
    {
      "cell_type": "code",
      "source": [
        "# entropy term\n",
        "\n",
        "def bin_in_redshift(all_tlm, inf_mask):\n",
        "  zbins = np.linspace(0, 3, 100)\n",
        "  avgtav = {}\n",
        "  errtav = {}\n",
        "  for os in available_os:\n",
        "    print(os)\n",
        "    plotran = np.empty_like(zbins)\n",
        "    ploterr = np.empty_like(zbins)\n",
        "    # print(catalogs[os].columns)\n",
        "    # print(np.shape(catalogs[os]))\n",
        "\n",
        "    if 'logprob' not in catalogs[os].columns.values:\n",
        "      catalogs[os] = catalogs[os][~inf_mask[os]]\n",
        "      catalogs[os]['logprob'] = all_tlm[os]\n",
        "      print(catalogs[os].columns)\n",
        "\n",
        "      print('shape is: ')\n",
        "\n",
        "      print(np.shape(catalogs[os]))\n",
        "    for i, zmin in enumerate(zbins[:-1]):\n",
        "      zmax = zbins[i+1]\n",
        "      subset = catalogs[os][(catalogs[os]['z_true'] >= zmin) & (catalogs[os]['z_true'] < zmax)]\n",
        "      # print((zmin, len(subset), zmax))\n",
        "      vals = subset['logprob']\n",
        "      mean = np.mean(vals[vals >   -3])\n",
        "      # print(mean)\n",
        "      std = np.std(vals[vals > -3])\n",
        "      plotran[i] = mean\n",
        "      ploterr[i] = std #len(vals))\n",
        "\n",
        "    avgtav[os] = plotran\n",
        "    errtav[os] = ploterr\n",
        "\n",
        "  return avgtav, errtav"
      ],
      "metadata": {
        "id": "nnugn5P-nvCr"
      },
      "execution_count": null,
      "outputs": []
    },
    {
      "cell_type": "code",
      "source": [
        "all_tlm, is_inf_mask = compute_milb(new_tav, available_os)\n",
        "\n",
        "avgtav, errtav = bin_in_redshift(all_tlm, is_inf_mask)"
      ],
      "metadata": {
        "colab": {
          "base_uri": "https://localhost:8080/"
        },
        "id": "CU-21VpeoKcS",
        "outputId": "2922e7b9-b4d3-45c5-fe70-49a6a77f9a0c"
      },
      "execution_count": null,
      "outputs": [
        {
          "output_type": "stream",
          "name": "stdout",
          "text": [
            "['LSST-only', 'CASTOR-only', 'Euclid+LSST', 'LSST+CASTOR', 'Roman+Euclid+LSST', 'Roman+Euclid+LSST+CASTOR']\n"
          ]
        },
        {
          "output_type": "stream",
          "name": "stderr",
          "text": [
            "<ipython-input-20-487db431c255>:19: RuntimeWarning: Bin widths are not constant. Assuming `density=True`.Specify `density` explicitly to silence this warning.\n",
            "  pz = sps.rv_histogram(np.histogram(z_true, bins=b))\n",
            "/usr/local/lib/python3.10/dist-packages/numpy/core/_methods.py:118: RuntimeWarning: overflow encountered in reduce\n",
            "  ret = umr_sum(arr, axis, dtype, out, keepdims, where=where)\n"
          ]
        },
        {
          "output_type": "stream",
          "name": "stdout",
          "text": [
            "LSST-only\n",
            "Index(['z_true', 'r', 'g-r', 'r-i', 'i-z', 'logprob'], dtype='object')\n",
            "shape is: \n",
            "(430450, 6)\n",
            "CASTOR-only\n",
            "Index(['z_true', 'g', 'uv-u', 'u-g', 'logprob'], dtype='object')\n",
            "shape is: \n",
            "(430633, 5)\n",
            "Euclid+LSST\n",
            "Index(['z_true', 'r', 'g-r', 'r-i', 'i-z', 'v', 'v-y', 'y-j', 'j-h',\n",
            "       'logprob'],\n",
            "      dtype='object')\n",
            "shape is: \n",
            "(430351, 10)\n",
            "LSST+CASTOR\n",
            "Index(['z_true', 'r', 'g-r', 'r-i', 'i-z', 'uv-u', 'u-g', 'logprob'], dtype='object')\n",
            "shape is: \n",
            "(430449, 8)\n",
            "Roman+Euclid+LSST\n",
            "Index(['z_true', 'r', 'g-r', 'r-i', 'i-z', 'v', 'v-y', 'y-j', 'j-h', '106',\n",
            "       '129 - 106', '158-129', '184-158', 'logprob'],\n",
            "      dtype='object')\n",
            "shape is: \n",
            "(430446, 14)\n",
            "Roman+Euclid+LSST+CASTOR\n",
            "Index(['z_true', 'r', 'g-r', 'r-i', 'i-z', 'v', 'v-y', 'y-j', 'j-h', 'g',\n",
            "       'uv-u', 'u-g', '106', '129 - 106', '158-129', '184-158', 'logprob'],\n",
            "      dtype='object')\n",
            "shape is: \n",
            "(430493, 17)\n"
          ]
        }
      ]
    },
    {
      "cell_type": "code",
      "source": [
        "fig, ax = plt.subplots(1, 1, figsize = (8, 8))\n",
        "\n",
        "zbins = np.linspace(0, 3, 100)\n",
        "\n",
        "\n",
        "for os in available_os:\n",
        "  print(np.sum(np.isinf(avgtav[os])))\n",
        "  print(np.min(avgtav[os]))\n",
        "  ax.plot(zbins, avgtav[os], label=os, alpha=0.5)\n",
        "  # ax.fill_between(zbins, avgtav[os] - errtav[os], avgtav[os] + errtav[os], alpha = 0.1)\n",
        "# plt.ylim(-10, 5)\n",
        "ax.legend(fontsize = 8)\n",
        "ax.set_xlabel('z_true')\n",
        "ax.set_ylabel(chr(0x05ea))\n",
        "ax.set_ylim(-2, 4)"
      ],
      "metadata": {
        "colab": {
          "base_uri": "https://localhost:8080/",
          "height": 922
        },
        "id": "DImdUwwr_rtw",
        "outputId": "4ea69960-d532-4413-819e-2f7cd8d266a6"
      },
      "execution_count": null,
      "outputs": [
        {
          "output_type": "stream",
          "name": "stdout",
          "text": [
            "0\n",
            "-1.156123193734202\n",
            "0\n",
            "-1.408420443534851\n",
            "0\n",
            "2.1284e-320\n",
            "0\n",
            "2.1284e-320\n",
            "0\n",
            "2.1284e-320\n",
            "0\n",
            "-0.008270295290578517\n"
          ]
        },
        {
          "output_type": "execute_result",
          "data": {
            "text/plain": [
              "(-2.0, 4.0)"
            ]
          },
          "metadata": {},
          "execution_count": 153
        },
        {
          "output_type": "display_data",
          "data": {
            "text/plain": [
              "<Figure size 800x800 with 1 Axes>"
            ],
            "image/png": "[encoded data removed]"
          },
          "metadata": {}
        }
      ]
    },
    {
      "cell_type": "code",
      "source": [
        "def compute_milb_ensemble(just_tav, available_os):\n",
        "\n",
        "  all_tlm = {}\n",
        "  all_milb = {}\n",
        "  all_ent = {}\n",
        "  is_inf_mask = {}\n",
        "\n",
        "  print(available_os)\n",
        "\n",
        "  for os in available_os:\n",
        "      # print(os_names[os])\n",
        "      # load the photometric catalog for this os\n",
        "    cat = catalogs[os]\n",
        "    # print(cat.shape)\n",
        "\n",
        "    # Computing the entropy H(z)\n",
        "    b = sps.mstats.mquantiles(z_true, np.linspace(0,1,101, endpoint=True))\n",
        "\n",
        "    pz = sps.rv_histogram(np.histogram(z_true, bins=b))\n",
        "    entropy = pz.entropy()\n",
        "    # just checking that this isn't discrete entropy and that binning doesn't need to match anything else\n",
        "    # testent = sum(-1 * pz.logpdf(b_centers) * pz.pdf(b_centers) * db)\n",
        "    # print(entropy - testent)\n",
        "    all_ent[os] = entropy\n",
        "\n",
        "\n",
        "    # Computing lower bound\n",
        "    # all_milb = []\n",
        "    # print(len(flows[os]))\n",
        "    # for i in range(10):\n",
        "    milb = just_tav[os]\n",
        "    # print(np.sum(np.isinf(milb)))\n",
        "    # print(np.sum(np.isnan(milb)))\n",
        "    # print(np.shape(milb[0,:]))\n",
        "      # print(milb)\n",
        "    all_milb[os] = np.array(milb)\n",
        "      # print(np.shape(all_milb[os]))\n",
        "    all_tlm[os] = all_milb[os] + entropy\n",
        "    is_inf_mask[os] = np.isinf(all_tlm[os])\n",
        "    # all_tlm[os] = all_tlm[os][~np.isinf(all_tlm[os])]\n",
        "    # print(np.sum(np.isinf(all_tlm[os])))\n",
        "\n",
        "    # print('shape is: ')\n",
        "    # print(np.shape(all_tlm[os]))\n",
        "  return all_tlm, is_inf_mask"
      ],
      "metadata": {
        "id": "N8DRqcWguY_r"
      },
      "execution_count": null,
      "outputs": []
    },
    {
      "cell_type": "code",
      "source": [
        "all_tlm, is_inf_mask = compute_milb_ensemble(new_tav, available_os)\n"
      ],
      "metadata": {
        "colab": {
          "base_uri": "https://localhost:8080/"
        },
        "id": "Pq50ASOqufeg",
        "outputId": "8220d771-210e-4d87-c2cd-14d363112731"
      },
      "execution_count": null,
      "outputs": [
        {
          "output_type": "stream",
          "name": "stdout",
          "text": [
            "['LSST-only', 'CASTOR-only', 'Euclid+LSST', 'LSST+CASTOR', 'Roman+Euclid+LSST', 'Roman+Euclid+LSST+CASTOR']\n"
          ]
        },
        {
          "output_type": "stream",
          "name": "stderr",
          "text": [
            "<ipython-input-33-acd8d1291c57>:19: RuntimeWarning: Bin widths are not constant. Assuming `density=True`.Specify `density` explicitly to silence this warning.\n",
            "  pz = sps.rv_histogram(np.histogram(z_true, bins=b))\n"
          ]
        }
      ]
    },
    {
      "cell_type": "code",
      "source": [
        "np.shape(all_tlm['LSST-only'])"
      ],
      "metadata": {
        "colab": {
          "base_uri": "https://localhost:8080/"
        },
        "id": "3VWPGTBUun1-",
        "outputId": "a771aeff-4416-4e0d-8ef1-dc959211adf3"
      },
      "execution_count": null,
      "outputs": [
        {
          "output_type": "execute_result",
          "data": {
            "text/plain": [
              "(430635, 27)"
            ]
          },
          "metadata": {},
          "execution_count": 44
        }
      ]
    },
    {
      "cell_type": "code",
      "source": [
        "type(all_tlm['LSST-only'])"
      ],
      "metadata": {
        "colab": {
          "base_uri": "https://localhost:8080/"
        },
        "id": "DgRb2MMtwnx-",
        "outputId": "f0767232-fada-4230-9cfb-940e3ed14ab9"
      },
      "execution_count": null,
      "outputs": [
        {
          "output_type": "execute_result",
          "data": {
            "text/plain": [
              "numpy.ndarray"
            ]
          },
          "metadata": {},
          "execution_count": 60
        }
      ]
    },
    {
      "cell_type": "code",
      "source": [
        "import numpy.ma as ma"
      ],
      "metadata": {
        "id": "gS0dFWjuvM3Q"
      },
      "execution_count": null,
      "outputs": []
    },
    {
      "cell_type": "code",
      "source": [
        "epistemic_variance = {}\n",
        "redshifts = {}\n",
        "\n",
        "for os in available_os:\n",
        "  epistemic_variance[os] = ma.array(all_tlm[os], mask = ~(np.abs(all_tlm[os]) < 100)).std(axis=1).data\n",
        "  redshifts[os] = ma.array(catalogs[os]['z_true'], mask = ~(np.abs(all_tlm[os].mean()) < 100)).data"
      ],
      "metadata": {
        "colab": {
          "base_uri": "https://localhost:8080/"
        },
        "id": "axUg_NUtvRMD",
        "outputId": "e91c43b9-f47e-43e9-9a26-1406f25d3a45"
      },
      "execution_count": null,
      "outputs": [
        {
          "output_type": "stream",
          "name": "stderr",
          "text": [
            "/usr/local/lib/python3.10/dist-packages/numpy/core/_methods.py:118: RuntimeWarning: overflow encountered in reduce\n",
            "  ret = umr_sum(arr, axis, dtype, out, keepdims, where=where)\n"
          ]
        }
      ]
    },
    {
      "cell_type": "code",
      "source": [
        "binned_variance = {}\n",
        "\n",
        "for os in available_os:\n",
        "  print(epistemic_variance[os].shape)\n",
        "  print(redshifts[os].shape)\n",
        "\n",
        "  ploterr = np.empty_like(zbins)\n",
        "  for i, zmin in enumerate(zbins[:-1]):\n",
        "      zmax = zbins[i+1]\n",
        "      ploterr[i] = np.mean(epistemic_variance[os][(redshifts[os] >=zmin) & (redshifts[os] < zmax)])\n",
        "\n",
        "      binned_variance[os] = ploterr\n",
        "\n"
      ],
      "metadata": {
        "colab": {
          "base_uri": "https://localhost:8080/"
        },
        "id": "RuHPg8kV1reZ",
        "outputId": "52906780-10c2-4dc3-c0ce-9d0987515bcb"
      },
      "execution_count": null,
      "outputs": [
        {
          "output_type": "stream",
          "name": "stdout",
          "text": [
            "(430635,)\n",
            "(430635,)\n",
            "(430635,)\n",
            "(430635,)\n",
            "(430635,)\n",
            "(430635,)\n",
            "(430635,)\n",
            "(430635,)\n",
            "(430635,)\n",
            "(430635,)\n",
            "(430635,)\n",
            "(430635,)\n"
          ]
        }
      ]
    },
    {
      "cell_type": "code",
      "source": [
        "for os in available_os:\n",
        "  plt.plot(zbins, binned_variance[os], label = os)\n",
        "  plt.ylim(0, 5)\n",
        "\n",
        "  plt.legend()"
      ],
      "metadata": {
        "colab": {
          "base_uri": "https://localhost:8080/",
          "height": 435
        },
        "id": "JllTr0mO6lkC",
        "outputId": "556ec21a-5add-44d4-c82c-5cd9bbc1c04b"
      },
      "execution_count": null,
      "outputs": [
        {
          "output_type": "display_data",
          "data": {
            "text/plain": [
              "<Figure size 640x480 with 1 Axes>"
            ],
            "image/png": "[encoded data removed]"
          },
          "metadata": {}
        }
      ]
    },
    {
      "cell_type": "markdown",
      "source": [
        "possibly a consequence of weird values in the catalogs --> more surveys compounds this effect. \"Mo surveys, mo problems\" - Alex Malz\n",
        "\n",
        "different surveys use different placeholders for bad values --> as you combine surveys, how many notions --> value of bad values --> coherent surveys, how do notions of bad values impact survey metrics --> good sample size gets smaller with more surveys"
      ],
      "metadata": {
        "id": "mA7Y5ow3uX4b"
      }
    },
    {
      "cell_type": "code",
      "source": [
        "redshifts['LSST-only'].shape"
      ],
      "metadata": {
        "colab": {
          "base_uri": "https://localhost:8080/"
        },
        "id": "5qiGNmcU54u4",
        "outputId": "19f4db37-1b74-4e5b-ec62-c7174174555a"
      },
      "execution_count": null,
      "outputs": [
        {
          "output_type": "execute_result",
          "data": {
            "text/plain": [
              "(430635,)"
            ]
          },
          "metadata": {},
          "execution_count": 133
        }
      ]
    },
    {
      "cell_type": "code",
      "source": [
        "a = np.array(catalogs[os]['z_true'])"
      ],
      "metadata": {
        "id": "VVFTsBSV3T7e"
      },
      "execution_count": null,
      "outputs": []
    },
    {
      "cell_type": "code",
      "source": [
        "np.repeat(np.array(catalogs[os]['z_true'])[:, np.newaxis], 27, axis=1)"
      ],
      "metadata": {
        "colab": {
          "base_uri": "https://localhost:8080/"
        },
        "id": "mfUmiRN94SOq",
        "outputId": "40fb3774-12c6-4697-fe7d-becf802566af"
      },
      "execution_count": null,
      "outputs": [
        {
          "output_type": "execute_result",
          "data": {
            "text/plain": [
              "(430635, 27)"
            ]
          },
          "metadata": {},
          "execution_count": 121
        }
      ]
    },
    {
      "cell_type": "code",
      "source": [
        "\n",
        "for os in available_os:\n",
        "    ploterr = np.empty_like(zbins)\n",
        "    # catalogs[os] = catalogs[os][(np.abs(all_tlm[os]) < 100)]\n",
        "\n",
        "    for i, zmin in enumerate(zbins[:-1]):\n",
        "      zmax = zbins[i+1]\n",
        "      # subset = epistemic_variance[os][(catalogs[os]['z_true'] >= zmin) & (catalogs[os]['z_true'] < zmax)]\n",
        "\n",
        "      subset = ma.array(all_tlm[os], mask = ~(np.abs(all_tlm[os]) < 100) & (np.repeat(np.array(catalogs[os]['z_true'])[:, np.newaxis], 27, axis=1) >= zmin) & (np.repeat(np.array(catalogs[os]['z_true'])[:, np.newaxis], 27, axis=1) < zmax)).std(axis=1).data"
      ],
      "metadata": {
        "colab": {
          "base_uri": "https://localhost:8080/",
          "height": 224
        },
        "id": "xeLeEIJv0cfH",
        "outputId": "f2c57494-79ac-48b6-a08b-b2a451eeb667"
      },
      "execution_count": null,
      "outputs": [
        {
          "output_type": "stream",
          "name": "stderr",
          "text": [
            "/usr/local/lib/python3.10/dist-packages/numpy/core/_methods.py:49: RuntimeWarning: overflow encountered in reduce\n",
            "  return umr_sum(a, axis, dtype, out, keepdims, initial, where)\n"
          ]
        },
        {
          "output_type": "error",
          "ename": "ValueError",
          "evalue": "operands could not be broadcast together with shapes (430635,26) (430635,27) ",
          "traceback": [
            "\u001b[0;31m---------------------------------------------------------------------------\u001b[0m",
            "\u001b[0;31mValueError\u001b[0m                                Traceback (most recent call last)",
            "\u001b[0;32m<ipython-input-122-813612243713>\u001b[0m in \u001b[0;36m<cell line: 1>\u001b[0;34m()\u001b[0m\n\u001b[1;32m      7\u001b[0m       \u001b[0;31m# subset = epistemic_variance[os][(catalogs[os]['z_true'] >= zmin) & (catalogs[os]['z_true'] < zmax)]\u001b[0m\u001b[0;34m\u001b[0m\u001b[0;34m\u001b[0m\u001b[0m\n\u001b[1;32m      8\u001b[0m \u001b[0;34m\u001b[0m\u001b[0m\n\u001b[0;32m----> 9\u001b[0;31m       \u001b[0msubset\u001b[0m \u001b[0;34m=\u001b[0m \u001b[0mma\u001b[0m\u001b[0;34m.\u001b[0m\u001b[0marray\u001b[0m\u001b[0;34m(\u001b[0m\u001b[0mall_tlm\u001b[0m\u001b[0;34m[\u001b[0m\u001b[0mos\u001b[0m\u001b[0;34m]\u001b[0m\u001b[0;34m,\u001b[0m \u001b[0mmask\u001b[0m \u001b[0;34m=\u001b[0m \u001b[0;34m~\u001b[0m\u001b[0;34m(\u001b[0m\u001b[0mnp\u001b[0m\u001b[0;34m.\u001b[0m\u001b[0mabs\u001b[0m\u001b[0;34m(\u001b[0m\u001b[0mall_tlm\u001b[0m\u001b[0;34m[\u001b[0m\u001b[0mos\u001b[0m\u001b[0;34m]\u001b[0m\u001b[0;34m)\u001b[0m \u001b[0;34m<\u001b[0m \u001b[0;36m100\u001b[0m\u001b[0;34m)\u001b[0m \u001b[0;34m&\u001b[0m \u001b[0;34m(\u001b[0m\u001b[0mnp\u001b[0m\u001b[0;34m.\u001b[0m\u001b[0mrepeat\u001b[0m\u001b[0;34m(\u001b[0m\u001b[0mnp\u001b[0m\u001b[0;34m.\u001b[0m\u001b[0marray\u001b[0m\u001b[0;34m(\u001b[0m\u001b[0mcatalogs\u001b[0m\u001b[0;34m[\u001b[0m\u001b[0mos\u001b[0m\u001b[0;34m]\u001b[0m\u001b[0;34m[\u001b[0m\u001b[0;34m'z_true'\u001b[0m\u001b[0;34m]\u001b[0m\u001b[0;34m)\u001b[0m\u001b[0;34m[\u001b[0m\u001b[0;34m:\u001b[0m\u001b[0;34m,\u001b[0m \u001b[0mnp\u001b[0m\u001b[0;34m.\u001b[0m\u001b[0mnewaxis\u001b[0m\u001b[0;34m]\u001b[0m\u001b[0;34m,\u001b[0m \u001b[0;36m27\u001b[0m\u001b[0;34m,\u001b[0m \u001b[0maxis\u001b[0m\u001b[0;34m=\u001b[0m\u001b[0;36m1\u001b[0m\u001b[0;34m)\u001b[0m \u001b[0;34m>=\u001b[0m \u001b[0mzmin\u001b[0m\u001b[0;34m)\u001b[0m \u001b[0;34m&\u001b[0m \u001b[0;34m(\u001b[0m\u001b[0mnp\u001b[0m\u001b[0;34m.\u001b[0m\u001b[0mrepeat\u001b[0m\u001b[0;34m(\u001b[0m\u001b[0mnp\u001b[0m\u001b[0;34m.\u001b[0m\u001b[0marray\u001b[0m\u001b[0;34m(\u001b[0m\u001b[0mcatalogs\u001b[0m\u001b[0;34m[\u001b[0m\u001b[0mos\u001b[0m\u001b[0;34m]\u001b[0m\u001b[0;34m[\u001b[0m\u001b[0;34m'z_true'\u001b[0m\u001b[0;34m]\u001b[0m\u001b[0;34m)\u001b[0m\u001b[0;34m[\u001b[0m\u001b[0;34m:\u001b[0m\u001b[0;34m,\u001b[0m \u001b[0mnp\u001b[0m\u001b[0;34m.\u001b[0m\u001b[0mnewaxis\u001b[0m\u001b[0;34m]\u001b[0m\u001b[0;34m,\u001b[0m \u001b[0;36m27\u001b[0m\u001b[0;34m,\u001b[0m \u001b[0maxis\u001b[0m\u001b[0;34m=\u001b[0m\u001b[0;36m1\u001b[0m\u001b[0;34m)\u001b[0m \u001b[0;34m<\u001b[0m \u001b[0mzmax\u001b[0m\u001b[0;34m)\u001b[0m\u001b[0;34m)\u001b[0m\u001b[0;34m.\u001b[0m\u001b[0mstd\u001b[0m\u001b[0;34m(\u001b[0m\u001b[0maxis\u001b[0m\u001b[0;34m=\u001b[0m\u001b[0;36m1\u001b[0m\u001b[0;34m)\u001b[0m\u001b[0;34m.\u001b[0m\u001b[0mdata\u001b[0m\u001b[0;34m\u001b[0m\u001b[0;34m\u001b[0m\u001b[0m\n\u001b[0m",
            "\u001b[0;31mValueError\u001b[0m: operands could not be broadcast together with shapes (430635,26) (430635,27) "
          ]
        }
      ]
    },
    {
      "cell_type": "code",
      "source": [
        "def bin_in_redshift(all_tlm, inf_mask):\n",
        "  zbins = np.linspace(0, 3, 100)\n",
        "  avgtav = {}\n",
        "  errtav = epistemic_variance\n",
        "  for os in available_os:\n",
        "    print(os)\n",
        "    plotran = np.empty_like(zbins)\n",
        "    ploterr = np.empty_like(zbins)\n",
        "    # print(catalogs[os].columns)\n",
        "    # print(np.shape(catalogs[os]))\n",
        "\n",
        "    if 'logprob' not in catalogs[os].columns.values:\n",
        "      catalogs[os] = catalogs[os][~inf_mask[os]]\n",
        "      catalogs[os]['logprob'] = all_tlm[os]\n",
        "      print(catalogs[os].columns)\n",
        "\n",
        "      print('shape is: ')\n",
        "\n",
        "      print(np.shape(catalogs[os]))\n",
        "    for i, zmin in enumerate(zbins[:-1]):\n",
        "      zmax = zbins[i+1]\n",
        "      subset = catalogs[os][(catalogs[os]['z_true'] >= zmin) & (catalogs[os]['z_true'] < zmax)]\n",
        "      # print((zmin, len(subset), zmax))\n",
        "      vals = subset['logprob']\n",
        "      mean = np.mean(vals[vals >   -3])\n",
        "      # print(mean)\n",
        "      std = np.std(vals[vals > -3])\n",
        "      plotran[i] = mean\n",
        "      ploterr[i] = std #len(vals))\n",
        "\n",
        "    avgtav[os] = plotran\n",
        "    errtav[os] = ploterr\n",
        "\n",
        "  return avgtav, errtav"
      ],
      "metadata": {
        "colab": {
          "base_uri": "https://localhost:8080/"
        },
        "id": "Cp_dmzr7z5q1",
        "outputId": "c2825352-c4a5-4d37-a206-293c376bd08b"
      },
      "execution_count": null,
      "outputs": [
        {
          "output_type": "execute_result",
          "data": {
            "text/plain": [
              "(430635,)"
            ]
          },
          "metadata": {},
          "execution_count": 98
        }
      ]
    },
    {
      "cell_type": "code",
      "source": [],
      "metadata": {
        "id": "OQEnwmhe0MXu"
      },
      "execution_count": null,
      "outputs": []
    },
    {
      "cell_type": "code",
      "source": [
        "A = np.array([[1, 2], [3, np.inf]])\n",
        "A\n",
        "\n",
        "~np.isfinite(all_tlm['LSST-only']) & (np.abs(all_tlm['LSST-only']) < 100)"
      ],
      "metadata": {
        "colab": {
          "base_uri": "https://localhost:8080/"
        },
        "id": "2esGhlrAv6JS",
        "outputId": "84a6c940-5255-4a22-acff-dfd361f52770"
      },
      "execution_count": null,
      "outputs": [
        {
          "output_type": "execute_result",
          "data": {
            "text/plain": [
              "array([[False, False, False, ..., False, False, False],\n",
              "       [False, False, False, ..., False, False, False],\n",
              "       [False, False, False, ..., False, False, False],\n",
              "       ...,\n",
              "       [False, False, False, ..., False, False, False],\n",
              "       [False, False, False, ..., False, False, False],\n",
              "       [False, False, False, ..., False, False, False]])"
            ]
          },
          "metadata": {},
          "execution_count": 87
        }
      ]
    },
    {
      "cell_type": "code",
      "source": [
        "ma.array(A, mask = ~np.isfinite(A)).std()"
      ],
      "metadata": {
        "colab": {
          "base_uri": "https://localhost:8080/"
        },
        "id": "SYOQa9kGxJtb",
        "outputId": "c01ee645-311f-406d-9b71-565d6c50047e"
      },
      "execution_count": null,
      "outputs": [
        {
          "output_type": "execute_result",
          "data": {
            "text/plain": [
              "0.816496580927726"
            ]
          },
          "metadata": {},
          "execution_count": 78
        }
      ]
    },
    {
      "cell_type": "code",
      "source": [
        "import numpy.ma as ma"
      ],
      "metadata": {
        "id": "rVbS3rge_RwL"
      },
      "execution_count": null,
      "outputs": []
    },
    {
      "cell_type": "code",
      "source": [
        "def compute_milb_stats(just_tav, available_os):\n",
        "\n",
        "  all_tlm = {}\n",
        "  all_milb = {}\n",
        "  all_ent = {}\n",
        "  is_inf_mask = {}\n",
        "\n",
        "  new_tlm = {}\n",
        "  std_tlm = {}\n",
        "\n",
        "  print(available_os)\n",
        "\n",
        "  for os in available_os:\n",
        "\n",
        "    # Computing the entropy H(z)\n",
        "    b = sps.mstats.mquantiles(z_true, np.linspace(0,1,101, endpoint=True))\n",
        "\n",
        "    pz = sps.rv_histogram(np.histogram(z_true, bins=b))\n",
        "    entropy = pz.entropy()\n",
        "    # just checking that this isn't discrete entropy and that binning doesn't need to match anything else\n",
        "    # testent = sum(-1 * pz.logpdf(b_centers) * pz.pdf(b_centers) * db)\n",
        "    # print(entropy - testent)\n",
        "    all_ent[os] = entropy\n",
        "\n",
        "    # Computing lower bound\n",
        "    # all_milb = []\n",
        "    # print(len(flows[os]))\n",
        "    # for i in range(10):\n",
        "    milb = just_tav[os]\n",
        "\n",
        "    print(np.shape(milb))\n",
        "\n",
        "\n",
        "    # print(np.sum(np.isinf(milb)))\n",
        "    # print(np.sum(np.isnan(milb)))\n",
        "    # print(np.shape(milb[0,:]))\n",
        "      # print(milb)\n",
        "    all_milb[os] = np.array(milb)\n",
        "      # print(np.shape(all_milb[os]))\n",
        "    all_tlm[os] = milb + entropy\n",
        "\n",
        "    standards = []\n",
        "\n",
        "    for i in range(0, np.shape(all_tlm[os])[1]):\n",
        "\n",
        "      standards.append(np.std(all_tlm[os][:,i][np.isfinite(all_tlm[os][:,i])]))\n",
        "\n",
        "      std_tlm[os] = standards\n",
        "\n",
        "    # all_tlm_std = all_tlm[os].std(axis=1, where = ~np.isinf(all_tlm[os]))\n",
        "\n",
        "  return std_tlm"
      ],
      "metadata": {
        "id": "JkaOyQbdo1iF"
      },
      "execution_count": null,
      "outputs": []
    },
    {
      "cell_type": "code",
      "source": [
        "\n",
        "std_tlm = compute_milb_stats(new_tav, available_os)\n"
      ],
      "metadata": {
        "colab": {
          "base_uri": "https://localhost:8080/"
        },
        "id": "St9jYceypDoV",
        "outputId": "dd2206be-010e-451e-e1e9-b24dd581b7f6"
      },
      "execution_count": null,
      "outputs": [
        {
          "output_type": "stream",
          "name": "stdout",
          "text": [
            "['LSST-only', 'CASTOR-only', 'Euclid+LSST', 'LSST+CASTOR', 'Roman+Euclid+LSST', 'Roman+Euclid+LSST+CASTOR']\n",
            "(430635, 27)\n"
          ]
        },
        {
          "output_type": "stream",
          "name": "stderr",
          "text": [
            "<ipython-input-359-c1c8f712d9b6>:18: RuntimeWarning: Bin widths are not constant. Assuming `density=True`.Specify `density` explicitly to silence this warning.\n",
            "  pz = sps.rv_histogram(np.histogram(z_true, bins=b))\n",
            "/usr/local/lib/python3.10/dist-packages/numpy/core/_methods.py:152: RuntimeWarning: overflow encountered in reduce\n",
            "  arrmean = umr_sum(arr, axis, dtype, keepdims=True, where=where)\n"
          ]
        },
        {
          "output_type": "stream",
          "name": "stdout",
          "text": [
            "(430635, 27)\n",
            "(430635, 26)\n",
            "(430635, 28)\n",
            "(430635, 25)\n",
            "(430635, 28)\n"
          ]
        }
      ]
    },
    {
      "cell_type": "code",
      "source": [
        "std_tlm['LSST-only']"
      ],
      "metadata": {
        "colab": {
          "base_uri": "https://localhost:8080/"
        },
        "id": "UY8X5xWtvJqq",
        "outputId": "f27714cc-bfcf-435f-fd94-0a030e767bf9"
      },
      "execution_count": null,
      "outputs": [
        {
          "output_type": "execute_result",
          "data": {
            "text/plain": [
              "[inf,\n",
              " inf,\n",
              " inf,\n",
              " inf,\n",
              " inf,\n",
              " inf,\n",
              " inf,\n",
              " inf,\n",
              " inf,\n",
              " inf,\n",
              " inf,\n",
              " inf,\n",
              " inf,\n",
              " inf,\n",
              " inf,\n",
              " inf,\n",
              " inf,\n",
              " inf,\n",
              " inf,\n",
              " inf,\n",
              " inf,\n",
              " inf,\n",
              " inf,\n",
              " inf,\n",
              " inf,\n",
              " inf,\n",
              " inf]"
            ]
          },
          "metadata": {},
          "execution_count": 362
        }
      ]
    },
    {
      "cell_type": "code",
      "source": [
        "np.max(all_tlm_std)"
      ],
      "metadata": {
        "colab": {
          "base_uri": "https://localhost:8080/"
        },
        "id": "lkzenNa8wKG8",
        "outputId": "459af70c-daf3-48e8-bfbd-8eb2cf59ed73"
      },
      "execution_count": null,
      "outputs": [
        {
          "output_type": "execute_result",
          "data": {
            "text/plain": [
              "inf"
            ]
          },
          "metadata": {},
          "execution_count": 231
        }
      ]
    },
    {
      "cell_type": "code",
      "source": [
        "for os in available_os:\n",
        "  vals = np.zeros_like(zbins)\n",
        "\n",
        "  for i, zmin in enumerate(zbins[:-1]):\n",
        "    zmax = zbins[i+1]\n",
        "\n",
        "    subset = all_tlm_std[(z_true > zmin) & (z_true < zmax)]\n",
        "    vals[i] = np.mean(subset)\n",
        "\n",
        "plt.plot(zbins, vals, label=os, alpha=0.5)\n"
      ],
      "metadata": {
        "colab": {
          "base_uri": "https://localhost:8080/",
          "height": 447
        },
        "id": "f3wz7EkFukHI",
        "outputId": "188369fc-7fe3-4856-e9eb-942301a0c296"
      },
      "execution_count": null,
      "outputs": [
        {
          "output_type": "execute_result",
          "data": {
            "text/plain": [
              "[<matplotlib.lines.Line2D at 0x78e6e34aae00>]"
            ]
          },
          "metadata": {},
          "execution_count": 203
        },
        {
          "output_type": "display_data",
          "data": {
            "text/plain": [
              "<Figure size 640x480 with 1 Axes>"
            ],
            "image/png": "[encoded data removed]"
          },
          "metadata": {}
        }
      ]
    },
    {
      "cell_type": "code",
      "source": [
        "vals"
      ],
      "metadata": {
        "colab": {
          "base_uri": "https://localhost:8080/"
        },
        "id": "Qvk2zSIPxIbN",
        "outputId": "d6e83eae-50da-4377-d5ba-f7a19d357b92"
      },
      "execution_count": null,
      "outputs": [
        {
          "output_type": "execute_result",
          "data": {
            "text/plain": [
              "array([5.61689091,        inf,        inf,        inf,        inf,\n",
              "              inf,        inf,        inf,        inf,        inf,\n",
              "       4.29682207,        inf,        inf, 4.11501408, 3.84934044,\n",
              "              inf,        inf,        inf,        inf,        inf,\n",
              "              inf, 3.25604939, 3.33084249, 3.44355536, 3.28679085,\n",
              "              inf,        inf, 3.36345959,        inf,        inf,\n",
              "       3.04792452,        inf,        inf,        inf,        inf,\n",
              "       3.72727346,        inf,        inf,        inf,        inf,\n",
              "              inf,        inf,        inf,        inf,        inf,\n",
              "              inf, 3.65883517,        inf,        inf,        inf,\n",
              "              inf,        inf,        inf,        inf,        inf,\n",
              "              inf,        inf,        inf,        inf,        inf,\n",
              "              inf,        inf,        inf,        inf,        inf,\n",
              "              inf,        inf,        inf,        inf,        inf,\n",
              "              inf,        inf,        inf, 4.26099634,        inf,\n",
              "              inf, 3.99192309, 3.90968156, 3.81242085,        inf,\n",
              "       3.99353409,        inf,        inf,        inf,        inf,\n",
              "              inf,        inf,        inf,        inf,        inf,\n",
              "              inf,        inf,        inf,        inf,        inf,\n",
              "       4.91194773,        inf, 4.76237488,        inf, 0.        ])"
            ]
          },
          "metadata": {},
          "execution_count": 204
        }
      ]
    },
    {
      "cell_type": "code",
      "source": [
        "def bin_in_redshift(all_tlm, inf_mask):\n",
        "  zbins = np.linspace(0, 3, 100)\n",
        "  avgtav = {}\n",
        "  errtav = {}\n",
        "  for os in available_os:\n",
        "    print(os)\n",
        "    plotran = np.empty_like(zbins)\n",
        "    ploterr = np.empty_like(zbins)\n",
        "    # print(catalogs[os].columns)\n",
        "    # print(np.shape(catalogs[os]))\n",
        "\n",
        "    if 'logprob' not in catalogs[os].columns.values:\n",
        "      catalogs[os] = catalogs[os][~inf_mask[os]]\n",
        "      catalogs[os]['logprob'] = all_tlm[os]\n",
        "      print(catalogs[os].columns)\n",
        "\n",
        "      print('shape is: ')\n",
        "\n",
        "      print(np.shape(catalogs[os]))\n",
        "    for i, zmin in enumerate(zbins[:-1]):\n",
        "      zmax = zbins[i+1]\n",
        "      subset = catalogs[os][(catalogs[os]['z_true'] >= zmin) & (catalogs[os]['z_true'] < zmax)]\n",
        "      # print((zmin, len(subset), zmax))\n",
        "      vals = subset['logprob']\n",
        "      mean = np.mean(vals[vals >   -3])\n",
        "      # print(mean)\n",
        "      std = np.std(vals[vals > -3])\n",
        "      plotran[i] = mean\n",
        "      ploterr[i] = std #len(vals))\n",
        "\n",
        "    avgtav[os] = plotran\n",
        "    errtav[os] = ploterr\n",
        "\n",
        "  return avgtav, errtav"
      ],
      "metadata": {
        "id": "InFToud4udcf"
      },
      "execution_count": null,
      "outputs": []
    },
    {
      "cell_type": "code",
      "source": [
        "np.shape(all_tlm_le['LSST-only'])"
      ],
      "metadata": {
        "colab": {
          "base_uri": "https://localhost:8080/"
        },
        "id": "zJVNzXEwmVwb",
        "outputId": "d4e77ae3-d6ca-4b13-801f-712aec15918c"
      },
      "execution_count": null,
      "outputs": [
        {
          "output_type": "execute_result",
          "data": {
            "text/plain": [
              "(318745,)"
            ]
          },
          "metadata": {},
          "execution_count": 173
        }
      ]
    },
    {
      "cell_type": "code",
      "source": [
        "drops = ['drop_uv', 'drop_u', 'drop_g']"
      ],
      "metadata": {
        "id": "Hf9TzVPPoIdC"
      },
      "execution_count": null,
      "outputs": []
    },
    {
      "cell_type": "code",
      "source": [
        "flows_drops = {}\n",
        "flows_drops['drop_uv'] = FlowEnsemble(file=f\"pzflow_ensemble_for_LSST+CASTOR_drop_uv.pkl\")\n",
        "flows_drops['drop_u'] = FlowEnsemble(file=f\"pzflow_ensemble_for_LSST+CASTOR_drop_u.pkl\")\n",
        "flows_drops['drop_g'] = FlowEnsemble(file=f\"pzflow_ensemble_for_LSST+CASTOR_drop_g.pkl\")"
      ],
      "metadata": {
        "id": "9QywPFLBlCAk"
      },
      "execution_count": null,
      "outputs": []
    },
    {
      "cell_type": "code",
      "source": [
        "catalogs['LSST+CASTOR'] = pd.DataFrame({'CASTOR_ID': ID, 'z_true': z_true,\n",
        "                             'r': LSST_r_mag,\n",
        "                             'g-r': LSST_g_mag - LSST_r_mag,\n",
        "                             'r-i': LSST_r_mag - LSST_i_mag,\n",
        "                             'i-z': LSST_i_mag - LSST_z_mag,\n",
        "                             'uv': CASTOR_uv_mag,\n",
        "                              'u':   CASTOR_u_mag,\n",
        "                             'g': CASTOR_g_mag\n",
        "                      }).set_index('CASTOR_ID').dropna()"
      ],
      "metadata": {
        "id": "3yEk3rwFm2-i"
      },
      "execution_count": null,
      "outputs": []
    },
    {
      "cell_type": "code",
      "source": [
        "just_tav_drops = {}\n",
        "\n",
        "just_tav_drops['drop_uv'] = flows_drops['drop_uv'].log_prob(catalogs['LSST+CASTOR'])\n",
        "just_tav_drops['drop_u'] = flows_drops['drop_u'].log_prob(catalogs['LSST+CASTOR'])\n",
        "just_tav_drops['drop_g'] = flows_drops['drop_g'].log_prob(catalogs['LSST+CASTOR'])"
      ],
      "metadata": {
        "id": "hDXmqsxhmhFM"
      },
      "execution_count": null,
      "outputs": []
    },
    {
      "cell_type": "code",
      "source": [],
      "metadata": {
        "id": "BbCPQQ51oqYP"
      },
      "execution_count": null,
      "outputs": []
    },
    {
      "cell_type": "code",
      "source": [
        "all_tlm, is_inf_mask = compute_milb(just_tav_drops, drops)\n",
        "\n",
        "avgtav, errtav = bin_in_redshift(all_tlm, is_inf_mask)"
      ],
      "metadata": {
        "colab": {
          "base_uri": "https://localhost:8080/",
          "height": 309
        },
        "id": "tQ6ky6Olma3b",
        "outputId": "c2f908e0-5df2-4e21-a693-d432423fb168"
      },
      "execution_count": null,
      "outputs": [
        {
          "output_type": "stream",
          "name": "stdout",
          "text": [
            "['drop_uv', 'drop_u', 'drop_g']\n"
          ]
        },
        {
          "output_type": "error",
          "ename": "KeyError",
          "evalue": "'drop_uv'",
          "traceback": [
            "\u001b[0;31m---------------------------------------------------------------------------\u001b[0m",
            "\u001b[0;31mKeyError\u001b[0m                                  Traceback (most recent call last)",
            "\u001b[0;32m<ipython-input-140-b9483e069c8b>\u001b[0m in \u001b[0;36m<cell line: 1>\u001b[0;34m()\u001b[0m\n\u001b[0;32m----> 1\u001b[0;31m \u001b[0mall_tlm\u001b[0m\u001b[0;34m,\u001b[0m \u001b[0mis_inf_mask\u001b[0m \u001b[0;34m=\u001b[0m \u001b[0mcompute_milb\u001b[0m\u001b[0;34m(\u001b[0m\u001b[0mjust_tav_drops\u001b[0m\u001b[0;34m,\u001b[0m \u001b[0mdrops\u001b[0m\u001b[0;34m)\u001b[0m\u001b[0;34m\u001b[0m\u001b[0;34m\u001b[0m\u001b[0m\n\u001b[0m\u001b[1;32m      2\u001b[0m \u001b[0;34m\u001b[0m\u001b[0m\n\u001b[1;32m      3\u001b[0m \u001b[0mavgtav\u001b[0m\u001b[0;34m,\u001b[0m \u001b[0merrtav\u001b[0m \u001b[0;34m=\u001b[0m \u001b[0mbin_in_redshift\u001b[0m\u001b[0;34m(\u001b[0m\u001b[0mall_tlm\u001b[0m\u001b[0;34m,\u001b[0m \u001b[0mis_inf_mask\u001b[0m\u001b[0;34m)\u001b[0m\u001b[0;34m\u001b[0m\u001b[0;34m\u001b[0m\u001b[0m\n",
            "\u001b[0;32m<ipython-input-68-487db431c255>\u001b[0m in \u001b[0;36mcompute_milb\u001b[0;34m(just_tav, available_os)\u001b[0m\n\u001b[1;32m     11\u001b[0m       \u001b[0;31m# print(os_names[os])\u001b[0m\u001b[0;34m\u001b[0m\u001b[0;34m\u001b[0m\u001b[0m\n\u001b[1;32m     12\u001b[0m       \u001b[0;31m# load the photometric catalog for this os\u001b[0m\u001b[0;34m\u001b[0m\u001b[0;34m\u001b[0m\u001b[0m\n\u001b[0;32m---> 13\u001b[0;31m     \u001b[0mcat\u001b[0m \u001b[0;34m=\u001b[0m \u001b[0mcatalogs\u001b[0m\u001b[0;34m[\u001b[0m\u001b[0mos\u001b[0m\u001b[0;34m]\u001b[0m\u001b[0;34m\u001b[0m\u001b[0;34m\u001b[0m\u001b[0m\n\u001b[0m\u001b[1;32m     14\u001b[0m     \u001b[0;31m# print(cat.shape)\u001b[0m\u001b[0;34m\u001b[0m\u001b[0;34m\u001b[0m\u001b[0m\n\u001b[1;32m     15\u001b[0m \u001b[0;34m\u001b[0m\u001b[0m\n",
            "\u001b[0;31mKeyError\u001b[0m: 'drop_uv'"
          ]
        }
      ]
    },
    {
      "cell_type": "code",
      "source": [
        "all_tlm[available_os[1]].shape"
      ],
      "metadata": {
        "colab": {
          "base_uri": "https://localhost:8080/",
          "height": 139
        },
        "id": "LlXpG1GJq3jQ",
        "outputId": "3fd7ceeb-af66-480e-8d71-fc07f0c3ca66"
      },
      "execution_count": null,
      "outputs": [
        {
          "output_type": "error",
          "ename": "KeyError",
          "evalue": "'CASTOR-only'",
          "traceback": [
            "\u001b[0;31m---------------------------------------------------------------------------\u001b[0m",
            "\u001b[0;31mKeyError\u001b[0m                                  Traceback (most recent call last)",
            "\u001b[0;32m<ipython-input-32-1b5da80a064e>\u001b[0m in \u001b[0;36m<cell line: 1>\u001b[0;34m()\u001b[0m\n\u001b[0;32m----> 1\u001b[0;31m \u001b[0mall_tlm\u001b[0m\u001b[0;34m[\u001b[0m\u001b[0mavailable_os\u001b[0m\u001b[0;34m[\u001b[0m\u001b[0;36m1\u001b[0m\u001b[0;34m]\u001b[0m\u001b[0;34m]\u001b[0m\u001b[0;34m.\u001b[0m\u001b[0mshape\u001b[0m\u001b[0;34m\u001b[0m\u001b[0;34m\u001b[0m\u001b[0m\n\u001b[0m",
            "\u001b[0;31mKeyError\u001b[0m: 'CASTOR-only'"
          ]
        }
      ]
    },
    {
      "cell_type": "code",
      "source": [
        "fig, ax = plt.subplots(1, 3, figsize = (12, 4))\n",
        "\n",
        "for os in available_os:\n",
        "  print(np.sum(np.isinf(avgtav[os])))\n",
        "  print(np.min(avgtav[os]))\n",
        "  ax[0].plot(zbins, avgtav[os], label=os, alpha=0.5)\n",
        "  ax[0].fill_between(zbins, avgtav[os] - errtav[os], avgtav[os] + errtav[os], alpha = 0.1)\n",
        "# plt.ylim(-10, 5)\n",
        "ax[0].legend(fontsize = 8)\n",
        "ax[0].set_xlabel('z_true')\n",
        "ax[0].set_ylabel(chr(0x05ea))\n",
        "ax[0].set_ylim(-1, 5)"
      ],
      "metadata": {
        "id": "aWjczQVOoAuj"
      },
      "execution_count": null,
      "outputs": []
    }
  ]
}