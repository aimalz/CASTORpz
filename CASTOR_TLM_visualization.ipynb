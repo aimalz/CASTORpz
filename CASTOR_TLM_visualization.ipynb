{
  "nbformat": 4,
  "nbformat_minor": 0,
  "metadata": {
    "colab": {
      "provenance": [],
      "authorship_tag": "ABX9TyMwArbfxE9x++bhuozQ3qRR",
      "include_colab_link": true
    },
    "kernelspec": {
      "name": "python3",
      "display_name": "Python 3"
    },
    "language_info": {
      "name": "python"
    }
  },
  "cells": [
    {
      "cell_type": "markdown",
      "metadata": {
        "id": "view-in-github",
        "colab_type": "text"
      },
      "source": [
        "<a href=\"https://colab.research.google.com/github/aimalz/CASTORpz/blob/main/CASTOR_TLM_visualization.ipynb\" target=\"_parent\"><img src=\"https://colab.research.google.com/assets/colab-badge.svg\" alt=\"Open In Colab\"/></a>"
      ]
    },
    {
      "cell_type": "code",
      "execution_count": 4,
      "metadata": {
        "colab": {
          "base_uri": "https://localhost:8080/"
        },
        "id": "oc-1mfNcQJ2l",
        "outputId": "5b5f8357-c2b7-455f-e3f9-6c8de2c477e3"
      },
      "outputs": [
        {
          "output_type": "stream",
          "name": "stdout",
          "text": [
            "Drive already mounted at /content/drive; to attempt to forcibly remount, call drive.mount(\"/content/drive\", force_remount=True).\n",
            "698211\n",
            "Collecting jaxlib==0.4.14\n",
            "  Downloading jaxlib-0.4.14-cp310-cp310-manylinux2014_x86_64.whl (73.7 MB)\n",
            "\u001b[2K     \u001b[90m━━━━━━━━━━━━━━━━━━━━━━━━━━━━━━━━━━━━━━━━\u001b[0m \u001b[32m73.7/73.7 MB\u001b[0m \u001b[31m10.4 MB/s\u001b[0m eta \u001b[36m0:00:00\u001b[0m\n",
            "\u001b[?25hRequirement already satisfied: scipy>=1.7 in /usr/local/lib/python3.10/dist-packages (from jaxlib==0.4.14) (1.11.3)\n",
            "Requirement already satisfied: numpy>=1.22 in /usr/local/lib/python3.10/dist-packages (from jaxlib==0.4.14) (1.23.5)\n",
            "Requirement already satisfied: ml-dtypes>=0.2.0 in /usr/local/lib/python3.10/dist-packages (from jaxlib==0.4.14) (0.3.1)\n",
            "Installing collected packages: jaxlib\n",
            "  Attempting uninstall: jaxlib\n",
            "    Found existing installation: jaxlib 0.4.16+cuda11.cudnn86\n",
            "    Uninstalling jaxlib-0.4.16+cuda11.cudnn86:\n",
            "      Successfully uninstalled jaxlib-0.4.16+cuda11.cudnn86\n",
            "Successfully installed jaxlib-0.4.14\n",
            "Requirement already satisfied: jax==0.4.16 in /usr/local/lib/python3.10/dist-packages (0.4.16)\n",
            "Requirement already satisfied: ml-dtypes>=0.2.0 in /usr/local/lib/python3.10/dist-packages (from jax==0.4.16) (0.3.1)\n",
            "Requirement already satisfied: numpy>=1.22 in /usr/local/lib/python3.10/dist-packages (from jax==0.4.16) (1.23.5)\n",
            "Requirement already satisfied: opt-einsum in /usr/local/lib/python3.10/dist-packages (from jax==0.4.16) (3.3.0)\n",
            "Requirement already satisfied: scipy>=1.7 in /usr/local/lib/python3.10/dist-packages (from jax==0.4.16) (1.11.3)\n",
            "nvcc: NVIDIA (R) Cuda compiler driver\n",
            "Copyright (c) 2005-2022 NVIDIA Corporation\n",
            "Built on Wed_Sep_21_10:33:58_PDT_2022\n",
            "Cuda compilation tools, release 11.8, V11.8.89\n",
            "Build cuda_11.8.r11.8/compiler.31833905_0\n",
            "Requirement already satisfied: astropy in /usr/local/lib/python3.10/dist-packages (5.3.4)\n",
            "Collecting pzflow\n",
            "  Downloading pzflow-3.1.1-py3-none-any.whl (8.7 MB)\n",
            "\u001b[2K     \u001b[90m━━━━━━━━━━━━━━━━━━━━━━━━━━━━━━━━━━━━━━━━\u001b[0m \u001b[32m8.7/8.7 MB\u001b[0m \u001b[31m34.0 MB/s\u001b[0m eta \u001b[36m0:00:00\u001b[0m\n",
            "\u001b[?25hCollecting corner\n",
            "  Downloading corner-2.2.2-py3-none-any.whl (15 kB)\n",
            "Requirement already satisfied: numpy<2,>=1.21 in /usr/local/lib/python3.10/dist-packages (from astropy) (1.23.5)\n",
            "Requirement already satisfied: pyerfa>=2.0 in /usr/local/lib/python3.10/dist-packages (from astropy) (2.0.0.3)\n",
            "Requirement already satisfied: PyYAML>=3.13 in /usr/local/lib/python3.10/dist-packages (from astropy) (6.0.1)\n",
            "Requirement already satisfied: packaging>=19.0 in /usr/local/lib/python3.10/dist-packages (from astropy) (23.2)\n",
            "Collecting dill<0.4.0,>=0.3.6 (from pzflow)\n",
            "  Downloading dill-0.3.7-py3-none-any.whl (115 kB)\n",
            "\u001b[2K     \u001b[90m━━━━━━━━━━━━━━━━━━━━━━━━━━━━━━━━━━━━━━━━\u001b[0m \u001b[32m115.3/115.3 kB\u001b[0m \u001b[31m14.9 MB/s\u001b[0m eta \u001b[36m0:00:00\u001b[0m\n",
            "\u001b[?25hRequirement already satisfied: jax<0.5.0,>=0.4.2 in /usr/local/lib/python3.10/dist-packages (from pzflow) (0.4.16)\n",
            "Requirement already satisfied: jaxlib<0.5.0,>=0.4.2 in /usr/local/lib/python3.10/dist-packages (from pzflow) (0.4.14)\n",
            "Requirement already satisfied: optax<0.2.0,>=0.1.4 in /usr/local/lib/python3.10/dist-packages (from pzflow) (0.1.7)\n",
            "Requirement already satisfied: pandas>=1.1 in /usr/local/lib/python3.10/dist-packages (from pzflow) (1.5.3)\n",
            "Requirement already satisfied: tqdm<5.0.0,>=4.64.1 in /usr/local/lib/python3.10/dist-packages (from pzflow) (4.66.1)\n",
            "Requirement already satisfied: matplotlib>=2.1 in /usr/local/lib/python3.10/dist-packages (from corner) (3.7.1)\n",
            "Requirement already satisfied: ml-dtypes>=0.2.0 in /usr/local/lib/python3.10/dist-packages (from jax<0.5.0,>=0.4.2->pzflow) (0.3.1)\n",
            "Requirement already satisfied: opt-einsum in /usr/local/lib/python3.10/dist-packages (from jax<0.5.0,>=0.4.2->pzflow) (3.3.0)\n",
            "Requirement already satisfied: scipy>=1.7 in /usr/local/lib/python3.10/dist-packages (from jax<0.5.0,>=0.4.2->pzflow) (1.11.3)\n",
            "Requirement already satisfied: contourpy>=1.0.1 in /usr/local/lib/python3.10/dist-packages (from matplotlib>=2.1->corner) (1.1.1)\n",
            "Requirement already satisfied: cycler>=0.10 in /usr/local/lib/python3.10/dist-packages (from matplotlib>=2.1->corner) (0.12.1)\n",
            "Requirement already satisfied: fonttools>=4.22.0 in /usr/local/lib/python3.10/dist-packages (from matplotlib>=2.1->corner) (4.43.1)\n",
            "Requirement already satisfied: kiwisolver>=1.0.1 in /usr/local/lib/python3.10/dist-packages (from matplotlib>=2.1->corner) (1.4.5)\n",
            "Requirement already satisfied: pillow>=6.2.0 in /usr/local/lib/python3.10/dist-packages (from matplotlib>=2.1->corner) (9.4.0)\n",
            "Requirement already satisfied: pyparsing>=2.3.1 in /usr/local/lib/python3.10/dist-packages (from matplotlib>=2.1->corner) (3.1.1)\n",
            "Requirement already satisfied: python-dateutil>=2.7 in /usr/local/lib/python3.10/dist-packages (from matplotlib>=2.1->corner) (2.8.2)\n",
            "Requirement already satisfied: absl-py>=0.7.1 in /usr/local/lib/python3.10/dist-packages (from optax<0.2.0,>=0.1.4->pzflow) (1.4.0)\n",
            "Requirement already satisfied: chex>=0.1.5 in /usr/local/lib/python3.10/dist-packages (from optax<0.2.0,>=0.1.4->pzflow) (0.1.7)\n",
            "Requirement already satisfied: pytz>=2020.1 in /usr/local/lib/python3.10/dist-packages (from pandas>=1.1->pzflow) (2023.3.post1)\n",
            "Requirement already satisfied: dm-tree>=0.1.5 in /usr/local/lib/python3.10/dist-packages (from chex>=0.1.5->optax<0.2.0,>=0.1.4->pzflow) (0.1.8)\n",
            "Requirement already satisfied: toolz>=0.9.0 in /usr/local/lib/python3.10/dist-packages (from chex>=0.1.5->optax<0.2.0,>=0.1.4->pzflow) (0.12.0)\n",
            "Requirement already satisfied: typing-extensions>=4.2.0 in /usr/local/lib/python3.10/dist-packages (from chex>=0.1.5->optax<0.2.0,>=0.1.4->pzflow) (4.5.0)\n",
            "Requirement already satisfied: six>=1.5 in /usr/local/lib/python3.10/dist-packages (from python-dateutil>=2.7->matplotlib>=2.1->corner) (1.16.0)\n",
            "Installing collected packages: dill, corner, pzflow\n",
            "Successfully installed corner-2.2.2 dill-0.3.7 pzflow-3.1.1\n"
          ]
        }
      ],
      "source": [
        "from google.colab import drive\n",
        "drive.mount('/content/drive')\n",
        "\n",
        "from astropy.table import Table\n",
        "prepend = '/content/drive/MyDrive/Research/CASTORpz/'\n",
        "unp = Table.read(prepend+\"unperturbed_mags.fits\")\n",
        "print(len(unp))\n",
        "\n",
        "# !pip install --upgrade \"jax[cuda]\" -f https://storage.googleapis.com/jax-releases/jax_cuda_releases.html\n",
        "!pip install jaxlib==0.4.14\n",
        "!pip install jax==0.4.16\n",
        "\n",
        "# jaxlib==0.3.22+cuda11.cudnn82\n",
        "\n",
        "# !pip install jax[cuda]==0.4.17+cuda12.cudnn89 -f https://storage.googleapis.com/jax-releases/jax_cuda_releases.html\n",
        "\n",
        "# !pip install \"jax[cuda]\"==0.4.16\n",
        "!nvcc --version\n",
        "\n",
        "!pip install astropy pzflow corner\n",
        "\n",
        "from pzflow import Flow\n",
        "import jax.numpy as jnp\n",
        "import pandas as pd\n",
        "import numpy as np\n",
        "import pickle\n",
        "import corner\n",
        "import matplotlib.pyplot as plt\n",
        "from astropy.table import Table\n",
        "from pzflow import Flow, FlowEnsemble\n",
        "from pzflow.distributions import Uniform\n",
        "from pzflow.bijectors import Chain, StandardScaler, NeuralSplineCoupling, ColorTransform, InvSoftplus, RollingSplineCoupling, ShiftBounds"
      ]
    },
    {
      "cell_type": "code",
      "source": [
        "cd /content/drive/MyDrive/Research/CASTORpz\n"
      ],
      "metadata": {
        "colab": {
          "base_uri": "https://localhost:8080/"
        },
        "id": "nav6-hFXS0db",
        "outputId": "4e7eff4c-546b-4a6c-c9ee-533871591eb0"
      },
      "execution_count": 3,
      "outputs": [
        {
          "output_type": "stream",
          "name": "stdout",
          "text": [
            "/content/drive/MyDrive/Research/CASTORpz\n"
          ]
        }
      ]
    },
    {
      "cell_type": "code",
      "source": [
        "unp = Table.read(prepend+\"unperturbed_mags.fits\").to_pandas()#.set_index('ID')\n",
        "mock = Table.read(prepend+\"ext_phot.fits\").to_pandas()#.set_index('ID')"
      ],
      "metadata": {
        "id": "m5U6xbZYRArG"
      },
      "execution_count": 5,
      "outputs": []
    },
    {
      "cell_type": "code",
      "source": [
        "names_phot = [\"ID\", \"photoz\",\n",
        "              \"LSST_g_MAG\", \"LSST_g_MAGERR\",\n",
        "              \"LSST_r_MAG\", \"LSST_r_MAGERR\",\n",
        "              \"LSST_i_MAG\", \"LSST_i_MAGERR\",\n",
        "              \"LSST_z_MAG\", \"LSST_z_MAGERR\",\n",
        "              \"castor_uv_MAG\", \"castor_uv_MAGERR\",\n",
        "              \"castor_u_MAG\", \"castor_u_MAGERR\",\n",
        "              \"castor_g_MAG\", \"castor_g_MAGERR\",\n",
        "              \"Euclid_VIS_MAG\",\n",
        "              'Euclid_Y_MAG','Euclid_J_MAG','Euclid_H_MAG',\n",
        "              'Roman_106_MAG',\n",
        "              'Roman_129_MAG','Roman_158_MAG',\n",
        "              'Roman_184_MAG']\n",
        "\n",
        "\n",
        "\n",
        "available_os = [\"CASTOR-only\", \"LSST-only\", \"Euclid-only\", #\"Roman-only\",\n",
        "\"LSST+CASTOR\", \"Euclid+CASTOR\", #\"Roman+CASTOR\",\n",
        "\"Euclid+LSST\", \"Euclid+LSST+CASTOR\"\n",
        "]\n",
        "\n",
        "Roman_os = [\"Roman-only\", \"Roman+CASTOR\", \"Roman+Euclid+LSST+CASTOR\", \"Roman+LSST\"]\n",
        "\n",
        "available_os = available_os + Roman_os\n",
        "print(available_os)\n",
        "\n",
        "names = available_os"
      ],
      "metadata": {
        "colab": {
          "base_uri": "https://localhost:8080/"
        },
        "id": "zsxMDtnyRNuU",
        "outputId": "3cc25d0d-5673-42c0-c759-648dc28efb26"
      },
      "execution_count": 6,
      "outputs": [
        {
          "output_type": "stream",
          "name": "stdout",
          "text": [
            "['CASTOR-only', 'LSST-only', 'Euclid-only', 'LSST+CASTOR', 'Euclid+CASTOR', 'Euclid+LSST', 'Euclid+LSST+CASTOR', 'Roman-only', 'Roman+CASTOR', 'Roman+Euclid+LSST+CASTOR', 'Roman+LSST']\n"
          ]
        }
      ]
    },
    {
      "cell_type": "code",
      "source": [],
      "metadata": {
        "id": "tb8o_xl2YLRs"
      },
      "execution_count": null,
      "outputs": []
    },
    {
      "cell_type": "code",
      "source": [
        "# load data\n",
        "def getTrueY(test_cat, mag_col_names, y_col_name):\n",
        "    test_cat = Table(test_cat, masked=True, copy=True)\n",
        "    # remove nans\n",
        "    for col in mag_col_names:\n",
        "        test_cat[col].mask = np.isnan(test_cat[col].data) | test_cat[col].mask\n",
        "        test_cat = test_cat[~test_cat[col].mask] # then remove nans from test set\n",
        "\n",
        "    true_y = test_cat[y_col_name]\n",
        "    return true_y.filled()"
      ],
      "metadata": {
        "id": "LU4Cshe_YLXi"
      },
      "execution_count": 16,
      "outputs": []
    },
    {
      "cell_type": "code",
      "source": [
        "# want to read in here the cleaned catalogs that have been saved elsewhere"
      ],
      "metadata": {
        "id": "txP3SR47RRKz"
      },
      "execution_count": 17,
      "outputs": []
    },
    {
      "cell_type": "code",
      "source": [
        "ls"
      ],
      "metadata": {
        "colab": {
          "base_uri": "https://localhost:8080/"
        },
        "id": "l728MzCjTm_4",
        "outputId": "3df234a6-9d86-4c99-d28d-132903b0bc77"
      },
      "execution_count": 18,
      "outputs": [
        {
          "output_type": "stream",
          "name": "stdout",
          "text": [
            "all_combos_histogram.pdf\n",
            "all_combos_over_z.pdf\n",
            "ext_phot.fits\n",
            "\u001b[0m\u001b[01;34mFeb_ensembles\u001b[0m/\n",
            "knn_colors.py\n",
            "losses_for_CASTOR-only.pkl\n",
            "losses_for_Euclid+CASTOR.pkl\n",
            "losses_for_Euclid+LSST+CASTOR.pkl\n",
            "losses_for_Euclid+LSST.pkl\n",
            "losses_for_Euclid-only.pkl\n",
            "losses_for_LSST+CASTOR.pkl\n",
            "losses_for_LSST-only.pkl\n",
            "losses_for_Roman+CASTOR.pkl\n",
            "losses_for_Roman+Euclid+LSST+CASTOR.pkl\n",
            "losses_for_Roman+Euclid+LSST.pkl\n",
            "losses_for_Roman+LSST.pkl\n",
            "losses_for_Roman-only.pkl\n",
            "\u001b[01;34mMay_flows\u001b[0m/\n",
            "\u001b[01;34mOct_flows\u001b[0m/\n",
            "\u001b[01;34mOct_flows_draft\u001b[0m/\n",
            "Oct_flows_draftpzflow_ensemble_for_CASTOR-only.pkl\n",
            "Oct_flows_draftpzflow_ensemble_for_Euclid+CASTOR.pkl\n",
            "Oct_flows_draftpzflow_ensemble_for_Euclid+LSST.pkl\n",
            "Oct_flows_draftpzflow_ensemble_for_Euclid-only.pkl\n",
            "Oct_flows_draftpzflow_ensemble_for_LSST+CASTOR.pkl\n",
            "Oct_flows_draftpzflow_ensemble_for_LSST-only.pkl\n",
            "Oct_flows_draftpzflow_ensemble_for_Roman+Euclid+LSST+CASTOR.pkl\n",
            "Oct_flows_draftpzflow_ensemble_for_Roman+Euclid+LSST.pkl\n",
            "Oct_flowspzflow_ensemble_for_CASTOR-only.pkl\n",
            "Oct_flowspzflow_ensemble_for_Euclid+CASTOR.pkl\n",
            "Oct_flowspzflow_ensemble_for_Euclid+LSST+CASTOR.pkl\n",
            "Oct_flowspzflow_ensemble_for_Euclid+LSST.pkl\n",
            "Oct_flowspzflow_ensemble_for_Euclid-only.pkl\n",
            "Oct_flowspzflow_ensemble_for_LSST+CASTOR.pkl\n",
            "Oct_flowspzflow_ensemble_for_LSST-only.pkl\n",
            "Oct_flowspzflow_ensemble_for_Roman+CASTOR.pkl\n",
            "Oct_flowspzflow_ensemble_for_Roman+Euclid+LSST+CASTOR.pkl\n",
            "Oct_flowspzflow_ensemble_for_Roman+LSST.pkl\n",
            "Oct_flowspzflow_ensemble_for_Roman-only.pkl\n",
            "RNAAS_placeholder.pdf\n",
            "stats.pkl\n",
            "\u001b[01;34mtest_flows\u001b[0m/\n",
            "unperturbed_mags.fits\n",
            "\u001b[01;34mWeird-Euclid\u001b[0m/\n",
            "wide_survey_v1.docx\n"
          ]
        }
      ]
    },
    {
      "cell_type": "code",
      "source": [
        "available_os = ['LSST-only',\n",
        "                'CASTOR-only',\n",
        "                'Euclid+CASTOR',\n",
        "                'LSST+CASTOR',\n",
        "                'Roman+CASTOR',\n",
        "                'Roman+Euclid+LSST+CASTOR']\n",
        "\n",
        "# what I actually want is LSST + Roman\n",
        "# and LSST + Roman + Euclid\n",
        "# rerunning now"
      ],
      "metadata": {
        "id": "jqlOBM5iT1xF"
      },
      "execution_count": 34,
      "outputs": []
    },
    {
      "cell_type": "code",
      "source": [
        "flows = {}\n",
        "for os in available_os:\n",
        "  flows[os] = FlowEnsemble(file=f\"Oct_flowspzflow_ensemble_for_{os}.pkl\")"
      ],
      "metadata": {
        "id": "urRGRfZfTgO2"
      },
      "execution_count": 35,
      "outputs": []
    },
    {
      "cell_type": "code",
      "source": [
        "flows"
      ],
      "metadata": {
        "colab": {
          "base_uri": "https://localhost:8080/"
        },
        "id": "GuEtuByCVX1y",
        "outputId": "041e9cf0-5d8c-44af-cf32-609cef682509"
      },
      "execution_count": 36,
      "outputs": [
        {
          "output_type": "execute_result",
          "data": {
            "text/plain": [
              "{'LSST-only': <pzflow.flowEnsemble.FlowEnsemble at 0x7e650338a380>,\n",
              " 'CASTOR-only': <pzflow.flowEnsemble.FlowEnsemble at 0x7e650338a050>,\n",
              " 'Euclid+CASTOR': <pzflow.flowEnsemble.FlowEnsemble at 0x7e653338c730>,\n",
              " 'LSST+CASTOR': <pzflow.flowEnsemble.FlowEnsemble at 0x7e65333a14b0>,\n",
              " 'Roman+CASTOR': <pzflow.flowEnsemble.FlowEnsemble at 0x7e65333bfb80>,\n",
              " 'Roman+Euclid+LSST+CASTOR': <pzflow.flowEnsemble.FlowEnsemble at 0x7e65333dd840>}"
            ]
          },
          "metadata": {},
          "execution_count": 36
        }
      ]
    },
    {
      "cell_type": "code",
      "source": [
        "mock_cat = pd.merge(mock, unp[['ID',\"Euclid_VIS_MAG\"]], on='ID')"
      ],
      "metadata": {
        "id": "jXEm76J7VZ_M"
      },
      "execution_count": 22,
      "outputs": []
    },
    {
      "cell_type": "code",
      "source": [
        "CASTOR_baseline = Table.from_pandas(mock_cat[(mock_cat[\"Euclid_VIS_MAG\"] <= 24.5) & (mock_cat[\"LSST_r_MAG\"] >= 17.5)]) # apply magnitude limit cuts"
      ],
      "metadata": {
        "id": "Kjz_ateAV84s"
      },
      "execution_count": 23,
      "outputs": []
    },
    {
      "cell_type": "code",
      "source": [
        "# put data in expected format for TLM\n",
        "\n",
        "LSST_g_mag = getTrueY(test_cat=CASTOR_baseline, mag_col_names=names_phot, y_col_name=\"LSST_g_MAG\")\n",
        "LSST_r_mag = getTrueY(test_cat=CASTOR_baseline, mag_col_names=names_phot, y_col_name=\"LSST_r_MAG\")\n",
        "LSST_i_mag = getTrueY(test_cat=CASTOR_baseline, mag_col_names=names_phot, y_col_name=\"LSST_i_MAG\")\n",
        "LSST_z_mag = getTrueY(test_cat=CASTOR_baseline, mag_col_names=names_phot, y_col_name=\"LSST_z_MAG\")\n",
        "\n",
        "# LSST_g_mag_ERR = getTrueY(test_cat=CASTOR_baseline, mag_col_names=names_phot, y_col_name=\"LSST_g_MAGERR\")\n",
        "# LSST_r_mag_ERR = getTrueY(test_cat=CASTOR_baseline, mag_col_names=names_phot, y_col_name=\"LSST_r_MAGERR\")\n",
        "# LSST_i_mag_ERR = getTrueY(test_cat=CASTOR_baseline, mag_col_names=names_phot, y_col_name=\"LSST_i_MAGERR\")\n",
        "# LSST_z_mag_ERR = getTrueY(test_cat=CASTOR_baseline, mag_col_names=names_phot, y_col_name=\"LSST_z_MAGERR\")\n",
        "\n",
        "CASTOR_g_mag = getTrueY(test_cat=CASTOR_baseline, mag_col_names=names_phot, y_col_name=\"castor_g_MAG\")\n",
        "CASTOR_u_mag = getTrueY(test_cat=CASTOR_baseline, mag_col_names=names_phot, y_col_name=\"castor_u_MAG\")\n",
        "CASTOR_uv_mag = getTrueY(test_cat=CASTOR_baseline, mag_col_names=names_phot, y_col_name=\"castor_uv_MAG\")\n",
        "\n",
        "# CASTOR_g_mag_ERR = getTrueY(test_cat=CASTOR_baseline, mag_col_names=names_phot, y_col_name=\"castor_g_MAGERR\")\n",
        "# CASTOR_u_mag_ERR = getTrueY(test_cat=CASTOR_baseline, mag_col_names=names_phot, y_col_name=\"castor_u_MAGERR\")\n",
        "# CASTOR_uv_mag_ERR = getTrueY(test_cat=CASTOR_baseline, mag_col_names=names_phot, y_col_name=\"castor_uv_MAGERR\")\n",
        "\n",
        "Euclid_VIS_mag = getTrueY(test_cat=CASTOR_baseline, mag_col_names=names_phot, y_col_name=\"Euclid_VIS_MAG\")\n",
        "Euclid_J_mag = getTrueY(test_cat=CASTOR_baseline, mag_col_names=names_phot, y_col_name=\"Euclid_J_MAG\")\n",
        "Euclid_H_mag = getTrueY(test_cat=CASTOR_baseline, mag_col_names=names_phot, y_col_name=\"Euclid_H_MAG\")\n",
        "Euclid_Y_mag = getTrueY(test_cat=CASTOR_baseline, mag_col_names=names_phot, y_col_name=\"Euclid_Y_MAG\")\n",
        "\n",
        "# Roman - only a subset of the Roman filters are available?\n",
        "\n",
        "# Roman_062_mag = getTrueY(test_cat=CASTOR_baseline, mag_col_names=names_phot, y_col_name='Roman_062_MAG')\n",
        "# Roman_087_mag = getTrueY(test_cat=CASTOR_baseline, mag_col_names=names_phot, y_col_name='Roman_087_MAG')\n",
        "Roman_106_mag = getTrueY(test_cat=CASTOR_baseline, mag_col_names=names_phot, y_col_name='Roman_106_MAG')\n",
        "\n",
        "Roman_129_mag = getTrueY(test_cat=CASTOR_baseline, mag_col_names=names_phot, y_col_name='Roman_129_MAG')\n",
        "# Roman_146_mag = getTrueY(test_cat=CASTOR_baseline, mag_col_names=names_phot, y_col_name='Roman_146_MAG')\n",
        "Roman_158_mag = getTrueY(test_cat=CASTOR_baseline, mag_col_names=names_phot, y_col_name='Roman_158_MAG')\n",
        "\n",
        "Roman_184_mag = getTrueY(test_cat=CASTOR_baseline, mag_col_names=names_phot, y_col_name='Roman_184_MAG')\n",
        "# Roman_213_mag = getTrueY(test_cat=CASTOR_baseline, mag_col_names=names_phot, y_col_name='Roman_213_MAG')\n",
        "\n",
        "ID = getTrueY(test_cat=CASTOR_baseline, mag_col_names=names_phot, y_col_name=\"ID\")\n",
        "z_true = getTrueY(test_cat=CASTOR_baseline, mag_col_names=names_phot, y_col_name=\"photoz\")"
      ],
      "metadata": {
        "id": "B9_nYM_qYF_h"
      },
      "execution_count": 24,
      "outputs": []
    },
    {
      "cell_type": "code",
      "source": [
        "# get magnitudes and set up the catalogs\n",
        "\n",
        "catalogs = dict()\n",
        "catalogs['LSST+CASTOR'] = pd.DataFrame({'CASTOR_ID': ID, 'z_true': z_true,\n",
        "                             'r': LSST_r_mag,\n",
        "                             'g-r': LSST_g_mag - LSST_r_mag,\n",
        "                             'r-i': LSST_r_mag - LSST_i_mag,\n",
        "                             'i-z': LSST_i_mag - LSST_z_mag,\n",
        "                             'uv-u': CASTOR_uv_mag - CASTOR_u_mag,\n",
        "                             'u-g': CASTOR_u_mag - CASTOR_g_mag\n",
        "                      }).set_index('CASTOR_ID').dropna()\n",
        "catalogs['LSST-only'] = pd.DataFrame({'CASTOR_ID': ID, 'z_true': z_true,\n",
        "                             'r': LSST_r_mag,\n",
        "                             'g-r': LSST_g_mag - LSST_r_mag,\n",
        "                             'r-i': LSST_r_mag - LSST_i_mag,\n",
        "                             'i-z': LSST_i_mag - LSST_z_mag\n",
        "                      }).set_index('CASTOR_ID').dropna()\n",
        "catalogs['CASTOR-only'] = pd.DataFrame({'CASTOR_ID': ID, 'z_true': z_true,\n",
        "                             'g': CASTOR_g_mag,\n",
        "                             'uv-u': CASTOR_uv_mag - CASTOR_u_mag,\n",
        "                             'u-g': CASTOR_u_mag - CASTOR_g_mag\n",
        "                      }).set_index('CASTOR_ID').dropna()\n",
        "catalogs['Euclid-only'] = pd.DataFrame({'CASTOR_ID': ID, 'z_true': z_true,\n",
        "                             'v': Euclid_VIS_mag,\n",
        "                             'v-y': Euclid_VIS_mag - Euclid_Y_mag,\n",
        "                             'y-j': Euclid_Y_mag - Euclid_J_mag,\n",
        "                             'j-h': Euclid_J_mag - Euclid_H_mag\n",
        "                      }).set_index('CASTOR_ID').dropna()\n",
        "\n",
        "catalogs['Euclid+CASTOR'] = pd.DataFrame({'CASTOR_ID': ID, 'z_true': z_true,\n",
        "                             'g': CASTOR_g_mag,\n",
        "                             'uv-u': CASTOR_uv_mag - CASTOR_u_mag,\n",
        "                             'u-g': CASTOR_u_mag - CASTOR_g_mag,\n",
        "                             'v': Euclid_VIS_mag,\n",
        "                             'v-y': Euclid_VIS_mag - Euclid_Y_mag,\n",
        "                             'y-j': Euclid_Y_mag - Euclid_J_mag,\n",
        "                             'j-h': Euclid_J_mag - Euclid_H_mag\n",
        "                      }).set_index('CASTOR_ID').dropna()\n",
        "catalogs['Euclid+LSST'] = pd.DataFrame({'CASTOR_ID': ID, 'z_true': z_true,\n",
        "                              'r': LSST_r_mag,\n",
        "                             'g-r': LSST_g_mag - LSST_r_mag,\n",
        "                             'r-i': LSST_r_mag - LSST_i_mag,\n",
        "                             'i-z': LSST_i_mag - LSST_z_mag,\n",
        "                             'v': Euclid_VIS_mag,\n",
        "                             'v-y': Euclid_VIS_mag - Euclid_Y_mag,\n",
        "                             'y-j': Euclid_Y_mag - Euclid_J_mag,\n",
        "                             'j-h': Euclid_J_mag - Euclid_H_mag\n",
        "                      }).set_index('CASTOR_ID').dropna()\n",
        "catalogs['Euclid+LSST+CASTOR'] = pd.DataFrame({'CASTOR_ID': ID, 'z_true': z_true,\n",
        "                              'r': LSST_r_mag,\n",
        "                             'g-r': LSST_g_mag - LSST_r_mag,\n",
        "                             'r-i': LSST_r_mag - LSST_i_mag,\n",
        "                             'i-z': LSST_i_mag - LSST_z_mag,\n",
        "                             'v': Euclid_VIS_mag,\n",
        "                             'v-y': Euclid_VIS_mag - Euclid_Y_mag,\n",
        "                             'y-j': Euclid_Y_mag - Euclid_J_mag,\n",
        "                             'j-h': Euclid_J_mag - Euclid_H_mag,\n",
        "                             'g': CASTOR_g_mag,\n",
        "                             'uv-u': CASTOR_uv_mag - CASTOR_u_mag,\n",
        "                             'u-g': CASTOR_u_mag - CASTOR_g_mag\n",
        "                      }).set_index('CASTOR_ID').dropna()"
      ],
      "metadata": {
        "id": "I15vwEfQWFol"
      },
      "execution_count": 25,
      "outputs": []
    },
    {
      "cell_type": "code",
      "source": [
        "available_os = ['LSST-only',\n",
        "                'CASTOR-only',\n",
        "                'Euclid+CASTOR',\n",
        "                'LSST+CASTOR']\n",
        "just_tav = {}\n",
        "for os in available_os:\n",
        "  just_tav[os] = flows[os].log_prob(catalogs[os])"
      ],
      "metadata": {
        "id": "D-yai48xYR4g"
      },
      "execution_count": 38,
      "outputs": []
    },
    {
      "cell_type": "code",
      "source": [
        "for os in available_os:\n",
        "  plt.hist(just_tav[os], alpha=0.25, label=os, density=True, bins=np.linspace(-5, 4, 100))\n",
        "  plt.legend()\n",
        "  plt.xlim(-5,4)\n",
        "  plt.xlabel(chr(0x05ea))#r'$\\mathbb{E}_{z, x_{phot}} \\left[ q_\\theta(z | x_{phot}) \\right]$')\n",
        "  plt.yticks([])\n",
        "plt.show()"
      ],
      "metadata": {
        "colab": {
          "base_uri": "https://localhost:8080/",
          "height": 449
        },
        "id": "d5Sw9GcCYail",
        "outputId": "749bf492-002d-4391-8d1a-e7e9e66b648a"
      },
      "execution_count": 39,
      "outputs": [
        {
          "output_type": "display_data",
          "data": {
            "text/plain": [
              "<Figure size 640x480 with 1 Axes>"
            ],
            "image/png": "[encoded data removed]"
          },
          "metadata": {}
        }
      ]
    },
    {
      "cell_type": "code",
      "source": [
        "worst_galaxies = np.argsort((np.abs(just_tav['LSST-only'] - just_tav['LSST+CASTOR'])))[::-1][0:1000]\n",
        "best_galaxies = np.argsort((np.abs(just_tav['LSST-only'] - just_tav['LSST+CASTOR'])))[0:1000]"
      ],
      "metadata": {
        "id": "TVRNTpo4Yy2i"
      },
      "execution_count": 40,
      "outputs": []
    },
    {
      "cell_type": "code",
      "source": [
        "plt.scatter(np.array(catalogs['LSST+CASTOR']['g-r'])[worst_galaxies], np.array(catalogs['LSST+CASTOR']['r-i'])[worst_galaxies])\n",
        "plt.scatter(np.array(catalogs['LSST+CASTOR']['g-r'])[best_galaxies], np.array(catalogs['LSST+CASTOR']['r-i'])[best_galaxies])\n",
        "\n",
        "plt.xlabel('g-r')\n",
        "plt.ylabel('r-i')"
      ],
      "metadata": {
        "colab": {
          "base_uri": "https://localhost:8080/",
          "height": 466
        },
        "id": "PUQVvpizaNIK",
        "outputId": "4459a021-e92d-494e-a471-406e9f140ed5"
      },
      "execution_count": 42,
      "outputs": [
        {
          "output_type": "execute_result",
          "data": {
            "text/plain": [
              "Text(0, 0.5, 'r-i')"
            ]
          },
          "metadata": {},
          "execution_count": 42
        },
        {
          "output_type": "display_data",
          "data": {
            "text/plain": [
              "<Figure size 640x480 with 1 Axes>"
            ],
            "image/png": "[encoded data removed]"
          },
          "metadata": {}
        }
      ]
    },
    {
      "cell_type": "code",
      "source": [
        "from sklearn import manifold"
      ],
      "metadata": {
        "id": "N0fWlCxtb2qg"
      },
      "execution_count": 44,
      "outputs": []
    },
    {
      "cell_type": "code",
      "source": [
        "n_components = 2  # number of coordinates for the manifold"
      ],
      "metadata": {
        "id": "7Wp2QIaYcFCp"
      },
      "execution_count": 46,
      "outputs": []
    },
    {
      "cell_type": "code",
      "source": [
        "t_sne = manifold.TSNE(\n",
        "    n_components=n_components,\n",
        "    perplexity=30,\n",
        "    init=\"random\",\n",
        "    n_iter=250,\n",
        "    random_state=0,\n",
        ")"
      ],
      "metadata": {
        "id": "_-mj09kuaQjw"
      },
      "execution_count": 47,
      "outputs": []
    },
    {
      "cell_type": "code",
      "source": [
        "S_t_sne = t_sne.fit_transform(np.array(catalogs['LSST+CASTOR'].drop(labels = ['z_true', 'TLM_decile'], axis = 1))[best_galaxies])"
      ],
      "metadata": {
        "id": "gs7yfftFb-ZM"
      },
      "execution_count": 127,
      "outputs": []
    },
    {
      "cell_type": "code",
      "source": [
        "x,y = S_t_sne.T\n",
        "\n",
        "plt.scatter(x, y)"
      ],
      "metadata": {
        "colab": {
          "base_uri": "https://localhost:8080/",
          "height": 447
        },
        "id": "avmZmQGzchzT",
        "outputId": "17c97a09-cde7-4325-cffc-a1fafe00b0a6"
      },
      "execution_count": 128,
      "outputs": [
        {
          "output_type": "execute_result",
          "data": {
            "text/plain": [
              "<matplotlib.collections.PathCollection at 0x7e650307da20>"
            ]
          },
          "metadata": {},
          "execution_count": 128
        },
        {
          "output_type": "display_data",
          "data": {
            "text/plain": [
              "<Figure size 640x480 with 1 Axes>"
            ],
            "image/png": "[encoded data removed]"
          },
          "metadata": {}
        }
      ]
    },
    {
      "cell_type": "code",
      "source": [
        "colors = pd.qcut(flows['LSST+CASTOR'].log_prob(catalogs['LSST+CASTOR'])[best_galaxies], 10, labels = False) #change this to get deciles for the entire catalog and plot corresponding colors"
      ],
      "metadata": {
        "id": "KKfxYpIldJTA"
      },
      "execution_count": 110,
      "outputs": []
    },
    {
      "cell_type": "code",
      "source": [
        "def plot_2d(points, points_color, title):\n",
        "    fig, ax = plt.subplots(figsize=(3, 3), facecolor=\"white\", constrained_layout=True)\n",
        "    fig.suptitle(title, size=16)\n",
        "    add_2d_scatter(ax, points, points_color)\n",
        "    plt.show()\n",
        "\n",
        "\n",
        "def add_2d_scatter(ax, points, points_color, title=None):\n",
        "    x, y = points.T\n",
        "    ax.scatter(x, y, c=points_color, s=50, alpha=0.8)\n",
        "    ax.set_title(title)"
      ],
      "metadata": {
        "id": "nqQMZcz6dhAK"
      },
      "execution_count": 112,
      "outputs": []
    },
    {
      "cell_type": "code",
      "source": [
        "colors = np.array(catalogs['LSST+CASTOR']['TLM_decile'])[best_galaxies]\n",
        "\n",
        "plot_2d(S_t_sne, colors, 'best galaxies colored by TLM decile')"
      ],
      "metadata": {
        "colab": {
          "base_uri": "https://localhost:8080/",
          "height": 328
        },
        "id": "FJjRZtS1d9Vo",
        "outputId": "9bb45157-4b15-484f-e16f-ee287d4c6abb"
      },
      "execution_count": 131,
      "outputs": [
        {
          "output_type": "display_data",
          "data": {
            "text/plain": [
              "<Figure size 300x300 with 1 Axes>"
            ],
            "image/png": "[encoded data removed]"
          },
          "metadata": {}
        }
      ]
    },
    {
      "cell_type": "code",
      "source": [
        "colors = pd.qcut(flows['LSST+CASTOR'].log_prob(catalogs['LSST+CASTOR']), 10, labels = False)"
      ],
      "metadata": {
        "id": "bBMO_ZRCiUID"
      },
      "execution_count": 115,
      "outputs": []
    },
    {
      "cell_type": "code",
      "source": [
        "catalogs['LSST+CASTOR']['TLM_decile'] = colors"
      ],
      "metadata": {
        "id": "LVwu2LOvibr2"
      },
      "execution_count": 120,
      "outputs": []
    },
    {
      "cell_type": "code",
      "source": [
        "catalogs['LSST+CASTOR']"
      ],
      "metadata": {
        "colab": {
          "base_uri": "https://localhost:8080/",
          "height": 450
        },
        "id": "_b3OsfeAih4M",
        "outputId": "86595dff-08c0-4590-94ed-eb6e4fb03902"
      },
      "execution_count": 123,
      "outputs": [
        {
          "output_type": "execute_result",
          "data": {
            "text/plain": [
              "           z_true          r       g-r       r-i       i-z      uv-u  \\\n",
              "CASTOR_ID                                                              \n",
              "3          0.2211  23.259175  0.233539  0.022705 -0.005428 -0.081215   \n",
              "12         0.7070  24.580852  0.256711  0.638455  0.055040  0.274217   \n",
              "73         0.4290  22.664345  0.849034  0.207854  0.116569  0.540868   \n",
              "74         1.5087  23.744620  0.068058  0.050240 -0.009388  1.503954   \n",
              "85         1.0800  24.119466  0.139313  0.230962  0.423380  0.846885   \n",
              "...           ...        ...       ...       ...       ...       ...   \n",
              "964424     0.3275  20.315891  1.310021  0.486272  0.266220 -0.169152   \n",
              "964426     0.3230  23.775628  0.738462  0.247866  0.226397  0.701451   \n",
              "964427     1.4726  25.507346  2.642820  2.072411  0.918244 -0.684684   \n",
              "964428     1.2587  23.131750  0.215503  0.278632  0.447965  0.606193   \n",
              "964429     0.5593  23.418713  0.127887  0.138505 -0.061029 -0.067173   \n",
              "\n",
              "                u-g  TLM_decile  \n",
              "CASTOR_ID                        \n",
              "3          0.354974           7  \n",
              "12         0.072682           0  \n",
              "73         0.443804           3  \n",
              "74         0.277857           3  \n",
              "85         0.173584           5  \n",
              "...             ...         ...  \n",
              "964424     2.147752           4  \n",
              "964426     0.693045           6  \n",
              "964427     2.263595           0  \n",
              "964428     0.391128           1  \n",
              "964429    -0.208110           5  \n",
              "\n",
              "[108838 rows x 8 columns]"
            ],
            "text/html": [
              "\n",
              "  <div id=\"df-ae1d1c82-e151-452d-ad4a-7554ee4eb883\" class=\"colab-df-container\">\n",
              "    <div>\n",
              "<style scoped>\n",
              "    .dataframe tbody tr th:only-of-type {\n",
              "        vertical-align: middle;\n",
              "    }\n",
              "\n",
              "    .dataframe tbody tr th {\n",
              "        vertical-align: top;\n",
              "    }\n",
              "\n",
              "    .dataframe thead th {\n",
              "        text-align: right;\n",
              "    }\n",
              "</style>\n",
              "<table border=\"1\" class=\"dataframe\">\n",
              "  <thead>\n",
              "    <tr style=\"text-align: right;\">\n",
              "      <th></th>\n",
              "      <th>z_true</th>\n",
              "      <th>r</th>\n",
              "      <th>g-r</th>\n",
              "      <th>r-i</th>\n",
              "      <th>i-z</th>\n",
              "      <th>uv-u</th>\n",
              "      <th>u-g</th>\n",
              "      <th>TLM_decile</th>\n",
              "    </tr>\n",
              "    <tr>\n",
              "      <th>CASTOR_ID</th>\n",
              "      <th></th>\n",
              "      <th></th>\n",
              "      <th></th>\n",
              "      <th></th>\n",
              "      <th></th>\n",
              "      <th></th>\n",
              "      <th></th>\n",
              "      <th></th>\n",
              "    </tr>\n",
              "  </thead>\n",
              "  <tbody>\n",
              "    <tr>\n",
              "      <th>3</th>\n",
              "      <td>0.2211</td>\n",
              "      <td>23.259175</td>\n",
              "      <td>0.233539</td>\n",
              "      <td>0.022705</td>\n",
              "      <td>-0.005428</td>\n",
              "      <td>-0.081215</td>\n",
              "      <td>0.354974</td>\n",
              "      <td>7</td>\n",
              "    </tr>\n",
              "    <tr>\n",
              "      <th>12</th>\n",
              "      <td>0.7070</td>\n",
              "      <td>24.580852</td>\n",
              "      <td>0.256711</td>\n",
              "      <td>0.638455</td>\n",
              "      <td>0.055040</td>\n",
              "      <td>0.274217</td>\n",
              "      <td>0.072682</td>\n",
              "      <td>0</td>\n",
              "    </tr>\n",
              "    <tr>\n",
              "      <th>73</th>\n",
              "      <td>0.4290</td>\n",
              "      <td>22.664345</td>\n",
              "      <td>0.849034</td>\n",
              "      <td>0.207854</td>\n",
              "      <td>0.116569</td>\n",
              "      <td>0.540868</td>\n",
              "      <td>0.443804</td>\n",
              "      <td>3</td>\n",
              "    </tr>\n",
              "    <tr>\n",
              "      <th>74</th>\n",
              "      <td>1.5087</td>\n",
              "      <td>23.744620</td>\n",
              "      <td>0.068058</td>\n",
              "      <td>0.050240</td>\n",
              "      <td>-0.009388</td>\n",
              "      <td>1.503954</td>\n",
              "      <td>0.277857</td>\n",
              "      <td>3</td>\n",
              "    </tr>\n",
              "    <tr>\n",
              "      <th>85</th>\n",
              "      <td>1.0800</td>\n",
              "      <td>24.119466</td>\n",
              "      <td>0.139313</td>\n",
              "      <td>0.230962</td>\n",
              "      <td>0.423380</td>\n",
              "      <td>0.846885</td>\n",
              "      <td>0.173584</td>\n",
              "      <td>5</td>\n",
              "    </tr>\n",
              "    <tr>\n",
              "      <th>...</th>\n",
              "      <td>...</td>\n",
              "      <td>...</td>\n",
              "      <td>...</td>\n",
              "      <td>...</td>\n",
              "      <td>...</td>\n",
              "      <td>...</td>\n",
              "      <td>...</td>\n",
              "      <td>...</td>\n",
              "    </tr>\n",
              "    <tr>\n",
              "      <th>964424</th>\n",
              "      <td>0.3275</td>\n",
              "      <td>20.315891</td>\n",
              "      <td>1.310021</td>\n",
              "      <td>0.486272</td>\n",
              "      <td>0.266220</td>\n",
              "      <td>-0.169152</td>\n",
              "      <td>2.147752</td>\n",
              "      <td>4</td>\n",
              "    </tr>\n",
              "    <tr>\n",
              "      <th>964426</th>\n",
              "      <td>0.3230</td>\n",
              "      <td>23.775628</td>\n",
              "      <td>0.738462</td>\n",
              "      <td>0.247866</td>\n",
              "      <td>0.226397</td>\n",
              "      <td>0.701451</td>\n",
              "      <td>0.693045</td>\n",
              "      <td>6</td>\n",
              "    </tr>\n",
              "    <tr>\n",
              "      <th>964427</th>\n",
              "      <td>1.4726</td>\n",
              "      <td>25.507346</td>\n",
              "      <td>2.642820</td>\n",
              "      <td>2.072411</td>\n",
              "      <td>0.918244</td>\n",
              "      <td>-0.684684</td>\n",
              "      <td>2.263595</td>\n",
              "      <td>0</td>\n",
              "    </tr>\n",
              "    <tr>\n",
              "      <th>964428</th>\n",
              "      <td>1.2587</td>\n",
              "      <td>23.131750</td>\n",
              "      <td>0.215503</td>\n",
              "      <td>0.278632</td>\n",
              "      <td>0.447965</td>\n",
              "      <td>0.606193</td>\n",
              "      <td>0.391128</td>\n",
              "      <td>1</td>\n",
              "    </tr>\n",
              "    <tr>\n",
              "      <th>964429</th>\n",
              "      <td>0.5593</td>\n",
              "      <td>23.418713</td>\n",
              "      <td>0.127887</td>\n",
              "      <td>0.138505</td>\n",
              "      <td>-0.061029</td>\n",
              "      <td>-0.067173</td>\n",
              "      <td>-0.208110</td>\n",
              "      <td>5</td>\n",
              "    </tr>\n",
              "  </tbody>\n",
              "</table>\n",
              "<p>108838 rows × 8 columns</p>\n",
              "</div>\n",
              "    <div class=\"colab-df-buttons\">\n",
              "\n",
              "  <div class=\"colab-df-container\">\n",
              "    <button class=\"colab-df-convert\" onclick=\"convertToInteractive('df-ae1d1c82-e151-452d-ad4a-7554ee4eb883')\"\n",
              "            title=\"Convert this dataframe to an interactive table.\"\n",
              "            style=\"display:none;\">\n",
              "\n",
              "  <svg xmlns=\"http://www.w3.org/2000/svg\" height=\"24px\" viewBox=\"0 -960 960 960\">\n",
              "    <path d=\"M120-120v-720h720v720H120Zm60-500h600v-160H180v160Zm220 220h160v-160H400v160Zm0 220h160v-160H400v160ZM180-400h160v-160H180v160Zm440 0h160v-160H620v160ZM180-180h160v-160H180v160Zm440 0h160v-160H620v160Z\"/>\n",
              "  </svg>\n",
              "    </button>\n",
              "\n",
              "  <style>\n",
              "    .colab-df-container {\n",
              "      display:flex;\n",
              "      gap: 12px;\n",
              "    }\n",
              "\n",
              "    .colab-df-convert {\n",
              "      background-color: #E8F0FE;\n",
              "      border: none;\n",
              "      border-radius: 50%;\n",
              "      cursor: pointer;\n",
              "      display: none;\n",
              "      fill: #1967D2;\n",
              "      height: 32px;\n",
              "      padding: 0 0 0 0;\n",
              "      width: 32px;\n",
              "    }\n",
              "\n",
              "    .colab-df-convert:hover {\n",
              "      background-color: #E2EBFA;\n",
              "      box-shadow: 0px 1px 2px rgba(60, 64, 67, 0.3), 0px 1px 3px 1px rgba(60, 64, 67, 0.15);\n",
              "      fill: #174EA6;\n",
              "    }\n",
              "\n",
              "    .colab-df-buttons div {\n",
              "      margin-bottom: 4px;\n",
              "    }\n",
              "\n",
              "    [theme=dark] .colab-df-convert {\n",
              "      background-color: #3B4455;\n",
              "      fill: #D2E3FC;\n",
              "    }\n",
              "\n",
              "    [theme=dark] .colab-df-convert:hover {\n",
              "      background-color: #434B5C;\n",
              "      box-shadow: 0px 1px 3px 1px rgba(0, 0, 0, 0.15);\n",
              "      filter: drop-shadow(0px 1px 2px rgba(0, 0, 0, 0.3));\n",
              "      fill: #FFFFFF;\n",
              "    }\n",
              "  </style>\n",
              "\n",
              "    <script>\n",
              "      const buttonEl =\n",
              "        document.querySelector('#df-ae1d1c82-e151-452d-ad4a-7554ee4eb883 button.colab-df-convert');\n",
              "      buttonEl.style.display =\n",
              "        google.colab.kernel.accessAllowed ? 'block' : 'none';\n",
              "\n",
              "      async function convertToInteractive(key) {\n",
              "        const element = document.querySelector('#df-ae1d1c82-e151-452d-ad4a-7554ee4eb883');\n",
              "        const dataTable =\n",
              "          await google.colab.kernel.invokeFunction('convertToInteractive',\n",
              "                                                    [key], {});\n",
              "        if (!dataTable) return;\n",
              "\n",
              "        const docLinkHtml = 'Like what you see? Visit the ' +\n",
              "          '<a target=\"_blank\" href=https://colab.research.google.com/notebooks/data_table.ipynb>data table notebook</a>'\n",
              "          + ' to learn more about interactive tables.';\n",
              "        element.innerHTML = '';\n",
              "        dataTable['output_type'] = 'display_data';\n",
              "        await google.colab.output.renderOutput(dataTable, element);\n",
              "        const docLink = document.createElement('div');\n",
              "        docLink.innerHTML = docLinkHtml;\n",
              "        element.appendChild(docLink);\n",
              "      }\n",
              "    </script>\n",
              "  </div>\n",
              "\n",
              "\n",
              "<div id=\"df-dfa1acbd-d780-4e63-8447-56d4b2c6de01\">\n",
              "  <button class=\"colab-df-quickchart\" onclick=\"quickchart('df-dfa1acbd-d780-4e63-8447-56d4b2c6de01')\"\n",
              "            title=\"Suggest charts.\"\n",
              "            style=\"display:none;\">\n",
              "\n",
              "<svg xmlns=\"http://www.w3.org/2000/svg\" height=\"24px\"viewBox=\"0 0 24 24\"\n",
              "     width=\"24px\">\n",
              "    <g>\n",
              "        <path d=\"M19 3H5c-1.1 0-2 .9-2 2v14c0 1.1.9 2 2 2h14c1.1 0 2-.9 2-2V5c0-1.1-.9-2-2-2zM9 17H7v-7h2v7zm4 0h-2V7h2v10zm4 0h-2v-4h2v4z\"/>\n",
              "    </g>\n",
              "</svg>\n",
              "  </button>\n",
              "\n",
              "<style>\n",
              "  .colab-df-quickchart {\n",
              "      --bg-color: #E8F0FE;\n",
              "      --fill-color: #1967D2;\n",
              "      --hover-bg-color: #E2EBFA;\n",
              "      --hover-fill-color: #174EA6;\n",
              "      --disabled-fill-color: #AAA;\n",
              "      --disabled-bg-color: #DDD;\n",
              "  }\n",
              "\n",
              "  [theme=dark] .colab-df-quickchart {\n",
              "      --bg-color: #3B4455;\n",
              "      --fill-color: #D2E3FC;\n",
              "      --hover-bg-color: #434B5C;\n",
              "      --hover-fill-color: #FFFFFF;\n",
              "      --disabled-bg-color: #3B4455;\n",
              "      --disabled-fill-color: #666;\n",
              "  }\n",
              "\n",
              "  .colab-df-quickchart {\n",
              "    background-color: var(--bg-color);\n",
              "    border: none;\n",
              "    border-radius: 50%;\n",
              "    cursor: pointer;\n",
              "    display: none;\n",
              "    fill: var(--fill-color);\n",
              "    height: 32px;\n",
              "    padding: 0;\n",
              "    width: 32px;\n",
              "  }\n",
              "\n",
              "  .colab-df-quickchart:hover {\n",
              "    background-color: var(--hover-bg-color);\n",
              "    box-shadow: 0 1px 2px rgba(60, 64, 67, 0.3), 0 1px 3px 1px rgba(60, 64, 67, 0.15);\n",
              "    fill: var(--button-hover-fill-color);\n",
              "  }\n",
              "\n",
              "  .colab-df-quickchart-complete:disabled,\n",
              "  .colab-df-quickchart-complete:disabled:hover {\n",
              "    background-color: var(--disabled-bg-color);\n",
              "    fill: var(--disabled-fill-color);\n",
              "    box-shadow: none;\n",
              "  }\n",
              "\n",
              "  .colab-df-spinner {\n",
              "    border: 2px solid var(--fill-color);\n",
              "    border-color: transparent;\n",
              "    border-bottom-color: var(--fill-color);\n",
              "    animation:\n",
              "      spin 1s steps(1) infinite;\n",
              "  }\n",
              "\n",
              "  @keyframes spin {\n",
              "    0% {\n",
              "      border-color: transparent;\n",
              "      border-bottom-color: var(--fill-color);\n",
              "      border-left-color: var(--fill-color);\n",
              "    }\n",
              "    20% {\n",
              "      border-color: transparent;\n",
              "      border-left-color: var(--fill-color);\n",
              "      border-top-color: var(--fill-color);\n",
              "    }\n",
              "    30% {\n",
              "      border-color: transparent;\n",
              "      border-left-color: var(--fill-color);\n",
              "      border-top-color: var(--fill-color);\n",
              "      border-right-color: var(--fill-color);\n",
              "    }\n",
              "    40% {\n",
              "      border-color: transparent;\n",
              "      border-right-color: var(--fill-color);\n",
              "      border-top-color: var(--fill-color);\n",
              "    }\n",
              "    60% {\n",
              "      border-color: transparent;\n",
              "      border-right-color: var(--fill-color);\n",
              "    }\n",
              "    80% {\n",
              "      border-color: transparent;\n",
              "      border-right-color: var(--fill-color);\n",
              "      border-bottom-color: var(--fill-color);\n",
              "    }\n",
              "    90% {\n",
              "      border-color: transparent;\n",
              "      border-bottom-color: var(--fill-color);\n",
              "    }\n",
              "  }\n",
              "</style>\n",
              "\n",
              "  <script>\n",
              "    async function quickchart(key) {\n",
              "      const quickchartButtonEl =\n",
              "        document.querySelector('#' + key + ' button');\n",
              "      quickchartButtonEl.disabled = true;  // To prevent multiple clicks.\n",
              "      quickchartButtonEl.classList.add('colab-df-spinner');\n",
              "      try {\n",
              "        const charts = await google.colab.kernel.invokeFunction(\n",
              "            'suggestCharts', [key], {});\n",
              "      } catch (error) {\n",
              "        console.error('Error during call to suggestCharts:', error);\n",
              "      }\n",
              "      quickchartButtonEl.classList.remove('colab-df-spinner');\n",
              "      quickchartButtonEl.classList.add('colab-df-quickchart-complete');\n",
              "    }\n",
              "    (() => {\n",
              "      let quickchartButtonEl =\n",
              "        document.querySelector('#df-dfa1acbd-d780-4e63-8447-56d4b2c6de01 button');\n",
              "      quickchartButtonEl.style.display =\n",
              "        google.colab.kernel.accessAllowed ? 'block' : 'none';\n",
              "    })();\n",
              "  </script>\n",
              "</div>\n",
              "    </div>\n",
              "  </div>\n"
            ]
          },
          "metadata": {},
          "execution_count": 123
        }
      ]
    },
    {
      "cell_type": "code",
      "source": [
        "flows['LSST+CASTOR']"
      ],
      "metadata": {
        "colab": {
          "base_uri": "https://localhost:8080/"
        },
        "id": "mV2F7pY5im4F",
        "outputId": "4d4aa800-4bae-42ac-d6cf-9b3527f067c0"
      },
      "execution_count": 133,
      "outputs": [
        {
          "output_type": "execute_result",
          "data": {
            "text/plain": [
              "<pzflow.flowEnsemble.FlowEnsemble at 0x7e65333a14b0>"
            ]
          },
          "metadata": {},
          "execution_count": 133
        }
      ]
    },
    {
      "cell_type": "code",
      "source": [],
      "metadata": {
        "id": "0ZTj_PCJjry1"
      },
      "execution_count": null,
      "outputs": []
    }
  ]
}