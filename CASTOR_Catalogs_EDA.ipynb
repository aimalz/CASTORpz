{
  "nbformat": 4,
  "nbformat_minor": 0,
  "metadata": {
    "colab": {
      "provenance": [],
      "authorship_tag": "ABX9TyOU9mxfJtBVza7xitXf80Qo",
      "include_colab_link": true
    },
    "kernelspec": {
      "name": "python3",
      "display_name": "Python 3"
    },
    "language_info": {
      "name": "python"
    }
  },
  "cells": [
    {
      "cell_type": "markdown",
      "metadata": {
        "id": "view-in-github",
        "colab_type": "text"
      },
      "source": [
        "<a href=\"https://colab.research.google.com/github/aimalz/CASTORpz/blob/main/CASTOR_Catalogs_EDA.ipynb\" target=\"_parent\"><img src=\"https://colab.research.google.com/assets/colab-badge.svg\" alt=\"Open In Colab\"/></a>"
      ]
    },
    {
      "cell_type": "markdown",
      "source": [
        "# CASTOR Survey Combinations Data Quality Explorations\n",
        "### Mo Surveys, Mo Problems\n",
        "\n",
        "*Bryan Scott, Northwestern University*\n",
        "\n",
        "*Alex Malz, Carnegie Mellon University*"
      ],
      "metadata": {
        "id": "JHpsSY6TzfBI"
      }
    },
    {
      "cell_type": "code",
      "source": [
        "from google.colab import drive\n",
        "drive.mount('/content/drive')"
      ],
      "metadata": {
        "id": "P9ScjvW6K--M",
        "outputId": "95620378-9770-4c79-b190-5bd0c90828d2",
        "colab": {
          "base_uri": "https://localhost:8080/"
        }
      },
      "execution_count": 1,
      "outputs": [
        {
          "output_type": "stream",
          "name": "stdout",
          "text": [
            "Mounted at /content/drive\n"
          ]
        }
      ]
    },
    {
      "cell_type": "code",
      "source": [
        "cd /content/drive/MyDrive/Research/CASTORpz"
      ],
      "metadata": {
        "id": "AIt3xNrROef2",
        "outputId": "b2e6f892-53e1-4125-f5a3-4e0d6e23e2dd",
        "colab": {
          "base_uri": "https://localhost:8080/"
        }
      },
      "execution_count": 2,
      "outputs": [
        {
          "output_type": "stream",
          "name": "stdout",
          "text": [
            "/content/drive/MyDrive/Research/CASTORpz\n"
          ]
        }
      ]
    },
    {
      "cell_type": "code",
      "source": [
        "from astropy.table import Table\n",
        "prepend = '/content/drive/MyDrive/Research/CASTORpz/'\n",
        "unp = Table.read(prepend+\"unperturbed_mags.fits\")\n",
        "print(len(unp))"
      ],
      "metadata": {
        "id": "tpLREN_EM6hg",
        "outputId": "3af20dbf-bc2c-4013-9009-4f128aa063f5",
        "colab": {
          "base_uri": "https://localhost:8080/"
        }
      },
      "execution_count": 3,
      "outputs": [
        {
          "output_type": "stream",
          "name": "stdout",
          "text": [
            "698211\n"
          ]
        }
      ]
    },
    {
      "cell_type": "code",
      "source": [
        "# !pip install --upgrade \"jax[cuda]\" -f https://storage.googleapis.com/jax-releases/jax_cuda_releases.html\n",
        "!pip install jaxlib==0.4.16\n",
        "!pip install jax==0.4.16\n",
        "\n",
        "# jaxlib==0.3.22+cuda11.cudnn82\n",
        "\n",
        "# !pip install jax[cuda]==0.4.17+cuda12.cudnn89 -f https://storage.googleapis.com/jax-releases/jax_cuda_releases.html\n",
        "\n",
        "# !pip install \"jax[cuda]\"==0.4.16\n",
        "!nvcc --version"
      ],
      "metadata": {
        "id": "3u5XpOo5PdZF",
        "outputId": "8288ea18-c9c5-46c7-ae2c-49fecddb2755",
        "colab": {
          "base_uri": "https://localhost:8080/"
        }
      },
      "execution_count": 4,
      "outputs": [
        {
          "output_type": "stream",
          "name": "stdout",
          "text": [
            "Collecting jaxlib==0.4.16\n",
            "  Downloading jaxlib-0.4.16-cp310-cp310-manylinux2014_x86_64.whl (84.5 MB)\n",
            "\u001b[2K     \u001b[90m━━━━━━━━━━━━━━━━━━━━━━━━━━━━━━━━━━━━━━━━\u001b[0m \u001b[32m84.5/84.5 MB\u001b[0m \u001b[31m7.4 MB/s\u001b[0m eta \u001b[36m0:00:00\u001b[0m\n",
            "\u001b[?25hRequirement already satisfied: scipy>=1.7 in /usr/local/lib/python3.10/dist-packages (from jaxlib==0.4.16) (1.11.4)\n",
            "Requirement already satisfied: numpy>=1.22 in /usr/local/lib/python3.10/dist-packages (from jaxlib==0.4.16) (1.25.2)\n",
            "Requirement already satisfied: ml-dtypes>=0.2.0 in /usr/local/lib/python3.10/dist-packages (from jaxlib==0.4.16) (0.2.0)\n",
            "Installing collected packages: jaxlib\n",
            "  Attempting uninstall: jaxlib\n",
            "    Found existing installation: jaxlib 0.4.26+cuda12.cudnn89\n",
            "    Uninstalling jaxlib-0.4.26+cuda12.cudnn89:\n",
            "      Successfully uninstalled jaxlib-0.4.26+cuda12.cudnn89\n",
            "Successfully installed jaxlib-0.4.16\n",
            "Collecting jax==0.4.16\n",
            "  Downloading jax-0.4.16-py3-none-any.whl (1.6 MB)\n",
            "\u001b[2K     \u001b[90m━━━━━━━━━━━━━━━━━━━━━━━━━━━━━━━━━━━━━━━━\u001b[0m \u001b[32m1.6/1.6 MB\u001b[0m \u001b[31m11.4 MB/s\u001b[0m eta \u001b[36m0:00:00\u001b[0m\n",
            "\u001b[?25hRequirement already satisfied: ml-dtypes>=0.2.0 in /usr/local/lib/python3.10/dist-packages (from jax==0.4.16) (0.2.0)\n",
            "Requirement already satisfied: numpy>=1.22 in /usr/local/lib/python3.10/dist-packages (from jax==0.4.16) (1.25.2)\n",
            "Requirement already satisfied: opt-einsum in /usr/local/lib/python3.10/dist-packages (from jax==0.4.16) (3.3.0)\n",
            "Requirement already satisfied: scipy>=1.7 in /usr/local/lib/python3.10/dist-packages (from jax==0.4.16) (1.11.4)\n",
            "Installing collected packages: jax\n",
            "  Attempting uninstall: jax\n",
            "    Found existing installation: jax 0.4.26\n",
            "    Uninstalling jax-0.4.26:\n",
            "      Successfully uninstalled jax-0.4.26\n",
            "\u001b[31mERROR: pip's dependency resolver does not currently take into account all the packages that are installed. This behaviour is the source of the following dependency conflicts.\n",
            "flax 0.8.3 requires jax>=0.4.19, but you have jax 0.4.16 which is incompatible.\u001b[0m\u001b[31m\n",
            "\u001b[0mSuccessfully installed jax-0.4.16\n",
            "nvcc: NVIDIA (R) Cuda compiler driver\n",
            "Copyright (c) 2005-2023 NVIDIA Corporation\n",
            "Built on Tue_Aug_15_22:02:13_PDT_2023\n",
            "Cuda compilation tools, release 12.2, V12.2.140\n",
            "Build cuda_12.2.r12.2/compiler.33191640_0\n"
          ]
        }
      ]
    },
    {
      "cell_type": "code",
      "source": [
        "!pip install astropy pzflow corner"
      ],
      "metadata": {
        "colab": {
          "base_uri": "https://localhost:8080/"
        },
        "id": "y2Ay_SxlVWLA",
        "outputId": "93819b16-4702-4f26-e861-32dc4a01a330"
      },
      "execution_count": 5,
      "outputs": [
        {
          "output_type": "stream",
          "name": "stdout",
          "text": [
            "Requirement already satisfied: astropy in /usr/local/lib/python3.10/dist-packages (5.3.4)\n",
            "Collecting pzflow\n",
            "  Downloading pzflow-3.1.3-py3-none-any.whl (8.7 MB)\n",
            "\u001b[2K     \u001b[90m━━━━━━━━━━━━━━━━━━━━━━━━━━━━━━━━━━━━━━━━\u001b[0m \u001b[32m8.7/8.7 MB\u001b[0m \u001b[31m8.9 MB/s\u001b[0m eta \u001b[36m0:00:00\u001b[0m\n",
            "\u001b[?25hCollecting corner\n",
            "  Downloading corner-2.2.2-py3-none-any.whl (15 kB)\n",
            "Requirement already satisfied: numpy<2,>=1.21 in /usr/local/lib/python3.10/dist-packages (from astropy) (1.25.2)\n",
            "Requirement already satisfied: pyerfa>=2.0 in /usr/local/lib/python3.10/dist-packages (from astropy) (2.0.1.4)\n",
            "Requirement already satisfied: PyYAML>=3.13 in /usr/local/lib/python3.10/dist-packages (from astropy) (6.0.1)\n",
            "Requirement already satisfied: packaging>=19.0 in /usr/local/lib/python3.10/dist-packages (from astropy) (24.0)\n",
            "Collecting dill>=0.3.6 (from pzflow)\n",
            "  Downloading dill-0.3.8-py3-none-any.whl (116 kB)\n",
            "\u001b[2K     \u001b[90m━━━━━━━━━━━━━━━━━━━━━━━━━━━━━━━━━━━━━━━━\u001b[0m \u001b[32m116.3/116.3 kB\u001b[0m \u001b[31m14.2 MB/s\u001b[0m eta \u001b[36m0:00:00\u001b[0m\n",
            "\u001b[?25hRequirement already satisfied: jax>=0.4.16 in /usr/local/lib/python3.10/dist-packages (from pzflow) (0.4.16)\n",
            "Requirement already satisfied: jaxlib>=0.4.16 in /usr/local/lib/python3.10/dist-packages (from pzflow) (0.4.16)\n",
            "Requirement already satisfied: optax>=0.1.4 in /usr/local/lib/python3.10/dist-packages (from pzflow) (0.2.2)\n",
            "Requirement already satisfied: pandas>=1.1 in /usr/local/lib/python3.10/dist-packages (from pzflow) (2.0.3)\n",
            "Requirement already satisfied: tqdm>=4.64.1 in /usr/local/lib/python3.10/dist-packages (from pzflow) (4.66.2)\n",
            "Requirement already satisfied: matplotlib>=2.1 in /usr/local/lib/python3.10/dist-packages (from corner) (3.7.1)\n",
            "Requirement already satisfied: ml-dtypes>=0.2.0 in /usr/local/lib/python3.10/dist-packages (from jax>=0.4.16->pzflow) (0.2.0)\n",
            "Requirement already satisfied: opt-einsum in /usr/local/lib/python3.10/dist-packages (from jax>=0.4.16->pzflow) (3.3.0)\n",
            "Requirement already satisfied: scipy>=1.7 in /usr/local/lib/python3.10/dist-packages (from jax>=0.4.16->pzflow) (1.11.4)\n",
            "Requirement already satisfied: contourpy>=1.0.1 in /usr/local/lib/python3.10/dist-packages (from matplotlib>=2.1->corner) (1.2.1)\n",
            "Requirement already satisfied: cycler>=0.10 in /usr/local/lib/python3.10/dist-packages (from matplotlib>=2.1->corner) (0.12.1)\n",
            "Requirement already satisfied: fonttools>=4.22.0 in /usr/local/lib/python3.10/dist-packages (from matplotlib>=2.1->corner) (4.51.0)\n",
            "Requirement already satisfied: kiwisolver>=1.0.1 in /usr/local/lib/python3.10/dist-packages (from matplotlib>=2.1->corner) (1.4.5)\n",
            "Requirement already satisfied: pillow>=6.2.0 in /usr/local/lib/python3.10/dist-packages (from matplotlib>=2.1->corner) (9.4.0)\n",
            "Requirement already satisfied: pyparsing>=2.3.1 in /usr/local/lib/python3.10/dist-packages (from matplotlib>=2.1->corner) (3.1.2)\n",
            "Requirement already satisfied: python-dateutil>=2.7 in /usr/local/lib/python3.10/dist-packages (from matplotlib>=2.1->corner) (2.8.2)\n",
            "Requirement already satisfied: absl-py>=0.7.1 in /usr/local/lib/python3.10/dist-packages (from optax>=0.1.4->pzflow) (1.4.0)\n",
            "Requirement already satisfied: chex>=0.1.86 in /usr/local/lib/python3.10/dist-packages (from optax>=0.1.4->pzflow) (0.1.86)\n",
            "Requirement already satisfied: pytz>=2020.1 in /usr/local/lib/python3.10/dist-packages (from pandas>=1.1->pzflow) (2023.4)\n",
            "Requirement already satisfied: tzdata>=2022.1 in /usr/local/lib/python3.10/dist-packages (from pandas>=1.1->pzflow) (2024.1)\n",
            "Requirement already satisfied: typing-extensions>=4.2.0 in /usr/local/lib/python3.10/dist-packages (from chex>=0.1.86->optax>=0.1.4->pzflow) (4.11.0)\n",
            "Requirement already satisfied: toolz>=0.9.0 in /usr/local/lib/python3.10/dist-packages (from chex>=0.1.86->optax>=0.1.4->pzflow) (0.12.1)\n",
            "Requirement already satisfied: six>=1.5 in /usr/local/lib/python3.10/dist-packages (from python-dateutil>=2.7->matplotlib>=2.1->corner) (1.16.0)\n",
            "Installing collected packages: dill, corner, pzflow\n",
            "Successfully installed corner-2.2.2 dill-0.3.8 pzflow-3.1.3\n"
          ]
        }
      ]
    },
    {
      "cell_type": "code",
      "source": [
        "from pzflow import Flow\n",
        "import jax.numpy as jnp\n",
        "import pandas as pd\n",
        "import numpy as np\n",
        "import pickle\n",
        "import corner\n",
        "import matplotlib.pyplot as plt\n",
        "from astropy.table import Table\n",
        "from pzflow import Flow, FlowEnsemble\n",
        "from pzflow.distributions import Uniform\n",
        "from pzflow.bijectors import Chain, StandardScaler, NeuralSplineCoupling, ColorTransform, InvSoftplus, RollingSplineCoupling, ShiftBounds"
      ],
      "metadata": {
        "id": "A_-243XtQsTp"
      },
      "execution_count": 6,
      "outputs": []
    },
    {
      "cell_type": "markdown",
      "source": [
        "# Routine to Load Data in Appropriate format for consistency across simulated photometry."
      ],
      "metadata": {
        "id": "B5lzE6EyWoGj"
      }
    },
    {
      "cell_type": "code",
      "source": [
        "# load data\n",
        "def getTrueY(test_cat, mag_col_names, y_col_name):\n",
        "    test_cat = Table(test_cat, masked=True, copy=True)\n",
        "    # remove nans\n",
        "    for col in mag_col_names:\n",
        "        test_cat[col].mask = np.isnan(test_cat[col].data) | test_cat[col].mask\n",
        "        test_cat = test_cat[~test_cat[col].mask] # then remove nans from test set\n",
        "\n",
        "    true_y = test_cat[y_col_name]\n",
        "    return true_y.filled()"
      ],
      "metadata": {
        "id": "bOIAJea1Q8sv"
      },
      "execution_count": 7,
      "outputs": []
    },
    {
      "cell_type": "code",
      "source": [
        "unp = Table.read(prepend+\"unperturbed_mags.fits\").to_pandas()#.set_index('ID')\n",
        "mock = Table.read(prepend+\"ext_phot.fits\").to_pandas()#.set_index('ID')\n",
        "\n",
        "names_phot = [\"ID\", \"photoz\",\n",
        "              \"LSST_g_MAG\", \"LSST_g_MAGERR\",\n",
        "              \"LSST_r_MAG\", \"LSST_r_MAGERR\",\n",
        "              \"LSST_i_MAG\", \"LSST_i_MAGERR\",\n",
        "              \"LSST_z_MAG\", \"LSST_z_MAGERR\",\n",
        "              \"castor_uv_MAG\", \"castor_uv_MAGERR\",\n",
        "              \"castor_u_MAG\", \"castor_u_MAGERR\",\n",
        "              \"castor_g_MAG\", \"castor_g_MAGERR\",\n",
        "              \"Euclid_VIS_MAG\",\n",
        "              'Euclid_Y_MAG','Euclid_J_MAG','Euclid_H_MAG',\n",
        "              'Roman_106_MAG',\n",
        "              'Roman_129_MAG','Roman_158_MAG',\n",
        "              'Roman_184_MAG']"
      ],
      "metadata": {
        "id": "3SepdKoDelaP"
      },
      "execution_count": 8,
      "outputs": []
    },
    {
      "cell_type": "code",
      "source": [
        "os_combo_labels = {'LSST-only': 'LSST',\n",
        "                  'CASTOR-only': 'CASTOR',\n",
        "                  'Roman-only': 'Roman',\n",
        "                  'Euclid-only': 'Euclid',\n",
        "                  'LSST+CASTOR': 'LSST+CASTOR',\n",
        "                  'Euclid+LSST': 'LSST+Euclid',\n",
        "                  'Roman+LSST': 'LSST+Roman',\n",
        "                  'Euclid+CASTOR': 'Euclid+CASTOR',\n",
        "                  'Roman+CASTOR': 'Roman+CASTOR',\n",
        "                  # 'Euclid+Roman': 'Euclid+Roman',\n",
        "                  # 'Roman+LSST+CASTOR' : 'LSST+Roman+CASTOR',\n",
        "                  # 'Roman+Euclid+CASTOR': 'Roman+Euclid+CASTOR',\n",
        "                  'Euclid+LSST+CASTOR': 'LSST+Euclid+CASTOR',\n",
        "                  # 'Roman+Euclid+LSST': 'LSST+Roman+Euclid',\n",
        "                  'Roman+Euclid+LSST+CASTOR': 'LSST+Roman+Euclid+CASTOR'}\n",
        "\n",
        "available_os = os_combo_labels.keys()\n"
      ],
      "metadata": {
        "id": "EoFJ8qp_emNI"
      },
      "execution_count": 9,
      "outputs": []
    },
    {
      "cell_type": "code",
      "source": [
        "mock_cat = pd.merge(mock, unp[['ID',\"Euclid_VIS_MAG\"]], on='ID')\n",
        "# CASTOR_baseline = Table.from_pandas(mock_cat)\n",
        "CASTOR_baseline = Table.from_pandas(mock_cat[(mock_cat[\"Euclid_VIS_MAG\"] <= 24.5) & (mock_cat[\"LSST_r_MAG\"] >= 17.5)]) # apply magnitude limit cuts"
      ],
      "metadata": {
        "id": "ZY3fxzpcepgK"
      },
      "execution_count": 10,
      "outputs": []
    },
    {
      "cell_type": "code",
      "source": [
        "\n",
        "# put data in expected format for TLM\n",
        "\n",
        "LSST_g_mag = getTrueY(test_cat=CASTOR_baseline, mag_col_names=names_phot, y_col_name=\"LSST_g_MAG\")\n",
        "LSST_r_mag = getTrueY(test_cat=CASTOR_baseline, mag_col_names=names_phot, y_col_name=\"LSST_r_MAG\")\n",
        "LSST_i_mag = getTrueY(test_cat=CASTOR_baseline, mag_col_names=names_phot, y_col_name=\"LSST_i_MAG\")\n",
        "LSST_z_mag = getTrueY(test_cat=CASTOR_baseline, mag_col_names=names_phot, y_col_name=\"LSST_z_MAG\")\n",
        "\n",
        "# LSST_g_mag_ERR = getTrueY(test_cat=CASTOR_baseline, mag_col_names=names_phot, y_col_name=\"LSST_g_MAGERR\")\n",
        "# LSST_r_mag_ERR = getTrueY(test_cat=CASTOR_baseline, mag_col_names=names_phot, y_col_name=\"LSST_r_MAGERR\")\n",
        "# LSST_i_mag_ERR = getTrueY(test_cat=CASTOR_baseline, mag_col_names=names_phot, y_col_name=\"LSST_i_MAGERR\")\n",
        "# LSST_z_mag_ERR = getTrueY(test_cat=CASTOR_baseline, mag_col_names=names_phot, y_col_name=\"LSST_z_MAGERR\")\n",
        "\n",
        "CASTOR_g_mag = getTrueY(test_cat=CASTOR_baseline, mag_col_names=names_phot, y_col_name=\"castor_g_MAG\")\n",
        "CASTOR_u_mag = getTrueY(test_cat=CASTOR_baseline, mag_col_names=names_phot, y_col_name=\"castor_u_MAG\")\n",
        "CASTOR_uv_mag = getTrueY(test_cat=CASTOR_baseline, mag_col_names=names_phot, y_col_name=\"castor_uv_MAG\")\n",
        "\n",
        "# CASTOR_g_mag_ERR = getTrueY(test_cat=CASTOR_baseline, mag_col_names=names_phot, y_col_name=\"castor_g_MAGERR\")\n",
        "# CASTOR_u_mag_ERR = getTrueY(test_cat=CASTOR_baseline, mag_col_names=names_phot, y_col_name=\"castor_u_MAGERR\")\n",
        "# CASTOR_uv_mag_ERR = getTrueY(test_cat=CASTOR_baseline, mag_col_names=names_phot, y_col_name=\"castor_uv_MAGERR\")\n",
        "\n",
        "Euclid_VIS_mag = getTrueY(test_cat=CASTOR_baseline, mag_col_names=names_phot, y_col_name=\"Euclid_VIS_MAG\")\n",
        "Euclid_J_mag = getTrueY(test_cat=CASTOR_baseline, mag_col_names=names_phot, y_col_name=\"Euclid_J_MAG\")\n",
        "Euclid_H_mag = getTrueY(test_cat=CASTOR_baseline, mag_col_names=names_phot, y_col_name=\"Euclid_H_MAG\")\n",
        "Euclid_Y_mag = getTrueY(test_cat=CASTOR_baseline, mag_col_names=names_phot, y_col_name=\"Euclid_Y_MAG\")\n",
        "\n",
        "# Roman - only a subset of the Roman filters are available?\n",
        "\n",
        "# Roman_062_mag = getTrueY(test_cat=CASTOR_baseline, mag_col_names=names_phot, y_col_name='Roman_062_MAG')\n",
        "# Roman_087_mag = getTrueY(test_cat=CASTOR_baseline, mag_col_names=names_phot, y_col_name='Roman_087_MAG')\n",
        "Roman_106_mag = getTrueY(test_cat=CASTOR_baseline, mag_col_names=names_phot, y_col_name='Roman_106_MAG')\n",
        "\n",
        "Roman_129_mag = getTrueY(test_cat=CASTOR_baseline, mag_col_names=names_phot, y_col_name='Roman_129_MAG')\n",
        "# Roman_146_mag = getTrueY(test_cat=CASTOR_baseline, mag_col_names=names_phot, y_col_name='Roman_146_MAG')\n",
        "Roman_158_mag = getTrueY(test_cat=CASTOR_baseline, mag_col_names=names_phot, y_col_name='Roman_158_MAG')\n",
        "\n",
        "Roman_184_mag = getTrueY(test_cat=CASTOR_baseline, mag_col_names=names_phot, y_col_name='Roman_184_MAG')\n",
        "# Roman_213_mag = getTrueY(test_cat=CASTOR_baseline, mag_col_names=names_phot, y_col_name='Roman_213_MAG')\n",
        "\n",
        "ID = getTrueY(test_cat=CASTOR_baseline, mag_col_names=names_phot, y_col_name=\"ID\")\n",
        "z_true = getTrueY(test_cat=CASTOR_baseline, mag_col_names=names_phot, y_col_name=\"photoz\")"
      ],
      "metadata": {
        "id": "4GeyDSV1etFr"
      },
      "execution_count": 11,
      "outputs": []
    },
    {
      "cell_type": "code",
      "source": [
        "test_band_1 = np.array(Roman_129_mag)\n",
        "test_band_2 = np.array(Roman_106_mag)"
      ],
      "metadata": {
        "id": "ObZrR6oC04I3"
      },
      "execution_count": 59,
      "outputs": []
    },
    {
      "cell_type": "code",
      "source": [
        "np.sum((np.array(test_band_1) - np.array(test_band_2) <  0.001))"
      ],
      "metadata": {
        "colab": {
          "base_uri": "https://localhost:8080/"
        },
        "id": "6Ri6Q_8v0a-_",
        "outputId": "7182772e-8b1e-4072-8171-c7643e7440b0"
      },
      "execution_count": 44,
      "outputs": [
        {
          "output_type": "execute_result",
          "data": {
            "text/plain": [
              "0"
            ]
          },
          "metadata": {},
          "execution_count": 44
        }
      ]
    },
    {
      "cell_type": "code",
      "source": [
        "is_close_Roman_mask_129_106 = np.isclose(test_band_1, test_band_2)"
      ],
      "metadata": {
        "id": "3hCE5-fq3lSn"
      },
      "execution_count": 60,
      "outputs": []
    },
    {
      "cell_type": "code",
      "source": [
        "np.sum(is_close_Roman_mask_129_106)"
      ],
      "metadata": {
        "colab": {
          "base_uri": "https://localhost:8080/"
        },
        "id": "4K3ZshaM3pRE",
        "outputId": "992c7c6d-59fc-405d-dcb0-16b3adc14660"
      },
      "execution_count": 61,
      "outputs": [
        {
          "output_type": "execute_result",
          "data": {
            "text/plain": [
              "52"
            ]
          },
          "metadata": {},
          "execution_count": 61
        }
      ]
    },
    {
      "cell_type": "code",
      "source": [
        "np.sum(np.where(is_close_Roman_mask_129_106 == is_close_Roman_mask_129_106) & (is_close_Roman_mask_129_106 == True))"
      ],
      "metadata": {
        "colab": {
          "base_uri": "https://localhost:8080/"
        },
        "id": "XZdpW7FG3sMj",
        "outputId": "374e0dd1-f20c-4f60-c213-60997f45faf6"
      },
      "execution_count": 66,
      "outputs": [
        {
          "output_type": "execute_result",
          "data": {
            "text/plain": [
              "27"
            ]
          },
          "metadata": {},
          "execution_count": 66
        }
      ]
    },
    {
      "cell_type": "code",
      "source": [
        "is_close_Roman_mask_184_158 = np.isclose(test_band_1, test_band_2)"
      ],
      "metadata": {
        "id": "-O2NW6uz3h4w"
      },
      "execution_count": 58,
      "outputs": []
    },
    {
      "cell_type": "code",
      "source": [
        "Roman_184_mag[~is_close_Roman_mask]"
      ],
      "metadata": {
        "colab": {
          "base_uri": "https://localhost:8080/"
        },
        "id": "jf7YHcs_24aa",
        "outputId": "5c731137-d358-4712-9960-23e5c67fb3cf"
      },
      "execution_count": 56,
      "outputs": [
        {
          "output_type": "execute_result",
          "data": {
            "text/plain": [
              "<Column name='Roman_184_MAG' dtype='float64' length=108706>\n",
              " 23.27398661032172\n",
              "23.700955988053487\n",
              "21.957972130339733\n",
              " 23.01822042935016\n",
              "23.124645928399666\n",
              "23.371814015268065\n",
              "22.962008913532564\n",
              " 21.48591039061389\n",
              "23.346013017916754\n",
              "20.525167691013557\n",
              "23.336768747941612\n",
              "22.585099245426967\n",
              "               ...\n",
              "22.279382053961022\n",
              " 22.34541998451588\n",
              " 22.09825775828788\n",
              "18.429011428530735\n",
              "17.481477129672292\n",
              "21.204450518323434\n",
              " 21.00366073836593\n",
              "18.741292052228594\n",
              " 22.81084569067996\n",
              "20.003144527647002\n",
              "21.766055167740042\n",
              " 23.82670157491419"
            ]
          },
          "metadata": {},
          "execution_count": 56
        }
      ]
    },
    {
      "cell_type": "code",
      "source": [
        "Roman_158_mag[~is_close_Roman_mask]"
      ],
      "metadata": {
        "colab": {
          "base_uri": "https://localhost:8080/"
        },
        "id": "fgprIs5h26TY",
        "outputId": "5d4029ec-631b-4299-92bc-b9ecf76c0c1f"
      },
      "execution_count": 57,
      "outputs": [
        {
          "output_type": "execute_result",
          "data": {
            "text/plain": [
              "<Column name='Roman_158_MAG' dtype='float64' length=108706>\n",
              "23.333492369450603\n",
              "23.586092081215206\n",
              " 21.98118733489209\n",
              "22.909378999857616\n",
              "23.189398799228492\n",
              "23.494278283808903\n",
              "23.354714672838178\n",
              "21.482407430343336\n",
              "23.390651687720954\n",
              "20.654006295923175\n",
              " 23.35959087324087\n",
              "22.593327788981988\n",
              "               ...\n",
              "22.166833176158683\n",
              "    22.38688574828\n",
              " 22.12808580977788\n",
              "18.521415595764203\n",
              "17.564599186389536\n",
              "21.535099069280413\n",
              "21.250104270783233\n",
              "18.819828321950077\n",
              " 22.90618295122561\n",
              "20.255139833304007\n",
              " 21.90203819330481\n",
              "23.769581697999193"
            ]
          },
          "metadata": {},
          "execution_count": 57
        }
      ]
    },
    {
      "cell_type": "code",
      "source": [
        "Roman_184_mag[is_close_Roman_mask]"
      ],
      "metadata": {
        "colab": {
          "base_uri": "https://localhost:8080/"
        },
        "id": "Z6A0tG0G2nTz",
        "outputId": "18bd53ce-4865-4e95-f5aa-60b874001e29"
      },
      "execution_count": 54,
      "outputs": [
        {
          "output_type": "execute_result",
          "data": {
            "text/plain": [
              "<Column name='Roman_184_MAG' dtype='float64' length=132>\n",
              "22.899670973629476\n",
              "22.289721996945026\n",
              "23.028236244588463\n",
              "23.727936527639464\n",
              "22.265830554373885\n",
              " 21.88947759585748\n",
              "22.186250821333083\n",
              "23.115850443772153\n",
              " 23.16486782194884\n",
              "23.177054838958192\n",
              "22.552605477661764\n",
              "23.400318934635287\n",
              "               ...\n",
              "22.523298688128186\n",
              "23.148748308226963\n",
              "22.541597004325617\n",
              "23.405393672311014\n",
              " 23.14767461846281\n",
              "23.599504834525312\n",
              " 22.25000101792032\n",
              "22.086831826518015\n",
              "23.629025156835176\n",
              "22.446667589879105\n",
              "22.832293316128876\n",
              " 22.71713036981587"
            ]
          },
          "metadata": {},
          "execution_count": 54
        }
      ]
    },
    {
      "cell_type": "code",
      "source": [
        "Roman_158_mag[is_close_Roman_mask]"
      ],
      "metadata": {
        "colab": {
          "base_uri": "https://localhost:8080/"
        },
        "id": "f_m-1nd32vyT",
        "outputId": "96fcba93-e09b-46be-b7d9-f03201e5d7b3"
      },
      "execution_count": 55,
      "outputs": [
        {
          "output_type": "execute_result",
          "data": {
            "text/plain": [
              "<Column name='Roman_158_MAG' dtype='float64' length=132>\n",
              "22.899689463093246\n",
              "22.289624644709086\n",
              "23.028422899427618\n",
              "23.727965909756158\n",
              "22.265652710696436\n",
              " 21.88935108919207\n",
              "22.186410168262334\n",
              "23.116026753084206\n",
              "23.165093187839155\n",
              "  23.1769721965834\n",
              "22.552410063862332\n",
              "23.400446111815832\n",
              "               ...\n",
              " 22.52315464459688\n",
              "23.148864615381733\n",
              "22.541687430238376\n",
              "23.405407248985192\n",
              "23.147792584922207\n",
              " 23.59947960378384\n",
              "22.250143533283413\n",
              "22.086754254745166\n",
              "23.628988424354908\n",
              "22.446526566987963\n",
              " 22.83218395145962\n",
              "22.717136666124865"
            ]
          },
          "metadata": {},
          "execution_count": 55
        }
      ]
    },
    {
      "cell_type": "code",
      "source": [
        "is_close_Roman_mask = np.isclose(test_band_1, test_band_2)"
      ],
      "metadata": {
        "id": "vEZhsC9g11qY"
      },
      "execution_count": 53,
      "outputs": []
    },
    {
      "cell_type": "code",
      "source": [
        "np.sum(np.isclose(test_band_2, test_band_1))"
      ],
      "metadata": {
        "colab": {
          "base_uri": "https://localhost:8080/"
        },
        "id": "ZM3Cvmmu2OWd",
        "outputId": "863b1979-6cbd-42f8-c92c-6854efcc5464"
      },
      "execution_count": 51,
      "outputs": [
        {
          "output_type": "execute_result",
          "data": {
            "text/plain": [
              "132"
            ]
          },
          "metadata": {},
          "execution_count": 51
        }
      ]
    },
    {
      "cell_type": "code",
      "source": [
        "np.count_nonzero(test_band) == len(test_band)"
      ],
      "metadata": {
        "colab": {
          "base_uri": "https://localhost:8080/"
        },
        "id": "Gx2fcafG1Neh",
        "outputId": "a4630347-57cf-4e0a-aa9f-2f9c115ccc32"
      },
      "execution_count": 45,
      "outputs": [
        {
          "output_type": "execute_result",
          "data": {
            "text/plain": [
              "True"
            ]
          },
          "metadata": {},
          "execution_count": 45
        }
      ]
    },
    {
      "cell_type": "code",
      "source": [
        "\n",
        "which_cols = {}\n",
        "which_cols['LSST'] = {'r': LSST_r_mag,\n",
        "                             'g-r': LSST_g_mag - LSST_r_mag,\n",
        "                             'r-i': LSST_r_mag - LSST_i_mag,\n",
        "                             'i-z': LSST_i_mag - LSST_z_mag,}\n",
        "which_cols['CASTOR'] = {'g': CASTOR_g_mag,\n",
        "                             'uv-u': CASTOR_uv_mag - CASTOR_u_mag,\n",
        "                             'u-g': CASTOR_u_mag - CASTOR_g_mag}\n",
        "which_cols['Roman'] = {'106': Roman_106_mag,\n",
        "                             '129 - 106': Roman_129_mag - Roman_106_mag,\n",
        "                             '158-129': Roman_158_mag - Roman_129_mag,\n",
        "                             '184-158': Roman_184_mag - Roman_158_mag}\n",
        "which_cols['Euclid'] = { 'v': Euclid_VIS_mag,\n",
        "                             'v-y': Euclid_VIS_mag - Euclid_Y_mag,\n",
        "                             'y-j': Euclid_Y_mag - Euclid_J_mag,\n",
        "                             'j-h': Euclid_J_mag - Euclid_H_mag}\n"
      ],
      "metadata": {
        "id": "shRtsvllezCO"
      },
      "execution_count": 12,
      "outputs": []
    },
    {
      "cell_type": "code",
      "source": [
        "test_catalogs = {}\n",
        "test_catalogs['LSST-only'] = pd.DataFrame({'CASTOR_ID': ID, 'z_true': z_true, **which_cols['LSST']}).set_index('CASTOR_ID').dropna()\n",
        "test_catalogs['CASTOR-only'] = pd.DataFrame({'CASTOR_ID': ID, 'z_true': z_true, **which_cols['CASTOR']}).set_index('CASTOR_ID').dropna()\n",
        "test_catalogs['Roman-only'] = pd.DataFrame({'CASTOR_ID': ID, 'z_true': z_true, **which_cols['Roman']}).set_index('CASTOR_ID').dropna()\n",
        "test_catalogs['Euclid-only'] = pd.DataFrame({'CASTOR_ID': ID, 'z_true': z_true, **which_cols['Euclid']}).set_index('CASTOR_ID').dropna()\n",
        "test_catalogs['LSST+CASTOR'] = pd.DataFrame({'CASTOR_ID': ID, 'z_true': z_true, **which_cols['LSST'], **which_cols['CASTOR']}).set_index('CASTOR_ID').dropna()\n",
        "test_catalogs['Euclid+CASTOR'] = pd.DataFrame({'CASTOR_ID': ID, 'z_true': z_true, **which_cols['Euclid'], **which_cols['CASTOR']}).set_index('CASTOR_ID').dropna()\n",
        "test_catalogs['Roman+CASTOR'] = pd.DataFrame({'CASTOR_ID': ID, 'z_true': z_true, **which_cols['Roman'], **which_cols['CASTOR']}).set_index('CASTOR_ID').dropna()\n",
        "test_catalogs['Euclid+LSST'] = pd.DataFrame({'CASTOR_ID': ID, 'z_true': z_true, **which_cols['LSST'], **which_cols['Euclid']}).set_index('CASTOR_ID').dropna()\n",
        "test_catalogs['Roman+LSST'] = pd.DataFrame({'CASTOR_ID': ID, 'z_true': z_true, **which_cols['LSST'], **which_cols['Roman']}).set_index('CASTOR_ID').dropna()\n",
        "# test_catalogs['Euclid+Roman'] = pd.DataFrame({'CASTOR_ID': ID, 'z_true': z_true, **which_cols['Euclid'], **which_cols['Roman']}).set_index('CASTOR_ID').dropna()\n",
        "# test_catalogs['Roman+LSST+CASTOR'] = pd.DataFrame({'CASTOR_ID': ID, 'z_true': z_true, **which_cols['LSST'], **which_cols['Roman'], **which_cols['CASTOR']}).set_index('CASTOR_ID').dropna()\n",
        "# test_catalogs['Roman+Euclid+CASTOR'] = pd.DataFrame({'CASTOR_ID': ID, 'z_true': z_true, **which_cols['Euclid'], **which_cols['Roman'], **which_cols['CASTOR']}).set_index('CASTOR_ID').dropna()\n",
        "test_catalogs['Euclid+LSST+CASTOR'] = pd.DataFrame({'CASTOR_ID': ID, 'z_true': z_true, **which_cols['LSST'], **which_cols['Euclid'], **which_cols['CASTOR']}).set_index('CASTOR_ID').dropna()\n",
        "# test_catalogs['Roman+Euclid+LSST'] = pd.DataFrame({'CASTOR_ID': ID, 'z_true': z_true, **which_cols['Euclid'], **which_cols['Roman'], **which_cols['LSST']}).set_index('CASTOR_ID').dropna()\n",
        "test_catalogs['Roman+Euclid+LSST+CASTOR'] = pd.DataFrame({'CASTOR_ID': ID, 'z_true': z_true, **which_cols['Roman'], **which_cols['LSST'], **which_cols['Euclid'], **which_cols['CASTOR']}).set_index('CASTOR_ID').dropna()\n",
        "\n",
        "catalogs = test_catalogs\n"
      ],
      "metadata": {
        "id": "x5XJC7k3e1Nh"
      },
      "execution_count": 13,
      "outputs": []
    },
    {
      "cell_type": "code",
      "source": [],
      "metadata": {
        "id": "KY70gRyxz-TX"
      },
      "execution_count": null,
      "outputs": []
    }
  ]
}