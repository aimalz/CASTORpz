{
 "cells": [
  {
   "cell_type": "code",
   "execution_count": 2,
   "id": "a8f2c15d-f9e8-4cfd-bb67-d59714a0e4ec",
   "metadata": {},
   "outputs": [],
   "source": [
    "from surveys import Filter, BoxcarFilter, Survey, CASTOR_Default\n",
    "import astropy.units as u\n",
    "from astropy.table import Table\n",
    "from numpy.random import default_rng\n",
    "from numpy import log, log10\n",
    "from scipy.integrate import simpson"
   ]
  },
  {
   "cell_type": "markdown",
   "id": "2f929048-6773-4827-8db4-c8fda65efa59",
   "metadata": {},
   "source": [
    "# Notebook to generate Mock CASTOR photmetry\n",
    "\n",
    "This notebook walks through the steps of generating mock CASTOR photometry given specific instrument and survey parameters. It uses galaxies from the COSMOS 2020 Farmer catalog. Mock magnitudes have already been pre-generated for other telescopes already using the LePhare best fit templates and applying color-corrections from nearby COSMOS filters. We assume that these represent the true magnitudes of the galaxies, and then perturb the photometry (in flux space) using the noise as the standard deviation of a normal distribution. From the pre-made catalog, this notebook can quickly make mock photometry for CASTOR with various survey/instrument parameters.\n",
    "\n",
    "## Step 1: Define Castor Filters\n",
    "\n",
    "The first step is to define what filters CASTOR will use. The pre-made mock catalogs have photometry for the default uv, u, and g filters (downloaded from Forecastor github accessed on May 20, 2022). You can load any new or modified filters and photometry in those new filters will be determined from the default filters using a color correction from the different zero point magnitudes. Note that this assumes the new filters will be relatively close in central wavelength and breadth.\n",
    "\n",
    "Filter transmission curves can either be loaded from files, or parameterized. The example below uses new filters in uv and u that where divided in half with an exterior long-pass filter. The g filter is a simple square filter."
   ]
  },
  {
   "cell_type": "code",
   "execution_count": 3,
   "id": "4bf78452-41b6-4e5f-9c04-6c77865f6399",
   "metadata": {},
   "outputs": [],
   "source": [
    "# define Castor Filter Transmission Curves\n",
    "\n",
    "test_filt = [Filter(filename=\"FTCs/passband_castor.uv_split_lp\", name=\"castor_uv_test\", wlunit=u.um),\n",
    "             Filter(filename=\"FTCs/passband_castor.u_split_lp\", name=\"castor_u_test\", wlunit=u.um),\n",
    "             BoxcarFilter(center=5000, bandwidth=1620, transmission=0.6, name=\"castor_g_test\", wlunit=u.AA)\n",
    "            ]\n"
   ]
  },
  {
   "cell_type": "markdown",
   "id": "37cdab64-c3d4-4b3a-9382-05ebad7c8082",
   "metadata": {},
   "source": [
    "## Step 2: Define Survey Strategy and Telescope Parameters\n",
    "\n",
    "Now, we have to define the instrument details and observing strategy CASTOR will use. In the example below, the mirror diameter, dark current, read noise, etc. are all from Forecastor's castor_etc.parameters file. The sky background brightness was also made using forecastor and adding average geocoronal emission to the uv band. Note that the geocoronal emission line has a wavelength of 2471 Angstroms. If the filter you are using does not cover this, you should adjust the sky brightness in uv.\n",
    "\n",
    "You need to define Nexp and texp, the number of exposures and the time per exposure in seconds. These can either be one value that apply to all filters, or an array with different values for each filter.\n",
    "\n",
    "Two different methods of calculating photometric noise are provided: 'm5' and 'ext'\n",
    "\n",
    "The 'm5' method uses Equation 5 of Ilbert et al. 2019:\n",
    "\n",
    "$$ \n",
    "\\sigma^2 = (0.04 - \\gamma)x + \\gamma{x^2}\n",
    "$$\n",
    "\n",
    "where $x = 10^{(m - m_5)}$, $m_5$ is the five sigma depth in a filter, and $\\gamma$ depends on the sky background and other noise sources.\n",
    "\n",
    "This method is an approximation for calculating photometric uncertainties in point sources given a survey depth. It is the easiest to use, but will underestimate the uncertainty in extended sources. When using this mode, you can either provide 5-sigma depths in each filter, or they can be omitted and will be internally calculated. User provided depths will override the automatic calculations.\n",
    "\n",
    "The second mode is 'ext'. This will perform a more detailed photometric uncertainty calculation, taking into account the size of the objects being observed. The galaxy's FWHM is convolved with the telescope's PSF, and an aperture diameter of 1.346 times the convolved FWHM is used (see LSST LSE-40 Eq. 19). From there, the number of pixels ($N_{pix}$) in the aperture is determined. The signal-to-noise ratio is then briefly:\n",
    "\n",
    "$$\n",
    "SNR = \\frac{e_{source}}{  \\sqrt{e_{source} + e_{sky} + e_{dark} + N_{pix}N_{exp}\\sigma^2_{read}} }\n",
    "$$\n",
    "\n",
    "where $e_{source}$ and $e_{sky}$ are the total electron counts in the aperture from the galaxy source and the sky respectively, found using the total exposure time and the magnitude zeropoints, $e_{dark}$ is the total number of electrons generated from the dark current multiplied by $N_{pix}$ and the total exposure time, and $\\sigma_{read}$ is the read noise in electrons per exposure.\n",
    "\n",
    "The 'ext' and 'm5' methods have been tested to show they give the same uncertainties for point sources. The 'ext' mode will be more accurate, but only if the instrument parameters such as dark current and read noise and mirror diameter, etc., are also accurate."
   ]
  },
  {
   "cell_type": "code",
   "execution_count": 4,
   "id": "ce5b1fea-3187-4f29-82fa-48711d24cf63",
   "metadata": {},
   "outputs": [
    {
     "name": "stdout",
     "output_type": "stream",
     "text": [
      "{'castor_uv_test': 26.657455960658222, 'castor_u_test': 27.344479940851798, 'castor_g_test': 26.884888404194324}\n"
     ]
    }
   ],
   "source": [
    "# Choose extended or m5 photometric catalog\n",
    "# MODE = 'm5'\n",
    "MODE = 'ext' # recommended mode\n",
    "\n",
    "test_survey = Survey( # you can leave out the five sigma depth and it will be automatically calculated\n",
    "           mirror_diam=100, dark_current=1e-4, read_noise=2.0, pixel_scale=0.1, \n",
    "           psf_fwhm=[0.15] * len(test_filt), filters=test_filt,\n",
    "           Nexp=[8, 8, 6], texp=250, sky_mag=[25.24, 24.24, 22.59],\n",
    "           min_aper_radius=2\n",
    "          )\n",
    "\n",
    "print(test_survey.five_sigma_depth)\n"
   ]
  },
  {
   "cell_type": "markdown",
   "id": "0ac364cc-785d-48d3-8ac4-896bb409a2ad",
   "metadata": {},
   "source": [
    "## Step 3: Read in default catalog and choose limits\n",
    "\n",
    "In this step, the pre-made default catalog is read in (either the ext or m5 version depending on what you chose above.\n",
    "\n",
    "Since the goal is to calculate photometric redshifts, you may not want to use the faintest objects and instead limit yourself to less-noisy objects. You can optionally add a mask here to reduce the size of the default catalog (~700 000 objects)"
   ]
  },
  {
   "cell_type": "code",
   "execution_count": 4,
   "id": "706c382c-62de-41f8-81e6-16ef8fb9997f",
   "metadata": {},
   "outputs": [],
   "source": [
    "default_cat_file = \"%s_phot.fits\" % MODE\n",
    "cat = Table.read(default_cat_file)\n",
    "default_survey = CASTOR_Default()\n",
    "default_filt = default_survey.filters\n",
    "\n",
    "# remove default mag and magerr columns to avoid potential clashes\n",
    "cat.remove_columns([f.name + '_MAG' for f in default_filt] +\n",
    "                   [f.name + '_MAGERR' for f in default_filt])\n",
    "\n",
    "# Define mask\n",
    "MASK = None\n",
    "# Example mask to limit to LSST i < 27.1\n",
    "# MASK = def_cat['LSST_i_MAG'] < 27.1\n",
    "\n",
    "if MASK is not None:\n",
    "    cat = def_cat[MASK]                                                                   "
   ]
  },
  {
   "cell_type": "markdown",
   "id": "0cf2af8e-c911-4a9a-8f5a-c9e3eaffb503",
   "metadata": {},
   "source": [
    "## Step 4: Choose the name for the output catalog"
   ]
  },
  {
   "cell_type": "code",
   "execution_count": 5,
   "id": "7e0948ff-04ec-47e4-bb6e-ab5675f28614",
   "metadata": {},
   "outputs": [],
   "source": [
    "OUTFILE = \"test_mock_phot.fits\""
   ]
  },
  {
   "cell_type": "markdown",
   "id": "e709b1b0-78b5-49f3-87a8-11b161f94545",
   "metadata": {},
   "source": [
    "## Step 5: Make the mock photometry catalog\n",
    "\n",
    "Finally, run the cell below to create your mock photometry catalog. This can then be put into your photometric redshift code of choice."
   ]
  },
  {
   "cell_type": "code",
   "execution_count": 6,
   "id": "1c9ef180-b673-42f7-a492-d736662f50e0",
   "metadata": {},
   "outputs": [
    {
     "name": "stdout",
     "output_type": "stream",
     "text": [
      "castor_uv_test offset:  1.1346273842078123\n",
      "castor_u_test offset:  0.057732985765189926\n"
     ]
    },
    {
     "name": "stderr",
     "output_type": "stream",
     "text": [
      "/tmp/ipykernel_304/456521459.py:33: RuntimeWarning: invalid value encountered in log10\n",
      "  obs_mag = -2.5 * log10(obs_flux) - 48.6\n"
     ]
    },
    {
     "name": "stdout",
     "output_type": "stream",
     "text": [
      "castor_g_test offset:  -0.10545144308151547\n"
     ]
    }
   ],
   "source": [
    "rng = default_rng()\n",
    "\n",
    "for f in test_filt:\n",
    "    # find closest default CASTOR filter\n",
    "    close = default_filt[0]\n",
    "    for g in default_filt:\n",
    "        if abs(g.center - f.center) < abs(close.center - f.center):\n",
    "            close = g\n",
    "    \n",
    "    # find new unperturbed filter mags from unperturbed castor mags\n",
    "    # uses definitions m_AB = -2.5 * log(n_e) + ZP\n",
    "    # and n_e = A * f_v / h * int(response / lambda, lambda)\n",
    "    # this assumes f_v is constant\n",
    "    zp_offset = test_survey.zpts[f.name] - default_survey.zpts[close.name]\n",
    "    numerator = simpson(f.response / f.wl, f.wl)\n",
    "    denominator = simpson(close.response / close.wl, close.wl)\n",
    "    area_term = -2.5 * log(numerator / denominator)\n",
    "    print(f.name, \"offset: \", area_term + zp_offset)\n",
    "    new_mag = cat[close.name + '_UNPMAG'] + area_term  + zp_offset\n",
    "    \n",
    "    # calculate magnitude uncertainty\n",
    "    if MODE == 'ext':\n",
    "        new_magerr = test_survey.calc_mag_err(new_mag, f.name, fwhm=2 * cat['hlr'])\n",
    "    elif MODE == 'm5':\n",
    "        new_magerr = test_survey.calc_mag_err(new_mag, f.name, mode='m5')\n",
    "    \n",
    "    # perturb flux within noise and convert back to mag \n",
    "    flux = 10**(-0.4 * (new_mag + 48.6))\n",
    "    snr = 2.5 / log(10) / new_magerr\n",
    "    noise = flux / snr\n",
    "    error = rng.standard_normal(noise.size) * noise\n",
    "    obs_flux = flux + error\n",
    "    obs_mag = -2.5 * log10(obs_flux) - 48.6\n",
    "        \n",
    "    cat.add_column(obs_mag, name=f.name + '_MAG')\n",
    "    cat.add_column(new_magerr, name=f.name + '_MAGERR')\n",
    "    \n",
    "\n",
    "cat.remove_columns([f.name + '_UNPMAG' for f in default_filt])\n",
    "\n",
    "cat.write(OUTFILE, overwrite=True)"
   ]
  },
  {
   "cell_type": "code",
   "execution_count": null,
   "id": "696a11cd-aec0-46db-b0ee-24bbe719939e",
   "metadata": {},
   "outputs": [],
   "source": []
  },
  {
   "cell_type": "code",
   "execution_count": null,
   "id": "983e61d0-ee6b-463c-b4c7-aa3c3ce9d20b",
   "metadata": {},
   "outputs": [],
   "source": []
  }
 ],
 "metadata": {
  "kernelspec": {
   "display_name": "Python 3 (ipykernel)",
   "language": "python",
   "name": "python3"
  },
  "language_info": {
   "codemirror_mode": {
    "name": "ipython",
    "version": 3
   },
   "file_extension": ".py",
   "mimetype": "text/x-python",
   "name": "python",
   "nbconvert_exporter": "python",
   "pygments_lexer": "ipython3",
   "version": "3.9.7"
  }
 },
 "nbformat": 4,
 "nbformat_minor": 5
}
