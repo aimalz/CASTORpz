{
  "cells": [
    {
      "cell_type": "markdown",
      "metadata": {
        "id": "view-in-github",
        "colab_type": "text"
      },
      "source": [
        "<a href=\"https://colab.research.google.com/github/aimalz/CASTORpz/blob/main/TheLastMetric.ipynb\" target=\"_parent\"><img src=\"https://colab.research.google.com/assets/colab-badge.svg\" alt=\"Open In Colab\"/></a>"
      ]
    },
    {
      "cell_type": "code",
      "source": [
        "from google.colab import drive\n",
        "drive.mount('/content/drive')"
      ],
      "metadata": {
        "id": "P9ScjvW6K--M",
        "outputId": "17855081-e186-4c46-f424-92b3d432410b",
        "colab": {
          "base_uri": "https://localhost:8080/"
        }
      },
      "id": "P9ScjvW6K--M",
      "execution_count": 1,
      "outputs": [
        {
          "output_type": "stream",
          "name": "stdout",
          "text": [
            "Mounted at /content/drive\n"
          ]
        }
      ]
    },
    {
      "cell_type": "code",
      "source": [
        "cd /content/drive/MyDrive/Research/CASTORpz"
      ],
      "metadata": {
        "id": "AIt3xNrROef2",
        "outputId": "a1fa75c8-3b4d-4a93-88b5-526f0dc25708",
        "colab": {
          "base_uri": "https://localhost:8080/"
        }
      },
      "id": "AIt3xNrROef2",
      "execution_count": 2,
      "outputs": [
        {
          "output_type": "stream",
          "name": "stdout",
          "text": [
            "/content/drive/MyDrive/Research/CASTORpz\n"
          ]
        }
      ]
    },
    {
      "cell_type": "code",
      "source": [
        "from astropy.table import Table\n",
        "prepend = '/content/drive/MyDrive/Research/CASTORpz/'\n",
        "unp = Table.read(prepend+\"unperturbed_mags.fits\")\n",
        "print(len(unp))"
      ],
      "metadata": {
        "id": "tpLREN_EM6hg",
        "outputId": "bac74af5-5d87-47d9-8ce9-a470755d915e",
        "colab": {
          "base_uri": "https://localhost:8080/"
        }
      },
      "id": "tpLREN_EM6hg",
      "execution_count": 3,
      "outputs": [
        {
          "output_type": "stream",
          "name": "stdout",
          "text": [
            "698211\n"
          ]
        }
      ]
    },
    {
      "cell_type": "code",
      "source": [
        "!pip install --upgrade \"jax[cuda]\" -f https://storage.googleapis.com/jax-releases/jax_cuda_releases.html\n",
        "!nvcc --version"
      ],
      "metadata": {
        "id": "3u5XpOo5PdZF",
        "outputId": "40098f9f-9c58-4d1d-a6e0-19a857e02aef",
        "colab": {
          "base_uri": "https://localhost:8080/"
        }
      },
      "id": "3u5XpOo5PdZF",
      "execution_count": 4,
      "outputs": [
        {
          "output_type": "stream",
          "name": "stdout",
          "text": [
            "Looking in indexes: https://pypi.org/simple, https://us-python.pkg.dev/colab-wheels/public/simple/\n",
            "Looking in links: https://storage.googleapis.com/jax-releases/jax_cuda_releases.html\n",
            "Requirement already satisfied: jax[cuda] in /usr/local/lib/python3.9/dist-packages (0.4.8)\n",
            "Requirement already satisfied: ml-dtypes>=0.0.3 in /usr/local/lib/python3.9/dist-packages (from jax[cuda]) (0.1.0)\n",
            "Requirement already satisfied: scipy>=1.7 in /usr/local/lib/python3.9/dist-packages (from jax[cuda]) (1.10.1)\n",
            "Requirement already satisfied: opt-einsum in /usr/local/lib/python3.9/dist-packages (from jax[cuda]) (3.3.0)\n",
            "Requirement already satisfied: numpy>=1.21 in /usr/local/lib/python3.9/dist-packages (from jax[cuda]) (1.22.4)\n",
            "Requirement already satisfied: jaxlib==0.4.7+cuda11.cudnn86 in /usr/local/lib/python3.9/dist-packages (from jax[cuda]) (0.4.7+cuda11.cudnn86)\n",
            "nvcc: NVIDIA (R) Cuda compiler driver\n",
            "Copyright (c) 2005-2022 NVIDIA Corporation\n",
            "Built on Wed_Sep_21_10:33:58_PDT_2022\n",
            "Cuda compilation tools, release 11.8, V11.8.89\n",
            "Build cuda_11.8.r11.8/compiler.31833905_0\n"
          ]
        }
      ]
    },
    {
      "cell_type": "code",
      "source": [
        "!pip install astropy pzflow corner"
      ],
      "metadata": {
        "colab": {
          "base_uri": "https://localhost:8080/"
        },
        "id": "y2Ay_SxlVWLA",
        "outputId": "a9435bb1-4846-4cdf-d3cd-8e8ca66fef22"
      },
      "id": "y2Ay_SxlVWLA",
      "execution_count": 5,
      "outputs": [
        {
          "output_type": "stream",
          "name": "stdout",
          "text": [
            "Looking in indexes: https://pypi.org/simple, https://us-python.pkg.dev/colab-wheels/public/simple/\n",
            "Requirement already satisfied: astropy in /usr/local/lib/python3.9/dist-packages (5.2.2)\n",
            "Collecting pzflow\n",
            "  Downloading pzflow-3.1.1-py3-none-any.whl (8.7 MB)\n",
            "\u001b[2K     \u001b[90m━━━━━━━━━━━━━━━━━━━━━━━━━━━━━━━━━━━━━━━━\u001b[0m \u001b[32m8.7/8.7 MB\u001b[0m \u001b[31m6.3 MB/s\u001b[0m eta \u001b[36m0:00:00\u001b[0m\n",
            "\u001b[?25hCollecting corner\n",
            "  Downloading corner-2.2.2-py3-none-any.whl (15 kB)\n",
            "Requirement already satisfied: PyYAML>=3.13 in /usr/local/lib/python3.9/dist-packages (from astropy) (6.0)\n",
            "Requirement already satisfied: numpy>=1.20 in /usr/local/lib/python3.9/dist-packages (from astropy) (1.22.4)\n",
            "Requirement already satisfied: pyerfa>=2.0 in /usr/local/lib/python3.9/dist-packages (from astropy) (2.0.0.3)\n",
            "Requirement already satisfied: packaging>=19.0 in /usr/local/lib/python3.9/dist-packages (from astropy) (23.1)\n",
            "Requirement already satisfied: jax<0.5.0,>=0.4.2 in /usr/local/lib/python3.9/dist-packages (from pzflow) (0.4.8)\n",
            "Collecting dill<0.4.0,>=0.3.6\n",
            "  Downloading dill-0.3.6-py3-none-any.whl (110 kB)\n",
            "\u001b[2K     \u001b[90m━━━━━━━━━━━━━━━━━━━━━━━━━━━━━━━━━━━━━━\u001b[0m \u001b[32m110.5/110.5 kB\u001b[0m \u001b[31m11.4 MB/s\u001b[0m eta \u001b[36m0:00:00\u001b[0m\n",
            "\u001b[?25hRequirement already satisfied: tqdm<5.0.0,>=4.64.1 in /usr/local/lib/python3.9/dist-packages (from pzflow) (4.65.0)\n",
            "Requirement already satisfied: optax<0.2.0,>=0.1.4 in /usr/local/lib/python3.9/dist-packages (from pzflow) (0.1.4)\n",
            "Requirement already satisfied: jaxlib<0.5.0,>=0.4.2 in /usr/local/lib/python3.9/dist-packages (from pzflow) (0.4.7+cuda11.cudnn86)\n",
            "Requirement already satisfied: pandas>=1.1 in /usr/local/lib/python3.9/dist-packages (from pzflow) (1.5.3)\n",
            "Requirement already satisfied: matplotlib>=2.1 in /usr/local/lib/python3.9/dist-packages (from corner) (3.7.1)\n",
            "Requirement already satisfied: opt-einsum in /usr/local/lib/python3.9/dist-packages (from jax<0.5.0,>=0.4.2->pzflow) (3.3.0)\n",
            "Requirement already satisfied: scipy>=1.7 in /usr/local/lib/python3.9/dist-packages (from jax<0.5.0,>=0.4.2->pzflow) (1.10.1)\n",
            "Requirement already satisfied: ml-dtypes>=0.0.3 in /usr/local/lib/python3.9/dist-packages (from jax<0.5.0,>=0.4.2->pzflow) (0.1.0)\n",
            "Requirement already satisfied: python-dateutil>=2.7 in /usr/local/lib/python3.9/dist-packages (from matplotlib>=2.1->corner) (2.8.2)\n",
            "Requirement already satisfied: fonttools>=4.22.0 in /usr/local/lib/python3.9/dist-packages (from matplotlib>=2.1->corner) (4.39.3)\n",
            "Requirement already satisfied: importlib-resources>=3.2.0 in /usr/local/lib/python3.9/dist-packages (from matplotlib>=2.1->corner) (5.12.0)\n",
            "Requirement already satisfied: contourpy>=1.0.1 in /usr/local/lib/python3.9/dist-packages (from matplotlib>=2.1->corner) (1.0.7)\n",
            "Requirement already satisfied: pillow>=6.2.0 in /usr/local/lib/python3.9/dist-packages (from matplotlib>=2.1->corner) (8.4.0)\n",
            "Requirement already satisfied: kiwisolver>=1.0.1 in /usr/local/lib/python3.9/dist-packages (from matplotlib>=2.1->corner) (1.4.4)\n",
            "Requirement already satisfied: cycler>=0.10 in /usr/local/lib/python3.9/dist-packages (from matplotlib>=2.1->corner) (0.11.0)\n",
            "Requirement already satisfied: pyparsing>=2.3.1 in /usr/local/lib/python3.9/dist-packages (from matplotlib>=2.1->corner) (3.0.9)\n",
            "Requirement already satisfied: chex>=0.1.5 in /usr/local/lib/python3.9/dist-packages (from optax<0.2.0,>=0.1.4->pzflow) (0.1.7)\n",
            "Requirement already satisfied: typing-extensions>=3.10.0 in /usr/local/lib/python3.9/dist-packages (from optax<0.2.0,>=0.1.4->pzflow) (4.5.0)\n",
            "Requirement already satisfied: absl-py>=0.7.1 in /usr/local/lib/python3.9/dist-packages (from optax<0.2.0,>=0.1.4->pzflow) (1.4.0)\n",
            "Requirement already satisfied: pytz>=2020.1 in /usr/local/lib/python3.9/dist-packages (from pandas>=1.1->pzflow) (2022.7.1)\n",
            "Requirement already satisfied: toolz>=0.9.0 in /usr/local/lib/python3.9/dist-packages (from chex>=0.1.5->optax<0.2.0,>=0.1.4->pzflow) (0.12.0)\n",
            "Requirement already satisfied: dm-tree>=0.1.5 in /usr/local/lib/python3.9/dist-packages (from chex>=0.1.5->optax<0.2.0,>=0.1.4->pzflow) (0.1.8)\n",
            "Requirement already satisfied: zipp>=3.1.0 in /usr/local/lib/python3.9/dist-packages (from importlib-resources>=3.2.0->matplotlib>=2.1->corner) (3.15.0)\n",
            "Requirement already satisfied: six>=1.5 in /usr/local/lib/python3.9/dist-packages (from python-dateutil>=2.7->matplotlib>=2.1->corner) (1.16.0)\n",
            "Installing collected packages: dill, corner, pzflow\n",
            "Successfully installed corner-2.2.2 dill-0.3.6 pzflow-3.1.1\n"
          ]
        }
      ]
    },
    {
      "cell_type": "code",
      "source": [
        "from pzflow import Flow\n",
        "import jax.numpy as jnp\n",
        "import pandas as pd \n",
        "import numpy as np\n",
        "import pickle\n",
        "import corner\n",
        "import matplotlib.pyplot as plt\n",
        "from astropy.table import Table\n",
        "from pzflow import Flow, FlowEnsemble\n",
        "from pzflow.distributions import Uniform\n",
        "from pzflow.bijectors import Chain, StandardScaler, NeuralSplineCoupling, ColorTransform, InvSoftplus, RollingSplineCoupling, ShiftBounds"
      ],
      "metadata": {
        "id": "A_-243XtQsTp"
      },
      "id": "A_-243XtQsTp",
      "execution_count": 6,
      "outputs": []
    },
    {
      "cell_type": "code",
      "source": [
        "# load data\n",
        "def getTrueY(test_cat, mag_col_names, y_col_name):\n",
        "    test_cat = Table(test_cat, masked=True, copy=True)\n",
        "    # remove nans\n",
        "    for col in mag_col_names:\n",
        "        test_cat[col].mask = np.isnan(test_cat[col].data) | test_cat[col].mask\n",
        "        test_cat = test_cat[~test_cat[col].mask] # then remove nans from test set\n",
        "            \n",
        "    true_y = test_cat[y_col_name]\n",
        "    return true_y.filled()"
      ],
      "metadata": {
        "id": "bOIAJea1Q8sv"
      },
      "id": "bOIAJea1Q8sv",
      "execution_count": 7,
      "outputs": []
    },
    {
      "cell_type": "code",
      "source": [
        "unp = Table.read(prepend+\"unperturbed_mags.fits\").to_pandas()#.set_index('ID')\n",
        "mock = Table.read(prepend+\"ext_phot.fits\").to_pandas()#.set_index('ID')\n",
        "# mask = unp[\"Euclid_VIS_MAG\"] <= 24.5\n",
        "# mock"
      ],
      "metadata": {
        "id": "lxPsZxjmRAqb"
      },
      "id": "lxPsZxjmRAqb",
      "execution_count": 8,
      "outputs": []
    },
    {
      "cell_type": "code",
      "source": [
        "mock.columns"
      ],
      "metadata": {
        "id": "iJ3JjnTfy9vP",
        "outputId": "026c817e-f456-4e59-8600-16f907eec66f",
        "colab": {
          "base_uri": "https://localhost:8080/"
        }
      },
      "id": "iJ3JjnTfy9vP",
      "execution_count": null,
      "outputs": [
        {
          "output_type": "execute_result",
          "data": {
            "text/plain": [
              "Index(['ID', 'photoz', 'castor_uv_MAG', 'castor_uv_MAGERR', 'castor_u_MAG',\n",
              "       'castor_u_MAGERR', 'castor_g_MAG', 'castor_g_MAGERR', 'LSST_u_MAG',\n",
              "       'LSST_u_MAGERR', 'LSST_g_MAG', 'LSST_g_MAGERR', 'LSST_r_MAG',\n",
              "       'LSST_r_MAGERR', 'LSST_i_MAG', 'LSST_i_MAGERR', 'LSST_z_MAG',\n",
              "       'LSST_z_MAGERR', 'LSST_y_MAG', 'LSST_y_MAGERR', 'Euclid_Y_MAG',\n",
              "       'Euclid_Y_MAGERR', 'Euclid_J_MAG', 'Euclid_J_MAGERR', 'Euclid_H_MAG',\n",
              "       'Euclid_H_MAGERR', 'Roman_106_MAG', 'Roman_106_MAGERR', 'Roman_129_MAG',\n",
              "       'Roman_129_MAGERR', 'Roman_158_MAG', 'Roman_158_MAGERR',\n",
              "       'Roman_184_MAG', 'Roman_184_MAGERR', 'hlr', 'castor_uv_UNPMAG',\n",
              "       'castor_u_UNPMAG', 'castor_g_UNPMAG'],\n",
              "      dtype='object')"
            ]
          },
          "metadata": {},
          "execution_count": 79
        }
      ]
    },
    {
      "cell_type": "code",
      "source": [
        "unp.columns"
      ],
      "metadata": {
        "colab": {
          "base_uri": "https://localhost:8080/"
        },
        "id": "OW1lAx6O-ZdW",
        "outputId": "62a1856e-cfb9-43b3-9aec-6c93772d8525"
      },
      "id": "OW1lAx6O-ZdW",
      "execution_count": null,
      "outputs": [
        {
          "output_type": "execute_result",
          "data": {
            "text/plain": [
              "Index(['ID', 'RA', 'DEC', 'ID_CLASSIC', 'photoz', 'lp_type', 'lp_NbFilt',\n",
              "       'lp_zq', 'lp_model', 'lp_age', 'lp_dust', 'lp_Attenuation',\n",
              "       'lp_mass_med', 'lp_mass_best', 'lp_SFR_med', 'lp_SFR_best',\n",
              "       'lp_sSFR_med', 'lp_sSFR_best', 'castor_uv_MAG', 'castor_uv_MAGERR',\n",
              "       'castor_u_MAG', 'castor_u_MAGERR', 'castor_g_MAG', 'castor_g_MAGERR',\n",
              "       'LSST_u_MAG', 'LSST_u_MAGERR', 'LSST_g_MAG', 'LSST_g_MAGERR',\n",
              "       'LSST_r_MAG', 'LSST_r_MAGERR', 'LSST_i_MAG', 'LSST_i_MAGERR',\n",
              "       'LSST_z_MAG', 'LSST_z_MAGERR', 'LSST_y_MAG', 'LSST_y_MAGERR',\n",
              "       'PanStarrs_g_MAG', 'PanStarrs_g_MAGERR', 'PanStarrs_r_MAG',\n",
              "       'PanStarrs_r_MAGERR', 'PanStarrs_i_MAG', 'PanStarrs_i_MAGERR',\n",
              "       'PanStarrs_z_MAG', 'PanStarrs_z_MAGERR', 'PanStarrs_y_MAG',\n",
              "       'PanStarrs_y_MAGERR', 'Euclid_Y_MAG', 'Euclid_Y_MAGERR', 'Euclid_J_MAG',\n",
              "       'Euclid_J_MAGERR', 'Euclid_H_MAG', 'Euclid_H_MAGERR', 'Euclid_VIS_MAG',\n",
              "       'Euclid_VIS_MAGERR', 'Roman_062_MAG', 'Roman_062_MAGERR',\n",
              "       'Roman_087_MAG', 'Roman_087_MAGERR', 'Roman_106_MAG',\n",
              "       'Roman_106_MAGERR', 'Roman_129_MAG', 'Roman_129_MAGERR',\n",
              "       'Roman_146_MAG', 'Roman_146_MAGERR', 'Roman_158_MAG',\n",
              "       'Roman_158_MAGERR', 'Roman_184_MAG', 'Roman_184_MAGERR',\n",
              "       'Roman_213_MAG', 'Roman_213_MAGERR'],\n",
              "      dtype='object')"
            ]
          },
          "metadata": {},
          "execution_count": 80
        }
      ]
    },
    {
      "cell_type": "code",
      "source": [
        "# unp = Table(unp.as_array().byteswap().newbyteorder('=')).to_pandas()\n",
        "# mock = Table(mock.as_array().byteswap().newbyteorder('=')).to_pandas()\n",
        "# mask = unp[\"Euclid_VIS_MAG\"] <= 24.5\n",
        "# mock"
      ],
      "metadata": {
        "id": "Jfz5j4qoA58N"
      },
      "id": "Jfz5j4qoA58N",
      "execution_count": null,
      "outputs": []
    },
    {
      "cell_type": "code",
      "source": [
        "# I guess now we have all the columns we need to make the various samples besides baseline. . .\n",
        "\n",
        "test = pd.merge(mock, unp[['ID',\"Euclid_VIS_MAG\",\n",
        "                          #  'Euclid_Y_MAG','Euclid_J_MAG','Euclid_H_MAG',\n",
        "                          #  'Roman_062_MAG','Roman_087_MAG','Roman_106_MAG',\n",
        "                          #  'Roman_129_MAG','Roman_146_MAG','Roman_158_MAG',\n",
        "                          #  'Roman_184_MAG','Roman_213_MAG'\n",
        "                           ]], on='ID')"
      ],
      "metadata": {
        "id": "m0RKyO8-gC_k"
      },
      "id": "m0RKyO8-gC_k",
      "execution_count": 17,
      "outputs": []
    },
    {
      "cell_type": "code",
      "source": [
        "test"
      ],
      "metadata": {
        "id": "O7_hsWb-gYD5",
        "outputId": "15e84529-e4e2-48a9-8905-31d4d32566eb",
        "colab": {
          "base_uri": "https://localhost:8080/",
          "height": 483
        }
      },
      "id": "O7_hsWb-gYD5",
      "execution_count": 18,
      "outputs": [
        {
          "output_type": "execute_result",
          "data": {
            "text/plain": [
              "            ID  photoz  castor_uv_MAG  castor_uv_MAGERR  castor_u_MAG  \\\n",
              "0            1  1.5930      28.254729          0.448615     25.992022   \n",
              "1            2  0.1151      27.394224          0.615400     27.408074   \n",
              "2            3  0.2211      23.793081          0.024148     23.874296   \n",
              "3            5  2.8698      28.021874          3.790039     27.130343   \n",
              "4            6  1.5139            NaN          1.372448     27.405443   \n",
              "...        ...     ...            ...               ...           ...   \n",
              "698206  964429  0.5593      23.297370          0.016245     23.364542   \n",
              "698207  964437  1.7660      26.031585          0.377502     26.675457   \n",
              "698208  964439  0.3207      26.235569          0.107262     25.688785   \n",
              "698209  964440  0.0490      28.452931         86.993753     26.939224   \n",
              "698210  964449  0.3073      25.022345          0.046346     25.261477   \n",
              "\n",
              "        castor_u_MAGERR  castor_g_MAG  castor_g_MAGERR  LSST_u_MAG  \\\n",
              "0              0.119891     25.826789         0.142720   25.979669   \n",
              "1              0.567899     27.149037         0.510590   27.197911   \n",
              "2              0.025684     23.519322         0.023301   23.881677   \n",
              "3              0.264546     25.744500         0.114967   26.287686   \n",
              "4              0.434689     28.154684         0.457488   27.520027   \n",
              "...                 ...           ...              ...         ...   \n",
              "698206         0.016829     23.572652         0.020839   23.409792   \n",
              "698207         0.431746     26.057066         0.488259   26.803141   \n",
              "698208         0.084903     25.308072         0.074601   25.569262   \n",
              "698209         5.680374           NaN         1.580289   27.796012   \n",
              "698210         0.056601     25.027346         0.065727   25.397788   \n",
              "\n",
              "        LSST_u_MAGERR  ...  Roman_129_MAGERR  Roman_158_MAG  Roman_158_MAGERR  \\\n",
              "0            0.153905  ...          0.079810      24.962978          0.080935   \n",
              "1            0.752778  ...          0.299143      26.447771          0.391600   \n",
              "2            0.024495  ...          0.019907      23.333492          0.022997   \n",
              "3            0.258137  ...          0.116011      25.421107          0.096367   \n",
              "4            0.855990  ...          0.176897      26.544889          0.180882   \n",
              "...               ...  ...               ...            ...               ...   \n",
              "698206       0.015035  ...          0.014529      23.769582          0.028268   \n",
              "698207       0.365876  ...          0.007441      20.969675          0.005681   \n",
              "698208       0.122167  ...          0.055601      24.817459          0.052815   \n",
              "698209       3.360202  ...          0.168206      24.057227          0.196020   \n",
              "698210       0.077029  ...          0.072654      24.888460          0.071438   \n",
              "\n",
              "        Roman_184_MAG  Roman_184_MAGERR       hlr  castor_uv_UNPMAG  \\\n",
              "0           24.937529          0.121715  0.260364         27.683381   \n",
              "1           26.655561          0.524696  0.315376         27.844114   \n",
              "2           23.273987          0.033543  0.341474         23.826591   \n",
              "3           25.352837          0.137380  0.222228         30.184010   \n",
              "4           26.306724          0.316326  0.150308         29.431319   \n",
              "...               ...               ...       ...               ...   \n",
              "698206      23.826702          0.043382  0.273552         23.300088   \n",
              "698207      20.735093          0.006624  0.676122         26.513011   \n",
              "698208      24.704142          0.078025  0.218479         26.181223   \n",
              "698209      24.062430          0.267246  1.296759         31.731963   \n",
              "698210      24.936038          0.108629  0.236097         25.020732   \n",
              "\n",
              "        castor_u_UNPMAG  castor_g_UNPMAG  Euclid_VIS_MAG  \n",
              "0             26.083223        25.933979       25.896338  \n",
              "1             27.658546        27.159357       26.908188  \n",
              "2             23.880792        23.514348       23.203628  \n",
              "3             27.146193        25.835429       25.858953  \n",
              "4             28.055567        27.741206       27.601569  \n",
              "...                 ...              ...             ...  \n",
              "698206        23.364395        23.537918       23.286846  \n",
              "698207        26.562687        26.311562       24.614821  \n",
              "698208        25.817343        25.344343       24.647086  \n",
              "698209        28.668804        26.889119       25.342216  \n",
              "698210        25.236927        25.124783       24.543565  \n",
              "\n",
              "[698211 rows x 39 columns]"
            ],
            "text/html": [
              "\n",
              "  <div id=\"df-feb1c76a-8f23-4a41-b603-30dfdc3a2a6a\">\n",
              "    <div class=\"colab-df-container\">\n",
              "      <div>\n",
              "<style scoped>\n",
              "    .dataframe tbody tr th:only-of-type {\n",
              "        vertical-align: middle;\n",
              "    }\n",
              "\n",
              "    .dataframe tbody tr th {\n",
              "        vertical-align: top;\n",
              "    }\n",
              "\n",
              "    .dataframe thead th {\n",
              "        text-align: right;\n",
              "    }\n",
              "</style>\n",
              "<table border=\"1\" class=\"dataframe\">\n",
              "  <thead>\n",
              "    <tr style=\"text-align: right;\">\n",
              "      <th></th>\n",
              "      <th>ID</th>\n",
              "      <th>photoz</th>\n",
              "      <th>castor_uv_MAG</th>\n",
              "      <th>castor_uv_MAGERR</th>\n",
              "      <th>castor_u_MAG</th>\n",
              "      <th>castor_u_MAGERR</th>\n",
              "      <th>castor_g_MAG</th>\n",
              "      <th>castor_g_MAGERR</th>\n",
              "      <th>LSST_u_MAG</th>\n",
              "      <th>LSST_u_MAGERR</th>\n",
              "      <th>...</th>\n",
              "      <th>Roman_129_MAGERR</th>\n",
              "      <th>Roman_158_MAG</th>\n",
              "      <th>Roman_158_MAGERR</th>\n",
              "      <th>Roman_184_MAG</th>\n",
              "      <th>Roman_184_MAGERR</th>\n",
              "      <th>hlr</th>\n",
              "      <th>castor_uv_UNPMAG</th>\n",
              "      <th>castor_u_UNPMAG</th>\n",
              "      <th>castor_g_UNPMAG</th>\n",
              "      <th>Euclid_VIS_MAG</th>\n",
              "    </tr>\n",
              "  </thead>\n",
              "  <tbody>\n",
              "    <tr>\n",
              "      <th>0</th>\n",
              "      <td>1</td>\n",
              "      <td>1.5930</td>\n",
              "      <td>28.254729</td>\n",
              "      <td>0.448615</td>\n",
              "      <td>25.992022</td>\n",
              "      <td>0.119891</td>\n",
              "      <td>25.826789</td>\n",
              "      <td>0.142720</td>\n",
              "      <td>25.979669</td>\n",
              "      <td>0.153905</td>\n",
              "      <td>...</td>\n",
              "      <td>0.079810</td>\n",
              "      <td>24.962978</td>\n",
              "      <td>0.080935</td>\n",
              "      <td>24.937529</td>\n",
              "      <td>0.121715</td>\n",
              "      <td>0.260364</td>\n",
              "      <td>27.683381</td>\n",
              "      <td>26.083223</td>\n",
              "      <td>25.933979</td>\n",
              "      <td>25.896338</td>\n",
              "    </tr>\n",
              "    <tr>\n",
              "      <th>1</th>\n",
              "      <td>2</td>\n",
              "      <td>0.1151</td>\n",
              "      <td>27.394224</td>\n",
              "      <td>0.615400</td>\n",
              "      <td>27.408074</td>\n",
              "      <td>0.567899</td>\n",
              "      <td>27.149037</td>\n",
              "      <td>0.510590</td>\n",
              "      <td>27.197911</td>\n",
              "      <td>0.752778</td>\n",
              "      <td>...</td>\n",
              "      <td>0.299143</td>\n",
              "      <td>26.447771</td>\n",
              "      <td>0.391600</td>\n",
              "      <td>26.655561</td>\n",
              "      <td>0.524696</td>\n",
              "      <td>0.315376</td>\n",
              "      <td>27.844114</td>\n",
              "      <td>27.658546</td>\n",
              "      <td>27.159357</td>\n",
              "      <td>26.908188</td>\n",
              "    </tr>\n",
              "    <tr>\n",
              "      <th>2</th>\n",
              "      <td>3</td>\n",
              "      <td>0.2211</td>\n",
              "      <td>23.793081</td>\n",
              "      <td>0.024148</td>\n",
              "      <td>23.874296</td>\n",
              "      <td>0.025684</td>\n",
              "      <td>23.519322</td>\n",
              "      <td>0.023301</td>\n",
              "      <td>23.881677</td>\n",
              "      <td>0.024495</td>\n",
              "      <td>...</td>\n",
              "      <td>0.019907</td>\n",
              "      <td>23.333492</td>\n",
              "      <td>0.022997</td>\n",
              "      <td>23.273987</td>\n",
              "      <td>0.033543</td>\n",
              "      <td>0.341474</td>\n",
              "      <td>23.826591</td>\n",
              "      <td>23.880792</td>\n",
              "      <td>23.514348</td>\n",
              "      <td>23.203628</td>\n",
              "    </tr>\n",
              "    <tr>\n",
              "      <th>3</th>\n",
              "      <td>5</td>\n",
              "      <td>2.8698</td>\n",
              "      <td>28.021874</td>\n",
              "      <td>3.790039</td>\n",
              "      <td>27.130343</td>\n",
              "      <td>0.264546</td>\n",
              "      <td>25.744500</td>\n",
              "      <td>0.114967</td>\n",
              "      <td>26.287686</td>\n",
              "      <td>0.258137</td>\n",
              "      <td>...</td>\n",
              "      <td>0.116011</td>\n",
              "      <td>25.421107</td>\n",
              "      <td>0.096367</td>\n",
              "      <td>25.352837</td>\n",
              "      <td>0.137380</td>\n",
              "      <td>0.222228</td>\n",
              "      <td>30.184010</td>\n",
              "      <td>27.146193</td>\n",
              "      <td>25.835429</td>\n",
              "      <td>25.858953</td>\n",
              "    </tr>\n",
              "    <tr>\n",
              "      <th>4</th>\n",
              "      <td>6</td>\n",
              "      <td>1.5139</td>\n",
              "      <td>NaN</td>\n",
              "      <td>1.372448</td>\n",
              "      <td>27.405443</td>\n",
              "      <td>0.434689</td>\n",
              "      <td>28.154684</td>\n",
              "      <td>0.457488</td>\n",
              "      <td>27.520027</td>\n",
              "      <td>0.855990</td>\n",
              "      <td>...</td>\n",
              "      <td>0.176897</td>\n",
              "      <td>26.544889</td>\n",
              "      <td>0.180882</td>\n",
              "      <td>26.306724</td>\n",
              "      <td>0.316326</td>\n",
              "      <td>0.150308</td>\n",
              "      <td>29.431319</td>\n",
              "      <td>28.055567</td>\n",
              "      <td>27.741206</td>\n",
              "      <td>27.601569</td>\n",
              "    </tr>\n",
              "    <tr>\n",
              "      <th>...</th>\n",
              "      <td>...</td>\n",
              "      <td>...</td>\n",
              "      <td>...</td>\n",
              "      <td>...</td>\n",
              "      <td>...</td>\n",
              "      <td>...</td>\n",
              "      <td>...</td>\n",
              "      <td>...</td>\n",
              "      <td>...</td>\n",
              "      <td>...</td>\n",
              "      <td>...</td>\n",
              "      <td>...</td>\n",
              "      <td>...</td>\n",
              "      <td>...</td>\n",
              "      <td>...</td>\n",
              "      <td>...</td>\n",
              "      <td>...</td>\n",
              "      <td>...</td>\n",
              "      <td>...</td>\n",
              "      <td>...</td>\n",
              "      <td>...</td>\n",
              "    </tr>\n",
              "    <tr>\n",
              "      <th>698206</th>\n",
              "      <td>964429</td>\n",
              "      <td>0.5593</td>\n",
              "      <td>23.297370</td>\n",
              "      <td>0.016245</td>\n",
              "      <td>23.364542</td>\n",
              "      <td>0.016829</td>\n",
              "      <td>23.572652</td>\n",
              "      <td>0.020839</td>\n",
              "      <td>23.409792</td>\n",
              "      <td>0.015035</td>\n",
              "      <td>...</td>\n",
              "      <td>0.014529</td>\n",
              "      <td>23.769582</td>\n",
              "      <td>0.028268</td>\n",
              "      <td>23.826702</td>\n",
              "      <td>0.043382</td>\n",
              "      <td>0.273552</td>\n",
              "      <td>23.300088</td>\n",
              "      <td>23.364395</td>\n",
              "      <td>23.537918</td>\n",
              "      <td>23.286846</td>\n",
              "    </tr>\n",
              "    <tr>\n",
              "      <th>698207</th>\n",
              "      <td>964437</td>\n",
              "      <td>1.7660</td>\n",
              "      <td>26.031585</td>\n",
              "      <td>0.377502</td>\n",
              "      <td>26.675457</td>\n",
              "      <td>0.431746</td>\n",
              "      <td>26.057066</td>\n",
              "      <td>0.488259</td>\n",
              "      <td>26.803141</td>\n",
              "      <td>0.365876</td>\n",
              "      <td>...</td>\n",
              "      <td>0.007441</td>\n",
              "      <td>20.969675</td>\n",
              "      <td>0.005681</td>\n",
              "      <td>20.735093</td>\n",
              "      <td>0.006624</td>\n",
              "      <td>0.676122</td>\n",
              "      <td>26.513011</td>\n",
              "      <td>26.562687</td>\n",
              "      <td>26.311562</td>\n",
              "      <td>24.614821</td>\n",
              "    </tr>\n",
              "    <tr>\n",
              "      <th>698208</th>\n",
              "      <td>964439</td>\n",
              "      <td>0.3207</td>\n",
              "      <td>26.235569</td>\n",
              "      <td>0.107262</td>\n",
              "      <td>25.688785</td>\n",
              "      <td>0.084903</td>\n",
              "      <td>25.308072</td>\n",
              "      <td>0.074601</td>\n",
              "      <td>25.569262</td>\n",
              "      <td>0.122167</td>\n",
              "      <td>...</td>\n",
              "      <td>0.055601</td>\n",
              "      <td>24.817459</td>\n",
              "      <td>0.052815</td>\n",
              "      <td>24.704142</td>\n",
              "      <td>0.078025</td>\n",
              "      <td>0.218479</td>\n",
              "      <td>26.181223</td>\n",
              "      <td>25.817343</td>\n",
              "      <td>25.344343</td>\n",
              "      <td>24.647086</td>\n",
              "    </tr>\n",
              "    <tr>\n",
              "      <th>698209</th>\n",
              "      <td>964440</td>\n",
              "      <td>0.0490</td>\n",
              "      <td>28.452931</td>\n",
              "      <td>86.993753</td>\n",
              "      <td>26.939224</td>\n",
              "      <td>5.680374</td>\n",
              "      <td>NaN</td>\n",
              "      <td>1.580289</td>\n",
              "      <td>27.796012</td>\n",
              "      <td>3.360202</td>\n",
              "      <td>...</td>\n",
              "      <td>0.168206</td>\n",
              "      <td>24.057227</td>\n",
              "      <td>0.196020</td>\n",
              "      <td>24.062430</td>\n",
              "      <td>0.267246</td>\n",
              "      <td>1.296759</td>\n",
              "      <td>31.731963</td>\n",
              "      <td>28.668804</td>\n",
              "      <td>26.889119</td>\n",
              "      <td>25.342216</td>\n",
              "    </tr>\n",
              "    <tr>\n",
              "      <th>698210</th>\n",
              "      <td>964449</td>\n",
              "      <td>0.3073</td>\n",
              "      <td>25.022345</td>\n",
              "      <td>0.046346</td>\n",
              "      <td>25.261477</td>\n",
              "      <td>0.056601</td>\n",
              "      <td>25.027346</td>\n",
              "      <td>0.065727</td>\n",
              "      <td>25.397788</td>\n",
              "      <td>0.077029</td>\n",
              "      <td>...</td>\n",
              "      <td>0.072654</td>\n",
              "      <td>24.888460</td>\n",
              "      <td>0.071438</td>\n",
              "      <td>24.936038</td>\n",
              "      <td>0.108629</td>\n",
              "      <td>0.236097</td>\n",
              "      <td>25.020732</td>\n",
              "      <td>25.236927</td>\n",
              "      <td>25.124783</td>\n",
              "      <td>24.543565</td>\n",
              "    </tr>\n",
              "  </tbody>\n",
              "</table>\n",
              "<p>698211 rows × 39 columns</p>\n",
              "</div>\n",
              "      <button class=\"colab-df-convert\" onclick=\"convertToInteractive('df-feb1c76a-8f23-4a41-b603-30dfdc3a2a6a')\"\n",
              "              title=\"Convert this dataframe to an interactive table.\"\n",
              "              style=\"display:none;\">\n",
              "        \n",
              "  <svg xmlns=\"http://www.w3.org/2000/svg\" height=\"24px\"viewBox=\"0 0 24 24\"\n",
              "       width=\"24px\">\n",
              "    <path d=\"M0 0h24v24H0V0z\" fill=\"none\"/>\n",
              "    <path d=\"M18.56 5.44l.94 2.06.94-2.06 2.06-.94-2.06-.94-.94-2.06-.94 2.06-2.06.94zm-11 1L8.5 8.5l.94-2.06 2.06-.94-2.06-.94L8.5 2.5l-.94 2.06-2.06.94zm10 10l.94 2.06.94-2.06 2.06-.94-2.06-.94-.94-2.06-.94 2.06-2.06.94z\"/><path d=\"M17.41 7.96l-1.37-1.37c-.4-.4-.92-.59-1.43-.59-.52 0-1.04.2-1.43.59L10.3 9.45l-7.72 7.72c-.78.78-.78 2.05 0 2.83L4 21.41c.39.39.9.59 1.41.59.51 0 1.02-.2 1.41-.59l7.78-7.78 2.81-2.81c.8-.78.8-2.07 0-2.86zM5.41 20L4 18.59l7.72-7.72 1.47 1.35L5.41 20z\"/>\n",
              "  </svg>\n",
              "      </button>\n",
              "      \n",
              "  <style>\n",
              "    .colab-df-container {\n",
              "      display:flex;\n",
              "      flex-wrap:wrap;\n",
              "      gap: 12px;\n",
              "    }\n",
              "\n",
              "    .colab-df-convert {\n",
              "      background-color: #E8F0FE;\n",
              "      border: none;\n",
              "      border-radius: 50%;\n",
              "      cursor: pointer;\n",
              "      display: none;\n",
              "      fill: #1967D2;\n",
              "      height: 32px;\n",
              "      padding: 0 0 0 0;\n",
              "      width: 32px;\n",
              "    }\n",
              "\n",
              "    .colab-df-convert:hover {\n",
              "      background-color: #E2EBFA;\n",
              "      box-shadow: 0px 1px 2px rgba(60, 64, 67, 0.3), 0px 1px 3px 1px rgba(60, 64, 67, 0.15);\n",
              "      fill: #174EA6;\n",
              "    }\n",
              "\n",
              "    [theme=dark] .colab-df-convert {\n",
              "      background-color: #3B4455;\n",
              "      fill: #D2E3FC;\n",
              "    }\n",
              "\n",
              "    [theme=dark] .colab-df-convert:hover {\n",
              "      background-color: #434B5C;\n",
              "      box-shadow: 0px 1px 3px 1px rgba(0, 0, 0, 0.15);\n",
              "      filter: drop-shadow(0px 1px 2px rgba(0, 0, 0, 0.3));\n",
              "      fill: #FFFFFF;\n",
              "    }\n",
              "  </style>\n",
              "\n",
              "      <script>\n",
              "        const buttonEl =\n",
              "          document.querySelector('#df-feb1c76a-8f23-4a41-b603-30dfdc3a2a6a button.colab-df-convert');\n",
              "        buttonEl.style.display =\n",
              "          google.colab.kernel.accessAllowed ? 'block' : 'none';\n",
              "\n",
              "        async function convertToInteractive(key) {\n",
              "          const element = document.querySelector('#df-feb1c76a-8f23-4a41-b603-30dfdc3a2a6a');\n",
              "          const dataTable =\n",
              "            await google.colab.kernel.invokeFunction('convertToInteractive',\n",
              "                                                     [key], {});\n",
              "          if (!dataTable) return;\n",
              "\n",
              "          const docLinkHtml = 'Like what you see? Visit the ' +\n",
              "            '<a target=\"_blank\" href=https://colab.research.google.com/notebooks/data_table.ipynb>data table notebook</a>'\n",
              "            + ' to learn more about interactive tables.';\n",
              "          element.innerHTML = '';\n",
              "          dataTable['output_type'] = 'display_data';\n",
              "          await google.colab.output.renderOutput(dataTable, element);\n",
              "          const docLink = document.createElement('div');\n",
              "          docLink.innerHTML = docLinkHtml;\n",
              "          element.appendChild(docLink);\n",
              "        }\n",
              "      </script>\n",
              "    </div>\n",
              "  </div>\n",
              "  "
            ]
          },
          "metadata": {},
          "execution_count": 18
        }
      ]
    },
    {
      "cell_type": "code",
      "source": [
        "CASTOR_baseline = Table.from_pandas(test[(test[\"Euclid_VIS_MAG\"] <= 24.5) & (test[\"LSST_r_MAG\"] >= 17.5)])#[mask]#Table.from_pandas(mock[mask]) #ignoring training data outside the Euclid flux limit\n",
        "# idcol =  CASTOR_baseline['ID']\n",
        "# CASTOR_baseline = Table(CASTOR_baseline.as_array().byteswap().newbyteorder('=')).to_pandas()[CASTOR_baseline.columns[1:]]\n",
        "# print(CASTOR_baseline.columns)\n",
        "# CASTOR_baseline['ID'] = idcol.astype(int).to_numpy().byteswap().newbyteorder('=')\n",
        "# colnames = CASTOR_baseline.columns\n",
        "# print(colnames)\n",
        "# CASTOR_baseline = pd.DataFrame(CASTOR_baseline.to_numpy().byteswap().newbyteorder('='), columns=colnames)\n",
        "# CASTOR_baseline = CASTOR_baseline.set_index('ID')\n",
        "# CASTOR_baseline"
      ],
      "metadata": {
        "id": "KlRbMi9lRFcl"
      },
      "id": "KlRbMi9lRFcl",
      "execution_count": 19,
      "outputs": []
    },
    {
      "cell_type": "code",
      "source": [
        "names_phot = [\"ID\", \"photoz\",\n",
        "              \"LSST_g_MAG\", \"LSST_g_MAGERR\", \n",
        "              \"LSST_r_MAG\", \"LSST_r_MAGERR\",\n",
        "              \"LSST_i_MAG\", \"LSST_i_MAGERR\", \n",
        "              \"LSST_z_MAG\", \"LSST_z_MAGERR\",\n",
        "              \"castor_uv_MAG\", \"castor_uv_MAGERR\", \n",
        "              \"castor_u_MAG\", \"castor_u_MAGERR\", \n",
        "              \"castor_g_MAG\", \"castor_g_MAGERR\",\n",
        "              \"Euclid_VIS_MAG\",\n",
        "                           'Euclid_Y_MAG','Euclid_J_MAG','Euclid_H_MAG']\n",
        "                          #,\n",
        "                          #  'Roman_062_MAG','Roman_087_MAG','Roman_106_MAG',\n",
        "                          #  'Roman_129_MAG','Roman_146_MAG','Roman_158_MAG',\n",
        "                          #  'Roman_184_MAG','Roman_213_MAG']\n",
        "available_os = [\"CASTOR-only\", \"LSST-only\", \"Euclid-only\", #\"Roman-only\",\n",
        "\"LSST+CASTOR\", \"Euclid+CASTOR\", #\"Roman+CASTOR\",\n",
        "\"Euclid+LSST\", \"Euclid+LSST+CASTOR\"\n",
        "]\n",
        "names = available_os"
      ],
      "metadata": {
        "id": "40UyfzNgRHtr"
      },
      "id": "40UyfzNgRHtr",
      "execution_count": 20,
      "outputs": []
    },
    {
      "cell_type": "code",
      "source": [
        "# os_names = dict(zip(available_os, names))\n",
        "# colors = [\"k\"] #, \"plum\", \"cornflowerblue\", \"#2ca02c\", \"gold\", \"tomato\"]\n",
        "# os_colors = dict(zip(available_os, colors))"
      ],
      "metadata": {
        "id": "7_ElTN-FR281"
      },
      "id": "7_ElTN-FR281",
      "execution_count": 21,
      "outputs": []
    },
    {
      "cell_type": "code",
      "source": [
        "# put data in expected format for TLM\n",
        "\n",
        "LSST_g_mag = getTrueY(test_cat=CASTOR_baseline, mag_col_names=names_phot, y_col_name=\"LSST_g_MAG\")\n",
        "LSST_r_mag = getTrueY(test_cat=CASTOR_baseline, mag_col_names=names_phot, y_col_name=\"LSST_r_MAG\")\n",
        "LSST_i_mag = getTrueY(test_cat=CASTOR_baseline, mag_col_names=names_phot, y_col_name=\"LSST_i_MAG\")\n",
        "LSST_z_mag = getTrueY(test_cat=CASTOR_baseline, mag_col_names=names_phot, y_col_name=\"LSST_z_MAG\")\n",
        "\n",
        "# LSST_g_mag_ERR = getTrueY(test_cat=CASTOR_baseline, mag_col_names=names_phot, y_col_name=\"LSST_g_MAGERR\")\n",
        "# LSST_r_mag_ERR = getTrueY(test_cat=CASTOR_baseline, mag_col_names=names_phot, y_col_name=\"LSST_r_MAGERR\")\n",
        "# LSST_i_mag_ERR = getTrueY(test_cat=CASTOR_baseline, mag_col_names=names_phot, y_col_name=\"LSST_i_MAGERR\")\n",
        "# LSST_z_mag_ERR = getTrueY(test_cat=CASTOR_baseline, mag_col_names=names_phot, y_col_name=\"LSST_z_MAGERR\")\n",
        "\n",
        "CASTOR_g_mag = getTrueY(test_cat=CASTOR_baseline, mag_col_names=names_phot, y_col_name=\"castor_g_MAG\")\n",
        "CASTOR_u_mag = getTrueY(test_cat=CASTOR_baseline, mag_col_names=names_phot, y_col_name=\"castor_u_MAG\")\n",
        "CASTOR_uv_mag = getTrueY(test_cat=CASTOR_baseline, mag_col_names=names_phot, y_col_name=\"castor_uv_MAG\")\n",
        "\n",
        "# CASTOR_g_mag_ERR = getTrueY(test_cat=CASTOR_baseline, mag_col_names=names_phot, y_col_name=\"castor_g_MAGERR\")\n",
        "# CASTOR_u_mag_ERR = getTrueY(test_cat=CASTOR_baseline, mag_col_names=names_phot, y_col_name=\"castor_u_MAGERR\")\n",
        "# CASTOR_uv_mag_ERR = getTrueY(test_cat=CASTOR_baseline, mag_col_names=names_phot, y_col_name=\"castor_uv_MAGERR\")\n",
        "\n",
        "Euclid_VIS_mag = getTrueY(test_cat=CASTOR_baseline, mag_col_names=names_phot, y_col_name=\"Euclid_VIS_MAG\")\n",
        "Euclid_J_mag = getTrueY(test_cat=CASTOR_baseline, mag_col_names=names_phot, y_col_name=\"Euclid_J_MAG\")\n",
        "Euclid_H_mag = getTrueY(test_cat=CASTOR_baseline, mag_col_names=names_phot, y_col_name=\"Euclid_H_MAG\")\n",
        "Euclid_Y_mag = getTrueY(test_cat=CASTOR_baseline, mag_col_names=names_phot, y_col_name=\"Euclid_Y_MAG\")\n",
        "\n",
        "ID = getTrueY(test_cat=CASTOR_baseline, mag_col_names=names_phot, y_col_name=\"ID\")\n",
        "z_true = getTrueY(test_cat=CASTOR_baseline, mag_col_names=names_phot, y_col_name=\"photoz\")\n",
        "\n"
      ],
      "metadata": {
        "id": "f8fFRKHGR7nR"
      },
      "id": "f8fFRKHGR7nR",
      "execution_count": 22,
      "outputs": []
    },
    {
      "cell_type": "code",
      "source": [
        "#df = pd.DataFrame({'CASTOR_ID': data_array_sorted_CASTOR_wID[:,0] , 'error': data_array_sorted_CASTOR_wID[:,1], \n",
        "#                   'g-r': data_array_sorted_CASTOR_wID[:,2] - data_array_sorted_CASTOR_wID[:,3], \n",
        "#                   'r-i': data_array_sorted_CASTOR_wID[:,3] - data_array_sorted_CASTOR_wID[:,4], \n",
        "#                   'i-z': data_array_sorted_CASTOR_wID[:,4] - data_array_sorted_CASTOR_wID[:,5], \n",
        "#                   'true_z': data_array_sorted_CASTOR_wID[:,6]})\n",
        "catalogs = dict()\n",
        "catalogs['LSST+CASTOR'] = pd.DataFrame({'CASTOR_ID': ID, 'z_true': z_true, \n",
        "                             'r': LSST_r_mag,\n",
        "                             'g-r': LSST_g_mag - LSST_r_mag, \n",
        "                             'r-i': LSST_r_mag - LSST_i_mag, \n",
        "                             'i-z': LSST_i_mag - LSST_z_mag, \n",
        "                             'uv-u': CASTOR_uv_mag - CASTOR_u_mag, \n",
        "                             'u-g': CASTOR_u_mag - CASTOR_g_mag\n",
        "                      }).set_index('CASTOR_ID').dropna()\n",
        "catalogs['LSST-only'] = pd.DataFrame({'CASTOR_ID': ID, 'z_true': z_true, \n",
        "                             'r': LSST_r_mag,\n",
        "                             'g-r': LSST_g_mag - LSST_r_mag, \n",
        "                             'r-i': LSST_r_mag - LSST_i_mag, \n",
        "                             'i-z': LSST_i_mag - LSST_z_mag, \n",
        "                      }).set_index('CASTOR_ID').dropna()\n",
        "catalogs['CASTOR-only'] = pd.DataFrame({'CASTOR_ID': ID, 'z_true': z_true, \n",
        "                             'g': CASTOR_g_mag,\n",
        "                             'uv-u': CASTOR_uv_mag - CASTOR_u_mag, \n",
        "                             'u-g': CASTOR_u_mag - CASTOR_g_mag\n",
        "                      }).set_index('CASTOR_ID').dropna()   \n",
        "catalogs['Euclid-only'] = pd.DataFrame({'CASTOR_ID': ID, 'z_true': z_true, \n",
        "                             'v': Euclid_VIS_mag,\n",
        "                             'v-y': Euclid_VIS_mag - Euclid_Y_mag, \n",
        "                             'y-j': Euclid_Y_mag - Euclid_J_mag, \n",
        "                             'j-h': Euclid_J_mag - Euclid_H_mag, \n",
        "                      }).set_index('CASTOR_ID').dropna()\n",
        "catalogs['Euclid+CASTOR'] = pd.DataFrame({'CASTOR_ID': ID, 'z_true': z_true, \n",
        "                             'g': CASTOR_g_mag,\n",
        "                             'uv-u': CASTOR_uv_mag - CASTOR_u_mag, \n",
        "                             'u-g': CASTOR_u_mag - CASTOR_g_mag,\n",
        "                             'v': Euclid_VIS_mag,\n",
        "                             'v-y': Euclid_VIS_mag - Euclid_Y_mag, \n",
        "                             'y-j': Euclid_Y_mag - Euclid_J_mag, \n",
        "                             'j-h': Euclid_J_mag - Euclid_H_mag, \n",
        "                      }).set_index('CASTOR_ID').dropna()\n",
        "catalogs['Euclid+LSST'] = pd.DataFrame({'CASTOR_ID': ID, 'z_true': z_true, \n",
        "                              'r': LSST_r_mag,\n",
        "                             'g-r': LSST_g_mag - LSST_r_mag, \n",
        "                             'r-i': LSST_r_mag - LSST_i_mag, \n",
        "                             'i-z': LSST_i_mag - LSST_z_mag,\n",
        "                             'v': Euclid_VIS_mag,\n",
        "                             'v-y': Euclid_VIS_mag - Euclid_Y_mag, \n",
        "                             'y-j': Euclid_Y_mag - Euclid_J_mag, \n",
        "                             'j-h': Euclid_J_mag - Euclid_H_mag, \n",
        "                      }).set_index('CASTOR_ID').dropna()\n",
        "catalogs['Euclid+LSST+CASTOR'] = pd.DataFrame({'CASTOR_ID': ID, 'z_true': z_true, \n",
        "                              'r': LSST_r_mag,\n",
        "                             'g-r': LSST_g_mag - LSST_r_mag, \n",
        "                             'r-i': LSST_r_mag - LSST_i_mag, \n",
        "                             'i-z': LSST_i_mag - LSST_z_mag,\n",
        "                             'v': Euclid_VIS_mag,\n",
        "                             'v-y': Euclid_VIS_mag - Euclid_Y_mag, \n",
        "                             'y-j': Euclid_Y_mag - Euclid_J_mag, \n",
        "                             'j-h': Euclid_J_mag - Euclid_H_mag, \n",
        "                             'g': CASTOR_g_mag,\n",
        "                             'uv-u': CASTOR_uv_mag - CASTOR_u_mag, \n",
        "                             'u-g': CASTOR_u_mag - CASTOR_g_mag\n",
        "                      }).set_index('CASTOR_ID').dropna()\n",
        "\n",
        "# for os in available_os:\n",
        "    \n",
        "#     cat = pd.DataFrame({'CASTOR_ID': ID, 'z_true': z_true, \n",
        "#                              'LSST_g_mag': LSST_g_mag, 'LSST_g_mag_ERR': LSST_g_mag_ERR, \n",
        "#                              'LSST_r_mag': LSST_r_mag, 'LSST_r_mag_ERR': LSST_r_mag_ERR, \n",
        "#                              'LSST_i_mag': LSST_i_mag, 'LSST_i_mag_ERR': LSST_i_mag_ERR, \n",
        "#                              'LSST_z_mag': LSST_z_mag, 'LSST_z_mag_ERR': LSST_z_mag_ERR, \n",
        "#                              'CASTOR_uv_mag': LSST_uv_mag, 'LSST_uv_mag_ERR': LSST_uv_mag_ERR, \n",
        "#                              'CASTOR_u_mag': LSST_u_mag, 'LSST_u_mag_ERR': LSST_u_mag_ERR, \n",
        "#               'CASTOR_g_mag': LSST_g_mag, 'LSST_g_mag_ERR': LSST_g_mag_ERR})\n",
        "    \n",
        "    # this will need to change to accomodate multiple catalogs, e.g. LSST only or LSST + CASTOR\n",
        "    \n",
        "\n",
        "    # cat = pd.DataFrame({'CASTOR_ID': ID, 'z_true': z_true, \n",
        "    #                          'r': LSST_r_mag,\n",
        "    #                          'g': LSST_g_mag,\n",
        "    #                          'i':LSST_i_mag, \n",
        "    #                          'z': LSST_z_mag, \n",
        "    #                          'uv': CASTOR_uv_mag,\n",
        "    #                          'u':  CASTOR_u_mag, \n",
        "    #                          'g': CASTOR_g_mag\n",
        "    #                   }).set_index('CASTOR_ID')\n",
        "    # cat = pd.DataFrame(Table(cat.to_numpy().byteswap().newbyteorder('=')).to_pandas().to_numpy().byteswap().newbyteorder('='))\n",
        "    # assert(cat.isnull().sum().all() == 0)\n",
        "    # catalogs[os] = cat.dropna()\n",
        "    # means = catalogs[os].mean(axis=0).values\n",
        "    # stds = catalogs[os].std(axis=0).values"
      ],
      "metadata": {
        "id": "NhgJne8VSQuZ"
      },
      "id": "NhgJne8VSQuZ",
      "execution_count": 23,
      "outputs": []
    },
    {
      "cell_type": "code",
      "source": [
        "for os in catalogs.keys():\n",
        "  print(catalogs[os].isnull().sum())\n",
        "  print(len(catalogs[os]))"
      ],
      "metadata": {
        "colab": {
          "base_uri": "https://localhost:8080/"
        },
        "id": "JMz7LHKIdlA-",
        "outputId": "4a300be2-85e7-4104-9429-b23214a905b5"
      },
      "id": "JMz7LHKIdlA-",
      "execution_count": 24,
      "outputs": [
        {
          "output_type": "stream",
          "name": "stdout",
          "text": [
            "z_true    0\n",
            "r         0\n",
            "g-r       0\n",
            "r-i       0\n",
            "i-z       0\n",
            "uv-u      0\n",
            "u-g       0\n",
            "dtype: int64\n",
            "108838\n",
            "z_true    0\n",
            "r         0\n",
            "g-r       0\n",
            "r-i       0\n",
            "i-z       0\n",
            "dtype: int64\n",
            "108838\n",
            "z_true    0\n",
            "g         0\n",
            "uv-u      0\n",
            "u-g       0\n",
            "dtype: int64\n",
            "108838\n",
            "z_true    0\n",
            "v         0\n",
            "v-y       0\n",
            "y-j       0\n",
            "j-h       0\n",
            "dtype: int64\n",
            "108838\n",
            "z_true    0\n",
            "g         0\n",
            "uv-u      0\n",
            "u-g       0\n",
            "v         0\n",
            "v-y       0\n",
            "y-j       0\n",
            "j-h       0\n",
            "dtype: int64\n",
            "108838\n",
            "z_true    0\n",
            "r         0\n",
            "g-r       0\n",
            "r-i       0\n",
            "i-z       0\n",
            "v         0\n",
            "v-y       0\n",
            "y-j       0\n",
            "j-h       0\n",
            "dtype: int64\n",
            "108838\n",
            "z_true    0\n",
            "r         0\n",
            "g-r       0\n",
            "r-i       0\n",
            "i-z       0\n",
            "v         0\n",
            "v-y       0\n",
            "y-j       0\n",
            "j-h       0\n",
            "g         0\n",
            "uv-u      0\n",
            "u-g       0\n",
            "dtype: int64\n",
            "108838\n"
          ]
        }
      ]
    },
    {
      "cell_type": "code",
      "source": [
        "# corner.corner(cat)"
      ],
      "metadata": {
        "id": "vAQ9vbSnOEa5"
      },
      "id": "vAQ9vbSnOEa5",
      "execution_count": null,
      "outputs": []
    },
    {
      "cell_type": "code",
      "source": [
        "# # import matplotlib.pyplot as plt\n",
        "# mins, maxs = [], []\n",
        "# for col in cat.columns:\n",
        "#   # plt.hist(cat[col])\n",
        "#   # plt.show()\n",
        "#   mins.append(np.floor(min(cat[col])))\n",
        "#   maxs.append(np.ceil(max(cat[col])))"
      ],
      "metadata": {
        "id": "b0cel3dMdSuB"
      },
      "id": "b0cel3dMdSuB",
      "execution_count": null,
      "outputs": []
    },
    {
      "cell_type": "code",
      "source": [
        "# mins, maxs"
      ],
      "metadata": {
        "id": "fAiFaQatfwvQ"
      },
      "id": "fAiFaQatfwvQ",
      "execution_count": null,
      "outputs": []
    },
    {
      "cell_type": "code",
      "source": [
        "# print(mins)\n",
        "# print(maxs)"
      ],
      "metadata": {
        "colab": {
          "base_uri": "https://localhost:8080/"
        },
        "id": "28RX2zceLOJ_",
        "outputId": "da0781cc-51ba-4703-cc52-c815cd98e1a9"
      },
      "id": "28RX2zceLOJ_",
      "execution_count": null,
      "outputs": [
        {
          "output_type": "stream",
          "name": "stdout",
          "text": [
            "[0.0, 14.0, -3.0, -3.0, -3.0, -7.0, -9.0]\n",
            "[6.0, 27.0, 5.0, 3.0, 4.0, 12.0, 10.0]\n"
          ]
        }
      ]
    },
    {
      "cell_type": "code",
      "source": [
        "# mins = [0, 20, -5, -5, -5, -5, -5]\n",
        "# maxs = [6, 30, 5, 5, 5, 5, 5]\n",
        "\n",
        "# the data column is the one that is sampled and transformed by the flow\n",
        "data_columns = [\"z_true\"]\n",
        "\n",
        "all_cond_cols = {}\n",
        "ensembles = dict()\n",
        "\n",
        "for os in ['Euclid-only', 'Euclid+CASTOR', 'Euclid+LSST+CASTOR', 'Euclid+LSST']:#catalogs.keys():\n",
        " # the conditional columns are the columns that the flow is conditioned on\n",
        "  conditional_columns = catalogs[os].columns.drop('z_true')#[\"r\", \"g-r\", \"r-i\", \"i-z\"] #, \"uv-u\", \"u-g\"] # different colors than LSST\n",
        "  all_cond_cols[os] = conditional_columns\n",
        "  print((os, conditional_columns))\n",
        "  ndcol = len(data_columns)\n",
        "  ncond = len(conditional_columns)\n",
        "  ndim = ndcol+ncond\n",
        "\n",
        "# first I create a bijector chain\n",
        "# the first bijection is a standard scaler - but I'm not actually using it for standard scaling\n",
        "#     I set the mean and std so that it maps the redshift range (0, 3.2) onto (-5, 5), which is \n",
        "#     the domain of the NeuralSplineCoupling\n",
        "# the second bijection is a NeuralSplineCoupling. I told it to expect 6 conditions,\n",
        "#     which will be the r mag and the galaxy colors\n",
        "# bijector = Chain(\n",
        "#     StandardScaler(np.atleast_1d(1.6), np.atleast_1d(0.32)),\n",
        "#     NeuralSplineCoupling(n_conditions=6)\n",
        "# )\n",
        "  bijector = Chain(\n",
        "    # InvSoftplus(z_col, sharpness),\n",
        "    ShiftBounds(0, 6, B=4),\n",
        "    RollingSplineCoupling(nlayers=1, n_conditions=ncond, B=6),\n",
        "  )\n",
        "\n",
        "# I set the latent distribution to a Uniform over (-5, 5)\n",
        "# this range was chosen to match the NeuralSplineCoupling domain\n",
        "# I chose a Uniform since all of the redshifts are drawn from a compact domain\n",
        "# latent = Uniform(1, 5) # did the syntax here change?\n",
        "  latent = Uniform(input_dim=ndcol, B=7)#(-5, 5), (-5, 5), (-5, 5), (-5, 5), (-5, 5), (-5, 5), (-5, 5))\n",
        "\n",
        "  flowEns2 = FlowEnsemble(data_columns = data_columns, \n",
        "                           conditional_columns = conditional_columns,\n",
        "                           bijector = bijector,\n",
        "                           latent = latent,\n",
        "                           info = info#, \n",
        "                          #  N = 10\n",
        "                            )\n",
        "  ensembles[os] = flowEns2\n",
        "\n"
      ],
      "metadata": {
        "id": "CcBqdH2CSpjY",
        "colab": {
          "base_uri": "https://localhost:8080/",
          "height": 266
        },
        "outputId": "6ec24a94-ab17-4f4d-9d75-cb6e027fa7f2"
      },
      "id": "CcBqdH2CSpjY",
      "execution_count": null,
      "outputs": [
        {
          "output_type": "stream",
          "name": "stderr",
          "text": [
            "WARNING:jax._src.xla_bridge:No GPU/TPU found, falling back to CPU. (Set TF_CPP_MIN_LOG_LEVEL=0 and rerun for more info.)\n"
          ]
        },
        {
          "output_type": "stream",
          "name": "stdout",
          "text": [
            "('Euclid-only', Index(['v', 'v-y', 'y-j', 'j-h'], dtype='object'))\n"
          ]
        },
        {
          "output_type": "error",
          "ename": "NameError",
          "evalue": "ignored",
          "traceback": [
            "\u001b[0;31m---------------------------------------------------------------------------\u001b[0m",
            "\u001b[0;31mNameError\u001b[0m                                 Traceback (most recent call last)",
            "\u001b[0;32m<ipython-input-20-86f4da61bbdf>\u001b[0m in \u001b[0;36m<cell line: 10>\u001b[0;34m()\u001b[0m\n\u001b[1;32m     43\u001b[0m                            \u001b[0mbijector\u001b[0m \u001b[0;34m=\u001b[0m \u001b[0mbijector\u001b[0m\u001b[0;34m,\u001b[0m\u001b[0;34m\u001b[0m\u001b[0;34m\u001b[0m\u001b[0m\n\u001b[1;32m     44\u001b[0m                            \u001b[0mlatent\u001b[0m \u001b[0;34m=\u001b[0m \u001b[0mlatent\u001b[0m\u001b[0;34m,\u001b[0m\u001b[0;34m\u001b[0m\u001b[0;34m\u001b[0m\u001b[0m\n\u001b[0;32m---> 45\u001b[0;31m                            \u001b[0minfo\u001b[0m \u001b[0;34m=\u001b[0m \u001b[0minfo\u001b[0m\u001b[0;31m#,\u001b[0m\u001b[0;34m\u001b[0m\u001b[0;34m\u001b[0m\u001b[0m\n\u001b[0m\u001b[1;32m     46\u001b[0m                           \u001b[0;31m#  N = 10\u001b[0m\u001b[0;34m\u001b[0m\u001b[0;34m\u001b[0m\u001b[0m\n\u001b[1;32m     47\u001b[0m                             )\n",
            "\u001b[0;31mNameError\u001b[0m: name 'info' is not defined"
          ]
        }
      ]
    },
    {
      "cell_type": "code",
      "source": [
        "# # create a dictionary that will hold all the ensembles\n",
        "# ensembles = dict()\n",
        "\n",
        "# # create the baseline flows\n",
        "# for os in available_os:\n",
        "    \n",
        "   \n",
        "#     # save some info with the flow\n",
        "#     info = f\"Models z_true conditioned on galaxy colors and r mag from os {os}.\"\n",
        "    \n",
        "#     # instantiate and save the flow\n",
        "#     flowEns2 = FlowEnsemble(data_columns = data_columns, \n",
        "#                            conditional_columns = conditional_columns,\n",
        "#                            bijector = bijector,\n",
        "#                            latent = latent,\n",
        "#                            info = info#, \n",
        "#                           #  N = 10\n",
        "#                             )\n",
        "#     ensembles[os] = flowEns2"
      ],
      "metadata": {
        "id": "LQUPqdiGSzyW"
      },
      "id": "LQUPqdiGSzyW",
      "execution_count": null,
      "outputs": []
    },
    {
      "cell_type": "code",
      "source": [
        "# corner.corner(catalogs['LSST-only'])"
      ],
      "metadata": {
        "id": "DVAVo-lnjORq"
      },
      "id": "DVAVo-lnjORq",
      "execution_count": null,
      "outputs": []
    },
    {
      "cell_type": "code",
      "source": [
        "# for col in catalogs['LSST-only'].columns:\n",
        "#   print(max(catalogs['LSST-only'][col]))\n",
        "#   print(min(catalogs['LSST-only'][col]))"
      ],
      "metadata": {
        "colab": {
          "base_uri": "https://localhost:8080/"
        },
        "id": "C8WDVvPJmT3Y",
        "outputId": "c10a0e23-6649-4dda-8c8b-3c522dac3a43"
      },
      "id": "C8WDVvPJmT3Y",
      "execution_count": null,
      "outputs": [
        {
          "output_type": "stream",
          "name": "stdout",
          "text": [
            "5.3493\n",
            "0.0201\n",
            "26.022252484664882\n",
            "18.199494565339783\n",
            "4.680951755903436\n",
            "-2.7623690139796935\n",
            "2.629276276062143\n",
            "-1.9635743579954834\n",
            "3.661378032013147\n",
            "-2.9437374816725708\n"
          ]
        }
      ]
    },
    {
      "cell_type": "code",
      "source": [
        "# post_trained = {}"
      ],
      "metadata": {
        "id": "mf2124moigIJ"
      },
      "id": "mf2124moigIJ",
      "execution_count": null,
      "outputs": []
    },
    {
      "cell_type": "code",
      "source": [
        "# tav_train, tav_test = {}, {}\n",
        "for os in ['Euclid-only', 'Euclid+CASTOR', 'Euclid+LSST+CASTOR', 'Euclid+LSST']:#:\n",
        "    ens  = ensembles[os]\n",
        "    # get the data and make a train and test set\n",
        "    cat = catalogs[os]\n",
        "    # cat_train = cat.sample(frac = 0.99)\n",
        "    # cat_test = cat.drop(cat_train.index)\n",
        "    cat_train = cat\n",
        "    print(os)\n",
        "    # train the flow on the given learning rate schedule\n",
        "    loss = ens.train(cat_train,#conditional_columns], \n",
        "                               convolve_errs=False,\n",
        "                       epochs = 100, verbose=True)\n",
        "    # loss2 = ens.train(cat_train, convolve_errs=True,\n",
        "    #                    epochs = 30, seed = 312)\n",
        "    # loss3 = ens.train(cat_train, convolve_errs=True,\n",
        "    #                    epochs = 30, seed = 231)\n",
        "    \n",
        "    # losses = {fname : # for each flow trained in the ensemble...\n",
        "    #               [float(loss) # save the list of training losses\n",
        "    #                for lossDict in [loss1]#, loss2, loss3]\n",
        "    #                for loss in lossDict[fname]]\n",
        "    #           for fname in loss1}\n",
        "    \n",
        "    # print the train and test loss\n",
        "    train_loss = -np.mean(ens.log_prob(cat_train))\n",
        "    # test_loss = -np.mean(ens.log_prob(cat_test))\n",
        "    print(os, train_loss)#, test_loss)\n",
        "    post_trained[os] = ens\n",
        "    # save the ensemble\n",
        "    ens.save(prepend+f\"pzflow_ensemble_for_{os}.pkl\")\n",
        "    # and the losses\n",
        "    with open(prepend+f\"losses_for_{os}.pkl\", \"wb\") as file:\n",
        "        pickle.dump({\"losses\": loss, \n",
        "                     \"train loss\": train_loss, \n",
        "                    #  \"test loss\": test_loss,\n",
        "                     \"train_ids\": cat_train.index},\n",
        "                    file)\n",
        "        \n",
        "    # mutual_information_lower_bound_train = ens.log_prob(cat_train, returnEnsemble=True)\n",
        "    # mutual_information_lower_bound_test = ens.log_prob(cat_test, returnEnsemble=True)\n",
        "    # tav_train[os] = mutual_information_lower_bound_train\n",
        "    # tav_test[os] = mutual_information_lower_bound_test\n"
      ],
      "metadata": {
        "id": "l7J0rqGeC_d4",
        "colab": {
          "base_uri": "https://localhost:8080/"
        },
        "outputId": "54d7dc3b-b720-4043-dd70-fac909ae8ae6"
      },
      "id": "l7J0rqGeC_d4",
      "execution_count": null,
      "outputs": [
        {
          "output_type": "stream",
          "name": "stdout",
          "text": [
            "Euclid-only\n",
            "Flow 0\n",
            "Training 100 epochs \n",
            "Loss:\n",
            "(0) 2.4257\n",
            "(1) 0.6989\n",
            "(6) 0.3967\n",
            "(11) inf\n",
            "(16) inf\n",
            "(21) inf\n",
            "(26) inf\n",
            "(31) inf\n",
            "(36) inf\n",
            "(41) inf\n",
            "(46) inf\n",
            "(51) inf\n",
            "(56) inf\n",
            "(61) inf\n",
            "(66) inf\n",
            "(71) inf\n",
            "(76) inf\n",
            "(81) inf\n",
            "(86) inf\n",
            "(91) inf\n",
            "(96) inf\n",
            "(100) inf\n",
            "Euclid-only inf\n",
            "Euclid+CASTOR\n",
            "Flow 0\n",
            "Training 100 epochs \n",
            "Loss:\n",
            "(0) 2.4692\n",
            "(1) 0.2565\n",
            "(6) -0.5427\n",
            "(11) -0.7512\n",
            "(16) -0.7170\n",
            "(21) -0.8571\n",
            "(26) -0.8646\n",
            "(31) -0.9176\n",
            "(36) -0.8917\n",
            "(41) -0.7990\n",
            "(46) -0.9210\n",
            "(51) -0.9563\n",
            "(56) -0.9615\n",
            "(61) -0.9664\n",
            "(66) -0.9826\n",
            "(71) -0.9904\n",
            "(76) -0.9973\n",
            "(81) -1.0086\n",
            "(86) -0.9974\n",
            "(91) -0.9942\n",
            "(96) -0.9561\n",
            "(100) -1.0130\n",
            "Euclid+CASTOR -1.0129511\n",
            "Euclid+LSST+CASTOR\n",
            "Flow 0\n",
            "Training 100 epochs \n",
            "Loss:\n",
            "(0) 2.4551\n",
            "(1) -0.3806\n",
            "(6) -1.3480\n",
            "(11) -1.4238\n",
            "(16) -1.6568\n",
            "(21) -1.7354\n",
            "(26) -1.7683\n",
            "(31) -1.8090\n",
            "(36) -1.8273\n",
            "(41) -1.8248\n",
            "(46) -1.8587\n",
            "(51) -1.8623\n",
            "(56) -1.8346\n",
            "(61) -1.9019\n",
            "(66) -1.9150\n",
            "(71) -1.8826\n",
            "(76) -1.9119\n",
            "(81) -1.9355\n",
            "(86) -1.9163\n",
            "(91) -1.9449\n",
            "(96) -1.9461\n",
            "(100) -1.9537\n",
            "Euclid+LSST+CASTOR -1.95373\n",
            "Euclid+LSST\n",
            "Flow 0\n",
            "Training 100 epochs \n",
            "Loss:\n",
            "(0) 2.4442\n",
            "(1) -0.3554\n",
            "(6) -1.1527\n",
            "(11) -1.2873\n",
            "(16) -0.8222\n",
            "(21) -1.4236\n",
            "(26) -1.4485\n",
            "(31) -1.4754\n",
            "(36) -1.5099\n",
            "(41) -1.4886\n",
            "(46) -1.5486\n",
            "(51) -1.5757\n",
            "(56) -1.6018\n",
            "(61) -1.5148\n",
            "(66) -1.6190\n",
            "(71) -1.6136\n",
            "(76) -1.5967\n",
            "(81) -1.6337\n",
            "(86) -1.6151\n",
            "(91) -1.6400\n",
            "(96) -1.6446\n",
            "(100) -1.6657\n",
            "Euclid+LSST -1.6656634\n"
          ]
        }
      ]
    },
    {
      "cell_type": "code",
      "source": [
        "post_trained"
      ],
      "metadata": {
        "colab": {
          "base_uri": "https://localhost:8080/",
          "height": 164
        },
        "id": "R0yAdMZJikbC",
        "outputId": "e818587d-ac27-4fe2-f72b-7492da71bbf6"
      },
      "id": "R0yAdMZJikbC",
      "execution_count": null,
      "outputs": [
        {
          "output_type": "error",
          "ename": "NameError",
          "evalue": "ignored",
          "traceback": [
            "\u001b[0;31m---------------------------------------------------------------------------\u001b[0m",
            "\u001b[0;31mNameError\u001b[0m                                 Traceback (most recent call last)",
            "\u001b[0;32m<ipython-input-7-fe669ef526f4>\u001b[0m in \u001b[0;36m<cell line: 1>\u001b[0;34m()\u001b[0m\n\u001b[0;32m----> 1\u001b[0;31m \u001b[0mpost_trained\u001b[0m\u001b[0;34m\u001b[0m\u001b[0;34m\u001b[0m\u001b[0m\n\u001b[0m",
            "\u001b[0;31mNameError\u001b[0m: name 'post_trained' is not defined"
          ]
        }
      ]
    },
    {
      "cell_type": "code",
      "source": [
        "# tav = {}\n",
        "# for os in ['LSST-only', 'LSST+CASTOR']:\n",
        "#   tav[os] = jnp.append(tav_train[os], tav_test[os]).T[0]"
      ],
      "metadata": {
        "id": "yN5bWcsSXEiK"
      },
      "id": "yN5bWcsSXEiK",
      "execution_count": null,
      "outputs": []
    },
    {
      "cell_type": "code",
      "source": [
        "post_trained"
      ],
      "metadata": {
        "id": "g4P0OwIW10Z6",
        "outputId": "5e63c1e2-98df-48a7-a9dc-40446ba01129",
        "colab": {
          "base_uri": "https://localhost:8080/"
        }
      },
      "id": "g4P0OwIW10Z6",
      "execution_count": null,
      "outputs": [
        {
          "output_type": "execute_result",
          "data": {
            "text/plain": [
              "{'CASTOR-only': <pzflow.flowEnsemble.FlowEnsemble at 0x7f2b7de62160>,\n",
              " 'LSST+CASTOR': <pzflow.flowEnsemble.FlowEnsemble at 0x7f2b24219a00>,\n",
              " 'LSST-only': <pzflow.flowEnsemble.FlowEnsemble at 0x7f2b24219940>,\n",
              " 'Euclid-only': <pzflow.flowEnsemble.FlowEnsemble at 0x7f2b1fbfadc0>,\n",
              " 'Euclid+CASTOR': <pzflow.flowEnsemble.FlowEnsemble at 0x7f2b24237e80>,\n",
              " 'Euclid+LSST+CASTOR': <pzflow.flowEnsemble.FlowEnsemble at 0x7f2b24237ee0>,\n",
              " 'Euclid+LSST': <pzflow.flowEnsemble.FlowEnsemble at 0x7f2b9ca6fa90>}"
            ]
          },
          "metadata": {},
          "execution_count": 183
        }
      ]
    },
    {
      "cell_type": "code",
      "source": [
        "catalogs['Euclid+LSST']"
      ],
      "metadata": {
        "id": "Z_tQox7L2P2S",
        "outputId": "302a72e9-a57a-4aa7-97f8-561b91ce9e0f",
        "colab": {
          "base_uri": "https://localhost:8080/",
          "height": 455
        }
      },
      "id": "Z_tQox7L2P2S",
      "execution_count": null,
      "outputs": [
        {
          "output_type": "execute_result",
          "data": {
            "text/plain": [
              "           z_true          r       g-r       r-i       i-z          v  \\\n",
              "CASTOR_ID                                                               \n",
              "3          0.2211  23.259175  0.233539  0.022705 -0.005428  23.203628   \n",
              "12         0.7070  24.580852  0.256711  0.638455  0.055040  24.190875   \n",
              "73         0.4290  22.664345  0.849034  0.207854  0.116569  22.541518   \n",
              "74         1.5087  23.744620  0.068058  0.050240 -0.009388  23.728690   \n",
              "85         1.0800  24.119466  0.139313  0.230962  0.423380  23.861097   \n",
              "...           ...        ...       ...       ...       ...        ...   \n",
              "964424     0.3275  20.315891  1.310021  0.486272  0.266220  20.022624   \n",
              "964426     0.3230  23.775628  0.738462  0.247866  0.226397  23.598673   \n",
              "964427     1.4726  25.507346  2.642820  2.072411  0.918244  23.889596   \n",
              "964428     1.2587  23.131750  0.215503  0.278632  0.447965  22.777995   \n",
              "964429     0.5593  23.418713  0.127887  0.138505 -0.061029  23.286846   \n",
              "\n",
              "                v-y       y-j       j-h  \n",
              "CASTOR_ID                                \n",
              "3         -0.016871 -0.121814 -0.055555  \n",
              "12         0.605677 -0.100641  0.005671  \n",
              "73         0.458337  0.157455 -0.027302  \n",
              "74         0.578910  0.169981 -0.051920  \n",
              "85         0.725771  0.061637 -0.011445  \n",
              "...             ...       ...       ...  \n",
              "964424     0.880555  0.322735  0.060411  \n",
              "964426     0.501241  0.117568  0.082705  \n",
              "964427     2.572259  0.754654  0.496406  \n",
              "964428     0.611798  0.236079  0.120705  \n",
              "964429     0.071362  0.073949 -0.554244  \n",
              "\n",
              "[108838 rows x 9 columns]"
            ],
            "text/html": [
              "\n",
              "  <div id=\"df-61578207-7a38-4623-b1aa-8c0417f050df\">\n",
              "    <div class=\"colab-df-container\">\n",
              "      <div>\n",
              "<style scoped>\n",
              "    .dataframe tbody tr th:only-of-type {\n",
              "        vertical-align: middle;\n",
              "    }\n",
              "\n",
              "    .dataframe tbody tr th {\n",
              "        vertical-align: top;\n",
              "    }\n",
              "\n",
              "    .dataframe thead th {\n",
              "        text-align: right;\n",
              "    }\n",
              "</style>\n",
              "<table border=\"1\" class=\"dataframe\">\n",
              "  <thead>\n",
              "    <tr style=\"text-align: right;\">\n",
              "      <th></th>\n",
              "      <th>z_true</th>\n",
              "      <th>r</th>\n",
              "      <th>g-r</th>\n",
              "      <th>r-i</th>\n",
              "      <th>i-z</th>\n",
              "      <th>v</th>\n",
              "      <th>v-y</th>\n",
              "      <th>y-j</th>\n",
              "      <th>j-h</th>\n",
              "    </tr>\n",
              "    <tr>\n",
              "      <th>CASTOR_ID</th>\n",
              "      <th></th>\n",
              "      <th></th>\n",
              "      <th></th>\n",
              "      <th></th>\n",
              "      <th></th>\n",
              "      <th></th>\n",
              "      <th></th>\n",
              "      <th></th>\n",
              "      <th></th>\n",
              "    </tr>\n",
              "  </thead>\n",
              "  <tbody>\n",
              "    <tr>\n",
              "      <th>3</th>\n",
              "      <td>0.2211</td>\n",
              "      <td>23.259175</td>\n",
              "      <td>0.233539</td>\n",
              "      <td>0.022705</td>\n",
              "      <td>-0.005428</td>\n",
              "      <td>23.203628</td>\n",
              "      <td>-0.016871</td>\n",
              "      <td>-0.121814</td>\n",
              "      <td>-0.055555</td>\n",
              "    </tr>\n",
              "    <tr>\n",
              "      <th>12</th>\n",
              "      <td>0.7070</td>\n",
              "      <td>24.580852</td>\n",
              "      <td>0.256711</td>\n",
              "      <td>0.638455</td>\n",
              "      <td>0.055040</td>\n",
              "      <td>24.190875</td>\n",
              "      <td>0.605677</td>\n",
              "      <td>-0.100641</td>\n",
              "      <td>0.005671</td>\n",
              "    </tr>\n",
              "    <tr>\n",
              "      <th>73</th>\n",
              "      <td>0.4290</td>\n",
              "      <td>22.664345</td>\n",
              "      <td>0.849034</td>\n",
              "      <td>0.207854</td>\n",
              "      <td>0.116569</td>\n",
              "      <td>22.541518</td>\n",
              "      <td>0.458337</td>\n",
              "      <td>0.157455</td>\n",
              "      <td>-0.027302</td>\n",
              "    </tr>\n",
              "    <tr>\n",
              "      <th>74</th>\n",
              "      <td>1.5087</td>\n",
              "      <td>23.744620</td>\n",
              "      <td>0.068058</td>\n",
              "      <td>0.050240</td>\n",
              "      <td>-0.009388</td>\n",
              "      <td>23.728690</td>\n",
              "      <td>0.578910</td>\n",
              "      <td>0.169981</td>\n",
              "      <td>-0.051920</td>\n",
              "    </tr>\n",
              "    <tr>\n",
              "      <th>85</th>\n",
              "      <td>1.0800</td>\n",
              "      <td>24.119466</td>\n",
              "      <td>0.139313</td>\n",
              "      <td>0.230962</td>\n",
              "      <td>0.423380</td>\n",
              "      <td>23.861097</td>\n",
              "      <td>0.725771</td>\n",
              "      <td>0.061637</td>\n",
              "      <td>-0.011445</td>\n",
              "    </tr>\n",
              "    <tr>\n",
              "      <th>...</th>\n",
              "      <td>...</td>\n",
              "      <td>...</td>\n",
              "      <td>...</td>\n",
              "      <td>...</td>\n",
              "      <td>...</td>\n",
              "      <td>...</td>\n",
              "      <td>...</td>\n",
              "      <td>...</td>\n",
              "      <td>...</td>\n",
              "    </tr>\n",
              "    <tr>\n",
              "      <th>964424</th>\n",
              "      <td>0.3275</td>\n",
              "      <td>20.315891</td>\n",
              "      <td>1.310021</td>\n",
              "      <td>0.486272</td>\n",
              "      <td>0.266220</td>\n",
              "      <td>20.022624</td>\n",
              "      <td>0.880555</td>\n",
              "      <td>0.322735</td>\n",
              "      <td>0.060411</td>\n",
              "    </tr>\n",
              "    <tr>\n",
              "      <th>964426</th>\n",
              "      <td>0.3230</td>\n",
              "      <td>23.775628</td>\n",
              "      <td>0.738462</td>\n",
              "      <td>0.247866</td>\n",
              "      <td>0.226397</td>\n",
              "      <td>23.598673</td>\n",
              "      <td>0.501241</td>\n",
              "      <td>0.117568</td>\n",
              "      <td>0.082705</td>\n",
              "    </tr>\n",
              "    <tr>\n",
              "      <th>964427</th>\n",
              "      <td>1.4726</td>\n",
              "      <td>25.507346</td>\n",
              "      <td>2.642820</td>\n",
              "      <td>2.072411</td>\n",
              "      <td>0.918244</td>\n",
              "      <td>23.889596</td>\n",
              "      <td>2.572259</td>\n",
              "      <td>0.754654</td>\n",
              "      <td>0.496406</td>\n",
              "    </tr>\n",
              "    <tr>\n",
              "      <th>964428</th>\n",
              "      <td>1.2587</td>\n",
              "      <td>23.131750</td>\n",
              "      <td>0.215503</td>\n",
              "      <td>0.278632</td>\n",
              "      <td>0.447965</td>\n",
              "      <td>22.777995</td>\n",
              "      <td>0.611798</td>\n",
              "      <td>0.236079</td>\n",
              "      <td>0.120705</td>\n",
              "    </tr>\n",
              "    <tr>\n",
              "      <th>964429</th>\n",
              "      <td>0.5593</td>\n",
              "      <td>23.418713</td>\n",
              "      <td>0.127887</td>\n",
              "      <td>0.138505</td>\n",
              "      <td>-0.061029</td>\n",
              "      <td>23.286846</td>\n",
              "      <td>0.071362</td>\n",
              "      <td>0.073949</td>\n",
              "      <td>-0.554244</td>\n",
              "    </tr>\n",
              "  </tbody>\n",
              "</table>\n",
              "<p>108838 rows × 9 columns</p>\n",
              "</div>\n",
              "      <button class=\"colab-df-convert\" onclick=\"convertToInteractive('df-61578207-7a38-4623-b1aa-8c0417f050df')\"\n",
              "              title=\"Convert this dataframe to an interactive table.\"\n",
              "              style=\"display:none;\">\n",
              "        \n",
              "  <svg xmlns=\"http://www.w3.org/2000/svg\" height=\"24px\"viewBox=\"0 0 24 24\"\n",
              "       width=\"24px\">\n",
              "    <path d=\"M0 0h24v24H0V0z\" fill=\"none\"/>\n",
              "    <path d=\"M18.56 5.44l.94 2.06.94-2.06 2.06-.94-2.06-.94-.94-2.06-.94 2.06-2.06.94zm-11 1L8.5 8.5l.94-2.06 2.06-.94-2.06-.94L8.5 2.5l-.94 2.06-2.06.94zm10 10l.94 2.06.94-2.06 2.06-.94-2.06-.94-.94-2.06-.94 2.06-2.06.94z\"/><path d=\"M17.41 7.96l-1.37-1.37c-.4-.4-.92-.59-1.43-.59-.52 0-1.04.2-1.43.59L10.3 9.45l-7.72 7.72c-.78.78-.78 2.05 0 2.83L4 21.41c.39.39.9.59 1.41.59.51 0 1.02-.2 1.41-.59l7.78-7.78 2.81-2.81c.8-.78.8-2.07 0-2.86zM5.41 20L4 18.59l7.72-7.72 1.47 1.35L5.41 20z\"/>\n",
              "  </svg>\n",
              "      </button>\n",
              "      \n",
              "  <style>\n",
              "    .colab-df-container {\n",
              "      display:flex;\n",
              "      flex-wrap:wrap;\n",
              "      gap: 12px;\n",
              "    }\n",
              "\n",
              "    .colab-df-convert {\n",
              "      background-color: #E8F0FE;\n",
              "      border: none;\n",
              "      border-radius: 50%;\n",
              "      cursor: pointer;\n",
              "      display: none;\n",
              "      fill: #1967D2;\n",
              "      height: 32px;\n",
              "      padding: 0 0 0 0;\n",
              "      width: 32px;\n",
              "    }\n",
              "\n",
              "    .colab-df-convert:hover {\n",
              "      background-color: #E2EBFA;\n",
              "      box-shadow: 0px 1px 2px rgba(60, 64, 67, 0.3), 0px 1px 3px 1px rgba(60, 64, 67, 0.15);\n",
              "      fill: #174EA6;\n",
              "    }\n",
              "\n",
              "    [theme=dark] .colab-df-convert {\n",
              "      background-color: #3B4455;\n",
              "      fill: #D2E3FC;\n",
              "    }\n",
              "\n",
              "    [theme=dark] .colab-df-convert:hover {\n",
              "      background-color: #434B5C;\n",
              "      box-shadow: 0px 1px 3px 1px rgba(0, 0, 0, 0.15);\n",
              "      filter: drop-shadow(0px 1px 2px rgba(0, 0, 0, 0.3));\n",
              "      fill: #FFFFFF;\n",
              "    }\n",
              "  </style>\n",
              "\n",
              "      <script>\n",
              "        const buttonEl =\n",
              "          document.querySelector('#df-61578207-7a38-4623-b1aa-8c0417f050df button.colab-df-convert');\n",
              "        buttonEl.style.display =\n",
              "          google.colab.kernel.accessAllowed ? 'block' : 'none';\n",
              "\n",
              "        async function convertToInteractive(key) {\n",
              "          const element = document.querySelector('#df-61578207-7a38-4623-b1aa-8c0417f050df');\n",
              "          const dataTable =\n",
              "            await google.colab.kernel.invokeFunction('convertToInteractive',\n",
              "                                                     [key], {});\n",
              "          if (!dataTable) return;\n",
              "\n",
              "          const docLinkHtml = 'Like what you see? Visit the ' +\n",
              "            '<a target=\"_blank\" href=https://colab.research.google.com/notebooks/data_table.ipynb>data table notebook</a>'\n",
              "            + ' to learn more about interactive tables.';\n",
              "          element.innerHTML = '';\n",
              "          dataTable['output_type'] = 'display_data';\n",
              "          await google.colab.output.renderOutput(dataTable, element);\n",
              "          const docLink = document.createElement('div');\n",
              "          docLink.innerHTML = docLinkHtml;\n",
              "          element.appendChild(docLink);\n",
              "        }\n",
              "      </script>\n",
              "    </div>\n",
              "  </div>\n",
              "  "
            ]
          },
          "metadata": {},
          "execution_count": 202
        }
      ]
    },
    {
      "cell_type": "code",
      "source": [
        "pwd"
      ],
      "metadata": {
        "colab": {
          "base_uri": "https://localhost:8080/",
          "height": 37
        },
        "id": "OlDSE6fRSZxl",
        "outputId": "d2286556-97a8-484d-a23f-2661c80b8892"
      },
      "id": "OlDSE6fRSZxl",
      "execution_count": null,
      "outputs": [
        {
          "output_type": "execute_result",
          "data": {
            "text/plain": [
              "'/content'"
            ],
            "application/vnd.google.colaboratory.intrinsic+json": {
              "type": "string"
            }
          },
          "metadata": {},
          "execution_count": 23
        }
      ]
    },
    {
      "cell_type": "code",
      "source": [
        "available_os"
      ],
      "metadata": {
        "colab": {
          "base_uri": "https://localhost:8080/"
        },
        "id": "Z68Q_P9hTMiX",
        "outputId": "fcd1d335-7f31-44f5-d982-32c031bf93aa"
      },
      "id": "Z68Q_P9hTMiX",
      "execution_count": 25,
      "outputs": [
        {
          "output_type": "execute_result",
          "data": {
            "text/plain": [
              "['CASTOR-only',\n",
              " 'LSST-only',\n",
              " 'Euclid-only',\n",
              " 'LSST+CASTOR',\n",
              " 'Euclid+CASTOR',\n",
              " 'Euclid+LSST',\n",
              " 'Euclid+LSST+CASTOR']"
            ]
          },
          "metadata": {},
          "execution_count": 25
        }
      ]
    },
    {
      "cell_type": "code",
      "source": [
        "flows = {}\n",
        "for os in available_os:\n",
        "  flows[os] = FlowEnsemble(file=f\"pzflow_ensemble_for_{os}.pkl\")"
      ],
      "metadata": {
        "id": "DonLviHvlgMT",
        "outputId": "941e882d-b0e3-4b99-8209-d9397434496a",
        "colab": {
          "base_uri": "https://localhost:8080/"
        }
      },
      "id": "DonLviHvlgMT",
      "execution_count": 26,
      "outputs": [
        {
          "output_type": "stream",
          "name": "stderr",
          "text": [
            "WARNING:jax._src.xla_bridge:No GPU/TPU found, falling back to CPU. (Set TF_CPP_MIN_LOG_LEVEL=0 and rerun for more info.)\n"
          ]
        }
      ]
    },
    {
      "cell_type": "code",
      "source": [
        "just_tav = {}\n",
        "for os in available_os:\n",
        "  just_tav[os] = flows[os].log_prob(catalogs[os])"
      ],
      "metadata": {
        "id": "CN1rIMdYuUV9"
      },
      "id": "CN1rIMdYuUV9",
      "execution_count": 27,
      "outputs": []
    },
    {
      "cell_type": "code",
      "source": [
        "for os in available_os:\n",
        "  plt.hist(just_tav[os], alpha=0.25, label=os, density=True, bins=np.linspace(-5, 4, 100))\n",
        "plt.legend()\n",
        "plt.xlim(-5,4)\n",
        "plt.xlabel(chr(0x05ea))#r'$\\mathbb{E}_{z, x_{phot}} \\left[ q_\\theta(z | x_{phot}) \\right]$')\n",
        "plt.yticks([])\n",
        "# plt.savefig(prepend+'all_combos_histogram.pdf')"
      ],
      "metadata": {
        "colab": {
          "base_uri": "https://localhost:8080/",
          "height": 500
        },
        "id": "tbuaVRAqFYM9",
        "outputId": "66e4ada2-82dd-41bf-c3a4-36155c1742e1"
      },
      "id": "tbuaVRAqFYM9",
      "execution_count": 28,
      "outputs": [
        {
          "output_type": "stream",
          "name": "stderr",
          "text": [
            "/usr/local/lib/python3.9/dist-packages/numpy/lib/histograms.py:906: RuntimeWarning: invalid value encountered in true_divide\n",
            "  return n/db/n.sum(), bin_edges\n"
          ]
        },
        {
          "output_type": "execute_result",
          "data": {
            "text/plain": [
              "([], [])"
            ]
          },
          "metadata": {},
          "execution_count": 28
        },
        {
          "output_type": "display_data",
          "data": {
            "text/plain": [
              "<Figure size 640x480 with 1 Axes>"
            ],
            "image/png": "[encoded data removed]"
          },
          "metadata": {}
        }
      ]
    },
    {
      "cell_type": "code",
      "source": [
        "# for os in ['LSST-only','LSST+CASTOR','Euclid+LSST','Euclid+LSST+CASTOR']:\n",
        "#   # with open(prepend+f\"losses_for_{os}.pkl\", \"rb\") as file:\n",
        "#   #   saveinfo = pickle.load(file)\n",
        "#   # testflow = FlowEnsemble(saveinfo['losses'])\n",
        "#   testflow = ensembles[os]\n",
        "#   plt.hist2d(catalogs[os]['z_true'], just_tav[os], bins=100)\n",
        "#   plt.title(os)\n",
        "#   plt.xlim(0, 3)\n",
        "#   plt.ylim(-5, 4)\n",
        "#   plt.show()"
      ],
      "metadata": {
        "id": "F0LZBDVwXA5L"
      },
      "id": "F0LZBDVwXA5L",
      "execution_count": null,
      "outputs": []
    },
    {
      "cell_type": "code",
      "source": [
        "# 'logprob' not in catalogs[os].columns.values"
      ],
      "metadata": {
        "id": "e18HxepM4DHn",
        "outputId": "1af6f12f-0d05-4024-e2e9-0736de07de8b",
        "colab": {
          "base_uri": "https://localhost:8080/"
        }
      },
      "id": "e18HxepM4DHn",
      "execution_count": null,
      "outputs": [
        {
          "output_type": "execute_result",
          "data": {
            "text/plain": [
              "False"
            ]
          },
          "metadata": {},
          "execution_count": 216
        }
      ]
    },
    {
      "cell_type": "code",
      "source": [
        "flows = {}\n",
        "for os in available_os:\n",
        "  flows[os] = FlowEnsemble(file=f\"pzflow_ensemble_for_{os}.pkl\")"
      ],
      "metadata": {
        "id": "xJ9pF3JQlXRO"
      },
      "id": "xJ9pF3JQlXRO",
      "execution_count": null,
      "outputs": []
    },
    {
      "cell_type": "code",
      "source": [
        "zbins = np.linspace(0, 3, 100)\n",
        "avgtav = {}\n",
        "errtav = {}\n",
        "for os in available_os:\n",
        "  print(os)\n",
        "  plotran = np.empty_like(zbins)\n",
        "  ploterr = np.empty_like(zbins)\n",
        "  print(catalogs[os].columns)\n",
        "  if 'logprob' not in catalogs[os].columns.values:\n",
        "    catalogs[os]['logprob'] = just_tav[os]\n",
        "    print(catalogs[os].columns)\n",
        "  for i, zmin in enumerate(zbins[:-1]):\n",
        "    zmax = zbins[i+1]\n",
        "    subset = catalogs[os][(catalogs[os]['z_true'] >= zmin) & (catalogs[os]['z_true'] < zmax)]\n",
        "    # print((zmin, len(subset), zmax))\n",
        "    vals = subset['logprob']\n",
        "    mean = np.mean(vals)\n",
        "    std = np.std(vals)\n",
        "    plotran[i] = mean\n",
        "    ploterr[i] = std\n",
        "  avgtav[os] = plotran\n",
        "  errtav[os] = ploterr"
      ],
      "metadata": {
        "colab": {
          "base_uri": "https://localhost:8080/"
        },
        "id": "CrWVAiMuYRNH",
        "outputId": "dc1b53bd-0b5f-4471-c3dd-3bad0549bde7"
      },
      "id": "CrWVAiMuYRNH",
      "execution_count": 29,
      "outputs": [
        {
          "output_type": "stream",
          "name": "stdout",
          "text": [
            "CASTOR-only\n",
            "Index(['z_true', 'g', 'uv-u', 'u-g'], dtype='object')\n",
            "Index(['z_true', 'g', 'uv-u', 'u-g', 'logprob'], dtype='object')\n",
            "LSST-only\n",
            "Index(['z_true', 'r', 'g-r', 'r-i', 'i-z'], dtype='object')\n",
            "Index(['z_true', 'r', 'g-r', 'r-i', 'i-z', 'logprob'], dtype='object')\n",
            "Euclid-only\n",
            "Index(['z_true', 'v', 'v-y', 'y-j', 'j-h'], dtype='object')\n",
            "Index(['z_true', 'v', 'v-y', 'y-j', 'j-h', 'logprob'], dtype='object')\n",
            "LSST+CASTOR\n",
            "Index(['z_true', 'r', 'g-r', 'r-i', 'i-z', 'uv-u', 'u-g'], dtype='object')\n",
            "Index(['z_true', 'r', 'g-r', 'r-i', 'i-z', 'uv-u', 'u-g', 'logprob'], dtype='object')\n",
            "Euclid+CASTOR\n",
            "Index(['z_true', 'g', 'uv-u', 'u-g', 'v', 'v-y', 'y-j', 'j-h'], dtype='object')\n",
            "Index(['z_true', 'g', 'uv-u', 'u-g', 'v', 'v-y', 'y-j', 'j-h', 'logprob'], dtype='object')\n",
            "Euclid+LSST\n",
            "Index(['z_true', 'r', 'g-r', 'r-i', 'i-z', 'v', 'v-y', 'y-j', 'j-h'], dtype='object')\n",
            "Index(['z_true', 'r', 'g-r', 'r-i', 'i-z', 'v', 'v-y', 'y-j', 'j-h',\n",
            "       'logprob'],\n",
            "      dtype='object')\n",
            "Euclid+LSST+CASTOR\n",
            "Index(['z_true', 'r', 'g-r', 'r-i', 'i-z', 'v', 'v-y', 'y-j', 'j-h', 'g',\n",
            "       'uv-u', 'u-g'],\n",
            "      dtype='object')\n",
            "Index(['z_true', 'r', 'g-r', 'r-i', 'i-z', 'v', 'v-y', 'y-j', 'j-h', 'g',\n",
            "       'uv-u', 'u-g', 'logprob'],\n",
            "      dtype='object')\n"
          ]
        }
      ]
    },
    {
      "cell_type": "code",
      "source": [
        "for os in available_os:\n",
        "  plt.plot(zbins, avgtav[os], label=os, alpha=0.5)\n",
        "  plt.fill_between(zbins, avgtav[os] - errtav[os], avgtav[os] + errtav[os], alpha = 0.1)\n",
        "# plt.ylim(-10, 5)\n",
        "plt.legend(fontsize = 8)\n",
        "plt.xlabel('z_true')\n",
        "plt.ylabel(chr(0x05ea))\n",
        "# plt.savefig(prepend+'all_combos_over_z.pdf')"
      ],
      "metadata": {
        "colab": {
          "base_uri": "https://localhost:8080/",
          "height": 466
        },
        "id": "Pmk7VRWJrfYs",
        "outputId": "433aeb55-9ed8-4472-af25-fb74a916a094"
      },
      "id": "Pmk7VRWJrfYs",
      "execution_count": 39,
      "outputs": [
        {
          "output_type": "execute_result",
          "data": {
            "text/plain": [
              "Text(0, 0.5, 'ת')"
            ]
          },
          "metadata": {},
          "execution_count": 39
        },
        {
          "output_type": "display_data",
          "data": {
            "text/plain": [
              "<Figure size 640x480 with 1 Axes>"
            ],
            "image/png": "[encoded data removed]"
          },
          "metadata": {}
        }
      ]
    },
    {
      "cell_type": "code",
      "source": [
        "catalogs['Euclid-only']"
      ],
      "metadata": {
        "colab": {
          "base_uri": "https://localhost:8080/",
          "height": 450
        },
        "id": "vgDl5a3qTual",
        "outputId": "af012105-41a2-43b1-cd4c-80ff9ae34016"
      },
      "id": "vgDl5a3qTual",
      "execution_count": null,
      "outputs": [
        {
          "output_type": "execute_result",
          "data": {
            "text/plain": [
              "           z_true          v       v-y       y-j       j-h  logprob\n",
              "CASTOR_ID                                                          \n",
              "3          0.2211  23.203628 -0.016871 -0.121814 -0.055555     -inf\n",
              "12         0.7070  24.190875  0.605677 -0.100641  0.005671     -inf\n",
              "73         0.4290  22.541518  0.458337  0.157455 -0.027302     -inf\n",
              "74         1.5087  23.728690  0.578910  0.169981 -0.051920     -inf\n",
              "85         1.0800  23.861097  0.725771  0.061637 -0.011445     -inf\n",
              "...           ...        ...       ...       ...       ...      ...\n",
              "964424     0.3275  20.022624  0.880555  0.322735  0.060411     -inf\n",
              "964426     0.3230  23.598673  0.501241  0.117568  0.082705     -inf\n",
              "964427     1.4726  23.889596  2.572259  0.754654  0.496406     -inf\n",
              "964428     1.2587  22.777995  0.611798  0.236079  0.120705     -inf\n",
              "964429     0.5593  23.286846  0.071362  0.073949 -0.554244     -inf\n",
              "\n",
              "[108838 rows x 6 columns]"
            ],
            "text/html": [
              "\n",
              "  <div id=\"df-c3807311-a84d-48a3-a32a-90616df7e492\">\n",
              "    <div class=\"colab-df-container\">\n",
              "      <div>\n",
              "<style scoped>\n",
              "    .dataframe tbody tr th:only-of-type {\n",
              "        vertical-align: middle;\n",
              "    }\n",
              "\n",
              "    .dataframe tbody tr th {\n",
              "        vertical-align: top;\n",
              "    }\n",
              "\n",
              "    .dataframe thead th {\n",
              "        text-align: right;\n",
              "    }\n",
              "</style>\n",
              "<table border=\"1\" class=\"dataframe\">\n",
              "  <thead>\n",
              "    <tr style=\"text-align: right;\">\n",
              "      <th></th>\n",
              "      <th>z_true</th>\n",
              "      <th>v</th>\n",
              "      <th>v-y</th>\n",
              "      <th>y-j</th>\n",
              "      <th>j-h</th>\n",
              "      <th>logprob</th>\n",
              "    </tr>\n",
              "    <tr>\n",
              "      <th>CASTOR_ID</th>\n",
              "      <th></th>\n",
              "      <th></th>\n",
              "      <th></th>\n",
              "      <th></th>\n",
              "      <th></th>\n",
              "      <th></th>\n",
              "    </tr>\n",
              "  </thead>\n",
              "  <tbody>\n",
              "    <tr>\n",
              "      <th>3</th>\n",
              "      <td>0.2211</td>\n",
              "      <td>23.203628</td>\n",
              "      <td>-0.016871</td>\n",
              "      <td>-0.121814</td>\n",
              "      <td>-0.055555</td>\n",
              "      <td>-inf</td>\n",
              "    </tr>\n",
              "    <tr>\n",
              "      <th>12</th>\n",
              "      <td>0.7070</td>\n",
              "      <td>24.190875</td>\n",
              "      <td>0.605677</td>\n",
              "      <td>-0.100641</td>\n",
              "      <td>0.005671</td>\n",
              "      <td>-inf</td>\n",
              "    </tr>\n",
              "    <tr>\n",
              "      <th>73</th>\n",
              "      <td>0.4290</td>\n",
              "      <td>22.541518</td>\n",
              "      <td>0.458337</td>\n",
              "      <td>0.157455</td>\n",
              "      <td>-0.027302</td>\n",
              "      <td>-inf</td>\n",
              "    </tr>\n",
              "    <tr>\n",
              "      <th>74</th>\n",
              "      <td>1.5087</td>\n",
              "      <td>23.728690</td>\n",
              "      <td>0.578910</td>\n",
              "      <td>0.169981</td>\n",
              "      <td>-0.051920</td>\n",
              "      <td>-inf</td>\n",
              "    </tr>\n",
              "    <tr>\n",
              "      <th>85</th>\n",
              "      <td>1.0800</td>\n",
              "      <td>23.861097</td>\n",
              "      <td>0.725771</td>\n",
              "      <td>0.061637</td>\n",
              "      <td>-0.011445</td>\n",
              "      <td>-inf</td>\n",
              "    </tr>\n",
              "    <tr>\n",
              "      <th>...</th>\n",
              "      <td>...</td>\n",
              "      <td>...</td>\n",
              "      <td>...</td>\n",
              "      <td>...</td>\n",
              "      <td>...</td>\n",
              "      <td>...</td>\n",
              "    </tr>\n",
              "    <tr>\n",
              "      <th>964424</th>\n",
              "      <td>0.3275</td>\n",
              "      <td>20.022624</td>\n",
              "      <td>0.880555</td>\n",
              "      <td>0.322735</td>\n",
              "      <td>0.060411</td>\n",
              "      <td>-inf</td>\n",
              "    </tr>\n",
              "    <tr>\n",
              "      <th>964426</th>\n",
              "      <td>0.3230</td>\n",
              "      <td>23.598673</td>\n",
              "      <td>0.501241</td>\n",
              "      <td>0.117568</td>\n",
              "      <td>0.082705</td>\n",
              "      <td>-inf</td>\n",
              "    </tr>\n",
              "    <tr>\n",
              "      <th>964427</th>\n",
              "      <td>1.4726</td>\n",
              "      <td>23.889596</td>\n",
              "      <td>2.572259</td>\n",
              "      <td>0.754654</td>\n",
              "      <td>0.496406</td>\n",
              "      <td>-inf</td>\n",
              "    </tr>\n",
              "    <tr>\n",
              "      <th>964428</th>\n",
              "      <td>1.2587</td>\n",
              "      <td>22.777995</td>\n",
              "      <td>0.611798</td>\n",
              "      <td>0.236079</td>\n",
              "      <td>0.120705</td>\n",
              "      <td>-inf</td>\n",
              "    </tr>\n",
              "    <tr>\n",
              "      <th>964429</th>\n",
              "      <td>0.5593</td>\n",
              "      <td>23.286846</td>\n",
              "      <td>0.071362</td>\n",
              "      <td>0.073949</td>\n",
              "      <td>-0.554244</td>\n",
              "      <td>-inf</td>\n",
              "    </tr>\n",
              "  </tbody>\n",
              "</table>\n",
              "<p>108838 rows × 6 columns</p>\n",
              "</div>\n",
              "      <button class=\"colab-df-convert\" onclick=\"convertToInteractive('df-c3807311-a84d-48a3-a32a-90616df7e492')\"\n",
              "              title=\"Convert this dataframe to an interactive table.\"\n",
              "              style=\"display:none;\">\n",
              "        \n",
              "  <svg xmlns=\"http://www.w3.org/2000/svg\" height=\"24px\"viewBox=\"0 0 24 24\"\n",
              "       width=\"24px\">\n",
              "    <path d=\"M0 0h24v24H0V0z\" fill=\"none\"/>\n",
              "    <path d=\"M18.56 5.44l.94 2.06.94-2.06 2.06-.94-2.06-.94-.94-2.06-.94 2.06-2.06.94zm-11 1L8.5 8.5l.94-2.06 2.06-.94-2.06-.94L8.5 2.5l-.94 2.06-2.06.94zm10 10l.94 2.06.94-2.06 2.06-.94-2.06-.94-.94-2.06-.94 2.06-2.06.94z\"/><path d=\"M17.41 7.96l-1.37-1.37c-.4-.4-.92-.59-1.43-.59-.52 0-1.04.2-1.43.59L10.3 9.45l-7.72 7.72c-.78.78-.78 2.05 0 2.83L4 21.41c.39.39.9.59 1.41.59.51 0 1.02-.2 1.41-.59l7.78-7.78 2.81-2.81c.8-.78.8-2.07 0-2.86zM5.41 20L4 18.59l7.72-7.72 1.47 1.35L5.41 20z\"/>\n",
              "  </svg>\n",
              "      </button>\n",
              "      \n",
              "  <style>\n",
              "    .colab-df-container {\n",
              "      display:flex;\n",
              "      flex-wrap:wrap;\n",
              "      gap: 12px;\n",
              "    }\n",
              "\n",
              "    .colab-df-convert {\n",
              "      background-color: #E8F0FE;\n",
              "      border: none;\n",
              "      border-radius: 50%;\n",
              "      cursor: pointer;\n",
              "      display: none;\n",
              "      fill: #1967D2;\n",
              "      height: 32px;\n",
              "      padding: 0 0 0 0;\n",
              "      width: 32px;\n",
              "    }\n",
              "\n",
              "    .colab-df-convert:hover {\n",
              "      background-color: #E2EBFA;\n",
              "      box-shadow: 0px 1px 2px rgba(60, 64, 67, 0.3), 0px 1px 3px 1px rgba(60, 64, 67, 0.15);\n",
              "      fill: #174EA6;\n",
              "    }\n",
              "\n",
              "    [theme=dark] .colab-df-convert {\n",
              "      background-color: #3B4455;\n",
              "      fill: #D2E3FC;\n",
              "    }\n",
              "\n",
              "    [theme=dark] .colab-df-convert:hover {\n",
              "      background-color: #434B5C;\n",
              "      box-shadow: 0px 1px 3px 1px rgba(0, 0, 0, 0.15);\n",
              "      filter: drop-shadow(0px 1px 2px rgba(0, 0, 0, 0.3));\n",
              "      fill: #FFFFFF;\n",
              "    }\n",
              "  </style>\n",
              "\n",
              "      <script>\n",
              "        const buttonEl =\n",
              "          document.querySelector('#df-c3807311-a84d-48a3-a32a-90616df7e492 button.colab-df-convert');\n",
              "        buttonEl.style.display =\n",
              "          google.colab.kernel.accessAllowed ? 'block' : 'none';\n",
              "\n",
              "        async function convertToInteractive(key) {\n",
              "          const element = document.querySelector('#df-c3807311-a84d-48a3-a32a-90616df7e492');\n",
              "          const dataTable =\n",
              "            await google.colab.kernel.invokeFunction('convertToInteractive',\n",
              "                                                     [key], {});\n",
              "          if (!dataTable) return;\n",
              "\n",
              "          const docLinkHtml = 'Like what you see? Visit the ' +\n",
              "            '<a target=\"_blank\" href=https://colab.research.google.com/notebooks/data_table.ipynb>data table notebook</a>'\n",
              "            + ' to learn more about interactive tables.';\n",
              "          element.innerHTML = '';\n",
              "          dataTable['output_type'] = 'display_data';\n",
              "          await google.colab.output.renderOutput(dataTable, element);\n",
              "          const docLink = document.createElement('div');\n",
              "          docLink.innerHTML = docLinkHtml;\n",
              "          element.appendChild(docLink);\n",
              "        }\n",
              "      </script>\n",
              "    </div>\n",
              "  </div>\n",
              "  "
            ]
          },
          "metadata": {},
          "execution_count": 53
        }
      ]
    },
    {
      "cell_type": "code",
      "source": [
        "print(np.min(catalogs['Euclid+LSST+CASTOR']['g-r']))\n",
        "print(np.max(catalogs['Euclid+LSST+CASTOR']['g-r']))"
      ],
      "metadata": {
        "colab": {
          "base_uri": "https://localhost:8080/"
        },
        "id": "OYZP4G7UT2kP",
        "outputId": "a1faebbb-1833-4071-e42c-93d762cf8bc9"
      },
      "id": "OYZP4G7UT2kP",
      "execution_count": null,
      "outputs": [
        {
          "output_type": "stream",
          "name": "stdout",
          "text": [
            "-2.7623690139796935\n",
            "4.680951755903436\n"
          ]
        }
      ]
    },
    {
      "cell_type": "code",
      "source": [
        "# color space binned information gain\n",
        "\n",
        "color_lim_min = np.min(catalogs['Euclid+LSST+CASTOR']['g-r'])\n",
        "color_lim_max = np.max(catalogs['Euclid+LSST+CASTOR']['g-r'])\n",
        "\n",
        "color_bins = np.linspace(color_lim_min, color_lim_max, 32)\n",
        "avgtav = {}\n",
        "errtav = {}\n",
        "for os in available_os:\n",
        "  print(os)\n",
        "  plotran = np.empty_like(color_bins)\n",
        "  ploterr = np.empty_like(color_bins)\n",
        "  print(catalogs[os].columns)\n",
        "  if 'logprob' not in catalogs[os].columns.values:\n",
        "    catalogs[os]['logprob'] = just_tav[os]\n",
        "    print(catalogs[os].columns)\n",
        "  for i, zmin in enumerate(color_bins[:-1]):\n",
        "    color_max = color_bins[i+1]\n",
        "    subset = catalogs[os][(catalogs['Euclid+LSST+CASTOR']['g-r'] >= color_min) & (catalogs['Euclid+LSST+CASTOR']['g-r'] < color_max)]\n",
        "    # print((zmin, len(subset), zmax))\n",
        "    vals = subset['logprob']\n",
        "    mean = np.mean(vals)\n",
        "    std = np.std(vals)\n",
        "    plotran[i] = mean\n",
        "    ploterr[i] = std\n",
        "  avgtav[os] = plotran\n",
        "  errtav[os] = ploterr"
      ],
      "metadata": {
        "colab": {
          "base_uri": "https://localhost:8080/"
        },
        "id": "fekF6Nnan9PI",
        "outputId": "0e553597-96a6-4f4c-fbbe-c22a72058f05"
      },
      "id": "fekF6Nnan9PI",
      "execution_count": null,
      "outputs": [
        {
          "output_type": "stream",
          "name": "stdout",
          "text": [
            "CASTOR-only\n",
            "Index(['z_true', 'g', 'uv-u', 'u-g', 'logprob'], dtype='object')\n",
            "LSST-only\n",
            "Index(['z_true', 'r', 'g-r', 'r-i', 'i-z', 'logprob'], dtype='object')\n",
            "Euclid-only\n",
            "Index(['z_true', 'v', 'v-y', 'y-j', 'j-h', 'logprob'], dtype='object')\n",
            "LSST+CASTOR\n",
            "Index(['z_true', 'r', 'g-r', 'r-i', 'i-z', 'uv-u', 'u-g', 'logprob'], dtype='object')\n",
            "Euclid+CASTOR\n",
            "Index(['z_true', 'g', 'uv-u', 'u-g', 'v', 'v-y', 'y-j', 'j-h', 'logprob'], dtype='object')\n",
            "Euclid+LSST\n",
            "Index(['z_true', 'r', 'g-r', 'r-i', 'i-z', 'v', 'v-y', 'y-j', 'j-h',\n",
            "       'logprob'],\n",
            "      dtype='object')\n",
            "Euclid+LSST+CASTOR\n",
            "Index(['z_true', 'r', 'g-r', 'r-i', 'i-z', 'v', 'v-y', 'y-j', 'j-h', 'g',\n",
            "       'uv-u', 'u-g', 'logprob'],\n",
            "      dtype='object')\n"
          ]
        }
      ]
    },
    {
      "cell_type": "code",
      "source": [
        "for os in available_os:\n",
        "  plt.plot(color_bins, avgtav[os], label=os, alpha=0.5)\n",
        "  plt.fill_between(color_bins, avgtav[os] - errtav[os], avgtav[os] + errtav[os], alpha = 0.1)\n",
        "plt.legend()\n",
        "plt.xlabel('g-r')\n",
        "plt.ylabel(chr(0x05ea))\n"
      ],
      "metadata": {
        "colab": {
          "base_uri": "https://localhost:8080/",
          "height": 466
        },
        "id": "um9pCdUEUrSF",
        "outputId": "de2809f0-af82-4c4d-9b19-4425450a8e70"
      },
      "id": "um9pCdUEUrSF",
      "execution_count": null,
      "outputs": [
        {
          "output_type": "execute_result",
          "data": {
            "text/plain": [
              "Text(0, 0.5, 'ת')"
            ]
          },
          "metadata": {},
          "execution_count": 99
        },
        {
          "output_type": "display_data",
          "data": {
            "text/plain": [
              "<Figure size 640x480 with 1 Axes>"
            ],
            "image/png": "[encoded data removed]"
          },
          "metadata": {}
        }
      ]
    },
    {
      "cell_type": "code",
      "source": [
        "# color space binned information gain\n",
        "\n",
        "\n",
        "# 'r', 'g-r', 'r-i', 'i-z', 'v', 'v-y', 'y-j', 'j-h', 'g',\n",
        "#       'uv-u', 'u-g']\n",
        "\n",
        "col_diff = 'r'\n",
        "\n",
        "color_lim_min = np.min(catalogs['Euclid+LSST+CASTOR'][col_diff])\n",
        "color_lim_max = np.max(catalogs['Euclid+LSST+CASTOR'][col_diff])\n",
        "\n",
        "color_bins = np.linspace(color_lim_min, color_lim_max, 32)\n",
        "avgtav = {}\n",
        "errtav = {}\n",
        "for os in available_os:\n",
        "  print(os)\n",
        "  plotran = np.empty_like(color_bins)\n",
        "  ploterr = np.empty_like(color_bins)\n",
        "  print(catalogs[os].columns)\n",
        "  if 'logprob' not in catalogs[os].columns.values:\n",
        "    catalogs[os]['logprob'] = just_tav[os]\n",
        "    print(catalogs[os].columns)\n",
        "  for i, zmin in enumerate(color_bins[:-1]):\n",
        "    color_max = color_bins[i+1]\n",
        "    subset = catalogs[os][(catalogs['Euclid+LSST+CASTOR'][col_diff] >= color_min) & (catalogs['Euclid+LSST+CASTOR'][col_diff] < color_max)]\n",
        "    # print((zmin, len(subset), zmax))\n",
        "    vals = subset['logprob']\n",
        "    mean = np.mean(vals)\n",
        "    std = np.std(vals)\n",
        "    plotran[i] = mean\n",
        "    ploterr[i] = std\n",
        "  avgtav[os] = plotran\n",
        "  errtav[os] = ploterr\n",
        "\n",
        "for os in available_os:\n",
        "  plt.plot(color_bins, avgtav[os], label=os, alpha=0.5)\n",
        "  plt.fill_between(color_bins, avgtav[os] - errtav[os], avgtav[os] + errtav[os], alpha = 0.1)\n",
        "plt.legend()\n",
        "plt.xlabel(col_diff)\n",
        "plt.ylabel(chr(0x05ea))"
      ],
      "metadata": {
        "colab": {
          "base_uri": "https://localhost:8080/",
          "height": 925
        },
        "id": "6X6y4g5l2MGI",
        "outputId": "d1a2e7de-0480-4836-e900-9d6d808e6c97"
      },
      "id": "6X6y4g5l2MGI",
      "execution_count": null,
      "outputs": [
        {
          "output_type": "stream",
          "name": "stdout",
          "text": [
            "CASTOR-only\n",
            "Index(['z_true', 'g', 'uv-u', 'u-g'], dtype='object')\n",
            "Index(['z_true', 'g', 'uv-u', 'u-g', 'logprob'], dtype='object')\n",
            "LSST-only\n",
            "Index(['z_true', 'r', 'g-r', 'r-i', 'i-z'], dtype='object')\n",
            "Index(['z_true', 'r', 'g-r', 'r-i', 'i-z', 'logprob'], dtype='object')\n",
            "Euclid-only\n",
            "Index(['z_true', 'v', 'v-y', 'y-j', 'j-h'], dtype='object')\n",
            "Index(['z_true', 'v', 'v-y', 'y-j', 'j-h', 'logprob'], dtype='object')\n",
            "LSST+CASTOR\n",
            "Index(['z_true', 'r', 'g-r', 'r-i', 'i-z', 'uv-u', 'u-g'], dtype='object')\n",
            "Index(['z_true', 'r', 'g-r', 'r-i', 'i-z', 'uv-u', 'u-g', 'logprob'], dtype='object')\n",
            "Euclid+CASTOR\n",
            "Index(['z_true', 'g', 'uv-u', 'u-g', 'v', 'v-y', 'y-j', 'j-h'], dtype='object')\n",
            "Index(['z_true', 'g', 'uv-u', 'u-g', 'v', 'v-y', 'y-j', 'j-h', 'logprob'], dtype='object')\n",
            "Euclid+LSST\n",
            "Index(['z_true', 'r', 'g-r', 'r-i', 'i-z', 'v', 'v-y', 'y-j', 'j-h'], dtype='object')\n",
            "Index(['z_true', 'r', 'g-r', 'r-i', 'i-z', 'v', 'v-y', 'y-j', 'j-h',\n",
            "       'logprob'],\n",
            "      dtype='object')\n",
            "Euclid+LSST+CASTOR\n",
            "Index(['z_true', 'r', 'g-r', 'r-i', 'i-z', 'v', 'v-y', 'y-j', 'j-h', 'g',\n",
            "       'uv-u', 'u-g'],\n",
            "      dtype='object')\n",
            "Index(['z_true', 'r', 'g-r', 'r-i', 'i-z', 'v', 'v-y', 'y-j', 'j-h', 'g',\n",
            "       'uv-u', 'u-g', 'logprob'],\n",
            "      dtype='object')\n"
          ]
        },
        {
          "output_type": "execute_result",
          "data": {
            "text/plain": [
              "Text(0, 0.5, 'ת')"
            ]
          },
          "metadata": {},
          "execution_count": 94
        },
        {
          "output_type": "display_data",
          "data": {
            "text/plain": [
              "<Figure size 640x480 with 1 Axes>"
            ],
            "image/png": "[encoded data removed]"
          },
          "metadata": {}
        }
      ]
    },
    {
      "cell_type": "code",
      "source": [
        "# color space binned information gain\n",
        "\n",
        "\n",
        "# 'r', 'g-r', 'r-i', 'i-z', 'v', 'v-y', 'y-j', 'j-h', 'g',\n",
        "#       'uv-u', 'u-g']\n",
        "\n",
        "col_diff = 'r-i'\n",
        "\n",
        "color_lim_min = np.min(catalogs['Euclid+LSST+CASTOR'][col_diff])\n",
        "color_lim_max = np.max(catalogs['Euclid+LSST+CASTOR'][col_diff])\n",
        "\n",
        "color_bins = np.linspace(color_lim_min, color_lim_max, 32)\n",
        "avgtav = {}\n",
        "errtav = {}\n",
        "for os in available_os:\n",
        "  print(os)\n",
        "  plotran = np.empty_like(color_bins)\n",
        "  ploterr = np.empty_like(color_bins)\n",
        "  print(catalogs[os].columns)\n",
        "  if 'logprob' not in catalogs[os].columns.values:\n",
        "    catalogs[os]['logprob'] = just_tav[os]\n",
        "    print(catalogs[os].columns)\n",
        "  for i, zmin in enumerate(color_bins[:-1]):\n",
        "    color_max = color_bins[i+1]\n",
        "    subset = catalogs[os][(catalogs['Euclid+LSST+CASTOR'][col_diff] >= color_min) & (catalogs['Euclid+LSST+CASTOR'][col_diff] < color_max)]\n",
        "    # print((zmin, len(subset), zmax))\n",
        "    vals = subset['logprob']\n",
        "    mean = np.mean(vals)\n",
        "    std = np.std(vals)\n",
        "    plotran[i] = mean\n",
        "    ploterr[i] = std\n",
        "  avgtav[os] = plotran\n",
        "  errtav[os] = ploterr\n",
        "\n",
        "for os in available_os:\n",
        "  plt.plot(color_bins, avgtav[os], label=os, alpha=0.5)\n",
        "  plt.fill_between(color_bins, avgtav[os] - errtav[os], avgtav[os] + errtav[os], alpha = 0.1)\n",
        "plt.legend()\n",
        "plt.xlabel(col_diff)\n",
        "plt.ylabel(chr(0x05ea))"
      ],
      "metadata": {
        "colab": {
          "base_uri": "https://localhost:8080/",
          "height": 772
        },
        "id": "EwrZ9_CY24mS",
        "outputId": "89fd77b3-5a9c-4f5b-dab7-2d05623d27f4"
      },
      "id": "EwrZ9_CY24mS",
      "execution_count": null,
      "outputs": [
        {
          "output_type": "stream",
          "name": "stdout",
          "text": [
            "CASTOR-only\n",
            "Index(['z_true', 'g', 'uv-u', 'u-g', 'logprob'], dtype='object')\n",
            "LSST-only\n",
            "Index(['z_true', 'r', 'g-r', 'r-i', 'i-z', 'logprob'], dtype='object')\n",
            "Euclid-only\n",
            "Index(['z_true', 'v', 'v-y', 'y-j', 'j-h', 'logprob'], dtype='object')\n",
            "LSST+CASTOR\n",
            "Index(['z_true', 'r', 'g-r', 'r-i', 'i-z', 'uv-u', 'u-g', 'logprob'], dtype='object')\n",
            "Euclid+CASTOR\n",
            "Index(['z_true', 'g', 'uv-u', 'u-g', 'v', 'v-y', 'y-j', 'j-h', 'logprob'], dtype='object')\n",
            "Euclid+LSST\n",
            "Index(['z_true', 'r', 'g-r', 'r-i', 'i-z', 'v', 'v-y', 'y-j', 'j-h',\n",
            "       'logprob'],\n",
            "      dtype='object')\n",
            "Euclid+LSST+CASTOR\n",
            "Index(['z_true', 'r', 'g-r', 'r-i', 'i-z', 'v', 'v-y', 'y-j', 'j-h', 'g',\n",
            "       'uv-u', 'u-g', 'logprob'],\n",
            "      dtype='object')\n"
          ]
        },
        {
          "output_type": "execute_result",
          "data": {
            "text/plain": [
              "Text(0, 0.5, 'ת')"
            ]
          },
          "metadata": {},
          "execution_count": 100
        },
        {
          "output_type": "display_data",
          "data": {
            "text/plain": [
              "<Figure size 640x480 with 1 Axes>"
            ],
            "image/png": "[encoded data removed]"
          },
          "metadata": {}
        }
      ]
    },
    {
      "cell_type": "code",
      "source": [
        "# maximum information gain galaxies - analog of point source/outliers.\n",
        "\n",
        "np.where(np.abs(just_tav['LSST-only'] - just_tav['Euclid+LSST+CASTOR']) == np.max(np.abs(just_tav['LSST-only'] - just_tav['Euclid+LSST+CASTOR'])))"
      ],
      "metadata": {
        "id": "wsxNQr31oR2P",
        "colab": {
          "base_uri": "https://localhost:8080/"
        },
        "outputId": "c428640c-823c-4d74-9d6d-3151a5bf93e5"
      },
      "id": "wsxNQr31oR2P",
      "execution_count": null,
      "outputs": [
        {
          "output_type": "execute_result",
          "data": {
            "text/plain": [
              "(array([1029]),)"
            ]
          },
          "metadata": {},
          "execution_count": 112
        }
      ]
    },
    {
      "cell_type": "code",
      "source": [
        "np.array(catalogs[os][col_diff])[1029]"
      ],
      "metadata": {
        "id": "zuu8KVqe_CZk",
        "outputId": "25c117e0-032c-4d80-e155-4f4c4a4e0237",
        "colab": {
          "base_uri": "https://localhost:8080/"
        }
      },
      "id": "zuu8KVqe_CZk",
      "execution_count": null,
      "outputs": [
        {
          "output_type": "execute_result",
          "data": {
            "text/plain": [
              "-1.9635743579954834"
            ]
          },
          "metadata": {},
          "execution_count": 120
        }
      ]
    },
    {
      "cell_type": "code",
      "source": [
        "worst_galaxies = np.argsort((np.abs(just_tav['LSST-only'] - just_tav['Euclid+LSST+CASTOR'])))[::-1][0:1000]\n",
        "best_galaxies = np.argsort((np.abs(just_tav['LSST-only'] - just_tav['Euclid+LSST+CASTOR'])))[0:1000]"
      ],
      "metadata": {
        "id": "vcgQJFGU_-62"
      },
      "id": "vcgQJFGU_-62",
      "execution_count": 41,
      "outputs": []
    },
    {
      "cell_type": "code",
      "source": [
        "plt.scatter(np.array(catalogs['Euclid+LSST+CASTOR']['g-r'])[worst_galaxies], np.array(catalogs['Euclid+LSST+CASTOR']['r-i'])[worst_galaxies])\n",
        "plt.scatter(np.array(catalogs['Euclid+LSST+CASTOR']['g-r'])[best_galaxies], np.array(catalogs['Euclid+LSST+CASTOR']['r-i'])[best_galaxies])\n",
        "\n",
        "plt.xlabel('g-r')\n",
        "plt.ylabel('r-i')"
      ],
      "metadata": {
        "id": "EnhMt1RPAq7t",
        "outputId": "07edc933-a607-4d6f-9d66-a4b69283248e",
        "colab": {
          "base_uri": "https://localhost:8080/",
          "height": 466
        }
      },
      "id": "EnhMt1RPAq7t",
      "execution_count": null,
      "outputs": [
        {
          "output_type": "execute_result",
          "data": {
            "text/plain": [
              "Text(0, 0.5, 'r-i')"
            ]
          },
          "metadata": {},
          "execution_count": 151
        },
        {
          "output_type": "display_data",
          "data": {
            "text/plain": [
              "<Figure size 640x480 with 1 Axes>"
            ],
            "image/png": "[encoded data removed]"
          },
          "metadata": {}
        }
      ]
    },
    {
      "cell_type": "code",
      "source": [
        "plt.hist(np.array(catalogs['Euclid+LSST+CASTOR']['g-r'])[worst_galaxies], bins = 30, density = True, alpha = 0.5)\n",
        "plt.hist(np.array(catalogs['Euclid+LSST+CASTOR']['r-i'])[worst_galaxies], bins = 30, density = True, alpha = 0.5)\n",
        "\n",
        "plt.hist(np.array(catalogs['Euclid+LSST+CASTOR']['g-r'])[best_galaxies], bins = 30, density = True, alpha = 0.5)\n",
        "plt.hist(np.array(catalogs['Euclid+LSST+CASTOR']['r-i'])[best_galaxies], bins = 30, density = True, alpha = 0.5)"
      ],
      "metadata": {
        "id": "Ppmtp7wABG7f",
        "outputId": "4e9670f0-200e-4cf4-c151-413e8afb3511",
        "colab": {
          "base_uri": "https://localhost:8080/",
          "height": 668
        }
      },
      "id": "Ppmtp7wABG7f",
      "execution_count": 42,
      "outputs": [
        {
          "output_type": "execute_result",
          "data": {
            "text/plain": [
              "(array([0.04006661, 0.0200333 , 0.20033304, 0.5208659 , 0.84139876,\n",
              "        1.02169849, 1.0417318 , 0.84139876, 1.16193162, 1.36226466,\n",
              "        0.86143206, 1.20199823, 1.42236457, 1.582631  , 1.38229796,\n",
              "        1.78296404, 1.08179841, 0.74123224, 0.80133215, 0.5408992 ,\n",
              "        0.40066608, 0.32053286, 0.22036634, 0.26043295, 0.14023313,\n",
              "        0.10016652, 0.10016652, 0.        , 0.0200333 , 0.0200333 ]),\n",
              " array([-0.10703752, -0.05712064, -0.00720376,  0.04271312,  0.09263   ,\n",
              "         0.14254688,  0.19246376,  0.24238063,  0.29229751,  0.34221439,\n",
              "         0.39213127,  0.44204815,  0.49196503,  0.54188191,  0.59179879,\n",
              "         0.64171567,  0.69163254,  0.74154942,  0.7914663 ,  0.84138318,\n",
              "         0.89130006,  0.94121694,  0.99113382,  1.0410507 ,  1.09096758,\n",
              "         1.14088445,  1.19080133,  1.24071821,  1.29063509,  1.34055197,\n",
              "         1.39046885]),\n",
              " <BarContainer object of 30 artists>)"
            ]
          },
          "metadata": {},
          "execution_count": 42
        },
        {
          "output_type": "display_data",
          "data": {
            "text/plain": [
              "<Figure size 640x480 with 1 Axes>"
            ],
            "image/png": "[encoded data removed]"
          },
          "metadata": {}
        }
      ]
    },
    {
      "cell_type": "code",
      "source": [
        "available_os = ['LSST-only', 'Euclid+LSST+CASTOR']\n",
        "\n",
        "for os in available_os:\n",
        "  plt.hist(just_tav[os][worst_galaxies], alpha=0.25, label=os, density=True, bins=np.linspace(-5, 4, 100))\n",
        "plt.legend()\n",
        "plt.xlim(-5.2,4)\n",
        "plt.xlabel(chr(0x05ea))#r'$\\mathbb{E}_{z, x_{phot}} \\left[ q_\\theta(z | x_{phot}) \\right]$')\n",
        "plt.yticks([])\n",
        "plt.show()\n",
        "\n",
        "# for os in available_os:\n",
        "#   plt.hist(just_tav[os][best_galaxies], alpha=0.25, label=os, density=True, bins=np.linspace(-5, 4, 100))\n",
        "# plt.legend()\n",
        "# plt.xlim(-5,4)\n",
        "# plt.xlabel(chr(0x05ea))#r'$\\mathbb{E}_{z, x_{phot}} \\left[ q_\\theta(z | x_{phot}) \\right]$')\n",
        "# plt.yticks([])"
      ],
      "metadata": {
        "id": "kbu873cMB-2Z",
        "outputId": "003828c5-d377-4fb8-a11c-e9fd2bae25fc",
        "colab": {
          "base_uri": "https://localhost:8080/",
          "height": 449
        }
      },
      "id": "kbu873cMB-2Z",
      "execution_count": 51,
      "outputs": [
        {
          "output_type": "display_data",
          "data": {
            "text/plain": [
              "<Figure size 640x480 with 1 Axes>"
            ],
            "image/png": "[encoded data removed]"
          },
          "metadata": {}
        }
      ]
    },
    {
      "cell_type": "code",
      "source": [
        "# loss"
      ],
      "metadata": {
        "id": "0i-EI-9rSVxt"
      },
      "id": "0i-EI-9rSVxt",
      "execution_count": null,
      "outputs": []
    },
    {
      "cell_type": "code",
      "source": [
        "# flowEns.info"
      ],
      "metadata": {
        "id": "6H1ID-I4cEV5"
      },
      "id": "6H1ID-I4cEV5",
      "execution_count": null,
      "outputs": []
    },
    {
      "cell_type": "code",
      "source": [
        "# mutual_information_lower_bound = flowEns.log_prob(cat_train, returnEnsemble=True)\n",
        "# mutual_information_lower_bound2 = flowEns2.log_prob(cat_train, returnEnsemble=True)\n",
        "\n",
        "plt.hist(np.mean(mutual_information_lower_bound, axis = 0), bins = np.linspace(0.8, 1.2, 5), histtype = 'step')\n",
        "plt.hist(np.mean(mutual_information_lower_bound2, axis = 0), bins = np.linspace(0.8, 1.2, 5), histtype = 'step')\n",
        "\n",
        "\n",
        "#plt.hist(mutual_information_lower_bound, bins=np.linspace(-16, 5, 100), alpha=0.5, histtype='step', density=False)"
      ],
      "metadata": {
        "id": "hmpE2iFgYS6N"
      },
      "id": "hmpE2iFgYS6N",
      "execution_count": null,
      "outputs": []
    },
    {
      "cell_type": "code",
      "source": [
        "available_os = ['Euclid-only', 'Euclid+CASTOR', 'Euclid+LSST+CASTOR', 'Euclid+LSST']"
      ],
      "metadata": {
        "id": "0acMrzSDfRte"
      },
      "id": "0acMrzSDfRte",
      "execution_count": null,
      "outputs": []
    },
    {
      "cell_type": "code",
      "source": [
        "cd '/content/drive/MyDrive/Research/CASTORpz/'"
      ],
      "metadata": {
        "colab": {
          "base_uri": "https://localhost:8080/"
        },
        "id": "OsqBcgHSfVV4",
        "outputId": "7a1692e3-bb92-4795-ed05-3a5d7459ba80"
      },
      "id": "OsqBcgHSfVV4",
      "execution_count": null,
      "outputs": [
        {
          "output_type": "stream",
          "name": "stdout",
          "text": [
            "/content/drive/MyDrive/Research/CASTORpz\n"
          ]
        }
      ]
    },
    {
      "cell_type": "code",
      "source": [
        "names_z=('ID', 'z_true', 'z_phot', 'dz_phot', 'NN', 'N_train')\n"
      ],
      "metadata": {
        "id": "i--VOu4FflM8"
      },
      "id": "i--VOu4FflM8",
      "execution_count": null,
      "outputs": []
    },
    {
      "cell_type": "code",
      "source": [
        "flows = {}\n",
        "for os in available_os:\n",
        "  flows[os] = FlowEnsemble(file=f\"pzflow_ensemble_for_{os}.pkl\")\n",
        "# TODO: need to experiment with different fit parameters because this might be too smooth, also does it account for photometric errors?\n",
        "# TODO: check that draws from flow look like original data\n",
        "\n",
        "\n",
        "# load the catalogs\n",
        "catalogs = dict()\n",
        "for os in available_os:\n",
        "    z_cat = pd.read_csv(f\"dataset/run_{os}/zphot.cat\", names=names_z, delim_whitespace=True, skiprows=1)\n",
        "    phot_cat = pd.read_csv(f\"dataset/run_{os}/test.cat\", names=names_phot, delim_whitespace=True)\n",
        "    cat = z_cat.merge(phot_cat)\n",
        "    catalogs[os] = cat.dropna()\n",
        "\n",
        "for which_os in available_os:\n",
        "  mutual_information_lower_bound = all_milb[which_os].flatten()\n",
        "  print((np.mean(mutual_information_lower_bound), np.std(mutual_information_lower_bound)))\n",
        "  hist(mutual_information_lower_bound, bins=np.linspace(-16, 5, 100), alpha=0.5, histtype='step', \n",
        "       color=os_colors[which_os], label=os_names[which_os], density=False)\n",
        "  xlabel(r'$\\mathbb{E}_{z, x_{phot}} \\left[ q_\\theta(z | x_{phot}) \\right]$')\n",
        "# xlim(-10., 5.)\n",
        "legend(loc='upper left')"
      ],
      "metadata": {
        "id": "e8qPwUh5UWgN",
        "outputId": "0a00db75-00a1-420b-87c9-bd76aa54e0d6",
        "colab": {
          "base_uri": "https://localhost:8080/",
          "height": 375
        }
      },
      "id": "e8qPwUh5UWgN",
      "execution_count": null,
      "outputs": [
        {
          "output_type": "error",
          "ename": "FileNotFoundError",
          "evalue": "ignored",
          "traceback": [
            "\u001b[0;31m---------------------------------------------------------------------------\u001b[0m",
            "\u001b[0;31mFileNotFoundError\u001b[0m                         Traceback (most recent call last)",
            "\u001b[0;32m<ipython-input-27-1a249bee23e9>\u001b[0m in \u001b[0;36m<cell line: 10>\u001b[0;34m()\u001b[0m\n\u001b[1;32m      9\u001b[0m \u001b[0mcatalogs\u001b[0m \u001b[0;34m=\u001b[0m \u001b[0mdict\u001b[0m\u001b[0;34m(\u001b[0m\u001b[0;34m)\u001b[0m\u001b[0;34m\u001b[0m\u001b[0;34m\u001b[0m\u001b[0m\n\u001b[1;32m     10\u001b[0m \u001b[0;32mfor\u001b[0m \u001b[0mos\u001b[0m \u001b[0;32min\u001b[0m \u001b[0mavailable_os\u001b[0m\u001b[0;34m:\u001b[0m\u001b[0;34m\u001b[0m\u001b[0;34m\u001b[0m\u001b[0m\n\u001b[0;32m---> 11\u001b[0;31m     \u001b[0mz_cat\u001b[0m \u001b[0;34m=\u001b[0m \u001b[0mpd\u001b[0m\u001b[0;34m.\u001b[0m\u001b[0mread_csv\u001b[0m\u001b[0;34m(\u001b[0m\u001b[0;34mf\"dataset/run_{os}/zphot.cat\"\u001b[0m\u001b[0;34m,\u001b[0m \u001b[0mnames\u001b[0m\u001b[0;34m=\u001b[0m\u001b[0mnames_z\u001b[0m\u001b[0;34m,\u001b[0m \u001b[0mdelim_whitespace\u001b[0m\u001b[0;34m=\u001b[0m\u001b[0;32mTrue\u001b[0m\u001b[0;34m,\u001b[0m \u001b[0mskiprows\u001b[0m\u001b[0;34m=\u001b[0m\u001b[0;36m1\u001b[0m\u001b[0;34m)\u001b[0m\u001b[0;34m\u001b[0m\u001b[0;34m\u001b[0m\u001b[0m\n\u001b[0m\u001b[1;32m     12\u001b[0m     \u001b[0mphot_cat\u001b[0m \u001b[0;34m=\u001b[0m \u001b[0mpd\u001b[0m\u001b[0;34m.\u001b[0m\u001b[0mread_csv\u001b[0m\u001b[0;34m(\u001b[0m\u001b[0;34mf\"dataset/run_{os}/test.cat\"\u001b[0m\u001b[0;34m,\u001b[0m \u001b[0mnames\u001b[0m\u001b[0;34m=\u001b[0m\u001b[0mnames_phot\u001b[0m\u001b[0;34m,\u001b[0m \u001b[0mdelim_whitespace\u001b[0m\u001b[0;34m=\u001b[0m\u001b[0;32mTrue\u001b[0m\u001b[0;34m)\u001b[0m\u001b[0;34m\u001b[0m\u001b[0;34m\u001b[0m\u001b[0m\n\u001b[1;32m     13\u001b[0m     \u001b[0mcat\u001b[0m \u001b[0;34m=\u001b[0m \u001b[0mz_cat\u001b[0m\u001b[0;34m.\u001b[0m\u001b[0mmerge\u001b[0m\u001b[0;34m(\u001b[0m\u001b[0mphot_cat\u001b[0m\u001b[0;34m)\u001b[0m\u001b[0;34m\u001b[0m\u001b[0;34m\u001b[0m\u001b[0m\n",
            "\u001b[0;32m/usr/local/lib/python3.9/dist-packages/pandas/util/_decorators.py\u001b[0m in \u001b[0;36mwrapper\u001b[0;34m(*args, **kwargs)\u001b[0m\n\u001b[1;32m    209\u001b[0m                 \u001b[0;32melse\u001b[0m\u001b[0;34m:\u001b[0m\u001b[0;34m\u001b[0m\u001b[0;34m\u001b[0m\u001b[0m\n\u001b[1;32m    210\u001b[0m                     \u001b[0mkwargs\u001b[0m\u001b[0;34m[\u001b[0m\u001b[0mnew_arg_name\u001b[0m\u001b[0;34m]\u001b[0m \u001b[0;34m=\u001b[0m \u001b[0mnew_arg_value\u001b[0m\u001b[0;34m\u001b[0m\u001b[0;34m\u001b[0m\u001b[0m\n\u001b[0;32m--> 211\u001b[0;31m             \u001b[0;32mreturn\u001b[0m \u001b[0mfunc\u001b[0m\u001b[0;34m(\u001b[0m\u001b[0;34m*\u001b[0m\u001b[0margs\u001b[0m\u001b[0;34m,\u001b[0m \u001b[0;34m**\u001b[0m\u001b[0mkwargs\u001b[0m\u001b[0;34m)\u001b[0m\u001b[0;34m\u001b[0m\u001b[0;34m\u001b[0m\u001b[0m\n\u001b[0m\u001b[1;32m    212\u001b[0m \u001b[0;34m\u001b[0m\u001b[0m\n\u001b[1;32m    213\u001b[0m         \u001b[0;32mreturn\u001b[0m \u001b[0mcast\u001b[0m\u001b[0;34m(\u001b[0m\u001b[0mF\u001b[0m\u001b[0;34m,\u001b[0m \u001b[0mwrapper\u001b[0m\u001b[0;34m)\u001b[0m\u001b[0;34m\u001b[0m\u001b[0;34m\u001b[0m\u001b[0m\n",
            "\u001b[0;32m/usr/local/lib/python3.9/dist-packages/pandas/util/_decorators.py\u001b[0m in \u001b[0;36mwrapper\u001b[0;34m(*args, **kwargs)\u001b[0m\n\u001b[1;32m    329\u001b[0m                     \u001b[0mstacklevel\u001b[0m\u001b[0;34m=\u001b[0m\u001b[0mfind_stack_level\u001b[0m\u001b[0;34m(\u001b[0m\u001b[0;34m)\u001b[0m\u001b[0;34m,\u001b[0m\u001b[0;34m\u001b[0m\u001b[0;34m\u001b[0m\u001b[0m\n\u001b[1;32m    330\u001b[0m                 )\n\u001b[0;32m--> 331\u001b[0;31m             \u001b[0;32mreturn\u001b[0m \u001b[0mfunc\u001b[0m\u001b[0;34m(\u001b[0m\u001b[0;34m*\u001b[0m\u001b[0margs\u001b[0m\u001b[0;34m,\u001b[0m \u001b[0;34m**\u001b[0m\u001b[0mkwargs\u001b[0m\u001b[0;34m)\u001b[0m\u001b[0;34m\u001b[0m\u001b[0;34m\u001b[0m\u001b[0m\n\u001b[0m\u001b[1;32m    332\u001b[0m \u001b[0;34m\u001b[0m\u001b[0m\n\u001b[1;32m    333\u001b[0m         \u001b[0;31m# error: \"Callable[[VarArg(Any), KwArg(Any)], Any]\" has no\u001b[0m\u001b[0;34m\u001b[0m\u001b[0;34m\u001b[0m\u001b[0m\n",
            "\u001b[0;32m/usr/local/lib/python3.9/dist-packages/pandas/io/parsers/readers.py\u001b[0m in \u001b[0;36mread_csv\u001b[0;34m(filepath_or_buffer, sep, delimiter, header, names, index_col, usecols, squeeze, prefix, mangle_dupe_cols, dtype, engine, converters, true_values, false_values, skipinitialspace, skiprows, skipfooter, nrows, na_values, keep_default_na, na_filter, verbose, skip_blank_lines, parse_dates, infer_datetime_format, keep_date_col, date_parser, dayfirst, cache_dates, iterator, chunksize, compression, thousands, decimal, lineterminator, quotechar, quoting, doublequote, escapechar, comment, encoding, encoding_errors, dialect, error_bad_lines, warn_bad_lines, on_bad_lines, delim_whitespace, low_memory, memory_map, float_precision, storage_options)\u001b[0m\n\u001b[1;32m    948\u001b[0m     \u001b[0mkwds\u001b[0m\u001b[0;34m.\u001b[0m\u001b[0mupdate\u001b[0m\u001b[0;34m(\u001b[0m\u001b[0mkwds_defaults\u001b[0m\u001b[0;34m)\u001b[0m\u001b[0;34m\u001b[0m\u001b[0;34m\u001b[0m\u001b[0m\n\u001b[1;32m    949\u001b[0m \u001b[0;34m\u001b[0m\u001b[0m\n\u001b[0;32m--> 950\u001b[0;31m     \u001b[0;32mreturn\u001b[0m \u001b[0m_read\u001b[0m\u001b[0;34m(\u001b[0m\u001b[0mfilepath_or_buffer\u001b[0m\u001b[0;34m,\u001b[0m \u001b[0mkwds\u001b[0m\u001b[0;34m)\u001b[0m\u001b[0;34m\u001b[0m\u001b[0;34m\u001b[0m\u001b[0m\n\u001b[0m\u001b[1;32m    951\u001b[0m \u001b[0;34m\u001b[0m\u001b[0m\n\u001b[1;32m    952\u001b[0m \u001b[0;34m\u001b[0m\u001b[0m\n",
            "\u001b[0;32m/usr/local/lib/python3.9/dist-packages/pandas/io/parsers/readers.py\u001b[0m in \u001b[0;36m_read\u001b[0;34m(filepath_or_buffer, kwds)\u001b[0m\n\u001b[1;32m    603\u001b[0m \u001b[0;34m\u001b[0m\u001b[0m\n\u001b[1;32m    604\u001b[0m     \u001b[0;31m# Create the parser.\u001b[0m\u001b[0;34m\u001b[0m\u001b[0;34m\u001b[0m\u001b[0m\n\u001b[0;32m--> 605\u001b[0;31m     \u001b[0mparser\u001b[0m \u001b[0;34m=\u001b[0m \u001b[0mTextFileReader\u001b[0m\u001b[0;34m(\u001b[0m\u001b[0mfilepath_or_buffer\u001b[0m\u001b[0;34m,\u001b[0m \u001b[0;34m**\u001b[0m\u001b[0mkwds\u001b[0m\u001b[0;34m)\u001b[0m\u001b[0;34m\u001b[0m\u001b[0;34m\u001b[0m\u001b[0m\n\u001b[0m\u001b[1;32m    606\u001b[0m \u001b[0;34m\u001b[0m\u001b[0m\n\u001b[1;32m    607\u001b[0m     \u001b[0;32mif\u001b[0m \u001b[0mchunksize\u001b[0m \u001b[0;32mor\u001b[0m \u001b[0miterator\u001b[0m\u001b[0;34m:\u001b[0m\u001b[0;34m\u001b[0m\u001b[0;34m\u001b[0m\u001b[0m\n",
            "\u001b[0;32m/usr/local/lib/python3.9/dist-packages/pandas/io/parsers/readers.py\u001b[0m in \u001b[0;36m__init__\u001b[0;34m(self, f, engine, **kwds)\u001b[0m\n\u001b[1;32m   1440\u001b[0m \u001b[0;34m\u001b[0m\u001b[0m\n\u001b[1;32m   1441\u001b[0m         \u001b[0mself\u001b[0m\u001b[0;34m.\u001b[0m\u001b[0mhandles\u001b[0m\u001b[0;34m:\u001b[0m \u001b[0mIOHandles\u001b[0m \u001b[0;34m|\u001b[0m \u001b[0;32mNone\u001b[0m \u001b[0;34m=\u001b[0m \u001b[0;32mNone\u001b[0m\u001b[0;34m\u001b[0m\u001b[0;34m\u001b[0m\u001b[0m\n\u001b[0;32m-> 1442\u001b[0;31m         \u001b[0mself\u001b[0m\u001b[0;34m.\u001b[0m\u001b[0m_engine\u001b[0m \u001b[0;34m=\u001b[0m \u001b[0mself\u001b[0m\u001b[0;34m.\u001b[0m\u001b[0m_make_engine\u001b[0m\u001b[0;34m(\u001b[0m\u001b[0mf\u001b[0m\u001b[0;34m,\u001b[0m \u001b[0mself\u001b[0m\u001b[0;34m.\u001b[0m\u001b[0mengine\u001b[0m\u001b[0;34m)\u001b[0m\u001b[0;34m\u001b[0m\u001b[0;34m\u001b[0m\u001b[0m\n\u001b[0m\u001b[1;32m   1443\u001b[0m \u001b[0;34m\u001b[0m\u001b[0m\n\u001b[1;32m   1444\u001b[0m     \u001b[0;32mdef\u001b[0m \u001b[0mclose\u001b[0m\u001b[0;34m(\u001b[0m\u001b[0mself\u001b[0m\u001b[0;34m)\u001b[0m \u001b[0;34m->\u001b[0m \u001b[0;32mNone\u001b[0m\u001b[0;34m:\u001b[0m\u001b[0;34m\u001b[0m\u001b[0;34m\u001b[0m\u001b[0m\n",
            "\u001b[0;32m/usr/local/lib/python3.9/dist-packages/pandas/io/parsers/readers.py\u001b[0m in \u001b[0;36m_make_engine\u001b[0;34m(self, f, engine)\u001b[0m\n\u001b[1;32m   1733\u001b[0m                 \u001b[0;32mif\u001b[0m \u001b[0;34m\"b\"\u001b[0m \u001b[0;32mnot\u001b[0m \u001b[0;32min\u001b[0m \u001b[0mmode\u001b[0m\u001b[0;34m:\u001b[0m\u001b[0;34m\u001b[0m\u001b[0;34m\u001b[0m\u001b[0m\n\u001b[1;32m   1734\u001b[0m                     \u001b[0mmode\u001b[0m \u001b[0;34m+=\u001b[0m \u001b[0;34m\"b\"\u001b[0m\u001b[0;34m\u001b[0m\u001b[0;34m\u001b[0m\u001b[0m\n\u001b[0;32m-> 1735\u001b[0;31m             self.handles = get_handle(\n\u001b[0m\u001b[1;32m   1736\u001b[0m                 \u001b[0mf\u001b[0m\u001b[0;34m,\u001b[0m\u001b[0;34m\u001b[0m\u001b[0;34m\u001b[0m\u001b[0m\n\u001b[1;32m   1737\u001b[0m                 \u001b[0mmode\u001b[0m\u001b[0;34m,\u001b[0m\u001b[0;34m\u001b[0m\u001b[0;34m\u001b[0m\u001b[0m\n",
            "\u001b[0;32m/usr/local/lib/python3.9/dist-packages/pandas/io/common.py\u001b[0m in \u001b[0;36mget_handle\u001b[0;34m(path_or_buf, mode, encoding, compression, memory_map, is_text, errors, storage_options)\u001b[0m\n\u001b[1;32m    854\u001b[0m         \u001b[0;32mif\u001b[0m \u001b[0mioargs\u001b[0m\u001b[0;34m.\u001b[0m\u001b[0mencoding\u001b[0m \u001b[0;32mand\u001b[0m \u001b[0;34m\"b\"\u001b[0m \u001b[0;32mnot\u001b[0m \u001b[0;32min\u001b[0m \u001b[0mioargs\u001b[0m\u001b[0;34m.\u001b[0m\u001b[0mmode\u001b[0m\u001b[0;34m:\u001b[0m\u001b[0;34m\u001b[0m\u001b[0;34m\u001b[0m\u001b[0m\n\u001b[1;32m    855\u001b[0m             \u001b[0;31m# Encoding\u001b[0m\u001b[0;34m\u001b[0m\u001b[0;34m\u001b[0m\u001b[0m\n\u001b[0;32m--> 856\u001b[0;31m             handle = open(\n\u001b[0m\u001b[1;32m    857\u001b[0m                 \u001b[0mhandle\u001b[0m\u001b[0;34m,\u001b[0m\u001b[0;34m\u001b[0m\u001b[0;34m\u001b[0m\u001b[0m\n\u001b[1;32m    858\u001b[0m                 \u001b[0mioargs\u001b[0m\u001b[0;34m.\u001b[0m\u001b[0mmode\u001b[0m\u001b[0;34m,\u001b[0m\u001b[0;34m\u001b[0m\u001b[0;34m\u001b[0m\u001b[0m\n",
            "\u001b[0;31mFileNotFoundError\u001b[0m: [Errno 2] No such file or directory: 'dataset/run_Euclid-only/zphot.cat'"
          ]
        }
      ]
    },
    {
      "cell_type": "code",
      "source": [],
      "metadata": {
        "id": "Pm8A-x0Ip9RG"
      },
      "id": "Pm8A-x0Ip9RG",
      "execution_count": null,
      "outputs": []
    },
    {
      "cell_type": "code",
      "source": [],
      "metadata": {
        "id": "KnGUUYoyVeEE"
      },
      "id": "KnGUUYoyVeEE",
      "execution_count": null,
      "outputs": []
    },
    {
      "cell_type": "markdown",
      "source": [
        "And now an error because it's looking at flows trained on catalogs with different keyword names?"
      ],
      "metadata": {
        "id": "op9-IXAOTPmu"
      },
      "id": "op9-IXAOTPmu"
    },
    {
      "cell_type": "code",
      "source": [
        "# this pzflow demo runs, so the problem is specific to our data\n",
        "\n",
        "# import jax.numpy as jnp\n",
        "# import matplotlib.pyplot as plt\n",
        "# # import corner\n",
        "\n",
        "# import pzflow\n",
        "# from pzflow import Flow\n",
        "# from pzflow.bijectors import Chain, ShiftBounds, RollingSplineCoupling\n",
        "# from pzflow.distributions import Uniform\n",
        "# from pzflow.examples import get_galaxy_data\n",
        "\n",
        "# data = get_galaxy_data()\n",
        "\n",
        "# # get minima and maxima for each column\n",
        "# mins = jnp.array(data.min(axis=0))\n",
        "# maxs = jnp.array(data.max(axis=0))\n",
        "\n",
        "# # get the number of dimensions\n",
        "# ndim = data.shape[1]\n",
        "\n",
        "# # build the bijector\n",
        "# bijector = Chain(\n",
        "#     ShiftBounds(mins, maxs, B=4),\n",
        "#     RollingSplineCoupling(ndim, B=5),\n",
        "# )\n",
        "\n",
        "\n",
        "\n",
        "# latent = Uniform(input_dim=ndim, B=5)\n",
        "\n",
        "\n",
        "# flow = Flow(data.columns, bijector=bijector, latent=latent)\n",
        "\n",
        "# # %%time \n",
        "# losses = flow.train(data, epochs=20, verbose=True)\n"
      ],
      "metadata": {
        "id": "uP7Gs6zaknX_",
        "outputId": "6435c68a-a8f1-455b-edfa-63030a0c44e1",
        "colab": {
          "base_uri": "https://localhost:8080/",
          "height": 400
        }
      },
      "id": "uP7Gs6zaknX_",
      "execution_count": null,
      "outputs": [
        {
          "output_type": "stream",
          "name": "stdout",
          "text": [
            "Training 200 epochs \n",
            "Loss:\n",
            "(0) 20.4908\n"
          ]
        },
        {
          "output_type": "error",
          "ename": "KeyboardInterrupt",
          "evalue": "ignored",
          "traceback": [
            "\u001b[0;31m---------------------------------------------------------------------------\u001b[0m",
            "\u001b[0;31mKeyboardInterrupt\u001b[0m                         Traceback (most recent call last)",
            "\u001b[0;32m<ipython-input-89-ebc1ea1dfd57>\u001b[0m in \u001b[0;36m<module>\u001b[0;34m\u001b[0m\n\u001b[1;32m     32\u001b[0m \u001b[0;34m\u001b[0m\u001b[0m\n\u001b[1;32m     33\u001b[0m \u001b[0;31m# %%time\u001b[0m\u001b[0;34m\u001b[0m\u001b[0;34m\u001b[0m\u001b[0;34m\u001b[0m\u001b[0m\n\u001b[0;32m---> 34\u001b[0;31m \u001b[0mlosses\u001b[0m \u001b[0;34m=\u001b[0m \u001b[0mflow\u001b[0m\u001b[0;34m.\u001b[0m\u001b[0mtrain\u001b[0m\u001b[0;34m(\u001b[0m\u001b[0mdata\u001b[0m\u001b[0;34m,\u001b[0m \u001b[0mepochs\u001b[0m\u001b[0;34m=\u001b[0m\u001b[0;36m200\u001b[0m\u001b[0;34m,\u001b[0m \u001b[0mverbose\u001b[0m\u001b[0;34m=\u001b[0m\u001b[0;32mTrue\u001b[0m\u001b[0;34m)\u001b[0m\u001b[0;34m\u001b[0m\u001b[0;34m\u001b[0m\u001b[0m\n\u001b[0m",
            "\u001b[0;32m/usr/local/lib/python3.8/dist-packages/pzflow/flow.py\u001b[0m in \u001b[0;36mtrain\u001b[0;34m(self, inputs, epochs, batch_size, optimizer, loss_fn, convolve_errs, patience, seed, verbose, progress_bar)\u001b[0m\n\u001b[1;32m   1032\u001b[0m                 )\n\u001b[1;32m   1033\u001b[0m \u001b[0;34m\u001b[0m\u001b[0m\n\u001b[0;32m-> 1034\u001b[0;31m                 model_params, opt_state = step(\n\u001b[0m\u001b[1;32m   1035\u001b[0m                     \u001b[0mmodel_params\u001b[0m\u001b[0;34m,\u001b[0m\u001b[0;34m\u001b[0m\u001b[0;34m\u001b[0m\u001b[0m\n\u001b[1;32m   1036\u001b[0m                     \u001b[0mopt_state\u001b[0m\u001b[0;34m,\u001b[0m\u001b[0;34m\u001b[0m\u001b[0;34m\u001b[0m\u001b[0m\n",
            "\u001b[0;32m/usr/local/lib/python3.8/dist-packages/jax/_src/traceback_util.py\u001b[0m in \u001b[0;36mreraise_with_filtered_traceback\u001b[0;34m(*args, **kwargs)\u001b[0m\n\u001b[1;32m    161\u001b[0m     \u001b[0m__tracebackhide__\u001b[0m \u001b[0;34m=\u001b[0m \u001b[0;32mTrue\u001b[0m\u001b[0;34m\u001b[0m\u001b[0;34m\u001b[0m\u001b[0m\n\u001b[1;32m    162\u001b[0m     \u001b[0;32mtry\u001b[0m\u001b[0;34m:\u001b[0m\u001b[0;34m\u001b[0m\u001b[0;34m\u001b[0m\u001b[0m\n\u001b[0;32m--> 163\u001b[0;31m       \u001b[0;32mreturn\u001b[0m \u001b[0mfun\u001b[0m\u001b[0;34m(\u001b[0m\u001b[0;34m*\u001b[0m\u001b[0margs\u001b[0m\u001b[0;34m,\u001b[0m \u001b[0;34m**\u001b[0m\u001b[0mkwargs\u001b[0m\u001b[0;34m)\u001b[0m\u001b[0;34m\u001b[0m\u001b[0;34m\u001b[0m\u001b[0m\n\u001b[0m\u001b[1;32m    164\u001b[0m     \u001b[0;32mexcept\u001b[0m \u001b[0mException\u001b[0m \u001b[0;32mas\u001b[0m \u001b[0me\u001b[0m\u001b[0;34m:\u001b[0m\u001b[0;34m\u001b[0m\u001b[0;34m\u001b[0m\u001b[0m\n\u001b[1;32m    165\u001b[0m       \u001b[0mmode\u001b[0m \u001b[0;34m=\u001b[0m \u001b[0mfiltering_mode\u001b[0m\u001b[0;34m(\u001b[0m\u001b[0;34m)\u001b[0m\u001b[0;34m\u001b[0m\u001b[0;34m\u001b[0m\u001b[0m\n",
            "\u001b[0;32m/usr/local/lib/python3.8/dist-packages/jax/_src/api.py\u001b[0m in \u001b[0;36mcache_miss\u001b[0;34m(*args, **kwargs)\u001b[0m\n\u001b[1;32m    692\u001b[0m     if isinstance(top_trace, core.EvalTrace) and not (\n\u001b[1;32m    693\u001b[0m         jax.config.jax_debug_nans or jax.config.jax_debug_infs):\n\u001b[0;32m--> 694\u001b[0;31m       \u001b[0mexecute\u001b[0m \u001b[0;34m=\u001b[0m \u001b[0mdispatch\u001b[0m\u001b[0;34m.\u001b[0m\u001b[0m_xla_call_impl_lazy\u001b[0m\u001b[0;34m(\u001b[0m\u001b[0mfun_\u001b[0m\u001b[0;34m,\u001b[0m \u001b[0;34m*\u001b[0m\u001b[0mtracers\u001b[0m\u001b[0;34m,\u001b[0m \u001b[0;34m**\u001b[0m\u001b[0mparams\u001b[0m\u001b[0;34m)\u001b[0m\u001b[0;34m\u001b[0m\u001b[0;34m\u001b[0m\u001b[0m\n\u001b[0m\u001b[1;32m    695\u001b[0m       \u001b[0mout_flat\u001b[0m \u001b[0;34m=\u001b[0m \u001b[0mcall_bind_continuation\u001b[0m\u001b[0;34m(\u001b[0m\u001b[0mexecute\u001b[0m\u001b[0;34m(\u001b[0m\u001b[0;34m*\u001b[0m\u001b[0margs_flat\u001b[0m\u001b[0;34m)\u001b[0m\u001b[0;34m)\u001b[0m\u001b[0;34m\u001b[0m\u001b[0;34m\u001b[0m\u001b[0m\n\u001b[1;32m    696\u001b[0m     \u001b[0;32melse\u001b[0m\u001b[0;34m:\u001b[0m\u001b[0;34m\u001b[0m\u001b[0;34m\u001b[0m\u001b[0m\n",
            "\u001b[0;32m/usr/local/lib/python3.8/dist-packages/jax/_src/dispatch.py\u001b[0m in \u001b[0;36m_xla_call_impl_lazy\u001b[0;34m(***failed resolving arguments***)\u001b[0m\n\u001b[1;32m    238\u001b[0m       \u001b[0;32mraise\u001b[0m \u001b[0mNotImplementedError\u001b[0m\u001b[0;34m(\u001b[0m\u001b[0;34m'Dynamic shapes do not work with Array.'\u001b[0m\u001b[0;34m)\u001b[0m\u001b[0;34m\u001b[0m\u001b[0;34m\u001b[0m\u001b[0m\n\u001b[1;32m    239\u001b[0m     \u001b[0marg_specs\u001b[0m \u001b[0;34m=\u001b[0m \u001b[0;34m[\u001b[0m\u001b[0;34m(\u001b[0m\u001b[0;32mNone\u001b[0m\u001b[0;34m,\u001b[0m \u001b[0mgetattr\u001b[0m\u001b[0;34m(\u001b[0m\u001b[0mx\u001b[0m\u001b[0;34m,\u001b[0m \u001b[0;34m'_device'\u001b[0m\u001b[0;34m,\u001b[0m \u001b[0;32mNone\u001b[0m\u001b[0;34m)\u001b[0m\u001b[0;34m)\u001b[0m \u001b[0;32mfor\u001b[0m \u001b[0mx\u001b[0m \u001b[0;32min\u001b[0m \u001b[0margs\u001b[0m\u001b[0;34m]\u001b[0m\u001b[0;34m\u001b[0m\u001b[0;34m\u001b[0m\u001b[0m\n\u001b[0;32m--> 240\u001b[0;31m   return xla_callable(fun, device, backend, name, donated_invars, keep_unused,\n\u001b[0m\u001b[1;32m    241\u001b[0m                       *arg_specs)\n\u001b[1;32m    242\u001b[0m \u001b[0;34m\u001b[0m\u001b[0m\n",
            "\u001b[0;32m/usr/local/lib/python3.8/dist-packages/jax/_src/linear_util.py\u001b[0m in \u001b[0;36mmemoized_fun\u001b[0;34m(fun, *args)\u001b[0m\n\u001b[1;32m    299\u001b[0m       \u001b[0mfun\u001b[0m\u001b[0;34m.\u001b[0m\u001b[0mpopulate_stores\u001b[0m\u001b[0;34m(\u001b[0m\u001b[0mstores\u001b[0m\u001b[0;34m)\u001b[0m\u001b[0;34m\u001b[0m\u001b[0;34m\u001b[0m\u001b[0m\n\u001b[1;32m    300\u001b[0m     \u001b[0;32melse\u001b[0m\u001b[0;34m:\u001b[0m\u001b[0;34m\u001b[0m\u001b[0;34m\u001b[0m\u001b[0m\n\u001b[0;32m--> 301\u001b[0;31m       \u001b[0mans\u001b[0m \u001b[0;34m=\u001b[0m \u001b[0mcall\u001b[0m\u001b[0;34m(\u001b[0m\u001b[0mfun\u001b[0m\u001b[0;34m,\u001b[0m \u001b[0;34m*\u001b[0m\u001b[0margs\u001b[0m\u001b[0;34m)\u001b[0m\u001b[0;34m\u001b[0m\u001b[0;34m\u001b[0m\u001b[0m\n\u001b[0m\u001b[1;32m    302\u001b[0m       \u001b[0mcache\u001b[0m\u001b[0;34m[\u001b[0m\u001b[0mkey\u001b[0m\u001b[0;34m]\u001b[0m \u001b[0;34m=\u001b[0m \u001b[0;34m(\u001b[0m\u001b[0mans\u001b[0m\u001b[0;34m,\u001b[0m \u001b[0mfun\u001b[0m\u001b[0;34m.\u001b[0m\u001b[0mstores\u001b[0m\u001b[0;34m)\u001b[0m\u001b[0;34m\u001b[0m\u001b[0;34m\u001b[0m\u001b[0m\n\u001b[1;32m    303\u001b[0m \u001b[0;34m\u001b[0m\u001b[0m\n",
            "\u001b[0;32m/usr/local/lib/python3.8/dist-packages/jax/_src/dispatch.py\u001b[0m in \u001b[0;36m_xla_callable_uncached\u001b[0;34m(fun, device, backend, name, donated_invars, keep_unused, *arg_specs)\u001b[0m\n\u001b[1;32m    352\u001b[0m                                    False, keep_unused, *arg_specs)\n\u001b[1;32m    353\u001b[0m     \u001b[0mallow_prop\u001b[0m \u001b[0;34m=\u001b[0m \u001b[0;34m[\u001b[0m\u001b[0;32mTrue\u001b[0m\u001b[0;34m]\u001b[0m \u001b[0;34m*\u001b[0m \u001b[0mlen\u001b[0m\u001b[0;34m(\u001b[0m\u001b[0mcomputation\u001b[0m\u001b[0;34m.\u001b[0m\u001b[0mcompile_args\u001b[0m\u001b[0;34m[\u001b[0m\u001b[0;34m'global_out_avals'\u001b[0m\u001b[0;34m]\u001b[0m\u001b[0;34m)\u001b[0m\u001b[0;34m\u001b[0m\u001b[0;34m\u001b[0m\u001b[0m\n\u001b[0;32m--> 354\u001b[0;31m     \u001b[0;32mreturn\u001b[0m \u001b[0mcomputation\u001b[0m\u001b[0;34m.\u001b[0m\u001b[0mcompile\u001b[0m\u001b[0;34m(\u001b[0m\u001b[0m_allow_propagation_to_outputs\u001b[0m\u001b[0;34m=\u001b[0m\u001b[0mallow_prop\u001b[0m\u001b[0;34m)\u001b[0m\u001b[0;34m.\u001b[0m\u001b[0munsafe_call\u001b[0m\u001b[0;34m\u001b[0m\u001b[0;34m\u001b[0m\u001b[0m\n\u001b[0m\u001b[1;32m    355\u001b[0m   \u001b[0;32melse\u001b[0m\u001b[0;34m:\u001b[0m\u001b[0;34m\u001b[0m\u001b[0;34m\u001b[0m\u001b[0m\n\u001b[1;32m    356\u001b[0m     return lower_xla_callable(fun, device, backend, name, donated_invars, False,\n",
            "\u001b[0;32m/usr/local/lib/python3.8/dist-packages/jax/_src/interpreters/pxla.py\u001b[0m in \u001b[0;36mcompile\u001b[0;34m(self, _allow_propagation_to_outputs, _allow_compile_replicated)\u001b[0m\n\u001b[1;32m   3201\u001b[0m               _allow_compile_replicated: bool = True) -> MeshExecutable:\n\u001b[1;32m   3202\u001b[0m     \u001b[0;32mif\u001b[0m \u001b[0mself\u001b[0m\u001b[0;34m.\u001b[0m\u001b[0m_executable\u001b[0m \u001b[0;32mis\u001b[0m \u001b[0;32mNone\u001b[0m\u001b[0;34m:\u001b[0m\u001b[0;34m\u001b[0m\u001b[0;34m\u001b[0m\u001b[0m\n\u001b[0;32m-> 3203\u001b[0;31m       executable = self._compile_unloaded(\n\u001b[0m\u001b[1;32m   3204\u001b[0m           _allow_propagation_to_outputs, _allow_compile_replicated)\n\u001b[1;32m   3205\u001b[0m       \u001b[0;32mif\u001b[0m \u001b[0misinstance\u001b[0m\u001b[0;34m(\u001b[0m\u001b[0mexecutable\u001b[0m\u001b[0;34m,\u001b[0m \u001b[0mUnloadedMeshExecutable\u001b[0m\u001b[0;34m)\u001b[0m\u001b[0;34m:\u001b[0m\u001b[0;34m\u001b[0m\u001b[0;34m\u001b[0m\u001b[0m\n",
            "\u001b[0;32m/usr/local/lib/python3.8/dist-packages/jax/_src/interpreters/pxla.py\u001b[0m in \u001b[0;36m_compile_unloaded\u001b[0;34m(self, _allow_propagation_to_outputs, _allow_compile_replicated)\u001b[0m\n\u001b[1;32m   3172\u001b[0m       \u001b[0;32mreturn\u001b[0m \u001b[0mMeshExecutable\u001b[0m\u001b[0;34m.\u001b[0m\u001b[0mfrom_trivial_jaxpr\u001b[0m\u001b[0;34m(\u001b[0m\u001b[0;34m**\u001b[0m\u001b[0mself\u001b[0m\u001b[0;34m.\u001b[0m\u001b[0mcompile_args\u001b[0m\u001b[0;34m)\u001b[0m\u001b[0;34m\u001b[0m\u001b[0;34m\u001b[0m\u001b[0m\n\u001b[1;32m   3173\u001b[0m     \u001b[0;32melse\u001b[0m\u001b[0;34m:\u001b[0m\u001b[0;34m\u001b[0m\u001b[0;34m\u001b[0m\u001b[0m\n\u001b[0;32m-> 3174\u001b[0;31m       return UnloadedMeshExecutable.from_hlo(\n\u001b[0m\u001b[1;32m   3175\u001b[0m           \u001b[0mself\u001b[0m\u001b[0;34m.\u001b[0m\u001b[0m_name\u001b[0m\u001b[0;34m,\u001b[0m\u001b[0;34m\u001b[0m\u001b[0;34m\u001b[0m\u001b[0m\n\u001b[1;32m   3176\u001b[0m           \u001b[0mself\u001b[0m\u001b[0;34m.\u001b[0m\u001b[0m_hlo\u001b[0m\u001b[0;34m,\u001b[0m\u001b[0;34m\u001b[0m\u001b[0;34m\u001b[0m\u001b[0m\n",
            "\u001b[0;32m/usr/local/lib/python3.8/dist-packages/jax/_src/interpreters/pxla.py\u001b[0m in \u001b[0;36mfrom_hlo\u001b[0;34m(name, computation, mesh, global_in_avals, global_out_avals, in_shardings, out_shardings, spmd_lowering, tuple_args, in_is_global, auto_spmd_lowering, _allow_propagation_to_outputs, _allow_compile_replicated, unordered_effects, ordered_effects, host_callbacks, keepalive, kept_var_idx, backend, device_assignment, committed, pmap_nreps)\u001b[0m\n\u001b[1;32m   3454\u001b[0m                                      \u001b[0;34m\"in {elapsed_time} sec\"\u001b[0m\u001b[0;34m,\u001b[0m\u001b[0;34m\u001b[0m\u001b[0;34m\u001b[0m\u001b[0m\n\u001b[1;32m   3455\u001b[0m                                      event=dispatch.BACKEND_COMPILE_EVENT):\n\u001b[0;32m-> 3456\u001b[0;31m         xla_executable = dispatch.compile_or_get_cached(\n\u001b[0m\u001b[1;32m   3457\u001b[0m             backend, computation, compile_options, host_callbacks)\n\u001b[1;32m   3458\u001b[0m \u001b[0;34m\u001b[0m\u001b[0m\n",
            "\u001b[0;32m/usr/local/lib/python3.8/dist-packages/jax/_src/dispatch.py\u001b[0m in \u001b[0;36mcompile_or_get_cached\u001b[0;34m(backend, computation, compile_options, host_callbacks)\u001b[0m\n\u001b[1;32m   1079\u001b[0m       \u001b[0;32mreturn\u001b[0m \u001b[0mcompiled\u001b[0m\u001b[0;34m\u001b[0m\u001b[0;34m\u001b[0m\u001b[0m\n\u001b[1;32m   1080\u001b[0m \u001b[0;34m\u001b[0m\u001b[0m\n\u001b[0;32m-> 1081\u001b[0;31m   return backend_compile(backend, serialized_computation, compile_options,\n\u001b[0m\u001b[1;32m   1082\u001b[0m                          host_callbacks)\n\u001b[1;32m   1083\u001b[0m \u001b[0;34m\u001b[0m\u001b[0m\n",
            "\u001b[0;32m/usr/local/lib/python3.8/dist-packages/jax/_src/profiler.py\u001b[0m in \u001b[0;36mwrapper\u001b[0;34m(*args, **kwargs)\u001b[0m\n\u001b[1;32m    312\u001b[0m   \u001b[0;32mdef\u001b[0m \u001b[0mwrapper\u001b[0m\u001b[0;34m(\u001b[0m\u001b[0;34m*\u001b[0m\u001b[0margs\u001b[0m\u001b[0;34m,\u001b[0m \u001b[0;34m**\u001b[0m\u001b[0mkwargs\u001b[0m\u001b[0;34m)\u001b[0m\u001b[0;34m:\u001b[0m\u001b[0;34m\u001b[0m\u001b[0;34m\u001b[0m\u001b[0m\n\u001b[1;32m    313\u001b[0m     \u001b[0;32mwith\u001b[0m \u001b[0mTraceAnnotation\u001b[0m\u001b[0;34m(\u001b[0m\u001b[0mname\u001b[0m\u001b[0;34m,\u001b[0m \u001b[0;34m**\u001b[0m\u001b[0mdecorator_kwargs\u001b[0m\u001b[0;34m)\u001b[0m\u001b[0;34m:\u001b[0m\u001b[0;34m\u001b[0m\u001b[0;34m\u001b[0m\u001b[0m\n\u001b[0;32m--> 314\u001b[0;31m       \u001b[0;32mreturn\u001b[0m \u001b[0mfunc\u001b[0m\u001b[0;34m(\u001b[0m\u001b[0;34m*\u001b[0m\u001b[0margs\u001b[0m\u001b[0;34m,\u001b[0m \u001b[0;34m**\u001b[0m\u001b[0mkwargs\u001b[0m\u001b[0;34m)\u001b[0m\u001b[0;34m\u001b[0m\u001b[0;34m\u001b[0m\u001b[0m\n\u001b[0m\u001b[1;32m    315\u001b[0m     \u001b[0;32mreturn\u001b[0m \u001b[0mwrapper\u001b[0m\u001b[0;34m\u001b[0m\u001b[0;34m\u001b[0m\u001b[0m\n\u001b[1;32m    316\u001b[0m   \u001b[0;32mreturn\u001b[0m \u001b[0mwrapper\u001b[0m\u001b[0;34m\u001b[0m\u001b[0;34m\u001b[0m\u001b[0m\n",
            "\u001b[0;32m/usr/local/lib/python3.8/dist-packages/jax/_src/dispatch.py\u001b[0m in \u001b[0;36mbackend_compile\u001b[0;34m(backend, built_c, options, host_callbacks)\u001b[0m\n\u001b[1;32m   1024\u001b[0m   \u001b[0;31m# TODO(sharadmv): remove this fallback when all backends allow `compile`\u001b[0m\u001b[0;34m\u001b[0m\u001b[0;34m\u001b[0m\u001b[0;34m\u001b[0m\u001b[0m\n\u001b[1;32m   1025\u001b[0m   \u001b[0;31m# to take in `host_callbacks`\u001b[0m\u001b[0;34m\u001b[0m\u001b[0;34m\u001b[0m\u001b[0;34m\u001b[0m\u001b[0m\n\u001b[0;32m-> 1026\u001b[0;31m   \u001b[0;32mreturn\u001b[0m \u001b[0mbackend\u001b[0m\u001b[0;34m.\u001b[0m\u001b[0mcompile\u001b[0m\u001b[0;34m(\u001b[0m\u001b[0mbuilt_c\u001b[0m\u001b[0;34m,\u001b[0m \u001b[0mcompile_options\u001b[0m\u001b[0;34m=\u001b[0m\u001b[0moptions\u001b[0m\u001b[0;34m)\u001b[0m\u001b[0;34m\u001b[0m\u001b[0;34m\u001b[0m\u001b[0m\n\u001b[0m\u001b[1;32m   1027\u001b[0m \u001b[0;34m\u001b[0m\u001b[0m\n\u001b[1;32m   1028\u001b[0m \u001b[0m_ir_dump_counter\u001b[0m \u001b[0;34m=\u001b[0m \u001b[0mitertools\u001b[0m\u001b[0;34m.\u001b[0m\u001b[0mcount\u001b[0m\u001b[0;34m(\u001b[0m\u001b[0;34m)\u001b[0m\u001b[0;34m\u001b[0m\u001b[0;34m\u001b[0m\u001b[0m\n",
            "\u001b[0;31mKeyboardInterrupt\u001b[0m: "
          ]
        }
      ]
    },
    {
      "cell_type": "markdown",
      "id": "f49e3a2b",
      "metadata": {
        "id": "f49e3a2b"
      },
      "source": [
        "dependencies: pzflow, pandas, jax"
      ]
    },
    {
      "cell_type": "code",
      "execution_count": null,
      "id": "83ab7905",
      "metadata": {
        "id": "83ab7905"
      },
      "outputs": [],
      "source": [
        "from pzflow import Flow\n",
        "import jax.numpy as jnp\n",
        "import pandas as pd \n",
        "\n",
        "import matplotlib.pyplot as plt"
      ]
    },
    {
      "cell_type": "code",
      "execution_count": null,
      "id": "43a16a1f",
      "metadata": {
        "id": "43a16a1f"
      },
      "outputs": [],
      "source": [
        "from astropy.table import Table"
      ]
    },
    {
      "cell_type": "markdown",
      "id": "42ed4f28",
      "metadata": {
        "id": "42ed4f28"
      },
      "source": [
        "## CASTOR COSMOS synthetic catalogs"
      ]
    },
    {
      "cell_type": "code",
      "execution_count": null,
      "id": "8ff5d07a",
      "metadata": {
        "id": "8ff5d07a"
      },
      "outputs": [],
      "source": [
        "# load data\n",
        "\n",
        "unp = Table.read(\"unperturbed_mags.fits\")\n",
        "mock = Table.read(\"ext_phot.fits\")\n",
        "mask = unp[\"Euclid_VIS_MAG\"] <= 24.5\n",
        "\n",
        "CASTOR_baseline = mock[mask] #ignoring training data outside the Euclid flux limit \n",
        "\n",
        "names_phot = [\"ID\", \"photoz\",\n",
        "              \"LSST_g_MAG\", \"LSST_g_MAGERR\", \n",
        "              \"LSST_r_MAG\", \"LSST_r_MAGERR\",\n",
        "              \"LSST_i_MAG\", \"LSST_i_MAGERR\", \n",
        "              \"LSST_z_MAG\", \"LSST_z_MAGERR\"\n",
        "              \"castor_uv_MAG\", \"castor_uv_MAGERR\", \n",
        "              \"castor_u_MAG\", \"castor_u_MAGERR\", \n",
        "              \"castor_g_MAG\", \"castor_g_MAGERR\"]\n",
        "\n",
        "available_os = [\"baseline\"]\n",
        "names = [\n",
        "    \"baseline\",\n",
        "]\n",
        "\n",
        "os_names = dict(zip(available_os, names))\n",
        "colors = [\"k\"] #, \"plum\", \"cornflowerblue\", \"#2ca02c\", \"gold\", \"tomato\"]\n",
        "os_colors = dict(zip(available_os, colors))\n",
        "\n",
        "# put data in expected format for TLM \n",
        "\n",
        "LSST_g_mag = getTrueY(test_cat=CASTOR_baseline, mag_col_names=names_phot, y_col_name=\"LSST_g_MAG\")\n",
        "LSST_r_mag = getTrueY(test_cat=CASTOR_baseline, mag_col_names=names_phot, y_col_name=\"LSST_r_MAG\")\n",
        "LSST_i_mag = getTrueY(test_cat=CASTOR_baseline, mag_col_names=names_phot, y_col_name=\"LSST_i_MAG\")\n",
        "LSST_z_mag = getTrueY(test_cat=CASTOR_baseline, mag_col_names=names_phot, y_col_name=\"LSST_z_MAG\")\n",
        "\n",
        "LSST_g_mag_ERR = getTrueY(test_cat=CASTOR_baseline, mag_col_names=names_phot, y_col_name=\"LSST_g_MAGERR\")\n",
        "LSST_r_mag_ERR = getTrueY(test_cat=CASTOR_baseline, mag_col_names=names_phot, y_col_name=\"LSST_r_MAGERR\")\n",
        "LSST_i_mag_ERR = getTrueY(test_cat=CASTOR_baseline, mag_col_names=names_phot, y_col_name=\"LSST_i_MAGERR\")\n",
        "LSST_z_mag_ERR = getTrueY(test_cat=CASTOR_baseline, mag_col_names=names_phot, y_col_name=\"LSST_z_MAGERR\")\n",
        "\n",
        "CASTOR_g_mag = getTrueY(test_cat=CASTOR_baseline, mag_col_names=names_phot, y_col_name=\"CASTOR_g_MAG\")\n",
        "CASTOR_r_mag = getTrueY(test_cat=CASTOR_baseline, mag_col_names=names_phot, y_col_name=\"CASTOR_r_MAG\")\n",
        "CASTOR_i_mag = getTrueY(test_cat=CASTOR_baseline, mag_col_names=names_phot, y_col_name=\"CASTOR_i_MAG\")\n",
        "CASTOR_z_mag = getTrueY(test_cat=CASTOR_baseline, mag_col_names=names_phot, y_col_name=\"CASTOR_z_MAG\")\n",
        "\n",
        "CASTOR_g_mag_ERR = getTrueY(test_cat=CASTOR_baseline, mag_col_names=names_phot, y_col_name=\"CASTOR_g_MAGERR\")\n",
        "CASTOR_r_mag_ERR = getTrueY(test_cat=CASTOR_baseline, mag_col_names=names_phot, y_col_name=\"CASTOR_r_MAGERR\")\n",
        "CASTOR_i_mag_ERR = getTrueY(test_cat=CASTOR_baseline, mag_col_names=names_phot, y_col_name=\"CASTOR_i_MAGERR\")\n",
        "CASTOR_z_mag_ERR = getTrueY(test_cat=CASTOR_baseline, mag_col_names=names_phot, y_col_name=\"CASTOR_z_MAGERR\")\n",
        "\n",
        "ID = getTrueY(test_cat=CASTOR_baseline, mag_col_names=names_phot, y_col_name=\"ID\")\n",
        "z_true = getTrueY(test_cat=CASTOR_baseline, mag_col_names=names_phot, y_col_name=\"photoz\")\n",
        "\n",
        "df = pd.DataFrame({'CASTOR_ID': data_array_sorted_CASTOR_wID[:,0] , 'error': data_array_sorted_CASTOR_wID[:,1], \n",
        "                   'g-r': data_array_sorted_CASTOR_wID[:,2] - data_array_sorted_CASTOR_wID[:,3], \n",
        "                   'r-i': data_array_sorted_CASTOR_wID[:,3] - data_array_sorted_CASTOR_wID[:,4], \n",
        "                   'i-z': data_array_sorted_CASTOR_wID[:,4] - data_array_sorted_CASTOR_wID[:,5], \n",
        "                   'true_z': data_array_sorted_CASTOR_wID[:,6]})"
      ]
    },
    {
      "cell_type": "code",
      "execution_count": null,
      "id": "1db5e24e",
      "metadata": {
        "id": "1db5e24e"
      },
      "outputs": [],
      "source": [
        "# load the catalogs\n",
        "catalogs = dict()\n",
        "for os in available_os:\n",
        "    \n",
        "#     cat = pd.DataFrame({'CASTOR_ID': ID, 'z_true': z_true, \n",
        "#                              'LSST_g_mag': LSST_g_mag, 'LSST_g_mag_ERR': LSST_g_mag_ERR, \n",
        "#                              'LSST_r_mag': LSST_r_mag, 'LSST_r_mag_ERR': LSST_r_mag_ERR, \n",
        "#                              'LSST_i_mag': LSST_i_mag, 'LSST_i_mag_ERR': LSST_i_mag_ERR, \n",
        "#                              'LSST_z_mag': LSST_z_mag, 'LSST_z_mag_ERR': LSST_z_mag_ERR, \n",
        "#                              'CASTOR_uv_mag': LSST_uv_mag, 'LSST_uv_mag_ERR': LSST_uv_mag_ERR, \n",
        "#                              'CASTOR_u_mag': LSST_u_mag, 'LSST_u_mag_ERR': LSST_u_mag_ERR, \n",
        "#               'CASTOR_g_mag': LSST_g_mag, 'LSST_g_mag_ERR': LSST_g_mag_ERR})\n",
        "    \n",
        "    # this will need to change to accomodate multiple catalogs, e.g. LSST only or LSST + CASTOR\n",
        "    \n",
        "    cat = pd.DataFrame({'CASTOR_ID': ID, 'z_true': z_true, \n",
        "                             'r': LSST_r_mag,\n",
        "                             'g-r': LSST_g_mag - LSST_r_mag, \n",
        "                             'r-i': LSST_r_mag - LSST_i_mag, \n",
        "                             'i-z': LSST_i_mag - LSST_z_mag, \n",
        "                             'uv-u': CASTOR_uv_mag - CASTOR_u_mag; \n",
        "                             'u-g': CASTOR_u_mag - CASTOR_g_mag\n",
        "                      })\n",
        "    \n",
        "    catalogs[os] = cat.dropna()"
      ]
    },
    {
      "cell_type": "markdown",
      "id": "2933ee82",
      "metadata": {
        "id": "2933ee82"
      },
      "source": [
        "# Instantiate and Train \n",
        "\n",
        "### Does this run 'as is'?"
      ]
    },
    {
      "cell_type": "code",
      "execution_count": null,
      "id": "4c66cfd3",
      "metadata": {
        "id": "4c66cfd3"
      },
      "outputs": [],
      "source": [
        "# first I create a bijector chain\n",
        "# the first bijection is a standard scaler - but I'm not actually using it for standard scaling\n",
        "#     I set the mean and std so that it maps the redshift range (0, 3.2) onto (-5, 5), which is \n",
        "#     the domain of the NeuralSplineCoupling\n",
        "# the second bijection is a NeuralSplineCoupling. I told it to expect 6 conditions,\n",
        "#     which will be the r mag and the galaxy colors\n",
        "bijector = Chain(\n",
        "    StandardScaler(np.atleast_1d(1.6), np.atleast_1d(0.32)),\n",
        "    NeuralSplineCoupling(n_conditions=6)\n",
        ")\n",
        "\n",
        "# I set the latent distribution to a Uniform over (-5, 5)\n",
        "# this range was chosen to match the NeuralSplineCoupling domain\n",
        "# I chose a Uniform since all of the redshifts are drawn from a compact domain\n",
        "latent = Uniform(1)\n",
        "\n",
        "# create a dictionary that will hold all the ensembles\n",
        "ensembles = dict()\n",
        "\n",
        "# create the baseline flows\n",
        "for os in available_os:\n",
        "\n",
        "    # the data column is the one that is sampled and transformed by the flow\n",
        "    data_columns = [\"z_true\"]\n",
        "    # the conditional columns are the columns that the flow is conditioned on\n",
        "    conditional_columns = [\"r\", \"u-g\", \"g-r\", \"r-i\", \"i-z\", \"uv-u\"] # different colors than LSST  \n",
        "\n",
        "    # save some info with the flow\n",
        "    info = f\"Models z_true conditioned on galaxy colors and r mag from os {os}. K=16\"\n",
        "\n",
        "    # instantiate and save the flow\n",
        "    flowEns = FlowEnsemble(data_columns = data_columns, \n",
        "                           conditional_columns = conditional_columns,\n",
        "                           bijector = bijector,\n",
        "                           latent = latent,\n",
        "                           info = info,\n",
        "                           N = 10)\n",
        "\n",
        "    ensembles[os] = flowEns\n",
        "    \n",
        "\n",
        "for os, ens in ensembles.items():\n",
        "    \n",
        "    # get the data and make a train and test set\n",
        "    cat = catalogs[os]\n",
        "    cat_train = cat.sample(frac = 0.8)\n",
        "    cat_test = cat.drop(cat_train.index)\n",
        "    \n",
        "    # train the flow on the given learning rate schedule\n",
        "    loss1 = ens.train(cat_train, sample_errs=True,\n",
        "                       optimizer = adam(step_size = 1e-3),\n",
        "                       epochs = 100, seed = 123)\n",
        "    loss2 = ens.train(cat_train, sample_errs=True,\n",
        "                       optimizer = adam(step_size = 2e-4),\n",
        "                       epochs = 100, seed = 312)\n",
        "    loss3 = ens.train(cat_train, sample_errs=True,\n",
        "                       optimizer = adam(step_size = 1e-4),\n",
        "                       epochs = 50, seed = 231)\n",
        "    \n",
        "    losses = {fname : # for each flow trained in the ensemble...\n",
        "                  [float(loss) # save the list of training losses\n",
        "                   for lossDict in [loss1, loss2, loss3]\n",
        "                   for loss in lossDict[fname]]\n",
        "              for fname in loss1}\n",
        "    \n",
        "    # print the train and test loss\n",
        "    train_loss = -np.mean(ens.log_prob(cat_train))\n",
        "    test_loss = -np.mean(ens.log_prob(cat_test))\n",
        "    print(os, train_loss, test_loss)\n",
        "    \n",
        "    # save the ensemble\n",
        "    ens.save(f\"trained_flows/pzflow_ensemble_for_{os}.pkl\")\n",
        "    # and the losses\n",
        "    with open(f\"trained_flows/losses_for_{os}.pkl\", \"wb\") as file:\n",
        "        pickle.dump({\"losses\": losses, \n",
        "                     \"train loss\": train_loss, \n",
        "                     \"test loss\": test_loss},\n",
        "                    file)"
      ]
    },
    {
      "cell_type": "markdown",
      "id": "27fcca35",
      "metadata": {
        "id": "27fcca35"
      },
      "source": [
        "# from github/aimalz/TheLastMetric/blob/master/training_flows_July23.ipynb"
      ]
    },
    {
      "cell_type": "markdown",
      "id": "c392b800",
      "metadata": {
        "id": "c392b800"
      },
      "source": [
        "pull the data just to get formatting"
      ]
    },
    {
      "cell_type": "code",
      "execution_count": null,
      "id": "f18074f8",
      "metadata": {
        "id": "f18074f8"
      },
      "outputs": [],
      "source": [
        "# !wget https://storage.googleapis.com/ahw2019/for_malz_and_lanusse.tar.gz\n",
        "# !tar -xzf for_malz_and_lanusse.tar.gz\n",
        "# !mv for_malz_and_lanusse dataset\n",
        "\n",
        "\n",
        "\n",
        "more dataset/readme.txt\n",
        "\n",
        "\n",
        "\n",
        "# list of available catalogs\n",
        "available_os = [\"run_1_4_y10\", \"run_4_38_y10\", \"run_10_92_y10\", \"run_4_34_y10\", \"run_7_61_y10\", \"run_9_86_y10\"]\n",
        "names = [\n",
        "    \"baseline_v1_5_10yrs\",\n",
        "    \"footprint_stuck_rollingv1_5_10yrs\",\n",
        "    \"ddf_heavy_nexp2_v1_6_10yrs\",\n",
        "    \"footprint_newAv1_5_10yrs\",\n",
        "    \"third_obs_pt60v1_5_10yrs\",\n",
        "    \"barebones_v1_6_10yrs\",\n",
        "]\n",
        "os_names = dict(zip(available_os, names))\n",
        "colors = [\"k\", \"plum\", \"cornflowerblue\", \"#2ca02c\", \"gold\", \"tomato\"]\n",
        "os_colors = dict(zip(available_os, colors))\n",
        "\n",
        "\n",
        "# column names of the catalogs\n",
        "names_z=('ID', 'z_true', 'z_phot', 'dz_phot', 'NN', 'N_train')\n",
        "names_phot=(\n",
        "    'ID', 'z_true', \n",
        "    'u', 'u_err',\n",
        "    'g', 'g_err',\n",
        "    'r', 'r_err',\n",
        "    'i', 'i_err',\n",
        "    'z', 'z_err',\n",
        "    'y', 'y_err',\n",
        "    'u-g', 'u-g_err',\n",
        "    'g-r', 'g-r_err',\n",
        "    'r-i', 'r-i_err',\n",
        "    'i-z', 'i-z_err',\n",
        "    'z-y', 'z-y_err',\n",
        ")\n",
        "\n",
        "# load the catalogs\n",
        "catalogs = dict()\n",
        "for os in available_os:\n",
        "    z_cat = pd.read_csv(f\"dataset/{os}/zphot.cat\", names=names_z, delim_whitespace=True, skiprows=1)\n",
        "    phot_cat = pd.read_csv(f\"dataset/{os}/test.cat\", names=names_phot, delim_whitespace=True)\n",
        "    cat = z_cat.merge(phot_cat)\n",
        "    catalogs[os] = cat.dropna()"
      ]
    },
    {
      "cell_type": "markdown",
      "id": "c19b11f7",
      "metadata": {
        "id": "c19b11f7"
      },
      "source": [
        "instantiate the model of the photometric space, train it on the catalogs for LSST with and without CASTOR, and save it (two versions rather than 6 OSs)"
      ]
    },
    {
      "cell_type": "code",
      "execution_count": null,
      "id": "8520d4e2",
      "metadata": {
        "id": "8520d4e2"
      },
      "outputs": [],
      "source": [
        "# first I create a bijector chain\n",
        "# the first bijection is a standard scaler - but I'm not actually using it for standard scaling\n",
        "#     I set the mean and std so that it maps the redshift range (0, 3.2) onto (-5, 5), which is \n",
        "#     the domain of the NeuralSplineCoupling\n",
        "# the second bijection is a NeuralSplineCoupling. I told it to expect 6 conditions,\n",
        "#     which will be the r mag and the galaxy colors\n",
        "bijector = Chain(\n",
        "    StandardScaler(np.atleast_1d(1.6), np.atleast_1d(0.32)),\n",
        "    NeuralSplineCoupling(n_conditions=6)\n",
        ")\n",
        "\n",
        "# I set the latent distribution to a Uniform over (-5, 5)\n",
        "# this range was chosen to match the NeuralSplineCoupling domain\n",
        "# I chose a Uniform since all of the redshifts are drawn from a compact domain\n",
        "latent = Uniform((-5, 5))\n",
        "\n",
        "# create a dictionary that will hold all the ensembles\n",
        "ensembles = dict()\n",
        "\n",
        "# create the baseline flows\n",
        "for os in available_os:\n",
        "\n",
        "    # the data column is the one that is sampled and transformed by the flow\n",
        "    data_columns = [\"z_true\"]\n",
        "    # the conditional columns are the columns that the flow is conditioned on\n",
        "    conditional_columns = [\"r\", \"u-g\", \"g-r\", \"r-i\", \"i-z\", \"z-y\"]\n",
        "\n",
        "    # save some info with the flow\n",
        "    info = f\"Models z_true conditioned on galaxy colors and r mag from os {os}. K=16\"\n",
        "\n",
        "    # instantiate and save the flow\n",
        "    flowEns = FlowEnsemble(data_columns = data_columns, \n",
        "                           conditional_columns = conditional_columns,\n",
        "                           bijector = bijector,\n",
        "                           latent = latent,\n",
        "                           info = info,\n",
        "                           N = 10)\n",
        "\n",
        "    ensembles[os] = flowEns\n",
        "    \n",
        "    \n",
        "    \n",
        "    \n",
        "%%time\n",
        "\n",
        "for os, ens in ensembles.items():\n",
        "    \n",
        "    # get the data and make a train and test set\n",
        "    cat = catalogs[os]\n",
        "    cat_train = cat.sample(frac = 0.8)\n",
        "    cat_test = cat.drop(cat_train.index)\n",
        "    \n",
        "    # train the flow on the given learning rate schedule\n",
        "    loss1 = ens.train(cat_train, sample_errs=True,\n",
        "                       optimizer = adam(step_size = 1e-3),\n",
        "                       epochs = 100, seed = 123)\n",
        "    loss2 = ens.train(cat_train, sample_errs=True,\n",
        "                       optimizer = adam(step_size = 2e-4),\n",
        "                       epochs = 100, seed = 312)\n",
        "    loss3 = ens.train(cat_train, sample_errs=True,\n",
        "                       optimizer = adam(step_size = 1e-4),\n",
        "                       epochs = 50, seed = 231)\n",
        "    \n",
        "    losses = {fname : # for each flow trained in the ensemble...\n",
        "                  [float(loss) # save the list of training losses\n",
        "                   for lossDict in [loss1, loss2, loss3]\n",
        "                   for loss in lossDict[fname]]\n",
        "              for fname in loss1}\n",
        "    \n",
        "    # print the train and test loss\n",
        "    train_loss = -np.mean(ens.log_prob(cat_train))\n",
        "    test_loss = -np.mean(ens.log_prob(cat_test))\n",
        "    print(os, train_loss, test_loss)\n",
        "    \n",
        "    # save the ensemble\n",
        "    ens.save(f\"trained_flows/pzflow_ensemble_for_{os}.pkl\")\n",
        "    # and the losses\n",
        "    with open(f\"trained_flows/losses_for_{os}.pkl\", \"wb\") as file:\n",
        "        pickle.dump({\"losses\": losses, \n",
        "                     \"train loss\": train_loss, \n",
        "                     \"test loss\": test_loss},\n",
        "                    file)"
      ]
    },
    {
      "cell_type": "markdown",
      "id": "ab4b8090",
      "metadata": {
        "id": "ab4b8090"
      },
      "source": [
        "# from github/aimalz/TheLastMetric/blob/master/MAFVariationalMutualInformationPzFlow.ipynb"
      ]
    },
    {
      "cell_type": "markdown",
      "id": "d935862c",
      "metadata": {
        "id": "d935862c"
      },
      "source": [
        "open the models of redshift-photometry space and the catalogs"
      ]
    },
    {
      "cell_type": "code",
      "execution_count": null,
      "id": "35f28566",
      "metadata": {
        "id": "35f28566"
      },
      "outputs": [],
      "source": [
        "flows = {}\n",
        "for os in available_os:\n",
        "  flows[os] = Flow(file=f\"trained_flows/flow_for_run_{os}.pkl\")\n",
        "# TODO: need to experiment with different fit parameters because this might be too smooth, also does it account for photometric errors?\n",
        "# TODO: check that draws from flow look like original data\n",
        "\n",
        "\n",
        "# load the catalogs\n",
        "catalogs = dict()\n",
        "for os in available_os:\n",
        "    z_cat = pd.read_csv(f\"dataset/run_{os}/zphot.cat\", names=names_z, delim_whitespace=True, skiprows=1)\n",
        "    phot_cat = pd.read_csv(f\"dataset/run_{os}/test.cat\", names=names_phot, delim_whitespace=True)\n",
        "    cat = z_cat.merge(phot_cat)\n",
        "    catalogs[os] = cat.dropna()\n",
        "    \n",
        "    "
      ]
    },
    {
      "cell_type": "markdown",
      "id": "15e77d45",
      "metadata": {
        "id": "15e77d45"
      },
      "source": [
        "evaluate the posteriors for each galaxy (totally forgot we had to do this)"
      ]
    },
    {
      "cell_type": "code",
      "execution_count": null,
      "id": "197e07f1",
      "metadata": {
        "id": "197e07f1"
      },
      "outputs": [],
      "source": [
        "# # this just makes the posteriors for plotting, not sure why it uses so much memory. . .\n",
        "# tx = np.linspace(0,3.5,100)\n",
        "# all_logp = {}\n",
        "# for which_os in available_os:\n",
        "#   flow = flows[which_os]\n",
        "#   cat = catalogs[which_os]\n",
        "#   logp = flow.posterior(flow.info[\"condition_scaler\"](cat), column=\"z_true\", grid=tx)\n",
        "#   all_logp[which_os] = logp\n",
        "    \n",
        "    "
      ]
    },
    {
      "cell_type": "code",
      "execution_count": null,
      "id": "5ff727de",
      "metadata": {
        "id": "5ff727de"
      },
      "outputs": [],
      "source": [
        "all_milb = {}\n",
        "for which_os in available_os:\n",
        "  phot_cat = catalogs[which_os]\n",
        "\n",
        "  mutual_information_lower_bound = flows[which_os].log_prob(flows[which_os].info[\"condition_scaler\"](phot_cat))\n",
        "  all_milb[which_os] = mutual_information_lower_bound\n",
        "  print((os_names[which_os], np.sum(mutual_information_lower_bound)))\n",
        "# TODO: make this an actual expected value rather than just sum\n",
        "# also, shouldn't it be sum of exponential of metric value, since it should never penalize a negative value?"
      ]
    },
    {
      "cell_type": "markdown",
      "id": "7bde34f5",
      "metadata": {
        "id": "7bde34f5"
      },
      "source": [
        "KEY PLOT: distribution of metric values for same galaxies with and without CASTOR"
      ]
    },
    {
      "cell_type": "code",
      "execution_count": null,
      "id": "6d65b56f",
      "metadata": {
        "id": "6d65b56f"
      },
      "outputs": [],
      "source": [
        "# surprisingly not so different from one another\n",
        "for which_os in available_os:\n",
        "  mutual_information_lower_bound = all_milb[which_os].flatten()\n",
        "  print((np.mean(mutual_information_lower_bound), np.std(mutual_information_lower_bound)))\n",
        "  hist(mutual_information_lower_bound, bins=np.linspace(-16, 5, 100), alpha=0.5, histtype='step', \n",
        "       color=os_colors[which_os], label=os_names[which_os], density=False)\n",
        "  xlabel(r'$\\mathbb{E}_{z, x_{phot}} \\left[ q_\\theta(z | x_{phot}) \\right]$')\n",
        "# xlim(-10., 5.)\n",
        "legend(loc='upper left')\n",
        "# semilogy()"
      ]
    },
    {
      "cell_type": "markdown",
      "id": "ca64b1a0",
      "metadata": {
        "id": "ca64b1a0"
      },
      "source": [
        "KEY PLOT: look at per-galaxy metric values as a function of redshift, then photometry"
      ]
    },
    {
      "cell_type": "code",
      "execution_count": null,
      "id": "6b500416",
      "metadata": {
        "id": "6b500416"
      },
      "outputs": [],
      "source": [
        "fig, axs = plt.subplots(len(available_os), 1, figsize=(5, 5*len(available_os)))\n",
        "for i, which_os in enumerate(available_os):\n",
        "  axs[i].hist2d(z_cats[which_os]['z_true'], all_milb[which_os].flatten(), bins=[np.linspace(0., 3., 50), np.linspace(-5., 5., 100)])\n",
        "  axs[i].set_xlabel('redshift')\n",
        "  axs[i].set_ylabel(r'$\\mathbb{E}_{z, x_{phot}} \\left[ q_\\theta(z | x_{phot}) \\right]$')\n",
        "  axs[i].set_title(os_names[which_os])\n",
        "# they're different, but not visibly so\n",
        "# TODO: plot violins of metric as a function of binned redshift so they're all on one set of axes? or quantiles because outlers? or box/whisker https://matplotlib.org/stable/gallery/pyplots/boxplot_demo_pyplot.html?\n",
        "# TODO: normalize within redshift bins to get these on one set of axes?\n",
        "# TODO sort of want sum of metric values in redshift bins, no?"
      ]
    },
    {
      "cell_type": "markdown",
      "id": "680f3fbc",
      "metadata": {
        "id": "680f3fbc"
      },
      "source": [
        "take expected value of the approximated posteriors, which is the mutual information lower bound"
      ]
    },
    {
      "cell_type": "code",
      "execution_count": null,
      "id": "c0c46d85",
      "metadata": {
        "id": "c0c46d85"
      },
      "outputs": [],
      "source": [
        "# something isn't right about the autocalculation of moments so doing it by hand\n",
        "def calc_moment(vals, k):\n",
        "  n = len(vals)\n",
        "  outval = np.sum(vals**k) / float(n)\n",
        "  return float(outval)\n",
        "\n",
        "which_moments = range(0, 5)\n",
        "moment_res = {}\n",
        "for which_os in available_os:\n",
        "  # print((np.mean(all_milb[which_os]), np.std(all_milb[which_os])))\n",
        "  moment_res[which_os] = []\n",
        "  for i in which_moments:\n",
        "    moment_res[which_os].append(calc_moment(all_milb[which_os], k=i))#sps.mstats.moment(all_milb[which_os], moment=which_moments[i], axis=0))\n",
        "# print(moment_res)"
      ]
    },
    {
      "cell_type": "markdown",
      "id": "1a67574d",
      "metadata": {
        "id": "1a67574d"
      },
      "source": [
        "# from github/aimalz/TheLastMetric/blob/master/FigureTLMvsRedshift.ipynb"
      ]
    },
    {
      "cell_type": "markdown",
      "id": "ea32a245",
      "metadata": {
        "id": "ea32a245"
      },
      "source": [
        "KEY PLOT: distribution of TLM values with and without CASTOR including model uncertainty"
      ]
    },
    {
      "cell_type": "code",
      "execution_count": null,
      "id": "c9f064b1",
      "metadata": {
        "id": "c9f064b1"
      },
      "outputs": [],
      "source": [
        "%pylab inline\n",
        "from utils import load_data, compute_last_metric\n",
        "import corner\n",
        "from pzflow import Flow\n",
        "\n",
        "\n",
        "# Loading data\n",
        "z_cats, phot_cats, available_os, os_names, os_colors = load_data()\n",
        "\n",
        "\n",
        "# Loading pre-trained flows\n",
        "flows = {}\n",
        "for os in available_os:\n",
        "  flows[os] = [Flow(file=f\"trained_flows/flow_for_run_{os}_%d.pkl\"%(i+1) ) for i in range(10)]\n",
        "\n",
        "\n",
        "# Computing metric for each observing strategy\n",
        "all_tlm = {}\n",
        "for which_os in available_os:\n",
        "  all_tlm[which_os] = np.stack([(compute_last_metric(f,\n",
        "                                          phot_cats[which_os],\n",
        "                                          z_cats[which_os], entropy_nbins=60)) for f in flows[which_os] ], axis=0)\n",
        "  print((os_names[which_os], np.mean(all_tlm[which_os]), np.std(np.mean(all_tlm[which_os], axis=1))))\n",
        "    \n",
        "    \n",
        "    \n",
        "\n",
        "figure(figsize=(7,5))\n",
        "for which_os in available_os:\n",
        "  hist(np.mean(all_tlm[which_os],axis=1), 32, range=[2.95, 3.35], alpha=0.6,\n",
        "       color=os_colors[which_os], label=os_names[which_os])\n",
        "  axvline(np.mean(all_tlm[which_os]), color=os_colors[which_os], linewidth=2)\n",
        "legend(ncol=2)\n",
        "xlabel(chr(0x05ea))\n",
        "savefig('metrics.pdf', bbox_inches = 'tight', pad_inches = 0 )"
      ]
    }
  ],
  "metadata": {
    "kernelspec": {
      "display_name": "Python 3 (ipykernel)",
      "language": "python",
      "name": "python3"
    },
    "language_info": {
      "codemirror_mode": {
        "name": "ipython",
        "version": 3
      },
      "file_extension": ".py",
      "mimetype": "text/x-python",
      "name": "python",
      "nbconvert_exporter": "python",
      "pygments_lexer": "ipython3",
      "version": "3.9.12"
    },
    "colab": {
      "provenance": [],
      "include_colab_link": true
    },
    "gpuClass": "standard"
  },
  "nbformat": 4,
  "nbformat_minor": 5
}