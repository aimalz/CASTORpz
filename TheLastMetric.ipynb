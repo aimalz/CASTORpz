{
  "cells": [
    {
      "cell_type": "markdown",
      "metadata": {
        "id": "view-in-github",
        "colab_type": "text"
      },
      "source": [
        "<a href=\"https://colab.research.google.com/github/aimalz/CASTORpz/blob/main/TheLastMetric.ipynb\" target=\"_parent\"><img src=\"https://colab.research.google.com/assets/colab-badge.svg\" alt=\"Open In Colab\"/></a>"
      ]
    },
    {
      "cell_type": "code",
      "source": [
        "from google.colab import drive\n",
        "drive.mount('/content/drive')"
      ],
      "metadata": {
        "id": "P9ScjvW6K--M",
        "outputId": "830b7128-f757-4f55-d7f1-4add20aa1ccc",
        "colab": {
          "base_uri": "https://localhost:8080/"
        }
      },
      "id": "P9ScjvW6K--M",
      "execution_count": 1,
      "outputs": [
        {
          "output_type": "stream",
          "name": "stdout",
          "text": [
            "Mounted at /content/drive\n"
          ]
        }
      ]
    },
    {
      "cell_type": "code",
      "source": [
        "!ls /content/drive/MyDrive/Research/CASTORpz"
      ],
      "metadata": {
        "id": "AIt3xNrROef2",
        "outputId": "21c17b3a-752c-442e-da87-e1cdb67aea66",
        "colab": {
          "base_uri": "https://localhost:8080/"
        }
      },
      "id": "AIt3xNrROef2",
      "execution_count": 2,
      "outputs": [
        {
          "output_type": "stream",
          "name": "stdout",
          "text": [
            "ext_phot.fits  knn_colors.py  unperturbed_mags.fits\n"
          ]
        }
      ]
    },
    {
      "cell_type": "code",
      "source": [
        "from astropy.table import Table\n",
        "prepend = '/content/drive/MyDrive/Research/CASTORpz/'\n",
        "unp = Table.read(prepend+\"unperturbed_mags.fits\")\n",
        "print(len(unp))"
      ],
      "metadata": {
        "id": "tpLREN_EM6hg",
        "outputId": "76067f4e-b23c-40f3-9700-252942a7d026",
        "colab": {
          "base_uri": "https://localhost:8080/"
        }
      },
      "id": "tpLREN_EM6hg",
      "execution_count": 3,
      "outputs": [
        {
          "output_type": "stream",
          "name": "stdout",
          "text": [
            "698211\n"
          ]
        }
      ]
    },
    {
      "cell_type": "code",
      "source": [
        "!pip install --upgrade \"jax[cuda]\" -f https://storage.googleapis.com/jax-releases/jax_cuda_releases.html\n",
        "!nvcc --version"
      ],
      "metadata": {
        "id": "3u5XpOo5PdZF",
        "outputId": "10404b09-82f8-4f19-bb82-233841d69857",
        "colab": {
          "base_uri": "https://localhost:8080/"
        }
      },
      "id": "3u5XpOo5PdZF",
      "execution_count": 4,
      "outputs": [
        {
          "output_type": "stream",
          "name": "stdout",
          "text": [
            "Looking in indexes: https://pypi.org/simple, https://us-python.pkg.dev/colab-wheels/public/simple/\n",
            "Looking in links: https://storage.googleapis.com/jax-releases/jax_cuda_releases.html\n",
            "Requirement already satisfied: jax[cuda] in /usr/local/lib/python3.8/dist-packages (0.3.25)\n",
            "Collecting jax[cuda]\n",
            "  Downloading jax-0.4.3.tar.gz (1.2 MB)\n",
            "\u001b[2K     \u001b[90m━━━━━━━━━━━━━━━━━━━━━━━━━━━━━━━━━━━━━━━━\u001b[0m \u001b[32m1.2/1.2 MB\u001b[0m \u001b[31m17.8 MB/s\u001b[0m eta \u001b[36m0:00:00\u001b[0m\n",
            "\u001b[?25h  Preparing metadata (setup.py) ... \u001b[?25l\u001b[?25hdone\n",
            "Requirement already satisfied: numpy>=1.20 in /usr/local/lib/python3.8/dist-packages (from jax[cuda]) (1.21.6)\n",
            "Requirement already satisfied: opt_einsum in /usr/local/lib/python3.8/dist-packages (from jax[cuda]) (3.3.0)\n",
            "Requirement already satisfied: scipy>=1.5 in /usr/local/lib/python3.8/dist-packages (from jax[cuda]) (1.7.3)\n",
            "Collecting jaxlib==0.4.3+cuda11.cudnn86\n",
            "  Downloading https://storage.googleapis.com/jax-releases/cuda11/jaxlib-0.4.3%2Bcuda11.cudnn86-cp38-cp38-manylinux2014_x86_64.whl (167.9 MB)\n",
            "\u001b[2K     \u001b[90m━━━━━━━━━━━━━━━━━━━━━━━━━━━━━━━━━━━━━━━\u001b[0m \u001b[32m167.9/167.9 MB\u001b[0m \u001b[31m8.2 MB/s\u001b[0m eta \u001b[36m0:00:00\u001b[0m\n",
            "\u001b[?25hBuilding wheels for collected packages: jax\n",
            "  Building wheel for jax (setup.py) ... \u001b[?25l\u001b[?25hdone\n",
            "  Created wheel for jax: filename=jax-0.4.3-py3-none-any.whl size=1384905 sha256=a611a75a960b827af8c88db6a71c8edfa9e6296c6c6650743f06ee919ae0571d\n",
            "  Stored in directory: /root/.cache/pip/wheels/46/38/24/69c60b74118b6de655c576685cbe9c654f868ac27597ee5c98\n",
            "Successfully built jax\n",
            "Installing collected packages: jaxlib, jax\n",
            "  Attempting uninstall: jaxlib\n",
            "    Found existing installation: jaxlib 0.3.25+cuda11.cudnn805\n",
            "    Uninstalling jaxlib-0.3.25+cuda11.cudnn805:\n",
            "      Successfully uninstalled jaxlib-0.3.25+cuda11.cudnn805\n",
            "  Attempting uninstall: jax\n",
            "    Found existing installation: jax 0.3.25\n",
            "    Uninstalling jax-0.3.25:\n",
            "      Successfully uninstalled jax-0.3.25\n",
            "Successfully installed jax-0.4.3 jaxlib-0.4.3+cuda11.cudnn86\n",
            "nvcc: NVIDIA (R) Cuda compiler driver\n",
            "Copyright (c) 2005-2022 NVIDIA Corporation\n",
            "Built on Tue_Mar__8_18:18:20_PST_2022\n",
            "Cuda compilation tools, release 11.6, V11.6.124\n",
            "Build cuda_11.6.r11.6/compiler.31057947_0\n"
          ]
        }
      ]
    },
    {
      "cell_type": "code",
      "source": [
        "!pip install astropy pzflow"
      ],
      "metadata": {
        "id": "y2Ay_SxlVWLA",
        "outputId": "af4cff2e-945d-4440-e72b-af8725bff52c",
        "colab": {
          "base_uri": "https://localhost:8080/"
        }
      },
      "id": "y2Ay_SxlVWLA",
      "execution_count": 5,
      "outputs": [
        {
          "output_type": "stream",
          "name": "stdout",
          "text": [
            "Looking in indexes: https://pypi.org/simple, https://us-python.pkg.dev/colab-wheels/public/simple/\n",
            "Requirement already satisfied: astropy in /usr/local/lib/python3.8/dist-packages (4.3.1)\n",
            "Collecting pzflow\n",
            "  Downloading pzflow-3.0.3-py3-none-any.whl (8.7 MB)\n",
            "\u001b[2K     \u001b[90m━━━━━━━━━━━━━━━━━━━━━━━━━━━━━━━━━━━━━━━━\u001b[0m \u001b[32m8.7/8.7 MB\u001b[0m \u001b[31m14.6 MB/s\u001b[0m eta \u001b[36m0:00:00\u001b[0m\n",
            "\u001b[?25hRequirement already satisfied: numpy>=1.17 in /usr/local/lib/python3.8/dist-packages (from astropy) (1.21.6)\n",
            "Requirement already satisfied: pyerfa>=1.7.3 in /usr/local/lib/python3.8/dist-packages (from astropy) (2.0.0.1)\n",
            "Requirement already satisfied: jax<0.5.0,>=0.4.2 in /usr/local/lib/python3.8/dist-packages (from pzflow) (0.4.3)\n",
            "Requirement already satisfied: tqdm<5.0.0,>=4.64.1 in /usr/local/lib/python3.8/dist-packages (from pzflow) (4.64.1)\n",
            "Requirement already satisfied: dill<0.4.0,>=0.3.6 in /usr/local/lib/python3.8/dist-packages (from pzflow) (0.3.6)\n",
            "Requirement already satisfied: pandas>=1.1 in /usr/local/lib/python3.8/dist-packages (from pzflow) (1.3.5)\n",
            "Requirement already satisfied: jaxlib<0.5.0,>=0.4.2 in /usr/local/lib/python3.8/dist-packages (from pzflow) (0.4.3+cuda11.cudnn86)\n",
            "Collecting optax<0.2.0,>=0.1.4\n",
            "  Downloading optax-0.1.4-py3-none-any.whl (154 kB)\n",
            "\u001b[2K     \u001b[90m━━━━━━━━━━━━━━━━━━━━━━━━━━━━━━━━━━━━━━\u001b[0m \u001b[32m154.9/154.9 KB\u001b[0m \u001b[31m14.3 MB/s\u001b[0m eta \u001b[36m0:00:00\u001b[0m\n",
            "\u001b[?25hRequirement already satisfied: scipy>=1.5 in /usr/local/lib/python3.8/dist-packages (from jax<0.5.0,>=0.4.2->pzflow) (1.7.3)\n",
            "Requirement already satisfied: opt-einsum in /usr/local/lib/python3.8/dist-packages (from jax<0.5.0,>=0.4.2->pzflow) (3.3.0)\n",
            "Requirement already satisfied: absl-py>=0.7.1 in /usr/local/lib/python3.8/dist-packages (from optax<0.2.0,>=0.1.4->pzflow) (1.4.0)\n",
            "Requirement already satisfied: typing-extensions>=3.10.0 in /usr/local/lib/python3.8/dist-packages (from optax<0.2.0,>=0.1.4->pzflow) (4.4.0)\n",
            "Collecting chex>=0.1.5\n",
            "  Downloading chex-0.1.6-py3-none-any.whl (87 kB)\n",
            "\u001b[2K     \u001b[90m━━━━━━━━━━━━━━━━━━━━━━━━━━━━━━━━━━━━━━━━\u001b[0m \u001b[32m87.9/87.9 KB\u001b[0m \u001b[31m12.1 MB/s\u001b[0m eta \u001b[36m0:00:00\u001b[0m\n",
            "\u001b[?25hRequirement already satisfied: python-dateutil>=2.7.3 in /usr/local/lib/python3.8/dist-packages (from pandas>=1.1->pzflow) (2.8.2)\n",
            "Requirement already satisfied: pytz>=2017.3 in /usr/local/lib/python3.8/dist-packages (from pandas>=1.1->pzflow) (2022.7.1)\n",
            "Requirement already satisfied: toolz>=0.9.0 in /usr/local/lib/python3.8/dist-packages (from chex>=0.1.5->optax<0.2.0,>=0.1.4->pzflow) (0.12.0)\n",
            "Requirement already satisfied: dm-tree>=0.1.5 in /usr/local/lib/python3.8/dist-packages (from chex>=0.1.5->optax<0.2.0,>=0.1.4->pzflow) (0.1.8)\n",
            "Requirement already satisfied: six>=1.5 in /usr/local/lib/python3.8/dist-packages (from python-dateutil>=2.7.3->pandas>=1.1->pzflow) (1.15.0)\n",
            "Installing collected packages: chex, optax, pzflow\n",
            "Successfully installed chex-0.1.6 optax-0.1.4 pzflow-3.0.3\n"
          ]
        }
      ]
    },
    {
      "cell_type": "code",
      "source": [
        "from pzflow import Flow\n",
        "import jax.numpy as jnp\n",
        "import pandas as pd \n",
        "import numpy as np\n",
        "from astropy.table import Table\n",
        "from pzflow import Flow, FlowEnsemble\n",
        "from pzflow.distributions import Uniform\n",
        "from pzflow.bijectors import Chain, StandardScaler, NeuralSplineCoupling, ColorTransform, InvSoftplus, RollingSplineCoupling, ShiftBounds"
      ],
      "metadata": {
        "id": "A_-243XtQsTp"
      },
      "id": "A_-243XtQsTp",
      "execution_count": 6,
      "outputs": []
    },
    {
      "cell_type": "code",
      "source": [
        "# load data\n",
        "def getTrueY(test_cat, mag_col_names, y_col_name):\n",
        "    test_cat = Table(test_cat, masked=True, copy=True)\n",
        "    # remove nans\n",
        "    for col in mag_col_names:\n",
        "        test_cat[col].mask = np.isnan(test_cat[col].data) | test_cat[col].mask\n",
        "        test_cat = test_cat[~test_cat[col].mask] # then remove nans from test set\n",
        "            \n",
        "    true_y = test_cat[y_col_name]\n",
        "    return true_y.filled()"
      ],
      "metadata": {
        "id": "bOIAJea1Q8sv"
      },
      "id": "bOIAJea1Q8sv",
      "execution_count": 7,
      "outputs": []
    },
    {
      "cell_type": "code",
      "source": [
        "unp = Table.read(prepend+\"unperturbed_mags.fits\").to_pandas()#.set_index('ID')\n",
        "mock = Table.read(prepend+\"ext_phot.fits\").to_pandas()#.set_index('ID')\n",
        "# mask = unp[\"Euclid_VIS_MAG\"] <= 24.5\n",
        "# mock"
      ],
      "metadata": {
        "id": "lxPsZxjmRAqb"
      },
      "id": "lxPsZxjmRAqb",
      "execution_count": 8,
      "outputs": []
    },
    {
      "cell_type": "code",
      "source": [
        "# unp = Table(unp.as_array().byteswap().newbyteorder('=')).to_pandas()\n",
        "# mock = Table(mock.as_array().byteswap().newbyteorder('=')).to_pandas()\n",
        "# mask = unp[\"Euclid_VIS_MAG\"] <= 24.5\n",
        "# mock"
      ],
      "metadata": {
        "id": "Jfz5j4qoA58N"
      },
      "id": "Jfz5j4qoA58N",
      "execution_count": 9,
      "outputs": []
    },
    {
      "cell_type": "code",
      "source": [
        "CASTOR_baseline = Table.from_pandas(mock)#[mask]#Table.from_pandas(mock[mask]) #ignoring training data outside the Euclid flux limit\n",
        "# idcol =  CASTOR_baseline['ID']\n",
        "# CASTOR_baseline = Table(CASTOR_baseline.as_array().byteswap().newbyteorder('=')).to_pandas()[CASTOR_baseline.columns[1:]]\n",
        "# print(CASTOR_baseline.columns)\n",
        "# CASTOR_baseline['ID'] = idcol.astype(int).to_numpy().byteswap().newbyteorder('=')\n",
        "# colnames = CASTOR_baseline.columns\n",
        "# print(colnames)\n",
        "# CASTOR_baseline = pd.DataFrame(CASTOR_baseline.to_numpy().byteswap().newbyteorder('='), columns=colnames)\n",
        "# CASTOR_baseline = CASTOR_baseline.set_index('ID')\n",
        "# CASTOR_baseline"
      ],
      "metadata": {
        "id": "KlRbMi9lRFcl"
      },
      "id": "KlRbMi9lRFcl",
      "execution_count": 10,
      "outputs": []
    },
    {
      "cell_type": "code",
      "source": [
        "CASTOR_baseline"
      ],
      "metadata": {
        "id": "seyHOKccUXUV",
        "outputId": "4f07d7bb-66eb-4776-f969-a675007771c1",
        "colab": {
          "base_uri": "https://localhost:8080/",
          "height": 548
        }
      },
      "id": "seyHOKccUXUV",
      "execution_count": 11,
      "outputs": [
        {
          "output_type": "execute_result",
          "data": {
            "text/plain": [
              "<Table length=698211>\n",
              "  ID    photoz   castor_uv_MAG    ...  castor_u_UNPMAG    castor_g_UNPMAG  \n",
              "int64  float64      float64       ...      float64            float64      \n",
              "------ ------- ------------------ ... ------------------ ------------------\n",
              "     1   1.593 28.254728518952724 ... 26.083222597922745 25.933979448007204\n",
              "     2  0.1151 27.394224245813497 ... 27.658546492827544 27.159356693801765\n",
              "     3  0.2211  23.79308062570248 ... 23.880791530766952  23.51434776844662\n",
              "     5  2.8698  28.02187401558617 ... 27.146192696193232 25.835428680793683\n",
              "     6  1.5139                 -- ... 28.055566947816754  27.74120622413137\n",
              "     7  0.1042 32.034074983938844 ...  30.33642886519894 27.230622937270322\n",
              "    12   0.707 25.201882123663076 ... 24.964203527735418 24.858502370815025\n",
              "    17  0.5725  26.80428094720353 ... 26.497986899944262  26.65096681456774\n",
              "    18  2.8235                 -- ...  28.70836888542447  27.53329854590722\n",
              "    19  1.7093  28.48931892409575 ...  26.34645499593601  26.13802265379547\n",
              "   ...     ...                ... ...                ...                ...\n",
              "964423  0.9026 29.111917281995282 ... 24.879796848094163 24.475437909124853\n",
              "964424  0.3275 23.638705372084964 ... 23.826179516487617 21.655820215686184\n",
              "964426   0.323  26.00408554224034 ... 25.191896323386345 24.581701561668034\n",
              "964427  1.4726 27.894395534271986 ...  29.90170598574105 28.987885089697418\n",
              "964428  1.2587 24.331780026246626 ... 23.694505738713953  23.36066307138498\n",
              "964429  0.5593  23.29736975146036 ...  23.36439464093025 23.537918102133805\n",
              "964437   1.766 26.031584753410193 ... 26.562686769339606  26.31156161952344\n",
              "964439  0.3207 26.235568995263428 ... 25.817343260515226  25.34434296678671\n",
              "964440   0.049 28.452931131889166 ...  28.66880353916948  26.88911943538206\n",
              "964449  0.3073 25.022344786019396 ... 25.236927113322448 25.124783127740578"
            ],
            "text/html": [
              "<div><i>Table length=698211</i>\n",
              "<table id=\"table140028690470800\" class=\"table-striped table-bordered table-condensed\">\n",
              "<thead><tr><th>ID</th><th>photoz</th><th>castor_uv_MAG</th><th>castor_uv_MAGERR</th><th>castor_u_MAG</th><th>castor_u_MAGERR</th><th>castor_g_MAG</th><th>castor_g_MAGERR</th><th>LSST_u_MAG</th><th>LSST_u_MAGERR</th><th>LSST_g_MAG</th><th>LSST_g_MAGERR</th><th>LSST_r_MAG</th><th>LSST_r_MAGERR</th><th>LSST_i_MAG</th><th>LSST_i_MAGERR</th><th>LSST_z_MAG</th><th>LSST_z_MAGERR</th><th>LSST_y_MAG</th><th>LSST_y_MAGERR</th><th>Euclid_Y_MAG</th><th>Euclid_Y_MAGERR</th><th>Euclid_J_MAG</th><th>Euclid_J_MAGERR</th><th>Euclid_H_MAG</th><th>Euclid_H_MAGERR</th><th>Roman_106_MAG</th><th>Roman_106_MAGERR</th><th>Roman_129_MAG</th><th>Roman_129_MAGERR</th><th>Roman_158_MAG</th><th>Roman_158_MAGERR</th><th>Roman_184_MAG</th><th>Roman_184_MAGERR</th><th>hlr</th><th>castor_uv_UNPMAG</th><th>castor_u_UNPMAG</th><th>castor_g_UNPMAG</th></tr></thead>\n",
              "<thead><tr><th>int64</th><th>float64</th><th>float64</th><th>float64</th><th>float64</th><th>float64</th><th>float64</th><th>float64</th><th>float64</th><th>float64</th><th>float64</th><th>float64</th><th>float64</th><th>float64</th><th>float64</th><th>float64</th><th>float64</th><th>float64</th><th>float64</th><th>float64</th><th>float64</th><th>float64</th><th>float64</th><th>float64</th><th>float64</th><th>float64</th><th>float64</th><th>float64</th><th>float64</th><th>float64</th><th>float64</th><th>float64</th><th>float64</th><th>float64</th><th>float64</th><th>float64</th><th>float64</th><th>float64</th></tr></thead>\n",
              "<tr><td>1</td><td>1.593</td><td>28.254728518952724</td><td>0.4486147710912871</td><td>25.992021625649336</td><td>0.11989092457842163</td><td>25.826788539057283</td><td>0.14272017821702082</td><td>25.979668946290253</td><td>0.15390493048090964</td><td>25.90898536891705</td><td>0.053657884798848476</td><td>25.853346980928457</td><td>0.08160664785815026</td><td>25.808359520570725</td><td>0.12071489655932163</td><td>25.97316311704899</td><td>0.21130344172943133</td><td>25.52676417464061</td><td>0.3748308463871039</td><td>24.926927088096527</td><td>0.3676156536124136</td><td>25.01864533130321</td><td>0.2450819531745739</td><td>24.73327179434643</td><td>0.2375496434669331</td><td>25.40460935210823</td><td>0.12686767548115702</td><td>25.062490556308937</td><td>0.07981036227486638</td><td>24.962977759086037</td><td>0.08093484424394541</td><td>24.937528609011487</td><td>0.1217154012341007</td><td>0.2603638778319915</td><td>27.683381283063973</td><td>26.083222597922745</td><td>25.933979448007204</td></tr>\n",
              "<tr><td>2</td><td>0.1151</td><td>27.394224245813497</td><td>0.6154004578800515</td><td>27.408073761831282</td><td>0.56789931905788</td><td>27.14903709678743</td><td>0.5105903708235783</td><td>27.197910623063898</td><td>0.7527778189869274</td><td>27.12440844151508</td><td>0.17396982168036007</td><td>26.71701837262949</td><td>0.2524310139840358</td><td>27.65998387973206</td><td>0.32761600706015515</td><td>26.29857196787193</td><td>0.5711595628379548</td><td>26.177009103574584</td><td>0.9146595365124806</td><td>25.66865928361168</td><td>0.9873115047945117</td><td>26.89727126417933</td><td>0.8986417073852887</td><td>25.863493562931815</td><td>0.9871090352182683</td><td>26.07011766227469</td><td>0.3332047613856883</td><td>26.58436566778108</td><td>0.29914309542594864</td><td>26.447771034093158</td><td>0.39159953055520125</td><td>26.65556074810808</td><td>0.5246963930946731</td><td>0.3153761478673729</td><td>27.844113826938305</td><td>27.658546492827544</td><td>27.159356693801765</td></tr>\n",
              "<tr><td>3</td><td>0.2211</td><td>23.79308062570248</td><td>0.024147696434642495</td><td>23.87429573829234</td><td>0.02568382498114236</td><td>23.51932223727028</td><td>0.02330127586832422</td><td>23.88167694097171</td><td>0.02449542008308907</td><td>23.49271407633635</td><td>0.006531573562943809</td><td>23.259175071265595</td><td>0.008025565934824458</td><td>23.23647026979011</td><td>0.01173150276522888</td><td>23.241898759851104</td><td>0.020332409375158497</td><td>23.306607201851044</td><td>0.048006362511892525</td><td>23.220498992765307</td><td>0.07086530788725943</td><td>23.342313344804943</td><td>0.0611820346104374</td><td>23.397868841656667</td><td>0.0644656926357</td><td>23.319090010451497</td><td>0.023731657556251718</td><td>23.289911499905024</td><td>0.01990675777318517</td><td>23.333492369450603</td><td>0.02299740636527132</td><td>23.27398661032172</td><td>0.03354285633216027</td><td>0.3414735104500288</td><td>23.826591338144127</td><td>23.880791530766952</td><td>23.51434776844662</td></tr>\n",
              "<tr><td>5</td><td>2.8698</td><td>28.02187401558617</td><td>3.790039307497066</td><td>27.13034278470287</td><td>0.2645461245959831</td><td>25.744500180753853</td><td>0.11496664189880987</td><td>26.287685759333392</td><td>0.2581368702655066</td><td>25.88939046106274</td><td>0.04722634541997733</td><td>25.960205780974682</td><td>0.07297868704364313</td><td>25.83630242295542</td><td>0.11765722065233611</td><td>25.9804135830748</td><td>0.2247138388181575</td><td>26.118494813688763</td><td>0.5695932296793975</td><td>26.427755752349505</td><td>0.819778274309464</td><td>25.639254037123187</td><td>0.3575302389868566</td><td>25.238675210788678</td><td>0.26606365326347314</td><td>26.480724856546807</td><td>0.2630719671430757</td><td>25.750779842269075</td><td>0.11601094635135065</td><td>25.421106500338503</td><td>0.096367354311727</td><td>25.352836969840006</td><td>0.1373802851224267</td><td>0.22222771659480545</td><td>30.184010444287757</td><td>27.146192696193232</td><td>25.835428680793683</td></tr>\n",
              "<tr><td>6</td><td>1.5139</td><td>--</td><td>1.3724481513182403</td><td>27.405443009764603</td><td>0.43468930802095945</td><td>28.15468392625244</td><td>0.4574880854843261</td><td>27.52002713788675</td><td>0.8559898937667438</td><td>27.597589492205167</td><td>0.2560180463544937</td><td>27.61016035326987</td><td>0.42380127661621364</td><td>27.159131851252447</td><td>0.5077303344818724</td><td>27.358845363151666</td><td>0.8665955710528733</td><td>--</td><td>1.1456538901912636</td><td>26.205689818925656</td><td>0.8139064004766252</td><td>27.990509280938063</td><td>0.606351818126118</td><td>26.94425290894447</td><td>0.6894361439695846</td><td>27.150074977887236</td><td>0.26451153407160455</td><td>26.24447602134068</td><td>0.17689727217762294</td><td>26.544889150407194</td><td>0.1808818654029577</td><td>26.306724278621836</td><td>0.3163260768199657</td><td>0.15030779012195042</td><td>29.431318722109815</td><td>28.055566947816754</td><td>27.74120622413137</td></tr>\n",
              "<tr><td>7</td><td>0.1042</td><td>32.034074983938844</td><td>5.958748148338501</td><td>28.05613818483463</td><td>5.0586728399761025</td><td>28.627819035199558</td><td>0.4204587883156352</td><td>26.63753167640335</td><td>1.2015135332130558</td><td>27.72109066913027</td><td>0.16964401461544912</td><td>27.414407508381025</td><td>0.22446702801681</td><td>27.634540101955032</td><td>0.3396663975874637</td><td>27.3180819800209</td><td>0.6194239752043567</td><td>--</td><td>1.6455747735398287</td><td>27.102776737051094</td><td>2.7378540049151274</td><td>--</td><td>1.2691519888785343</td><td>27.23503445733771</td><td>0.5159809364217076</td><td>28.9356378976831</td><td>0.9089383104780729</td><td>26.5857838550017</td><td>0.40771675368082894</td><td>26.812496087609027</td><td>0.3760642546739445</td><td>25.95508165116727</td><td>0.25824110688476776</td><td>0.23692345764574105</td><td>30.614189952194693</td><td>30.33642886519894</td><td>27.230622937270322</td></tr>\n",
              "<tr><td>12</td><td>0.707</td><td>25.201882123663076</td><td>0.10348699687477979</td><td>24.927665523698174</td><td>0.08606043113999642</td><td>24.85498370424107</td><td>0.10814522586178454</td><td>24.73566085541149</td><td>0.07955406802440172</td><td>24.837562483199697</td><td>0.027799126469062952</td><td>24.580851861864083</td><td>0.03230868992421826</td><td>23.9423968368719</td><td>0.029287634726393064</td><td>23.887356440370006</td><td>0.04910451341424705</td><td>23.893052946643202</td><td>0.10121586256713044</td><td>23.585198104046377</td><td>0.1685159671621855</td><td>23.685838669947408</td><td>0.1318900916607266</td><td>23.68016781869307</td><td>0.1336923574154198</td><td>23.87894365355259</td><td>0.057822072970045206</td><td>23.734949588171865</td><td>0.04645969003485581</td><td>23.586092081215206</td><td>0.0484767851228855</td><td>23.700955988053487</td><td>0.0736675483953849</td><td>0.5566009316142205</td><td>25.26536631589508</td><td>24.964203527735418</td><td>24.858502370815025</td></tr>\n",
              "<tr><td>17</td><td>0.5725</td><td>26.80428094720353</td><td>0.0926876072349312</td><td>26.468395848363933</td><td>0.09100888325011544</td><td>26.64763696313711</td><td>0.12757399234414366</td><td>26.5657978522026</td><td>0.22122923801236397</td><td>26.73096227790935</td><td>0.09137612543132591</td><td>26.40530062277204</td><td>0.13035577855635014</td><td>26.719010643185207</td><td>0.18810128345377958</td><td>26.2258060025623</td><td>0.3331962172545575</td><td>24.948290054454056</td><td>0.22093462967311786</td><td>25.097080692108115</td><td>0.1345539858290929</td><td>24.995528261202615</td><td>0.1443080478366829</td><td>26.8185081383645</td><td>0.4886736920933671</td><td>25.112897174430877</td><td>0.03790047378294304</td><td>25.218364957492703</td><td>0.03689138845919716</td><td>26.260140323075397</td><td>0.1041457685189142</td><td>26.154177030002977</td><td>0.19670628596365083</td><td>0.08951574569426331</td><td>26.57053684294836</td><td>26.497986899944262</td><td>26.65096681456774</td></tr>\n",
              "<tr><td>18</td><td>2.8235</td><td>--</td><td>64.49513964872364</td><td>--</td><td>2.7528504845886896</td><td>27.677440610282936</td><td>1.336400271100752</td><td>28.74746419267752</td><td>1.5213161875043018</td><td>27.602381574642955</td><td>0.3354336779355631</td><td>27.47930432017116</td><td>0.371158634988435</td><td>26.76742578990831</td><td>0.48906735617200575</td><td>26.39698752935275</td><td>0.8304697580149895</td><td>25.815219741534797</td><td>1.684973653841421</td><td>25.95506379819087</td><td>1.9550390557926272</td><td>28.284916486319652</td><td>1.2711307828927525</td><td>24.743252930461033</td><td>1.055949981343056</td><td>27.976645309116925</td><td>0.681169969676993</td><td>26.468904130882883</td><td>0.5502054486924735</td><td>26.274863507228666</td><td>0.3761616115366869</td><td>25.542750428354715</td><td>0.5767018100589384</td><td>0.6014748016054022</td><td>32.234537897105334</td><td>28.70836888542447</td><td>27.53329854590722</td></tr>\n",
              "<tr><td>19</td><td>1.7093</td><td>28.48931892409575</td><td>1.3928215369919097</td><td>26.212339833778394</td><td>0.24560098744211395</td><td>26.15551631804056</td><td>0.28650275219984234</td><td>26.068606697869377</td><td>0.2329577102411043</td><td>26.31145293236954</td><td>0.08049109301999452</td><td>26.06555137731595</td><td>0.12083233880152178</td><td>26.06545972420937</td><td>0.1825302191791207</td><td>26.065938476634024</td><td>0.313537703882251</td><td>26.626574076864223</td><td>0.6100471573073128</td><td>26.42961426453092</td><td>0.6920077046301654</td><td>28.416077378284477</td><td>0.41997598951255893</td><td>26.63542510048375</td><td>0.384006395086671</td><td>25.268008394307678</td><td>0.24708533119853365</td><td>25.269834679234314</td><td>0.1451870588420898</td><td>24.99227218118053</td><td>0.14921789540241476</td><td>25.036919602261996</td><td>0.20937697781947878</td><td>0.4587398449606983</td><td>28.352859887074978</td><td>26.34645499593601</td><td>26.13802265379547</td></tr>\n",
              "<tr><td>...</td><td>...</td><td>...</td><td>...</td><td>...</td><td>...</td><td>...</td><td>...</td><td>...</td><td>...</td><td>...</td><td>...</td><td>...</td><td>...</td><td>...</td><td>...</td><td>...</td><td>...</td><td>...</td><td>...</td><td>...</td><td>...</td><td>...</td><td>...</td><td>...</td><td>...</td><td>...</td><td>...</td><td>...</td><td>...</td><td>...</td><td>...</td><td>...</td><td>...</td><td>...</td><td>...</td><td>...</td><td>...</td></tr>\n",
              "<tr><td>964423</td><td>0.9026</td><td>29.111917281995282</td><td>1.4036265452405146</td><td>24.892316249369195</td><td>0.07159983892624498</td><td>24.519448317765402</td><td>0.06831617361053088</td><td>24.86288664932693</td><td>0.06331129759534959</td><td>24.469378227294392</td><td>0.01808151133639283</td><td>23.874750395232503</td><td>0.016572047231381778</td><td>22.90303435188904</td><td>0.010296438705067305</td><td>22.344772013114515</td><td>0.01081737177770797</td><td>22.170979942034286</td><td>0.019962892766333677</td><td>21.97061965675477</td><td>0.029534278576974757</td><td>21.469728987749825</td><td>0.01773309773989983</td><td>21.07367884914735</td><td>0.013823871887121158</td><td>21.944554047037535</td><td>0.010232458371495983</td><td>21.555596959083537</td><td>0.006311753047876017</td><td>21.250104270783233</td><td>0.0056567744882263645</td><td>21.00366073836593</td><td>0.006480101870833509</td><td>0.4881168873407916</td><td>28.295897239063937</td><td>24.879796848094163</td><td>24.475437909124853</td></tr>\n",
              "<tr><td>964424</td><td>0.3275</td><td>23.638705372084964</td><td>0.01818247174108916</td><td>23.80785782594655</td><td>0.019978019144379945</td><td>21.66010543479056</td><td>0.006058098539723556</td><td>23.341858979476164</td><td>0.013157958915264396</td><td>21.625912011488857</td><td>0.005</td><td>20.315890696023338</td><td>0.005</td><td>19.829618919543726</td><td>0.005</td><td>19.563398762636204</td><td>0.005</td><td>19.32479031716276</td><td>0.005</td><td>19.142068853850468</td><td>0.005</td><td>18.819333891047883</td><td>0.005</td><td>18.758922837261487</td><td>0.005</td><td>19.168561567809896</td><td>0.005</td><td>18.86448803907799</td><td>0.005</td><td>18.819828321950077</td><td>0.005</td><td>18.741292052228594</td><td>0.005</td><td>0.18316941894258884</td><td>23.63805099102651</td><td>23.826179516487617</td><td>21.655820215686184</td></tr>\n",
              "<tr><td>964426</td><td>0.323</td><td>26.00408554224034</td><td>0.1973670802407312</td><td>25.302634087113923</td><td>0.11997078744312334</td><td>24.609588832674213</td><td>0.09686183547914644</td><td>25.184640472818835</td><td>0.10395112207228792</td><td>24.514090014266095</td><td>0.02328177666022969</td><td>23.775628183525022</td><td>0.017783509211619676</td><td>23.527761883009013</td><td>0.021287980456614446</td><td>23.3013647343357</td><td>0.03187428168665558</td><td>23.10902122870936</td><td>0.0634453309037797</td><td>23.09743233058196</td><td>0.10539470132475828</td><td>22.97986459362742</td><td>0.07367829162058208</td><td>22.89715990285496</td><td>0.07186833815669408</td><td>23.209816062522556</td><td>0.036729999577085386</td><td>22.95440662219523</td><td>0.02599460343451916</td><td>22.90618295122561</td><td>0.028253198693505163</td><td>22.81084569067996</td><td>0.03862774395044635</td><td>0.6453911934945756</td><td>25.843902329131218</td><td>25.191896323386345</td><td>24.581701561668034</td></tr>\n",
              "<tr><td>964427</td><td>1.4726</td><td>27.894395534271986</td><td>24.744107265768406</td><td>28.57907934882089</td><td>14.311473539841403</td><td>26.31548443554751</td><td>8.83488808608446</td><td>26.75680478063861</td><td>12.56598062436096</td><td>28.150166350564284</td><td>0.4374661469427164</td><td>25.507346045371513</td><td>0.1517637300818183</td><td>23.434934747595072</td><td>0.02824468790895993</td><td>22.516690387429342</td><td>0.022942687226512853</td><td>21.97040838552629</td><td>0.0309065079012974</td><td>21.317337261656455</td><td>0.03339353954293393</td><td>20.56268362125089</td><td>0.01491653432413993</td><td>20.06627732822127</td><td>0.010410191728442531</td><td>21.433765334092264</td><td>0.012542607946282869</td><td>20.711444913709222</td><td>0.00580531409520014</td><td>20.255139833304007</td><td>0.005</td><td>20.003144527647002</td><td>0.005158172913992485</td><td>1.0488466423766452</td><td>30.59622164966368</td><td>29.90170598574105</td><td>28.987885089697418</td></tr>\n",
              "<tr><td>964428</td><td>1.2587</td><td>24.331780026246626</td><td>0.0409276060556162</td><td>23.725587082541672</td><td>0.025114638945044076</td><td>23.334459499255154</td><td>0.023751219488245084</td><td>23.648574518784123</td><td>0.0207834870913944</td><td>23.3472532578948</td><td>0.0062497485654417735</td><td>23.131750145477177</td><td>0.00785989524509062</td><td>22.853118350924525</td><td>0.009210627634238395</td><td>22.405153649565655</td><td>0.010613115361889925</td><td>22.264554261250247</td><td>0.020700037554459677</td><td>22.16619710117147</td><td>0.03251449085573197</td><td>21.930118119910524</td><td>0.024031315227773</td><td>21.80941300730172</td><td>0.021934220532159376</td><td>22.181332202348152</td><td>0.010964276185567211</td><td>22.010853326459035</td><td>0.008175914795503725</td><td>21.90203819330481</td><td>0.008504160525263874</td><td>21.766055167740042</td><td>0.010721731456564052</td><td>0.4206673220277647</td><td>24.40420140398255</td><td>23.694505738713953</td><td>23.36066307138498</td></tr>\n",
              "<tr><td>964429</td><td>0.5593</td><td>23.29736975146036</td><td>0.01624525602047873</td><td>23.364542358390942</td><td>0.016829261613800956</td><td>23.572652044993696</td><td>0.020839022659139284</td><td>23.409792369034896</td><td>0.015034804807977772</td><td>23.54659991585607</td><td>0.006382955114726</td><td>23.418712918382617</td><td>0.008658888170936985</td><td>23.280208155986735</td><td>0.011359384773091872</td><td>23.341236823782175</td><td>0.020400505601716825</td><td>23.2765404128667</td><td>0.040766022702746936</td><td>23.215483563141284</td><td>0.05021450815252888</td><td>23.141534803346453</td><td>0.045355534276784334</td><td>23.695778374908237</td><td>0.08385139279279083</td><td>23.08374022208792</td><td>0.016345535241460405</td><td>23.11269781811756</td><td>0.014529117684922642</td><td>23.769581697999193</td><td>0.028268090473729697</td><td>23.82670157491419</td><td>0.04338211726905907</td><td>0.27355195468396615</td><td>23.300087749410462</td><td>23.36439464093025</td><td>23.537918102133805</td></tr>\n",
              "<tr><td>964437</td><td>1.766</td><td>26.031584753410193</td><td>0.3775023716415486</td><td>26.675456790786207</td><td>0.4317461027008826</td><td>26.05706638078116</td><td>0.4882589670353336</td><td>26.803141104981698</td><td>0.36587642361127304</td><td>26.253816376266137</td><td>0.1189125532115277</td><td>25.64017026904559</td><td>0.08872668925905583</td><td>24.489939194708548</td><td>0.06179231375275475</td><td>23.33147147859895</td><td>0.03221336144830871</td><td>22.777144353001994</td><td>0.04633227717487954</td><td>22.28270604244451</td><td>0.04807382398376533</td><td>21.30996315201117</td><td>0.0195915232760423</td><td>20.763763600363255</td><td>0.013529023780596743</td><td>22.264244445196375</td><td>0.017950312258924545</td><td>21.451211043878978</td><td>0.007441388388514286</td><td>20.969674589499455</td><td>0.005681093522251921</td><td>20.735092989161195</td><td>0.006624452291257429</td><td>0.6761221557752171</td><td>26.51301115073933</td><td>26.562686769339606</td><td>26.31156161952344</td></tr>\n",
              "<tr><td>964439</td><td>0.3207</td><td>26.235568995263428</td><td>0.10726238947793665</td><td>25.688785213430073</td><td>0.08490250506684668</td><td>25.30807167583884</td><td>0.07460052529933613</td><td>25.569262490409095</td><td>0.12216706888186708</td><td>25.345336158156833</td><td>0.029448042662715165</td><td>24.778841250683463</td><td>0.027256383927354</td><td>24.550091152319645</td><td>0.034902881036387036</td><td>24.53756750719787</td><td>0.056705203127352936</td><td>24.667472197753305</td><td>0.12394947413835684</td><td>25.019320989845035</td><td>0.21392040142967372</td><td>24.91720090423737</td><td>0.1753432280401959</td><td>24.584870664439755</td><td>0.15710561467783357</td><td>25.046280808737983</td><td>0.0703175467349328</td><td>24.892732788913882</td><td>0.05560079046334041</td><td>24.817459233177154</td><td>0.05281507803732841</td><td>24.704141869288968</td><td>0.07802519677117878</td><td>0.21847858354646527</td><td>26.18122325485099</td><td>25.817343260515226</td><td>25.34434296678671</td></tr>\n",
              "<tr><td>964440</td><td>0.049</td><td>28.452931131889166</td><td>86.99375333282379</td><td>26.939223559503866</td><td>5.680374436386223</td><td>--</td><td>1.5802885522364638</td><td>27.796012275680532</td><td>3.3602016802577106</td><td>26.796205324105664</td><td>0.3352912134986772</td><td>25.856434970203075</td><td>0.2282715366339546</td><td>24.91590722495534</td><td>0.17957772232357755</td><td>24.706558020138424</td><td>0.2259078072617721</td><td>24.956087103316825</td><td>0.37905270390270696</td><td>24.093474265646883</td><td>0.633509295529556</td><td>23.71303611335872</td><td>0.46488286816347046</td><td>24.68011041986184</td><td>0.4828903404541976</td><td>24.109482865330584</td><td>0.2213284553402247</td><td>24.394276680492617</td><td>0.16820612531987644</td><td>24.057227319060082</td><td>0.19601964828481155</td><td>24.062429807717827</td><td>0.26724599674097227</td><td>1.296758617267177</td><td>31.731962950338378</td><td>28.66880353916948</td><td>26.88911943538206</td></tr>\n",
              "<tr><td>964449</td><td>0.3073</td><td>25.022344786019396</td><td>0.04634612039078644</td><td>25.26147676485288</td><td>0.0566014977630274</td><td>25.027345616284983</td><td>0.06572675452687742</td><td>25.397788105440235</td><td>0.07702910405397277</td><td>25.12031243210864</td><td>0.02486837670105969</td><td>24.79289682192701</td><td>0.02929321421844372</td><td>24.51604204955722</td><td>0.034356207723164056</td><td>24.612261394619047</td><td>0.06099770841694016</td><td>24.418394552226168</td><td>0.1400341017545579</td><td>24.696256710928928</td><td>0.2637286361514738</td><td>24.851079930325803</td><td>0.22956683249948806</td><td>25.302952185335037</td><td>0.21323100049171836</td><td>25.09047406106972</td><td>0.08686917723822273</td><td>25.25745834509626</td><td>0.07265372874407405</td><td>24.888460432964926</td><td>0.07143795314211622</td><td>24.93603810071233</td><td>0.10862886623132165</td><td>0.23609655021367854</td><td>25.020731880872884</td><td>25.236927113322448</td><td>25.124783127740578</td></tr>\n",
              "</table></div>"
            ]
          },
          "metadata": {},
          "execution_count": 11
        }
      ]
    },
    {
      "cell_type": "code",
      "source": [
        "names_phot = [\"ID\", \"photoz\",\n",
        "              \"LSST_g_MAG\", \"LSST_g_MAGERR\", \n",
        "              \"LSST_r_MAG\", \"LSST_r_MAGERR\",\n",
        "              \"LSST_i_MAG\", \"LSST_i_MAGERR\", \n",
        "              \"LSST_z_MAG\", \"LSST_z_MAGERR\",\n",
        "              \"castor_uv_MAG\", \"castor_uv_MAGERR\", \n",
        "              \"castor_u_MAG\", \"castor_u_MAGERR\", \n",
        "              \"castor_g_MAG\", \"castor_g_MAGERR\"]\n",
        "available_os = [\"baseline\"]\n",
        "names = [\n",
        "    \"baseline\",\n",
        "]"
      ],
      "metadata": {
        "id": "40UyfzNgRHtr"
      },
      "id": "40UyfzNgRHtr",
      "execution_count": 12,
      "outputs": []
    },
    {
      "cell_type": "code",
      "source": [
        "os_names = dict(zip(available_os, names))\n",
        "colors = [\"k\"] #, \"plum\", \"cornflowerblue\", \"#2ca02c\", \"gold\", \"tomato\"]\n",
        "os_colors = dict(zip(available_os, colors))"
      ],
      "metadata": {
        "id": "7_ElTN-FR281"
      },
      "id": "7_ElTN-FR281",
      "execution_count": 13,
      "outputs": []
    },
    {
      "cell_type": "code",
      "source": [
        "# put data in expected format for TLM\n",
        "\n",
        "LSST_g_mag = getTrueY(test_cat=CASTOR_baseline, mag_col_names=names_phot, y_col_name=\"LSST_g_MAG\")\n",
        "LSST_r_mag = getTrueY(test_cat=CASTOR_baseline, mag_col_names=names_phot, y_col_name=\"LSST_r_MAG\")\n",
        "LSST_i_mag = getTrueY(test_cat=CASTOR_baseline, mag_col_names=names_phot, y_col_name=\"LSST_i_MAG\")\n",
        "LSST_z_mag = getTrueY(test_cat=CASTOR_baseline, mag_col_names=names_phot, y_col_name=\"LSST_z_MAG\")\n",
        "\n",
        "LSST_g_mag_ERR = getTrueY(test_cat=CASTOR_baseline, mag_col_names=names_phot, y_col_name=\"LSST_g_MAGERR\")\n",
        "LSST_r_mag_ERR = getTrueY(test_cat=CASTOR_baseline, mag_col_names=names_phot, y_col_name=\"LSST_r_MAGERR\")\n",
        "LSST_i_mag_ERR = getTrueY(test_cat=CASTOR_baseline, mag_col_names=names_phot, y_col_name=\"LSST_i_MAGERR\")\n",
        "LSST_z_mag_ERR = getTrueY(test_cat=CASTOR_baseline, mag_col_names=names_phot, y_col_name=\"LSST_z_MAGERR\")\n",
        "\n",
        "CASTOR_g_mag = getTrueY(test_cat=CASTOR_baseline, mag_col_names=names_phot, y_col_name=\"castor_g_MAG\")\n",
        "CASTOR_u_mag = getTrueY(test_cat=CASTOR_baseline, mag_col_names=names_phot, y_col_name=\"castor_u_MAG\")\n",
        "CASTOR_uv_mag = getTrueY(test_cat=CASTOR_baseline, mag_col_names=names_phot, y_col_name=\"castor_uv_MAG\")\n",
        "\n",
        "CASTOR_g_mag_ERR = getTrueY(test_cat=CASTOR_baseline, mag_col_names=names_phot, y_col_name=\"castor_g_MAGERR\")\n",
        "CASTOR_u_mag_ERR = getTrueY(test_cat=CASTOR_baseline, mag_col_names=names_phot, y_col_name=\"castor_u_MAGERR\")\n",
        "CASTOR_uv_mag_ERR = getTrueY(test_cat=CASTOR_baseline, mag_col_names=names_phot, y_col_name=\"castor_uv_MAGERR\")\n",
        "\n",
        "ID = getTrueY(test_cat=CASTOR_baseline, mag_col_names=names_phot, y_col_name=\"ID\")\n",
        "z_true = getTrueY(test_cat=CASTOR_baseline, mag_col_names=names_phot, y_col_name=\"photoz\")\n",
        "\n"
      ],
      "metadata": {
        "id": "f8fFRKHGR7nR"
      },
      "id": "f8fFRKHGR7nR",
      "execution_count": 14,
      "outputs": []
    },
    {
      "cell_type": "code",
      "source": [
        "#df = pd.DataFrame({'CASTOR_ID': data_array_sorted_CASTOR_wID[:,0] , 'error': data_array_sorted_CASTOR_wID[:,1], \n",
        "#                   'g-r': data_array_sorted_CASTOR_wID[:,2] - data_array_sorted_CASTOR_wID[:,3], \n",
        "#                   'r-i': data_array_sorted_CASTOR_wID[:,3] - data_array_sorted_CASTOR_wID[:,4], \n",
        "#                   'i-z': data_array_sorted_CASTOR_wID[:,4] - data_array_sorted_CASTOR_wID[:,5], \n",
        "#                   'true_z': data_array_sorted_CASTOR_wID[:,6]})\n",
        "\n",
        "catalogs = dict()\n",
        "for os in available_os:\n",
        "    \n",
        "#     cat = pd.DataFrame({'CASTOR_ID': ID, 'z_true': z_true, \n",
        "#                              'LSST_g_mag': LSST_g_mag, 'LSST_g_mag_ERR': LSST_g_mag_ERR, \n",
        "#                              'LSST_r_mag': LSST_r_mag, 'LSST_r_mag_ERR': LSST_r_mag_ERR, \n",
        "#                              'LSST_i_mag': LSST_i_mag, 'LSST_i_mag_ERR': LSST_i_mag_ERR, \n",
        "#                              'LSST_z_mag': LSST_z_mag, 'LSST_z_mag_ERR': LSST_z_mag_ERR, \n",
        "#                              'CASTOR_uv_mag': LSST_uv_mag, 'LSST_uv_mag_ERR': LSST_uv_mag_ERR, \n",
        "#                              'CASTOR_u_mag': LSST_u_mag, 'LSST_u_mag_ERR': LSST_u_mag_ERR, \n",
        "#               'CASTOR_g_mag': LSST_g_mag, 'LSST_g_mag_ERR': LSST_g_mag_ERR})\n",
        "    \n",
        "    # this will need to change to accomodate multiple catalogs, e.g. LSST only or LSST + CASTOR\n",
        "    \n",
        "    cat = pd.DataFrame({'CASTOR_ID': ID, 'z_true': z_true, \n",
        "                             'r': LSST_r_mag,\n",
        "                             'g-r': LSST_g_mag - LSST_r_mag, \n",
        "                             'r-i': LSST_r_mag - LSST_i_mag, \n",
        "                             'i-z': LSST_i_mag - LSST_z_mag, \n",
        "                             'uv-u': CASTOR_uv_mag - CASTOR_u_mag, \n",
        "                             'u-g': CASTOR_u_mag - CASTOR_g_mag\n",
        "                      }).set_index('CASTOR_ID')\n",
        "    # cat = pd.DataFrame(Table(cat.to_numpy().byteswap().newbyteorder('=')).to_pandas().to_numpy().byteswap().newbyteorder('='))\n",
        "    # assert(cat.isnull().sum().all() == 0)\n",
        "    catalogs[os] = cat.dropna()\n",
        "    means = catalogs[os].mean(axis=0).values\n",
        "    stds = catalogs[os].std(axis=0).values"
      ],
      "metadata": {
        "id": "NhgJne8VSQuZ"
      },
      "id": "NhgJne8VSQuZ",
      "execution_count": 15,
      "outputs": []
    },
    {
      "cell_type": "code",
      "source": [
        "cat"
      ],
      "metadata": {
        "id": "vAQ9vbSnOEa5",
        "outputId": "9b659f04-86b0-4bb5-f109-1fc9112481c2",
        "colab": {
          "base_uri": "https://localhost:8080/",
          "height": 455
        }
      },
      "id": "vAQ9vbSnOEa5",
      "execution_count": 16,
      "outputs": [
        {
          "output_type": "execute_result",
          "data": {
            "text/plain": [
              "           z_true          r       g-r       r-i       i-z      uv-u       u-g\n",
              "CASTOR_ID                                                                     \n",
              "1          1.5930  25.853347  0.055638  0.044987 -0.164804  2.262707  0.165233\n",
              "2          0.1151  26.717018  0.407390 -0.942966  1.361412 -0.013850  0.259037\n",
              "3          0.2211  23.259175  0.233539  0.022705 -0.005428 -0.081215  0.354974\n",
              "5          2.8698  25.960206 -0.070815  0.123903 -0.144111  0.891531  1.385843\n",
              "7          0.1042  27.414408  0.306683 -0.220133  0.316458  3.977937 -0.571681\n",
              "...           ...        ...       ...       ...       ...       ...       ...\n",
              "964428     1.2587  23.131750  0.215503  0.278632  0.447965  0.606193  0.391128\n",
              "964429     0.5593  23.418713  0.127887  0.138505 -0.061029 -0.067173 -0.208110\n",
              "964437     1.7660  25.640170  0.613646  1.150231  1.158468 -0.643872  0.618390\n",
              "964439     0.3207  24.778841  0.566495  0.228750  0.012524  0.546784  0.380714\n",
              "964449     0.3073  24.792897  0.327416  0.276855 -0.096219 -0.239132  0.234131\n",
              "\n",
              "[481225 rows x 7 columns]"
            ],
            "text/html": [
              "\n",
              "  <div id=\"df-5635df3d-baba-4fe3-a116-c0dff5d6dd73\">\n",
              "    <div class=\"colab-df-container\">\n",
              "      <div>\n",
              "<style scoped>\n",
              "    .dataframe tbody tr th:only-of-type {\n",
              "        vertical-align: middle;\n",
              "    }\n",
              "\n",
              "    .dataframe tbody tr th {\n",
              "        vertical-align: top;\n",
              "    }\n",
              "\n",
              "    .dataframe thead th {\n",
              "        text-align: right;\n",
              "    }\n",
              "</style>\n",
              "<table border=\"1\" class=\"dataframe\">\n",
              "  <thead>\n",
              "    <tr style=\"text-align: right;\">\n",
              "      <th></th>\n",
              "      <th>z_true</th>\n",
              "      <th>r</th>\n",
              "      <th>g-r</th>\n",
              "      <th>r-i</th>\n",
              "      <th>i-z</th>\n",
              "      <th>uv-u</th>\n",
              "      <th>u-g</th>\n",
              "    </tr>\n",
              "    <tr>\n",
              "      <th>CASTOR_ID</th>\n",
              "      <th></th>\n",
              "      <th></th>\n",
              "      <th></th>\n",
              "      <th></th>\n",
              "      <th></th>\n",
              "      <th></th>\n",
              "      <th></th>\n",
              "    </tr>\n",
              "  </thead>\n",
              "  <tbody>\n",
              "    <tr>\n",
              "      <th>1</th>\n",
              "      <td>1.5930</td>\n",
              "      <td>25.853347</td>\n",
              "      <td>0.055638</td>\n",
              "      <td>0.044987</td>\n",
              "      <td>-0.164804</td>\n",
              "      <td>2.262707</td>\n",
              "      <td>0.165233</td>\n",
              "    </tr>\n",
              "    <tr>\n",
              "      <th>2</th>\n",
              "      <td>0.1151</td>\n",
              "      <td>26.717018</td>\n",
              "      <td>0.407390</td>\n",
              "      <td>-0.942966</td>\n",
              "      <td>1.361412</td>\n",
              "      <td>-0.013850</td>\n",
              "      <td>0.259037</td>\n",
              "    </tr>\n",
              "    <tr>\n",
              "      <th>3</th>\n",
              "      <td>0.2211</td>\n",
              "      <td>23.259175</td>\n",
              "      <td>0.233539</td>\n",
              "      <td>0.022705</td>\n",
              "      <td>-0.005428</td>\n",
              "      <td>-0.081215</td>\n",
              "      <td>0.354974</td>\n",
              "    </tr>\n",
              "    <tr>\n",
              "      <th>5</th>\n",
              "      <td>2.8698</td>\n",
              "      <td>25.960206</td>\n",
              "      <td>-0.070815</td>\n",
              "      <td>0.123903</td>\n",
              "      <td>-0.144111</td>\n",
              "      <td>0.891531</td>\n",
              "      <td>1.385843</td>\n",
              "    </tr>\n",
              "    <tr>\n",
              "      <th>7</th>\n",
              "      <td>0.1042</td>\n",
              "      <td>27.414408</td>\n",
              "      <td>0.306683</td>\n",
              "      <td>-0.220133</td>\n",
              "      <td>0.316458</td>\n",
              "      <td>3.977937</td>\n",
              "      <td>-0.571681</td>\n",
              "    </tr>\n",
              "    <tr>\n",
              "      <th>...</th>\n",
              "      <td>...</td>\n",
              "      <td>...</td>\n",
              "      <td>...</td>\n",
              "      <td>...</td>\n",
              "      <td>...</td>\n",
              "      <td>...</td>\n",
              "      <td>...</td>\n",
              "    </tr>\n",
              "    <tr>\n",
              "      <th>964428</th>\n",
              "      <td>1.2587</td>\n",
              "      <td>23.131750</td>\n",
              "      <td>0.215503</td>\n",
              "      <td>0.278632</td>\n",
              "      <td>0.447965</td>\n",
              "      <td>0.606193</td>\n",
              "      <td>0.391128</td>\n",
              "    </tr>\n",
              "    <tr>\n",
              "      <th>964429</th>\n",
              "      <td>0.5593</td>\n",
              "      <td>23.418713</td>\n",
              "      <td>0.127887</td>\n",
              "      <td>0.138505</td>\n",
              "      <td>-0.061029</td>\n",
              "      <td>-0.067173</td>\n",
              "      <td>-0.208110</td>\n",
              "    </tr>\n",
              "    <tr>\n",
              "      <th>964437</th>\n",
              "      <td>1.7660</td>\n",
              "      <td>25.640170</td>\n",
              "      <td>0.613646</td>\n",
              "      <td>1.150231</td>\n",
              "      <td>1.158468</td>\n",
              "      <td>-0.643872</td>\n",
              "      <td>0.618390</td>\n",
              "    </tr>\n",
              "    <tr>\n",
              "      <th>964439</th>\n",
              "      <td>0.3207</td>\n",
              "      <td>24.778841</td>\n",
              "      <td>0.566495</td>\n",
              "      <td>0.228750</td>\n",
              "      <td>0.012524</td>\n",
              "      <td>0.546784</td>\n",
              "      <td>0.380714</td>\n",
              "    </tr>\n",
              "    <tr>\n",
              "      <th>964449</th>\n",
              "      <td>0.3073</td>\n",
              "      <td>24.792897</td>\n",
              "      <td>0.327416</td>\n",
              "      <td>0.276855</td>\n",
              "      <td>-0.096219</td>\n",
              "      <td>-0.239132</td>\n",
              "      <td>0.234131</td>\n",
              "    </tr>\n",
              "  </tbody>\n",
              "</table>\n",
              "<p>481225 rows × 7 columns</p>\n",
              "</div>\n",
              "      <button class=\"colab-df-convert\" onclick=\"convertToInteractive('df-5635df3d-baba-4fe3-a116-c0dff5d6dd73')\"\n",
              "              title=\"Convert this dataframe to an interactive table.\"\n",
              "              style=\"display:none;\">\n",
              "        \n",
              "  <svg xmlns=\"http://www.w3.org/2000/svg\" height=\"24px\"viewBox=\"0 0 24 24\"\n",
              "       width=\"24px\">\n",
              "    <path d=\"M0 0h24v24H0V0z\" fill=\"none\"/>\n",
              "    <path d=\"M18.56 5.44l.94 2.06.94-2.06 2.06-.94-2.06-.94-.94-2.06-.94 2.06-2.06.94zm-11 1L8.5 8.5l.94-2.06 2.06-.94-2.06-.94L8.5 2.5l-.94 2.06-2.06.94zm10 10l.94 2.06.94-2.06 2.06-.94-2.06-.94-.94-2.06-.94 2.06-2.06.94z\"/><path d=\"M17.41 7.96l-1.37-1.37c-.4-.4-.92-.59-1.43-.59-.52 0-1.04.2-1.43.59L10.3 9.45l-7.72 7.72c-.78.78-.78 2.05 0 2.83L4 21.41c.39.39.9.59 1.41.59.51 0 1.02-.2 1.41-.59l7.78-7.78 2.81-2.81c.8-.78.8-2.07 0-2.86zM5.41 20L4 18.59l7.72-7.72 1.47 1.35L5.41 20z\"/>\n",
              "  </svg>\n",
              "      </button>\n",
              "      \n",
              "  <style>\n",
              "    .colab-df-container {\n",
              "      display:flex;\n",
              "      flex-wrap:wrap;\n",
              "      gap: 12px;\n",
              "    }\n",
              "\n",
              "    .colab-df-convert {\n",
              "      background-color: #E8F0FE;\n",
              "      border: none;\n",
              "      border-radius: 50%;\n",
              "      cursor: pointer;\n",
              "      display: none;\n",
              "      fill: #1967D2;\n",
              "      height: 32px;\n",
              "      padding: 0 0 0 0;\n",
              "      width: 32px;\n",
              "    }\n",
              "\n",
              "    .colab-df-convert:hover {\n",
              "      background-color: #E2EBFA;\n",
              "      box-shadow: 0px 1px 2px rgba(60, 64, 67, 0.3), 0px 1px 3px 1px rgba(60, 64, 67, 0.15);\n",
              "      fill: #174EA6;\n",
              "    }\n",
              "\n",
              "    [theme=dark] .colab-df-convert {\n",
              "      background-color: #3B4455;\n",
              "      fill: #D2E3FC;\n",
              "    }\n",
              "\n",
              "    [theme=dark] .colab-df-convert:hover {\n",
              "      background-color: #434B5C;\n",
              "      box-shadow: 0px 1px 3px 1px rgba(0, 0, 0, 0.15);\n",
              "      filter: drop-shadow(0px 1px 2px rgba(0, 0, 0, 0.3));\n",
              "      fill: #FFFFFF;\n",
              "    }\n",
              "  </style>\n",
              "\n",
              "      <script>\n",
              "        const buttonEl =\n",
              "          document.querySelector('#df-5635df3d-baba-4fe3-a116-c0dff5d6dd73 button.colab-df-convert');\n",
              "        buttonEl.style.display =\n",
              "          google.colab.kernel.accessAllowed ? 'block' : 'none';\n",
              "\n",
              "        async function convertToInteractive(key) {\n",
              "          const element = document.querySelector('#df-5635df3d-baba-4fe3-a116-c0dff5d6dd73');\n",
              "          const dataTable =\n",
              "            await google.colab.kernel.invokeFunction('convertToInteractive',\n",
              "                                                     [key], {});\n",
              "          if (!dataTable) return;\n",
              "\n",
              "          const docLinkHtml = 'Like what you see? Visit the ' +\n",
              "            '<a target=\"_blank\" href=https://colab.research.google.com/notebooks/data_table.ipynb>data table notebook</a>'\n",
              "            + ' to learn more about interactive tables.';\n",
              "          element.innerHTML = '';\n",
              "          dataTable['output_type'] = 'display_data';\n",
              "          await google.colab.output.renderOutput(dataTable, element);\n",
              "          const docLink = document.createElement('div');\n",
              "          docLink.innerHTML = docLinkHtml;\n",
              "          element.appendChild(docLink);\n",
              "        }\n",
              "      </script>\n",
              "    </div>\n",
              "  </div>\n",
              "  "
            ]
          },
          "metadata": {},
          "execution_count": 16
        }
      ]
    },
    {
      "cell_type": "code",
      "source": [
        "\n",
        "\n",
        "mins = [0, 15, -1, -1, -1, -1, -1]\n",
        "maxs = [3, 35, 5, 5, 5, 5, 5]\n",
        "\n",
        "# first I create a bijector chain\n",
        "# the first bijection is a standard scaler - but I'm not actually using it for standard scaling\n",
        "#     I set the mean and std so that it maps the redshift range (0, 3.2) onto (-5, 5), which is \n",
        "#     the domain of the NeuralSplineCoupling\n",
        "# the second bijection is a NeuralSplineCoupling. I told it to expect 6 conditions,\n",
        "#     which will be the r mag and the galaxy colors\n",
        "# bijector = Chain(\n",
        "#     StandardScaler(np.atleast_1d(1.6), np.atleast_1d(0.32)),\n",
        "#     NeuralSplineCoupling(n_conditions=6)\n",
        "# )\n",
        "bijector = Chain(\n",
        "    # InvSoftplus(z_col, sharpness),\n",
        "    # StandardScaler(means, stds),\n",
        "    ShiftBounds(mins, maxs, B=5),\n",
        "    RollingSplineCoupling(nlayers=7, K=16, n_conditions=6),\n",
        ")\n",
        "\n",
        "# I set the latent distribution to a Uniform over (-5, 5)\n",
        "# this range was chosen to match the NeuralSplineCoupling domain\n",
        "# I chose a Uniform since all of the redshifts are drawn from a compact domain\n",
        "# latent = Uniform(1, 5) # did the syntax here change?\n",
        "latent = Uniform(1,5)#(-5, 5), (-5, 5), (-5, 5), (-5, 5), (-5, 5), (-5, 5), (-5, 5))"
      ],
      "metadata": {
        "id": "CcBqdH2CSpjY",
        "outputId": "b7addc6f-4126-4e93-fd3d-1d11bb6c4278",
        "colab": {
          "base_uri": "https://localhost:8080/"
        }
      },
      "id": "CcBqdH2CSpjY",
      "execution_count": 17,
      "outputs": [
        {
          "output_type": "stream",
          "name": "stderr",
          "text": [
            "WARNING:jax._src.lib.xla_bridge:No GPU/TPU found, falling back to CPU. (Set TF_CPP_MIN_LOG_LEVEL=0 and rerun for more info.)\n"
          ]
        }
      ]
    },
    {
      "cell_type": "code",
      "source": [
        "# create a dictionary that will hold all the ensembles\n",
        "ensembles = dict()\n",
        "\n",
        "# create the baseline flows\n",
        "for os in available_os:\n",
        "    # the data column is the one that is sampled and transformed by the flow\n",
        "    data_columns = [\"z_true\"]\n",
        "    # the conditional columns are the columns that the flow is conditioned on\n",
        "    conditional_columns = [\"r\", \"u-g\", \"g-r\", \"r-i\", \"i-z\", \"uv-u\"] # different colors than LSST  \n",
        "    # save some info with the flow\n",
        "    info = f\"Models z_true conditioned on galaxy colors and r mag from os {os}. K=16\"\n",
        "    \n",
        "    # instantiate and save the flow\n",
        "    flowEns = FlowEnsemble(data_columns = data_columns, \n",
        "                           conditional_columns = conditional_columns,\n",
        "                           bijector = bijector,\n",
        "                           latent = latent,\n",
        "                           info = info),\n",
        "                          #  N = 10)\n",
        "    ensembles[os] = flowEns"
      ],
      "metadata": {
        "id": "LQUPqdiGSzyW"
      },
      "id": "LQUPqdiGSzyW",
      "execution_count": 18,
      "outputs": []
    },
    {
      "cell_type": "code",
      "source": [
        "for os, ens in ensembles.items():\n",
        "    \n",
        "    # get the data and make a train and test set\n",
        "    cat = catalogs[os]\n",
        "    cat_train = cat.sample(frac = 0.8)\n",
        "    cat_test = cat.drop(cat_train.index)\n",
        "    \n",
        "    # train the flow on the given learning rate schedule\n",
        "    loss = ens[0].train(cat_train[data_columns+conditional_columns], convolve_errs=False,\n",
        "                       epochs = 30, seed = 123)\n",
        "    # loss2 = ens.train(cat_train, convolve_errs=True,\n",
        "    #                    epochs = 30, seed = 312)\n",
        "    # loss3 = ens.train(cat_train, convolve_errs=True,\n",
        "    #                    epochs = 30, seed = 231)\n",
        "    \n",
        "    # losses = {fname : # for each flow trained in the ensemble...\n",
        "    #               [float(loss) # save the list of training losses\n",
        "    #                for lossDict in [loss1]#, loss2, loss3]\n",
        "    #                for loss in lossDict[fname]]\n",
        "    #           for fname in loss1}\n",
        "    \n",
        "    # print the train and test loss\n",
        "    train_loss = -np.mean(ens.log_prob(cat_train))\n",
        "    test_loss = -np.mean(ens.log_prob(cat_test))\n",
        "    print(os, train_loss, test_loss)\n",
        "    \n",
        "    # save the ensemble\n",
        "    ens.save(f\"trained_flows/pzflow_ensemble_for_{os}.pkl\")\n",
        "    # and the losses\n",
        "    with open(f\"trained_flows/losses_for_{os}.pkl\", \"wb\") as file:\n",
        "        pickle.dump({\"losses\": losses, \n",
        "                     \"train loss\": train_loss, \n",
        "                     \"test loss\": test_loss},\n",
        "                    file)"
      ],
      "metadata": {
        "id": "l7J0rqGeC_d4"
      },
      "id": "l7J0rqGeC_d4",
      "execution_count": null,
      "outputs": []
    },
    {
      "cell_type": "code",
      "source": [],
      "metadata": {
        "id": "R6a5Hnx6NtWS"
      },
      "id": "R6a5Hnx6NtWS",
      "execution_count": null,
      "outputs": []
    },
    {
      "cell_type": "code",
      "source": [
        "loss"
      ],
      "metadata": {
        "id": "0i-EI-9rSVxt"
      },
      "id": "0i-EI-9rSVxt",
      "execution_count": null,
      "outputs": []
    },
    {
      "cell_type": "markdown",
      "source": [
        "And now an error because it's looking at flows trained on catalogs with different keyword names?"
      ],
      "metadata": {
        "id": "op9-IXAOTPmu"
      },
      "id": "op9-IXAOTPmu"
    },
    {
      "cell_type": "markdown",
      "id": "f49e3a2b",
      "metadata": {
        "id": "f49e3a2b"
      },
      "source": [
        "dependencies: pzflow, pandas, jax"
      ]
    },
    {
      "cell_type": "code",
      "execution_count": null,
      "id": "83ab7905",
      "metadata": {
        "id": "83ab7905"
      },
      "outputs": [],
      "source": [
        "from pzflow import Flow\n",
        "import jax.numpy as jnp\n",
        "import pandas as pd \n",
        "\n",
        "import matplotlib.pyplot as plt"
      ]
    },
    {
      "cell_type": "code",
      "execution_count": null,
      "id": "43a16a1f",
      "metadata": {
        "id": "43a16a1f"
      },
      "outputs": [],
      "source": [
        "from astropy.table import Table"
      ]
    },
    {
      "cell_type": "markdown",
      "id": "42ed4f28",
      "metadata": {
        "id": "42ed4f28"
      },
      "source": [
        "## CASTOR COSMOS synthetic catalogs"
      ]
    },
    {
      "cell_type": "code",
      "execution_count": null,
      "id": "8ff5d07a",
      "metadata": {
        "id": "8ff5d07a"
      },
      "outputs": [],
      "source": [
        "# load data\n",
        "\n",
        "unp = Table.read(\"unperturbed_mags.fits\")\n",
        "mock = Table.read(\"ext_phot.fits\")\n",
        "mask = unp[\"Euclid_VIS_MAG\"] <= 24.5\n",
        "\n",
        "CASTOR_baseline = mock[mask] #ignoring training data outside the Euclid flux limit \n",
        "\n",
        "names_phot = [\"ID\", \"photoz\",\n",
        "              \"LSST_g_MAG\", \"LSST_g_MAGERR\", \n",
        "              \"LSST_r_MAG\", \"LSST_r_MAGERR\",\n",
        "              \"LSST_i_MAG\", \"LSST_i_MAGERR\", \n",
        "              \"LSST_z_MAG\", \"LSST_z_MAGERR\"\n",
        "              \"castor_uv_MAG\", \"castor_uv_MAGERR\", \n",
        "              \"castor_u_MAG\", \"castor_u_MAGERR\", \n",
        "              \"castor_g_MAG\", \"castor_g_MAGERR\"]\n",
        "\n",
        "available_os = [\"baseline\"]\n",
        "names = [\n",
        "    \"baseline\",\n",
        "]\n",
        "\n",
        "os_names = dict(zip(available_os, names))\n",
        "colors = [\"k\"] #, \"plum\", \"cornflowerblue\", \"#2ca02c\", \"gold\", \"tomato\"]\n",
        "os_colors = dict(zip(available_os, colors))\n",
        "\n",
        "# put data in expected format for TLM \n",
        "\n",
        "LSST_g_mag = getTrueY(test_cat=CASTOR_baseline, mag_col_names=names_phot, y_col_name=\"LSST_g_MAG\")\n",
        "LSST_r_mag = getTrueY(test_cat=CASTOR_baseline, mag_col_names=names_phot, y_col_name=\"LSST_r_MAG\")\n",
        "LSST_i_mag = getTrueY(test_cat=CASTOR_baseline, mag_col_names=names_phot, y_col_name=\"LSST_i_MAG\")\n",
        "LSST_z_mag = getTrueY(test_cat=CASTOR_baseline, mag_col_names=names_phot, y_col_name=\"LSST_z_MAG\")\n",
        "\n",
        "LSST_g_mag_ERR = getTrueY(test_cat=CASTOR_baseline, mag_col_names=names_phot, y_col_name=\"LSST_g_MAGERR\")\n",
        "LSST_r_mag_ERR = getTrueY(test_cat=CASTOR_baseline, mag_col_names=names_phot, y_col_name=\"LSST_r_MAGERR\")\n",
        "LSST_i_mag_ERR = getTrueY(test_cat=CASTOR_baseline, mag_col_names=names_phot, y_col_name=\"LSST_i_MAGERR\")\n",
        "LSST_z_mag_ERR = getTrueY(test_cat=CASTOR_baseline, mag_col_names=names_phot, y_col_name=\"LSST_z_MAGERR\")\n",
        "\n",
        "CASTOR_g_mag = getTrueY(test_cat=CASTOR_baseline, mag_col_names=names_phot, y_col_name=\"CASTOR_g_MAG\")\n",
        "CASTOR_r_mag = getTrueY(test_cat=CASTOR_baseline, mag_col_names=names_phot, y_col_name=\"CASTOR_r_MAG\")\n",
        "CASTOR_i_mag = getTrueY(test_cat=CASTOR_baseline, mag_col_names=names_phot, y_col_name=\"CASTOR_i_MAG\")\n",
        "CASTOR_z_mag = getTrueY(test_cat=CASTOR_baseline, mag_col_names=names_phot, y_col_name=\"CASTOR_z_MAG\")\n",
        "\n",
        "CASTOR_g_mag_ERR = getTrueY(test_cat=CASTOR_baseline, mag_col_names=names_phot, y_col_name=\"CASTOR_g_MAGERR\")\n",
        "CASTOR_r_mag_ERR = getTrueY(test_cat=CASTOR_baseline, mag_col_names=names_phot, y_col_name=\"CASTOR_r_MAGERR\")\n",
        "CASTOR_i_mag_ERR = getTrueY(test_cat=CASTOR_baseline, mag_col_names=names_phot, y_col_name=\"CASTOR_i_MAGERR\")\n",
        "CASTOR_z_mag_ERR = getTrueY(test_cat=CASTOR_baseline, mag_col_names=names_phot, y_col_name=\"CASTOR_z_MAGERR\")\n",
        "\n",
        "ID = getTrueY(test_cat=CASTOR_baseline, mag_col_names=names_phot, y_col_name=\"ID\")\n",
        "z_true = getTrueY(test_cat=CASTOR_baseline, mag_col_names=names_phot, y_col_name=\"photoz\")\n",
        "\n",
        "df = pd.DataFrame({'CASTOR_ID': data_array_sorted_CASTOR_wID[:,0] , 'error': data_array_sorted_CASTOR_wID[:,1], \n",
        "                   'g-r': data_array_sorted_CASTOR_wID[:,2] - data_array_sorted_CASTOR_wID[:,3], \n",
        "                   'r-i': data_array_sorted_CASTOR_wID[:,3] - data_array_sorted_CASTOR_wID[:,4], \n",
        "                   'i-z': data_array_sorted_CASTOR_wID[:,4] - data_array_sorted_CASTOR_wID[:,5], \n",
        "                   'true_z': data_array_sorted_CASTOR_wID[:,6]})"
      ]
    },
    {
      "cell_type": "code",
      "execution_count": null,
      "id": "1db5e24e",
      "metadata": {
        "id": "1db5e24e"
      },
      "outputs": [],
      "source": [
        "# load the catalogs\n",
        "catalogs = dict()\n",
        "for os in available_os:\n",
        "    \n",
        "#     cat = pd.DataFrame({'CASTOR_ID': ID, 'z_true': z_true, \n",
        "#                              'LSST_g_mag': LSST_g_mag, 'LSST_g_mag_ERR': LSST_g_mag_ERR, \n",
        "#                              'LSST_r_mag': LSST_r_mag, 'LSST_r_mag_ERR': LSST_r_mag_ERR, \n",
        "#                              'LSST_i_mag': LSST_i_mag, 'LSST_i_mag_ERR': LSST_i_mag_ERR, \n",
        "#                              'LSST_z_mag': LSST_z_mag, 'LSST_z_mag_ERR': LSST_z_mag_ERR, \n",
        "#                              'CASTOR_uv_mag': LSST_uv_mag, 'LSST_uv_mag_ERR': LSST_uv_mag_ERR, \n",
        "#                              'CASTOR_u_mag': LSST_u_mag, 'LSST_u_mag_ERR': LSST_u_mag_ERR, \n",
        "#               'CASTOR_g_mag': LSST_g_mag, 'LSST_g_mag_ERR': LSST_g_mag_ERR})\n",
        "    \n",
        "    # this will need to change to accomodate multiple catalogs, e.g. LSST only or LSST + CASTOR\n",
        "    \n",
        "    cat = pd.DataFrame({'CASTOR_ID': ID, 'z_true': z_true, \n",
        "                             'r': LSST_r_mag,\n",
        "                             'g-r': LSST_g_mag - LSST_r_mag, \n",
        "                             'r-i': LSST_r_mag - LSST_i_mag, \n",
        "                             'i-z': LSST_i_mag - LSST_z_mag, \n",
        "                             'uv-u': CASTOR_uv_mag - CASTOR_u_mag; \n",
        "                             'u-g': CASTOR_u_mag - CASTOR_g_mag\n",
        "                      })\n",
        "    \n",
        "    catalogs[os] = cat.dropna()"
      ]
    },
    {
      "cell_type": "markdown",
      "id": "2933ee82",
      "metadata": {
        "id": "2933ee82"
      },
      "source": [
        "# Instantiate and Train \n",
        "\n",
        "### Does this run 'as is'?"
      ]
    },
    {
      "cell_type": "code",
      "execution_count": null,
      "id": "4c66cfd3",
      "metadata": {
        "id": "4c66cfd3"
      },
      "outputs": [],
      "source": [
        "# first I create a bijector chain\n",
        "# the first bijection is a standard scaler - but I'm not actually using it for standard scaling\n",
        "#     I set the mean and std so that it maps the redshift range (0, 3.2) onto (-5, 5), which is \n",
        "#     the domain of the NeuralSplineCoupling\n",
        "# the second bijection is a NeuralSplineCoupling. I told it to expect 6 conditions,\n",
        "#     which will be the r mag and the galaxy colors\n",
        "bijector = Chain(\n",
        "    StandardScaler(np.atleast_1d(1.6), np.atleast_1d(0.32)),\n",
        "    NeuralSplineCoupling(n_conditions=6)\n",
        ")\n",
        "\n",
        "# I set the latent distribution to a Uniform over (-5, 5)\n",
        "# this range was chosen to match the NeuralSplineCoupling domain\n",
        "# I chose a Uniform since all of the redshifts are drawn from a compact domain\n",
        "latent = Uniform(1)\n",
        "\n",
        "# create a dictionary that will hold all the ensembles\n",
        "ensembles = dict()\n",
        "\n",
        "# create the baseline flows\n",
        "for os in available_os:\n",
        "\n",
        "    # the data column is the one that is sampled and transformed by the flow\n",
        "    data_columns = [\"z_true\"]\n",
        "    # the conditional columns are the columns that the flow is conditioned on\n",
        "    conditional_columns = [\"r\", \"u-g\", \"g-r\", \"r-i\", \"i-z\", \"uv-u\"] # different colors than LSST  \n",
        "\n",
        "    # save some info with the flow\n",
        "    info = f\"Models z_true conditioned on galaxy colors and r mag from os {os}. K=16\"\n",
        "\n",
        "    # instantiate and save the flow\n",
        "    flowEns = FlowEnsemble(data_columns = data_columns, \n",
        "                           conditional_columns = conditional_columns,\n",
        "                           bijector = bijector,\n",
        "                           latent = latent,\n",
        "                           info = info,\n",
        "                           N = 10)\n",
        "\n",
        "    ensembles[os] = flowEns\n",
        "    \n",
        "\n",
        "for os, ens in ensembles.items():\n",
        "    \n",
        "    # get the data and make a train and test set\n",
        "    cat = catalogs[os]\n",
        "    cat_train = cat.sample(frac = 0.8)\n",
        "    cat_test = cat.drop(cat_train.index)\n",
        "    \n",
        "    # train the flow on the given learning rate schedule\n",
        "    loss1 = ens.train(cat_train, sample_errs=True,\n",
        "                       optimizer = adam(step_size = 1e-3),\n",
        "                       epochs = 100, seed = 123)\n",
        "    loss2 = ens.train(cat_train, sample_errs=True,\n",
        "                       optimizer = adam(step_size = 2e-4),\n",
        "                       epochs = 100, seed = 312)\n",
        "    loss3 = ens.train(cat_train, sample_errs=True,\n",
        "                       optimizer = adam(step_size = 1e-4),\n",
        "                       epochs = 50, seed = 231)\n",
        "    \n",
        "    losses = {fname : # for each flow trained in the ensemble...\n",
        "                  [float(loss) # save the list of training losses\n",
        "                   for lossDict in [loss1, loss2, loss3]\n",
        "                   for loss in lossDict[fname]]\n",
        "              for fname in loss1}\n",
        "    \n",
        "    # print the train and test loss\n",
        "    train_loss = -np.mean(ens.log_prob(cat_train))\n",
        "    test_loss = -np.mean(ens.log_prob(cat_test))\n",
        "    print(os, train_loss, test_loss)\n",
        "    \n",
        "    # save the ensemble\n",
        "    ens.save(f\"trained_flows/pzflow_ensemble_for_{os}.pkl\")\n",
        "    # and the losses\n",
        "    with open(f\"trained_flows/losses_for_{os}.pkl\", \"wb\") as file:\n",
        "        pickle.dump({\"losses\": losses, \n",
        "                     \"train loss\": train_loss, \n",
        "                     \"test loss\": test_loss},\n",
        "                    file)"
      ]
    },
    {
      "cell_type": "markdown",
      "id": "27fcca35",
      "metadata": {
        "id": "27fcca35"
      },
      "source": [
        "# from github/aimalz/TheLastMetric/blob/master/training_flows_July23.ipynb"
      ]
    },
    {
      "cell_type": "markdown",
      "id": "c392b800",
      "metadata": {
        "id": "c392b800"
      },
      "source": [
        "pull the data just to get formatting"
      ]
    },
    {
      "cell_type": "code",
      "execution_count": null,
      "id": "f18074f8",
      "metadata": {
        "id": "f18074f8"
      },
      "outputs": [],
      "source": [
        "# !wget https://storage.googleapis.com/ahw2019/for_malz_and_lanusse.tar.gz\n",
        "# !tar -xzf for_malz_and_lanusse.tar.gz\n",
        "# !mv for_malz_and_lanusse dataset\n",
        "\n",
        "\n",
        "\n",
        "more dataset/readme.txt\n",
        "\n",
        "\n",
        "\n",
        "# list of available catalogs\n",
        "available_os = [\"run_1_4_y10\", \"run_4_38_y10\", \"run_10_92_y10\", \"run_4_34_y10\", \"run_7_61_y10\", \"run_9_86_y10\"]\n",
        "names = [\n",
        "    \"baseline_v1_5_10yrs\",\n",
        "    \"footprint_stuck_rollingv1_5_10yrs\",\n",
        "    \"ddf_heavy_nexp2_v1_6_10yrs\",\n",
        "    \"footprint_newAv1_5_10yrs\",\n",
        "    \"third_obs_pt60v1_5_10yrs\",\n",
        "    \"barebones_v1_6_10yrs\",\n",
        "]\n",
        "os_names = dict(zip(available_os, names))\n",
        "colors = [\"k\", \"plum\", \"cornflowerblue\", \"#2ca02c\", \"gold\", \"tomato\"]\n",
        "os_colors = dict(zip(available_os, colors))\n",
        "\n",
        "\n",
        "# column names of the catalogs\n",
        "names_z=('ID', 'z_true', 'z_phot', 'dz_phot', 'NN', 'N_train')\n",
        "names_phot=(\n",
        "    'ID', 'z_true', \n",
        "    'u', 'u_err',\n",
        "    'g', 'g_err',\n",
        "    'r', 'r_err',\n",
        "    'i', 'i_err',\n",
        "    'z', 'z_err',\n",
        "    'y', 'y_err',\n",
        "    'u-g', 'u-g_err',\n",
        "    'g-r', 'g-r_err',\n",
        "    'r-i', 'r-i_err',\n",
        "    'i-z', 'i-z_err',\n",
        "    'z-y', 'z-y_err',\n",
        ")\n",
        "\n",
        "# load the catalogs\n",
        "catalogs = dict()\n",
        "for os in available_os:\n",
        "    z_cat = pd.read_csv(f\"dataset/{os}/zphot.cat\", names=names_z, delim_whitespace=True, skiprows=1)\n",
        "    phot_cat = pd.read_csv(f\"dataset/{os}/test.cat\", names=names_phot, delim_whitespace=True)\n",
        "    cat = z_cat.merge(phot_cat)\n",
        "    catalogs[os] = cat.dropna()"
      ]
    },
    {
      "cell_type": "markdown",
      "id": "c19b11f7",
      "metadata": {
        "id": "c19b11f7"
      },
      "source": [
        "instantiate the model of the photometric space, train it on the catalogs for LSST with and without CASTOR, and save it (two versions rather than 6 OSs)"
      ]
    },
    {
      "cell_type": "code",
      "execution_count": null,
      "id": "8520d4e2",
      "metadata": {
        "id": "8520d4e2"
      },
      "outputs": [],
      "source": [
        "# first I create a bijector chain\n",
        "# the first bijection is a standard scaler - but I'm not actually using it for standard scaling\n",
        "#     I set the mean and std so that it maps the redshift range (0, 3.2) onto (-5, 5), which is \n",
        "#     the domain of the NeuralSplineCoupling\n",
        "# the second bijection is a NeuralSplineCoupling. I told it to expect 6 conditions,\n",
        "#     which will be the r mag and the galaxy colors\n",
        "bijector = Chain(\n",
        "    StandardScaler(np.atleast_1d(1.6), np.atleast_1d(0.32)),\n",
        "    NeuralSplineCoupling(n_conditions=6)\n",
        ")\n",
        "\n",
        "# I set the latent distribution to a Uniform over (-5, 5)\n",
        "# this range was chosen to match the NeuralSplineCoupling domain\n",
        "# I chose a Uniform since all of the redshifts are drawn from a compact domain\n",
        "latent = Uniform((-5, 5))\n",
        "\n",
        "# create a dictionary that will hold all the ensembles\n",
        "ensembles = dict()\n",
        "\n",
        "# create the baseline flows\n",
        "for os in available_os:\n",
        "\n",
        "    # the data column is the one that is sampled and transformed by the flow\n",
        "    data_columns = [\"z_true\"]\n",
        "    # the conditional columns are the columns that the flow is conditioned on\n",
        "    conditional_columns = [\"r\", \"u-g\", \"g-r\", \"r-i\", \"i-z\", \"z-y\"]\n",
        "\n",
        "    # save some info with the flow\n",
        "    info = f\"Models z_true conditioned on galaxy colors and r mag from os {os}. K=16\"\n",
        "\n",
        "    # instantiate and save the flow\n",
        "    flowEns = FlowEnsemble(data_columns = data_columns, \n",
        "                           conditional_columns = conditional_columns,\n",
        "                           bijector = bijector,\n",
        "                           latent = latent,\n",
        "                           info = info,\n",
        "                           N = 10)\n",
        "\n",
        "    ensembles[os] = flowEns\n",
        "    \n",
        "    \n",
        "    \n",
        "    \n",
        "%%time\n",
        "\n",
        "for os, ens in ensembles.items():\n",
        "    \n",
        "    # get the data and make a train and test set\n",
        "    cat = catalogs[os]\n",
        "    cat_train = cat.sample(frac = 0.8)\n",
        "    cat_test = cat.drop(cat_train.index)\n",
        "    \n",
        "    # train the flow on the given learning rate schedule\n",
        "    loss1 = ens.train(cat_train, sample_errs=True,\n",
        "                       optimizer = adam(step_size = 1e-3),\n",
        "                       epochs = 100, seed = 123)\n",
        "    loss2 = ens.train(cat_train, sample_errs=True,\n",
        "                       optimizer = adam(step_size = 2e-4),\n",
        "                       epochs = 100, seed = 312)\n",
        "    loss3 = ens.train(cat_train, sample_errs=True,\n",
        "                       optimizer = adam(step_size = 1e-4),\n",
        "                       epochs = 50, seed = 231)\n",
        "    \n",
        "    losses = {fname : # for each flow trained in the ensemble...\n",
        "                  [float(loss) # save the list of training losses\n",
        "                   for lossDict in [loss1, loss2, loss3]\n",
        "                   for loss in lossDict[fname]]\n",
        "              for fname in loss1}\n",
        "    \n",
        "    # print the train and test loss\n",
        "    train_loss = -np.mean(ens.log_prob(cat_train))\n",
        "    test_loss = -np.mean(ens.log_prob(cat_test))\n",
        "    print(os, train_loss, test_loss)\n",
        "    \n",
        "    # save the ensemble\n",
        "    ens.save(f\"trained_flows/pzflow_ensemble_for_{os}.pkl\")\n",
        "    # and the losses\n",
        "    with open(f\"trained_flows/losses_for_{os}.pkl\", \"wb\") as file:\n",
        "        pickle.dump({\"losses\": losses, \n",
        "                     \"train loss\": train_loss, \n",
        "                     \"test loss\": test_loss},\n",
        "                    file)"
      ]
    },
    {
      "cell_type": "markdown",
      "id": "ab4b8090",
      "metadata": {
        "id": "ab4b8090"
      },
      "source": [
        "# from github/aimalz/TheLastMetric/blob/master/MAFVariationalMutualInformationPzFlow.ipynb"
      ]
    },
    {
      "cell_type": "markdown",
      "id": "d935862c",
      "metadata": {
        "id": "d935862c"
      },
      "source": [
        "open the models of redshift-photometry space and the catalogs"
      ]
    },
    {
      "cell_type": "code",
      "execution_count": null,
      "id": "35f28566",
      "metadata": {
        "id": "35f28566"
      },
      "outputs": [],
      "source": [
        "flows = {}\n",
        "for os in available_os:\n",
        "  flows[os] = Flow(file=f\"trained_flows/flow_for_run_{os}.pkl\")\n",
        "# TODO: need to experiment with different fit parameters because this might be too smooth, also does it account for photometric errors?\n",
        "# TODO: check that draws from flow look like original data\n",
        "\n",
        "\n",
        "# load the catalogs\n",
        "catalogs = dict()\n",
        "for os in available_os:\n",
        "    z_cat = pd.read_csv(f\"dataset/run_{os}/zphot.cat\", names=names_z, delim_whitespace=True, skiprows=1)\n",
        "    phot_cat = pd.read_csv(f\"dataset/run_{os}/test.cat\", names=names_phot, delim_whitespace=True)\n",
        "    cat = z_cat.merge(phot_cat)\n",
        "    catalogs[os] = cat.dropna()\n",
        "    \n",
        "    "
      ]
    },
    {
      "cell_type": "markdown",
      "id": "15e77d45",
      "metadata": {
        "id": "15e77d45"
      },
      "source": [
        "evaluate the posteriors for each galaxy (totally forgot we had to do this)"
      ]
    },
    {
      "cell_type": "code",
      "execution_count": null,
      "id": "197e07f1",
      "metadata": {
        "id": "197e07f1"
      },
      "outputs": [],
      "source": [
        "# # this just makes the posteriors for plotting, not sure why it uses so much memory. . .\n",
        "# tx = np.linspace(0,3.5,100)\n",
        "# all_logp = {}\n",
        "# for which_os in available_os:\n",
        "#   flow = flows[which_os]\n",
        "#   cat = catalogs[which_os]\n",
        "#   logp = flow.posterior(flow.info[\"condition_scaler\"](cat), column=\"z_true\", grid=tx)\n",
        "#   all_logp[which_os] = logp\n",
        "    \n",
        "    "
      ]
    },
    {
      "cell_type": "code",
      "execution_count": null,
      "id": "5ff727de",
      "metadata": {
        "id": "5ff727de"
      },
      "outputs": [],
      "source": [
        "all_milb = {}\n",
        "for which_os in available_os:\n",
        "  phot_cat = catalogs[which_os]\n",
        "\n",
        "  mutual_information_lower_bound = flows[which_os].log_prob(flows[which_os].info[\"condition_scaler\"](phot_cat))\n",
        "  all_milb[which_os] = mutual_information_lower_bound\n",
        "  print((os_names[which_os], np.sum(mutual_information_lower_bound)))\n",
        "# TODO: make this an actual expected value rather than just sum\n",
        "# also, shouldn't it be sum of exponential of metric value, since it should never penalize a negative value?"
      ]
    },
    {
      "cell_type": "markdown",
      "id": "7bde34f5",
      "metadata": {
        "id": "7bde34f5"
      },
      "source": [
        "KEY PLOT: distribution of metric values for same galaxies with and without CASTOR"
      ]
    },
    {
      "cell_type": "code",
      "execution_count": null,
      "id": "6d65b56f",
      "metadata": {
        "id": "6d65b56f"
      },
      "outputs": [],
      "source": [
        "# surprisingly not so different from one another\n",
        "for which_os in available_os:\n",
        "  mutual_information_lower_bound = all_milb[which_os].flatten()\n",
        "  print((np.mean(mutual_information_lower_bound), np.std(mutual_information_lower_bound)))\n",
        "  hist(mutual_information_lower_bound, bins=np.linspace(-16, 5, 100), alpha=0.5, histtype='step', \n",
        "       color=os_colors[which_os], label=os_names[which_os], density=False)\n",
        "  xlabel(r'$\\mathbb{E}_{z, x_{phot}} \\left[ q_\\theta(z | x_{phot}) \\right]$')\n",
        "# xlim(-10., 5.)\n",
        "legend(loc='upper left')\n",
        "# semilogy()"
      ]
    },
    {
      "cell_type": "markdown",
      "id": "ca64b1a0",
      "metadata": {
        "id": "ca64b1a0"
      },
      "source": [
        "KEY PLOT: look at per-galaxy metric values as a function of redshift, then photometry"
      ]
    },
    {
      "cell_type": "code",
      "execution_count": null,
      "id": "6b500416",
      "metadata": {
        "id": "6b500416"
      },
      "outputs": [],
      "source": [
        "fig, axs = plt.subplots(len(available_os), 1, figsize=(5, 5*len(available_os)))\n",
        "for i, which_os in enumerate(available_os):\n",
        "  axs[i].hist2d(z_cats[which_os]['z_true'], all_milb[which_os].flatten(), bins=[np.linspace(0., 3., 50), np.linspace(-5., 5., 100)])\n",
        "  axs[i].set_xlabel('redshift')\n",
        "  axs[i].set_ylabel(r'$\\mathbb{E}_{z, x_{phot}} \\left[ q_\\theta(z | x_{phot}) \\right]$')\n",
        "  axs[i].set_title(os_names[which_os])\n",
        "# they're different, but not visibly so\n",
        "# TODO: plot violins of metric as a function of binned redshift so they're all on one set of axes? or quantiles because outlers? or box/whisker https://matplotlib.org/stable/gallery/pyplots/boxplot_demo_pyplot.html?\n",
        "# TODO: normalize within redshift bins to get these on one set of axes?\n",
        "# TODO sort of want sum of metric values in redshift bins, no?"
      ]
    },
    {
      "cell_type": "markdown",
      "id": "680f3fbc",
      "metadata": {
        "id": "680f3fbc"
      },
      "source": [
        "take expected value of the approximated posteriors, which is the mutual information lower bound"
      ]
    },
    {
      "cell_type": "code",
      "execution_count": null,
      "id": "c0c46d85",
      "metadata": {
        "id": "c0c46d85"
      },
      "outputs": [],
      "source": [
        "# something isn't right about the autocalculation of moments so doing it by hand\n",
        "def calc_moment(vals, k):\n",
        "  n = len(vals)\n",
        "  outval = np.sum(vals**k) / float(n)\n",
        "  return float(outval)\n",
        "\n",
        "which_moments = range(0, 5)\n",
        "moment_res = {}\n",
        "for which_os in available_os:\n",
        "  # print((np.mean(all_milb[which_os]), np.std(all_milb[which_os])))\n",
        "  moment_res[which_os] = []\n",
        "  for i in which_moments:\n",
        "    moment_res[which_os].append(calc_moment(all_milb[which_os], k=i))#sps.mstats.moment(all_milb[which_os], moment=which_moments[i], axis=0))\n",
        "# print(moment_res)"
      ]
    },
    {
      "cell_type": "markdown",
      "id": "1a67574d",
      "metadata": {
        "id": "1a67574d"
      },
      "source": [
        "# from github/aimalz/TheLastMetric/blob/master/FigureTLMvsRedshift.ipynb"
      ]
    },
    {
      "cell_type": "markdown",
      "id": "ea32a245",
      "metadata": {
        "id": "ea32a245"
      },
      "source": [
        "KEY PLOT: distribution of TLM values with and without CASTOR including model uncertainty"
      ]
    },
    {
      "cell_type": "code",
      "execution_count": null,
      "id": "c9f064b1",
      "metadata": {
        "id": "c9f064b1"
      },
      "outputs": [],
      "source": [
        "%pylab inline\n",
        "from utils import load_data, compute_last_metric\n",
        "import corner\n",
        "from pzflow import Flow\n",
        "\n",
        "\n",
        "# Loading data\n",
        "z_cats, phot_cats, available_os, os_names, os_colors = load_data()\n",
        "\n",
        "\n",
        "# Loading pre-trained flows\n",
        "flows = {}\n",
        "for os in available_os:\n",
        "  flows[os] = [Flow(file=f\"trained_flows/flow_for_run_{os}_%d.pkl\"%(i+1) ) for i in range(10)]\n",
        "\n",
        "\n",
        "# Computing metric for each observing strategy\n",
        "all_tlm = {}\n",
        "for which_os in available_os:\n",
        "  all_tlm[which_os] = np.stack([(compute_last_metric(f,\n",
        "                                          phot_cats[which_os],\n",
        "                                          z_cats[which_os], entropy_nbins=60)) for f in flows[which_os] ], axis=0)\n",
        "  print((os_names[which_os], np.mean(all_tlm[which_os]), np.std(np.mean(all_tlm[which_os], axis=1))))\n",
        "    \n",
        "    \n",
        "    \n",
        "\n",
        "figure(figsize=(7,5))\n",
        "for which_os in available_os:\n",
        "  hist(np.mean(all_tlm[which_os],axis=1), 32, range=[2.95, 3.35], alpha=0.6,\n",
        "       color=os_colors[which_os], label=os_names[which_os])\n",
        "  axvline(np.mean(all_tlm[which_os]), color=os_colors[which_os], linewidth=2)\n",
        "legend(ncol=2)\n",
        "xlabel(chr(0x05ea))\n",
        "savefig('metrics.pdf', bbox_inches = 'tight', pad_inches = 0 )"
      ]
    }
  ],
  "metadata": {
    "kernelspec": {
      "display_name": "Python 3 (ipykernel)",
      "language": "python",
      "name": "python3"
    },
    "language_info": {
      "codemirror_mode": {
        "name": "ipython",
        "version": 3
      },
      "file_extension": ".py",
      "mimetype": "text/x-python",
      "name": "python",
      "nbconvert_exporter": "python",
      "pygments_lexer": "ipython3",
      "version": "3.9.12"
    },
    "colab": {
      "provenance": [],
      "include_colab_link": true
    },
    "gpuClass": "standard"
  },
  "nbformat": 4,
  "nbformat_minor": 5
}