{
  "nbformat": 4,
  "nbformat_minor": 0,
  "metadata": {
    "colab": {
      "provenance": [],
      "authorship_tag": "ABX9TyMHDExZKChZmSqnYDf/ZnYN",
      "include_colab_link": true
    },
    "kernelspec": {
      "name": "python3",
      "display_name": "Python 3"
    },
    "language_info": {
      "name": "python"
    }
  },
  "cells": [
    {
      "cell_type": "markdown",
      "metadata": {
        "id": "view-in-github",
        "colab_type": "text"
      },
      "source": [
        "<a href=\"https://colab.research.google.com/github/aimalz/CASTORpz/blob/main/Stratifying_Information.ipynb\" target=\"_parent\"><img src=\"https://colab.research.google.com/assets/colab-badge.svg\" alt=\"Open In Colab\"/></a>"
      ]
    },
    {
      "cell_type": "markdown",
      "source": [
        "# Stratifying Information\n",
        "\n",
        "##Preliminaries"
      ],
      "metadata": {
        "id": "oawfebF7zMAm"
      }
    },
    {
      "cell_type": "code",
      "execution_count": null,
      "metadata": {
        "id": "NXSVW-OKzEcE"
      },
      "outputs": [],
      "source": [
        "from google.colab import drive\n",
        "drive.mount('/content/drive')\n",
        "\n",
        "from astropy.table import Table\n",
        "prepend = '/content/drive/MyDrive/Research/CASTORpz/'\n",
        "unp = Table.read(prepend+\"unperturbed_mags.fits\")\n",
        "print(len(unp))\n",
        "\n",
        "# !pip install --upgrade \"jax[cuda]\" -f https://storage.googleapis.com/jax-releases/jax_cuda_releases.html\n",
        "!pip install jaxlib==0.4.16\n",
        "!pip install jax==0.4.16\n",
        "\n",
        "# jaxlib==0.3.22+cuda11.cudnn82\n",
        "\n",
        "# !pip install jax[cuda]==0.4.17+cuda12.cudnn89 -f https://storage.googleapis.com/jax-releases/jax_cuda_releases.html\n",
        "\n",
        "# !pip install \"jax[cuda]\"==0.4.16\n",
        "!nvcc --version\n",
        "\n",
        "!pip install astropy pzflow corner\n",
        "\n",
        "from pzflow import Flow\n",
        "import jax.numpy as jnp\n",
        "import pandas as pd\n",
        "import numpy as np\n",
        "import pickle\n",
        "import corner\n",
        "import matplotlib.pyplot as plt\n",
        "from astropy.table import Table\n",
        "from pzflow import Flow, FlowEnsemble\n",
        "from pzflow.distributions import Uniform\n",
        "from pzflow.bijectors import Chain, StandardScaler, NeuralSplineCoupling, ColorTransform, InvSoftplus, RollingSplineCoupling, ShiftBounds"
      ]
    },
    {
      "cell_type": "markdown",
      "source": [
        "## Define Catalogs and Magnitudes"
      ],
      "metadata": {
        "id": "kXfEAYfozx81"
      }
    },
    {
      "cell_type": "code",
      "source": [
        "cd /content/drive/MyDrive/Research/CASTORpz\n",
        "\n",
        "unp = Table.read(prepend+\"unperturbed_mags.fits\").to_pandas()#.set_index('ID')\n",
        "mock = Table.read(prepend+\"ext_phot.fits\").to_pandas()#.set_index('ID')\n",
        "\n",
        "names_phot = [\"ID\", \"photoz\",\n",
        "              \"LSST_g_MAG\", \"LSST_g_MAGERR\",\n",
        "              \"LSST_r_MAG\", \"LSST_r_MAGERR\",\n",
        "              \"LSST_i_MAG\", \"LSST_i_MAGERR\",\n",
        "              \"LSST_z_MAG\", \"LSST_z_MAGERR\",\n",
        "              \"castor_uv_MAG\", \"castor_uv_MAGERR\",\n",
        "              \"castor_u_MAG\", \"castor_u_MAGERR\",\n",
        "              \"castor_g_MAG\", \"castor_g_MAGERR\",\n",
        "              \"Euclid_VIS_MAG\",\n",
        "              'Euclid_Y_MAG','Euclid_J_MAG','Euclid_H_MAG',\n",
        "              'Roman_106_MAG',\n",
        "              'Roman_129_MAG','Roman_158_MAG',\n",
        "              'Roman_184_MAG']\n",
        "\n",
        "\n",
        "\n",
        "available_os = [\"CASTOR-only\", \"LSST-only\", \"Euclid-only\", #\"Roman-only\",\n",
        "\"LSST+CASTOR\", \"Euclid+CASTOR\", #\"Roman+CASTOR\",\n",
        "\"Euclid+LSST\", \"Euclid+LSST+CASTOR\"\n",
        "]\n",
        "\n",
        "Roman_os = [\"Roman-only\", \"Roman+CASTOR\", \"Roman+Euclid+LSST+CASTOR\", \"Roman+LSST\"]\n",
        "\n",
        "available_os = available_os + Roman_os\n",
        "print(available_os)\n",
        "\n",
        "names = available_os"
      ],
      "metadata": {
        "id": "8Ewho26czV9u"
      },
      "execution_count": null,
      "outputs": []
    },
    {
      "cell_type": "code",
      "source": [
        "# load data\n",
        "\n",
        "# ask Bobby about this\n",
        "\n",
        "def getTrueY(test_cat, mag_col_names, y_col_name):\n",
        "    test_cat = Table(test_cat, masked=True, copy=True)\n",
        "    # remove nans\n",
        "    for col in mag_col_names:\n",
        "        test_cat[col].mask = np.isnan(test_cat[col].data) | test_cat[col].mask\n",
        "        test_cat = test_cat[~test_cat[col].mask] # then remove nans from test set\n",
        "\n",
        "    true_y = test_cat[y_col_name]\n",
        "    return true_y.filled()"
      ],
      "metadata": {
        "id": "t4jtiOfMzecC"
      },
      "execution_count": null,
      "outputs": []
    },
    {
      "cell_type": "code",
      "source": [
        "available_os = ['LSST-only',\n",
        "                'CASTOR-only',\n",
        "                'Euclid+LSST',\n",
        "                'LSST+CASTOR',\n",
        "                'Roman+Euclid+LSST',\n",
        "                'Roman+Euclid+LSST+CASTOR']\n",
        "\n",
        "os_combo_labels = {'LSST-only': 'LSST',\n",
        "                  'CASTOR-only': 'CASTOR',\n",
        "                  'LSST+CASTOR': 'LSST+CASTOR',\n",
        "                  'Roman+LSST': 'LSST+Roman',\n",
        "                  # 'Roman+LSST+CASTOR' : 'LSST+Roman+CASTOR', #(currently training, will be in Mar_experiments)\n",
        "                  'Roman+Euclid+LSST': 'LSST+Roman+Euclid',\n",
        "                  'Roman+Euclid+LSST+CASTOR': 'LSST+Roman+Euclid+CASTOR'}"
      ],
      "metadata": {
        "id": "J5rCGqXUzgGi"
      },
      "execution_count": null,
      "outputs": []
    },
    {
      "cell_type": "code",
      "source": [
        "mock_cat = pd.merge(mock, unp[['ID',\"Euclid_VIS_MAG\"]], on='ID')\n",
        "CASTOR_baseline = Table.from_pandas(mock_cat)"
      ],
      "metadata": {
        "id": "6W0KfqdIzmBV"
      },
      "execution_count": null,
      "outputs": []
    },
    {
      "cell_type": "code",
      "source": [
        "# put data in expected format for TLM\n",
        "\n",
        "LSST_g_mag = getTrueY(test_cat=CASTOR_baseline, mag_col_names=names_phot, y_col_name=\"LSST_g_MAG\")\n",
        "LSST_r_mag = getTrueY(test_cat=CASTOR_baseline, mag_col_names=names_phot, y_col_name=\"LSST_r_MAG\")\n",
        "LSST_i_mag = getTrueY(test_cat=CASTOR_baseline, mag_col_names=names_phot, y_col_name=\"LSST_i_MAG\")\n",
        "LSST_z_mag = getTrueY(test_cat=CASTOR_baseline, mag_col_names=names_phot, y_col_name=\"LSST_z_MAG\")\n",
        "\n",
        "# LSST_g_mag_ERR = getTrueY(test_cat=CASTOR_baseline, mag_col_names=names_phot, y_col_name=\"LSST_g_MAGERR\")\n",
        "# LSST_r_mag_ERR = getTrueY(test_cat=CASTOR_baseline, mag_col_names=names_phot, y_col_name=\"LSST_r_MAGERR\")\n",
        "# LSST_i_mag_ERR = getTrueY(test_cat=CASTOR_baseline, mag_col_names=names_phot, y_col_name=\"LSST_i_MAGERR\")\n",
        "# LSST_z_mag_ERR = getTrueY(test_cat=CASTOR_baseline, mag_col_names=names_phot, y_col_name=\"LSST_z_MAGERR\")\n",
        "\n",
        "CASTOR_g_mag = getTrueY(test_cat=CASTOR_baseline, mag_col_names=names_phot, y_col_name=\"castor_g_MAG\")\n",
        "CASTOR_u_mag = getTrueY(test_cat=CASTOR_baseline, mag_col_names=names_phot, y_col_name=\"castor_u_MAG\")\n",
        "CASTOR_uv_mag = getTrueY(test_cat=CASTOR_baseline, mag_col_names=names_phot, y_col_name=\"castor_uv_MAG\")\n",
        "\n",
        "# CASTOR_g_mag_ERR = getTrueY(test_cat=CASTOR_baseline, mag_col_names=names_phot, y_col_name=\"castor_g_MAGERR\")\n",
        "# CASTOR_u_mag_ERR = getTrueY(test_cat=CASTOR_baseline, mag_col_names=names_phot, y_col_name=\"castor_u_MAGERR\")\n",
        "# CASTOR_uv_mag_ERR = getTrueY(test_cat=CASTOR_baseline, mag_col_names=names_phot, y_col_name=\"castor_uv_MAGERR\")\n",
        "\n",
        "Euclid_VIS_mag = getTrueY(test_cat=CASTOR_baseline, mag_col_names=names_phot, y_col_name=\"Euclid_VIS_MAG\")\n",
        "Euclid_J_mag = getTrueY(test_cat=CASTOR_baseline, mag_col_names=names_phot, y_col_name=\"Euclid_J_MAG\")\n",
        "Euclid_H_mag = getTrueY(test_cat=CASTOR_baseline, mag_col_names=names_phot, y_col_name=\"Euclid_H_MAG\")\n",
        "Euclid_Y_mag = getTrueY(test_cat=CASTOR_baseline, mag_col_names=names_phot, y_col_name=\"Euclid_Y_MAG\")\n",
        "\n",
        "# Roman - only a subset of the Roman filters are available?\n",
        "\n",
        "# Roman_062_mag = getTrueY(test_cat=CASTOR_baseline, mag_col_names=names_phot, y_col_name='Roman_062_MAG')\n",
        "# Roman_087_mag = getTrueY(test_cat=CASTOR_baseline, mag_col_names=names_phot, y_col_name='Roman_087_MAG')\n",
        "Roman_106_mag = getTrueY(test_cat=CASTOR_baseline, mag_col_names=names_phot, y_col_name='Roman_106_MAG')\n",
        "\n",
        "Roman_129_mag = getTrueY(test_cat=CASTOR_baseline, mag_col_names=names_phot, y_col_name='Roman_129_MAG')\n",
        "# Roman_146_mag = getTrueY(test_cat=CASTOR_baseline, mag_col_names=names_phot, y_col_name='Roman_146_MAG')\n",
        "Roman_158_mag = getTrueY(test_cat=CASTOR_baseline, mag_col_names=names_phot, y_col_name='Roman_158_MAG')\n",
        "\n",
        "Roman_184_mag = getTrueY(test_cat=CASTOR_baseline, mag_col_names=names_phot, y_col_name='Roman_184_MAG')\n",
        "# Roman_213_mag = getTrueY(test_cat=CASTOR_baseline, mag_col_names=names_phot, y_col_name='Roman_213_MAG')\n",
        "\n",
        "ID = getTrueY(test_cat=CASTOR_baseline, mag_col_names=names_phot, y_col_name=\"ID\")\n",
        "z_true = getTrueY(test_cat=CASTOR_baseline, mag_col_names=names_phot, y_col_name=\"photoz\")"
      ],
      "metadata": {
        "id": "K-1KP95wzn_Y"
      },
      "execution_count": null,
      "outputs": []
    },
    {
      "cell_type": "code",
      "source": [
        "catalogs = dict()\n",
        "catalogs['LSST+CASTOR'] = pd.DataFrame({'CASTOR_ID': ID, 'z_true': z_true,\n",
        "                             'r': LSST_r_mag,\n",
        "                             'g-r': LSST_g_mag - LSST_r_mag,\n",
        "                             'r-i': LSST_r_mag - LSST_i_mag,\n",
        "                             'i-z': LSST_i_mag - LSST_z_mag,\n",
        "                             'uv-u': CASTOR_uv_mag - CASTOR_u_mag,\n",
        "                             'u-g': CASTOR_u_mag - CASTOR_g_mag\n",
        "                      }).set_index('CASTOR_ID').dropna()\n",
        "catalogs['LSST-only'] = pd.DataFrame({'CASTOR_ID': ID, 'z_true': z_true,\n",
        "                             'r': LSST_r_mag,\n",
        "                             'g-r': LSST_g_mag - LSST_r_mag,\n",
        "                             'r-i': LSST_r_mag - LSST_i_mag,\n",
        "                             'i-z': LSST_i_mag - LSST_z_mag\n",
        "                      }).set_index('CASTOR_ID').dropna()\n",
        "catalogs['CASTOR-only'] = pd.DataFrame({'CASTOR_ID': ID, 'z_true': z_true,\n",
        "                             'g': CASTOR_g_mag,\n",
        "                             'uv-u': CASTOR_uv_mag - CASTOR_u_mag,\n",
        "                             'u-g': CASTOR_u_mag - CASTOR_g_mag\n",
        "                      }).set_index('CASTOR_ID').dropna()\n",
        "catalogs['Euclid-only'] = pd.DataFrame({'CASTOR_ID': ID, 'z_true': z_true,\n",
        "                             'v': Euclid_VIS_mag,\n",
        "                             'v-y': Euclid_VIS_mag - Euclid_Y_mag,\n",
        "                             'y-j': Euclid_Y_mag - Euclid_J_mag,\n",
        "                             'j-h': Euclid_J_mag - Euclid_H_mag\n",
        "                      }).set_index('CASTOR_ID').dropna()\n",
        "\n",
        "catalogs['Euclid+CASTOR'] = pd.DataFrame({'CASTOR_ID': ID, 'z_true': z_true,\n",
        "                             'g': CASTOR_g_mag,\n",
        "                             'uv-u': CASTOR_uv_mag - CASTOR_u_mag,\n",
        "                             'u-g': CASTOR_u_mag - CASTOR_g_mag,\n",
        "                             'v': Euclid_VIS_mag,\n",
        "                             'v-y': Euclid_VIS_mag - Euclid_Y_mag,\n",
        "                             'y-j': Euclid_Y_mag - Euclid_J_mag,\n",
        "                             'j-h': Euclid_J_mag - Euclid_H_mag\n",
        "                      }).set_index('CASTOR_ID').dropna()\n",
        "catalogs['Euclid+LSST'] = pd.DataFrame({'CASTOR_ID': ID, 'z_true': z_true,\n",
        "                              'r': LSST_r_mag,\n",
        "                             'g-r': LSST_g_mag - LSST_r_mag,\n",
        "                             'r-i': LSST_r_mag - LSST_i_mag,\n",
        "                             'i-z': LSST_i_mag - LSST_z_mag,\n",
        "                             'v': Euclid_VIS_mag,\n",
        "                             'v-y': Euclid_VIS_mag - Euclid_Y_mag,\n",
        "                             'y-j': Euclid_Y_mag - Euclid_J_mag,\n",
        "                             'j-h': Euclid_J_mag - Euclid_H_mag\n",
        "                      }).set_index('CASTOR_ID').dropna()\n",
        "catalogs['Euclid+LSST+CASTOR'] = pd.DataFrame({'CASTOR_ID': ID, 'z_true': z_true,\n",
        "                              'r': LSST_r_mag,\n",
        "                             'g-r': LSST_g_mag - LSST_r_mag,\n",
        "                             'r-i': LSST_r_mag - LSST_i_mag,\n",
        "                             'i-z': LSST_i_mag - LSST_z_mag,\n",
        "                             'v': Euclid_VIS_mag,\n",
        "                             'v-y': Euclid_VIS_mag - Euclid_Y_mag,\n",
        "                             'y-j': Euclid_Y_mag - Euclid_J_mag,\n",
        "                             'j-h': Euclid_J_mag - Euclid_H_mag,\n",
        "                             'g': CASTOR_g_mag,\n",
        "                             'uv-u': CASTOR_uv_mag - CASTOR_u_mag,\n",
        "                             'u-g': CASTOR_u_mag - CASTOR_g_mag\n",
        "                      }).set_index('CASTOR_ID').dropna()\n",
        "\n",
        "catalogs[\"Roman+Euclid+LSST+CASTOR\"] = pd.DataFrame({'CASTOR_ID': ID, 'z_true': z_true,\n",
        "                             'r': LSST_r_mag,\n",
        "                             'g-r': LSST_g_mag - LSST_r_mag,\n",
        "                             'r-i': LSST_r_mag - LSST_i_mag,\n",
        "                             'i-z': LSST_i_mag - LSST_z_mag,\n",
        "                             'v': Euclid_VIS_mag,\n",
        "                             'v-y': Euclid_VIS_mag - Euclid_Y_mag,\n",
        "                             'y-j': Euclid_Y_mag - Euclid_J_mag,\n",
        "                             'j-h': Euclid_J_mag - Euclid_H_mag,\n",
        "                             'g': CASTOR_g_mag,\n",
        "                             'uv-u': CASTOR_uv_mag - CASTOR_u_mag,\n",
        "                             'u-g': CASTOR_u_mag - CASTOR_g_mag,\n",
        "                             '106': Roman_106_mag,\n",
        "                             '129 - 106': Roman_129_mag - Roman_106_mag,\n",
        "                             '158-129': Roman_158_mag - Roman_129_mag,\n",
        "                             '184-158': Roman_184_mag - Roman_158_mag\n",
        "                      }).set_index('CASTOR_ID').dropna()\n",
        "\n",
        "catalogs[\"Roman+Euclid+LSST\"] = pd.DataFrame({'CASTOR_ID': ID, 'z_true': z_true,\n",
        "                             'r': LSST_r_mag,\n",
        "                             'g-r': LSST_g_mag - LSST_r_mag,\n",
        "                             'r-i': LSST_r_mag - LSST_i_mag,\n",
        "                             'i-z': LSST_i_mag - LSST_z_mag,\n",
        "                             'v': Euclid_VIS_mag,\n",
        "                             'v-y': Euclid_VIS_mag - Euclid_Y_mag,\n",
        "                             'y-j': Euclid_Y_mag - Euclid_J_mag,\n",
        "                             'j-h': Euclid_J_mag - Euclid_H_mag,\n",
        "                             '106': Roman_106_mag,\n",
        "                             '129 - 106': Roman_129_mag - Roman_106_mag,\n",
        "                             '158-129': Roman_158_mag - Roman_129_mag,\n",
        "                             '184-158': Roman_184_mag - Roman_158_mag\n",
        "                      }).set_index('CASTOR_ID').dropna()"
      ],
      "metadata": {
        "id": "ELulNNfp0DdH"
      },
      "execution_count": null,
      "outputs": []
    },
    {
      "cell_type": "markdown",
      "source": [
        "## Read Pre-trained Flows"
      ],
      "metadata": {
        "id": "FNJMmfSp0Ec8"
      }
    },
    {
      "cell_type": "code",
      "source": [
        "available_os = ['LSST-only',\n",
        "                'CASTOR-only',\n",
        "                'Euclid+LSST',\n",
        "                'LSST+CASTOR',\n",
        "                'Roman+Euclid+LSST',\n",
        "                'Roman+Euclid+LSST+CASTOR']\n",
        "\n",
        "flows = {}\n",
        "for os in available_os:\n",
        "  flows[os] = FlowEnsemble(file=f\"Oct_flows_draftpzflow_ensemble_for_{os}.pkl\")\n",
        "\n",
        "just_tav = {}\n",
        "for os in available_os:\n",
        "  just_tav[os] = flows[os].log_prob(catalogs[os])"
      ],
      "metadata": {
        "id": "xCPGwovu0GTn"
      },
      "execution_count": null,
      "outputs": []
    },
    {
      "cell_type": "markdown",
      "source": [
        "## Dropping Bad flows here, but commenting out until I/we have a chance to investigate flow errors a bit more"
      ],
      "metadata": {
        "id": "1-4lQEXk3Un9"
      }
    },
    {
      "cell_type": "code",
      "source": [
        "# losses = {}\n",
        "# for os in available_os:\n",
        "#   with (open(f\"losses_for_{os}.pkl\", 'rb')) as openfile:\n",
        "#     losses[os] = pd.read_pickle(openfile)\n",
        "\n",
        "# flow_list = list(np.linspace(0, 29, 30).astype(int))\n",
        "# bad_flows = {}\n",
        "\n",
        "# for os in available_os:\n",
        "#   bad_flows_list = []\n",
        "#   for flow in flow_list:\n",
        "#     if np.sum(np.isinf(np.array(losses[os]['losses'][f\"Flow {flow}\"]))) > 0:\n",
        "#       bad_flows_list.append(flow)\n",
        "#     bad_flows[os] = bad_flows_list"
      ],
      "metadata": {
        "id": "bnAivyXZ3aSj"
      },
      "execution_count": null,
      "outputs": []
    },
    {
      "cell_type": "code",
      "source": [
        "# just_tav_ensemble = {}\n",
        "# for os in available_os:\n",
        "#   just_tav_ensemble[os] = flows[os].log_prob(catalogs[os], returnEnsemble = True)"
      ],
      "metadata": {
        "id": "NdjN-jCk3dTx"
      },
      "execution_count": null,
      "outputs": []
    },
    {
      "cell_type": "code",
      "source": [
        "# new_tav = {}\n",
        "\n",
        "# for os in available_os:\n",
        "#   new_tav[os] = np.delete(just_tav_ensemble[os], bad_flows[os], axis = 1)"
      ],
      "metadata": {
        "id": "RifLFjX_3fSf"
      },
      "execution_count": null,
      "outputs": []
    },
    {
      "cell_type": "markdown",
      "source": [
        "## Existing Attempts to Stratify by Information Metric"
      ],
      "metadata": {
        "id": "DEyqLeih0b3i"
      }
    },
    {
      "cell_type": "code",
      "source": [
        "least_improved_Euclid = np.argsort((np.abs(just_tav['LSST-only'] - just_tav['Euclid+LSST'])))[::-1]\n",
        "least_improved_CASTOR = np.argsort((np.abs(just_tav['LSST-only'] - just_tav['LSST+CASTOR'])))[::-1]\n",
        "\n",
        "most_improved_Euclid = np.argsort((np.abs(just_tav['LSST-only'] - just_tav['Euclid+LSST'])))\n",
        "most_improved_CASTOR = np.argsort((np.abs(just_tav['LSST-only'] - just_tav['LSST+CASTOR'])))\n",
        "\n",
        "plt.hist(np.abs(just_tav['LSST-only'] - just_tav['Euclid+LSST']), alpha=0.25, label= 'Euclid + LSST', density=True, bins=np.linspace(0, 4, 100))\n",
        "plt.hist(np.abs(just_tav['LSST-only'] - just_tav['LSST+CASTOR']), alpha=0.25, label= 'Euclid + LSST', density=True, bins=np.linspace(0, 4, 100))\n",
        "\n",
        "plt.legend()\n",
        "plt.xlim(0, 4)\n",
        "plt.xlabel(r'$\\Delta$' + chr(0x05ea)) #r'$\\mathbb{E}_{z, x_{phot}} \\left[ q_\\theta(z | x_{phot}) \\right]$')\n",
        "plt.yticks([])\n",
        "plt.show()"
      ],
      "metadata": {
        "id": "88zb2l4r0fwb"
      },
      "execution_count": null,
      "outputs": []
    },
    {
      "cell_type": "code",
      "source": [
        "worst_galaxies_Euclid = np.argsort((np.abs(just_tav['Euclid+LSST'])))[::-1][0:1000]\n",
        "worst_galaxies_CASTOR = np.argsort((np.abs(just_tav['LSST+CASTOR'])))[::-1][0:1000]\n",
        "\n",
        "best_galaxies_Euclid = np.argsort((np.abs(just_tav['Euclid+LSST'])))[0:1000]\n",
        "best_galaxies_CASTOR = np.argsort((np.abs(just_tav['LSST+CASTOR'])))[0:1000]"
      ],
      "metadata": {
        "id": "L4dVzz9P0kai"
      },
      "execution_count": null,
      "outputs": []
    },
    {
      "cell_type": "code",
      "source": [
        "fig, ax = plt.subplots(1, 4, figsize = (18, 4))\n",
        "\n",
        "i=1\n",
        "\n",
        "colors_lsst = ['g-r', 'r-i', 'i-z', 'uv-u', 'u-g']\n",
        "\n",
        "plt.suptitle('Best and Worst Galaxies in LSST+CASTOR (by absolute value of TLM)')\n",
        "\n",
        "for color, ax in zip(colors_lsst, ax.reshape(-1)):\n",
        "  ax.scatter(np.array(catalogs['LSST+CASTOR'][color])[best_galaxies_CASTOR], np.array(catalogs['LSST+CASTOR'][colors_lsst[i]])[best_galaxies_CASTOR], label = 'LSST+CASTOR', marker = '.')\n",
        "  ax.scatter(np.array(catalogs['LSST+CASTOR'][color])[worst_galaxies_CASTOR], np.array(catalogs['LSST+CASTOR'][colors_lsst[i]])[worst_galaxies_CASTOR], label = 'LSST+Euclid', marker = '+', alpha = 0.3)\n",
        "\n",
        "  ax.set_xlabel(color)\n",
        "  ax.set_ylabel(colors_lsst[i])\n",
        "\n",
        "  plt.legend()\n",
        "\n",
        "  i = i + 1"
      ],
      "metadata": {
        "id": "90mhs_ZL0mSO"
      },
      "execution_count": null,
      "outputs": []
    },
    {
      "cell_type": "code",
      "source": [
        "fig, ax = plt.subplots(1, 2, figsize = (8, 4))\n",
        "\n",
        "i=1\n",
        "\n",
        "colors_lsst = ['g-r', 'r-i', 'i-z']\n",
        "\n",
        "plt.suptitle('Best and Worst Galaxies in LSST+Euclid (by absolute value of TLM)')\n",
        "\n",
        "for color, ax in zip(colors_lsst, ax.reshape(-1)):\n",
        "  ax.scatter(np.array(catalogs['Euclid+LSST'][color])[best_galaxies_Euclid], np.array(catalogs['Euclid+LSST'][colors_lsst[i]])[best_galaxies_Euclid], label = 'best', marker = '.')\n",
        "  ax.scatter(np.array(catalogs['Euclid+LSST'][color])[worst_galaxies_Euclid], np.array(catalogs['Euclid+LSST'][colors_lsst[i]])[worst_galaxies_Euclid], label = 'worst', marker = '+', alpha = 0.3)\n",
        "\n",
        "  ax.set_xlabel(color)\n",
        "  ax.set_ylabel(colors_lsst[i])\n",
        "\n",
        "  plt.legend()\n",
        "\n",
        "  i = i + 1"
      ],
      "metadata": {
        "id": "FJIViwtv0oV0"
      },
      "execution_count": null,
      "outputs": []
    },
    {
      "cell_type": "code",
      "source": [
        "worst_galaxies_Euclid = np.argsort((np.abs(just_tav['Euclid+LSST'])))[::-1][0:1000]\n",
        "worst_galaxies_CASTOR = np.argsort((np.abs(just_tav['LSST+CASTOR'])))[::-1][0:1000]\n",
        "\n",
        "best_galaxies_Euclid = np.argsort((np.abs(just_tav['Euclid+LSST'])))[0:1000]\n",
        "best_galaxies_CASTOR = np.argsort((np.abs(just_tav['LSST+CASTOR'])))[0:1000]"
      ],
      "metadata": {
        "id": "N-Qri9MH1Lgo"
      },
      "execution_count": null,
      "outputs": []
    },
    {
      "cell_type": "code",
      "source": [
        "best_galaxies_Euclid = np.argsort((np.abs(just_tav['Euclid+LSST'])))[0:1000]\n",
        "best_galaxies_CASTOR = np.argsort((np.abs(just_tav['LSST+CASTOR'])))[0:1000]"
      ],
      "metadata": {
        "id": "-CoS-NTp25mu"
      },
      "execution_count": null,
      "outputs": []
    },
    {
      "cell_type": "code",
      "source": [
        "print(np.sum(worst_galaxies_Euclid == worst_galaxies_CASTOR))\n",
        "print(np.sum(best_galaxies_Euclid == best_galaxies_CASTOR))"
      ],
      "metadata": {
        "id": "skJObh7d27h9"
      },
      "execution_count": null,
      "outputs": []
    },
    {
      "cell_type": "code",
      "source": [
        "fig, ax = plt.subplots(1, 4, figsize = (18, 4))\n",
        "\n",
        "i=1\n",
        "\n",
        "colors_lsst = ['g-r', 'r-i', 'i-z', 'uv-u', 'u-g']\n",
        "\n",
        "plt.suptitle('Best Galaxies in CASTOR and Euclid (by absolute value of TLM)')\n",
        "\n",
        "for color, ax in zip(colors_lsst, ax.reshape(-1)):\n",
        "  ax.scatter(np.array(catalogs['LSST+CASTOR'][color])[best_galaxies_CASTOR], np.array(catalogs['LSST+CASTOR'][colors_lsst[i]])[best_galaxies_CASTOR], label = 'LSST+CASTOR', marker = '.')\n",
        "  ax.scatter(np.array(catalogs['LSST+CASTOR'][color])[best_galaxies_Euclid], np.array(catalogs['LSST+CASTOR'][colors_lsst[i]])[best_galaxies_Euclid], label = 'LSST+Euclid', marker = '+', alpha = 0.3)\n",
        "\n",
        "  ax.set_xlabel(color)\n",
        "  ax.set_ylabel(colors_lsst[i])\n",
        "\n",
        "  plt.legend()\n",
        "\n",
        "  i = i + 1"
      ],
      "metadata": {
        "id": "J20UcVMP29NN"
      },
      "execution_count": null,
      "outputs": []
    },
    {
      "cell_type": "code",
      "source": [
        "fig, ax = plt.subplots(1, 4, figsize = (18, 4))\n",
        "\n",
        "i=1\n",
        "\n",
        "colors_lsst = ['g-r', 'r-i', 'i-z', 'uv-u', 'u-g']\n",
        "\n",
        "plt.suptitle('Worst Galaxies in CASTOR and Euclid (by absolute value of TLM)')\n",
        "\n",
        "for color, ax in zip(colors_lsst, ax.reshape(-1)):\n",
        "  ax.scatter(np.array(catalogs['LSST+CASTOR'][color])[worst_galaxies_CASTOR], np.array(catalogs['LSST+CASTOR'][colors_lsst[i]])[worst_galaxies_CASTOR], label = 'LSST+CASTOR', marker = '.')\n",
        "  ax.scatter(np.array(catalogs['LSST+CASTOR'][color])[worst_galaxies_Euclid], np.array(catalogs['LSST+CASTOR'][colors_lsst[i]])[worst_galaxies_Euclid], label = 'LSST+Euclid', marker = '+', alpha = 0.3)\n",
        "\n",
        "  ax.set_xlabel(color)\n",
        "  ax.set_ylabel(colors_lsst[i])\n",
        "\n",
        "  plt.legend()\n",
        "\n",
        "  i = i + 1"
      ],
      "metadata": {
        "id": "hCR62prO2_XP"
      },
      "execution_count": null,
      "outputs": []
    },
    {
      "cell_type": "code",
      "source": [
        "worst_galaxies = np.argsort((np.abs(just_tav['LSST-only'] - just_tav['LSST+CASTOR'])))[::-1][0:1000]\n",
        "best_galaxies = np.argsort((np.abs(just_tav['LSST-only'] - just_tav['LSST+CASTOR'])))[0:1000]"
      ],
      "metadata": {
        "id": "uRsI8qGs3B72"
      },
      "execution_count": null,
      "outputs": []
    },
    {
      "cell_type": "code",
      "source": [
        "fig, ax = plt.subplots(1, 4, figsize = (18, 4))\n",
        "\n",
        "i=1\n",
        "\n",
        "colors_lsst = ['g-r', 'r-i', 'i-z', 'uv-u', 'u-g']\n",
        "\n",
        "plt.suptitle('Worst Galaxies in CASTOR and Euclid (by absolute value of TLM)')\n",
        "\n",
        "for color, ax in zip(colors_lsst, ax.reshape(-1)):\n",
        "  ax.scatter(np.array(catalogs['LSST+CASTOR'][color])[best_galaxies], np.array(catalogs['LSST+CASTOR'][colors_lsst[i]])[best_galaxies], label = 'best', marker = '.')\n",
        "  ax.scatter(np.array(catalogs['LSST+CASTOR'][color])[worst_galaxies], np.array(catalogs['LSST+CASTOR'][colors_lsst[i]])[worst_galaxies], label = 'worst', marker = '+', alpha = 0.3)\n",
        "\n",
        "  ax.set_xlabel(color)\n",
        "  ax.set_ylabel(colors_lsst[i])\n",
        "\n",
        "  plt.legend()\n",
        "\n",
        "  i = i + 1\n"
      ],
      "metadata": {
        "id": "BapINAI03D3S"
      },
      "execution_count": null,
      "outputs": []
    },
    {
      "cell_type": "markdown",
      "source": [
        "## Attempts to Stratify by Clustering\n",
        "\n",
        "### DBSCAN seems better than the tSNE experiments, so leaving out the tSNE stuff - might be worth returning to."
      ],
      "metadata": {
        "id": "6aKAiiYx0tTg"
      }
    },
    {
      "cell_type": "code",
      "source": [
        "# attempts to stratify by clustering\n",
        "\n",
        "from sklearn.datasets import make_blobs\n",
        "\n",
        "centers = [[1, 1], [-1, -1], [1, -1]]\n",
        "\n",
        "X, labels_true = make_blobs(\n",
        "    n_samples=750, centers=centers, cluster_std=0.4, random_state=0\n",
        ")"
      ],
      "metadata": {
        "id": "3nT0pMjc0vp8"
      },
      "execution_count": null,
      "outputs": []
    },
    {
      "cell_type": "code",
      "source": [
        "worst_Euclid = np.array([np.array(catalogs['Euclid+LSST']['g-r'])[worst_galaxies_Euclid], np.array(catalogs['Euclid+LSST']['r-i'])[worst_galaxies_Euclid]]).T\n",
        "\n",
        "plt.scatter(worst_Euclid[:,0], worst_Euclid[:,1])"
      ],
      "metadata": {
        "id": "q-o9EqA40zSG"
      },
      "execution_count": null,
      "outputs": []
    },
    {
      "cell_type": "code",
      "source": [
        "from sklearn import metrics\n",
        "from sklearn.cluster import DBSCAN\n",
        "\n",
        "db = DBSCAN(eps=0.06, min_samples=10).fit(worst_Euclid)\n",
        "labels = db.labels_\n",
        "\n",
        "# Number of clusters in labels, ignoring noise if present.\n",
        "n_clusters_ = len(set(labels)) - (1 if -1 in labels else 0)\n",
        "n_noise_ = list(labels).count(-1)\n",
        "\n",
        "print(\"Estimated number of clusters: %d\" % n_clusters_)\n",
        "print(\"Estimated number of noise points: %d\" % n_noise_)"
      ],
      "metadata": {
        "id": "YNpB-Bg001gk"
      },
      "execution_count": null,
      "outputs": []
    },
    {
      "cell_type": "code",
      "source": [
        "unique_labels = set(labels)\n",
        "core_samples_mask = np.zeros_like(labels, dtype=bool)\n",
        "core_samples_mask[db.core_sample_indices_] = True\n",
        "\n",
        "colors = [plt.cm.Spectral(each) for each in np.linspace(0, 1, len(unique_labels))]\n",
        "for k, col in zip(unique_labels, colors):\n",
        "    if k == -1:\n",
        "        # Black used for noise.\n",
        "        col = [0, 0, 0, 1]\n",
        "\n",
        "    class_member_mask = labels == k\n",
        "\n",
        "    xy = worst_Euclid[class_member_mask & core_samples_mask]\n",
        "    plt.plot(\n",
        "        xy[:, 0],\n",
        "        xy[:, 1],\n",
        "        \"o\",\n",
        "        markerfacecolor=tuple(col),\n",
        "        markeredgecolor=\"k\",\n",
        "        markersize=14,\n",
        "    )\n",
        "\n",
        "    xy = worst_Euclid[class_member_mask & ~core_samples_mask]\n",
        "    plt.plot(\n",
        "        xy[:, 0],\n",
        "        xy[:, 1],\n",
        "        \"o\",\n",
        "        markerfacecolor=tuple(col),\n",
        "        markeredgecolor=\"k\",\n",
        "        markersize=6,\n",
        "    )\n",
        "\n",
        "plt.title(f\"Estimated number of clusters: {n_clusters_}\")\n",
        "plt.show()"
      ],
      "metadata": {
        "id": "UThIvIXn03Dy"
      },
      "execution_count": null,
      "outputs": []
    },
    {
      "cell_type": "code",
      "source": [],
      "metadata": {
        "id": "L9s4jdor1Bkm"
      },
      "execution_count": null,
      "outputs": []
    },
    {
      "cell_type": "markdown",
      "source": [
        "## Attempts to Stratify by Quantiles"
      ],
      "metadata": {
        "id": "9lqyjDys3r60"
      }
    },
    {
      "cell_type": "code",
      "source": [
        "import seaborn as sns\n",
        "\n",
        "import scipy.stats"
      ],
      "metadata": {
        "id": "SI8qxyGn3uEh"
      },
      "execution_count": null,
      "outputs": []
    },
    {
      "cell_type": "code",
      "source": [
        "delta_tav_array = np.array([np.abs(just_tav['Euclid+LSST'] - just_tav['LSST-only']), np.abs(just_tav['LSST+CASTOR'] - just_tav['LSST-only'])]).T\n",
        "\n",
        "tav_df = pd.DataFrame(delta_tav_array, columns = ['Euclid', 'CASTOR'])\n",
        "\n",
        "sns.jointplot(data=tav_df.sample(30000), x=\"Euclid\", y=\"CASTOR\",  kind=\"kde\")\n",
        "plt.xlim(0, 4)\n",
        "plt.ylim(0, 4)\n",
        "plt.show()"
      ],
      "metadata": {
        "id": "GEmW0nUG5OWl"
      },
      "execution_count": null,
      "outputs": []
    },
    {
      "cell_type": "code",
      "source": [
        "delta_tav_array = np.array([- just_tav['LSST-only'] + just_tav['LSST+CASTOR'], catalogs['LSST+CASTOR']['uv-u']]).T\n",
        "\n",
        "tav_df_CASTOR = pd.DataFrame(delta_tav_array, columns = ['delta tav', 'uv-u'])\n",
        "\n",
        "sns.jointplot(tav_df_Euclid, x='uv-u', y=\"delta tav\", kind = 'kde')"
      ],
      "metadata": {
        "id": "ERnNdjvw5e9P"
      },
      "execution_count": null,
      "outputs": []
    },
    {
      "cell_type": "code",
      "source": [
        "quants = np.linspace(0,1, 100)\n",
        "print(quants)"
      ],
      "metadata": {
        "id": "bAqkv2q25hCs"
      },
      "execution_count": null,
      "outputs": []
    },
    {
      "cell_type": "code",
      "source": [
        "delta_tav_array = np.array([- just_tav['LSST-only'] + just_tav['LSST+CASTOR'], catalogs['LSST+CASTOR']['u-g'], catalogs['LSST+CASTOR']['g-r'], catalogs['LSST+CASTOR']['z_true']]).T\n",
        "\n",
        "tav_df_CASTOR = pd.DataFrame(delta_tav_array, columns = ['delta tav', 'u-g', 'g-r', 'z_true'])\n",
        "\n",
        "tav_df_CASTOR_z_ge_15 = tav_df_CASTOR[tav_df_CASTOR['z_true'] >= 1.5]\n",
        "tav_df_CASTOR_z_less_15 = tav_df_CASTOR[tav_df_CASTOR['z_true'] < 1.5]\n",
        "\n",
        "\n",
        "quants_ge_15 = scipy.stats.mstats.mquantiles(tav_df_CASTOR_z_ge_15['delta tav'], quants)\n",
        "quants_less_15 = scipy.stats.mstats.mquantiles(tav_df_CASTOR_z_less_15['delta tav'], quants)\n",
        "\n",
        "plt.scatter(quants_less_15, quants_ge_15)\n",
        "\n",
        "x = np.linspace(np.min(quants_ge_15), np.max(quants_ge_15), 10)\n",
        "y = x\n",
        "\n",
        "plt.plot(x, y)\n",
        "plt.xlim(0, 4)\n",
        "plt.ylim(0, 4)\n",
        "\n",
        "plt.title('quantile-quantile plot of $\\Delta$TLM, z > 1.5 vs z < 1.5')\n",
        "plt.xlabel('$\\Delta$TLM z < 1.5')\n",
        "plt.ylabel('$\\Delta$TLM z > 1.5')\n",
        "\n",
        "\n",
        "plt.grid()"
      ],
      "metadata": {
        "id": "VGCf4Y0d5lw4"
      },
      "execution_count": null,
      "outputs": []
    },
    {
      "cell_type": "code",
      "source": [
        "delta_tav_array = np.array([- just_tav['LSST-only'] + just_tav['LSST+CASTOR'], catalogs['LSST+CASTOR']['u-g'], catalogs['LSST+CASTOR']['g-r'], catalogs['LSST+CASTOR']['z_true']]).T\n",
        "\n",
        "tav_df_CASTOR = pd.DataFrame(delta_tav_array, columns = ['delta tav', 'u-g', 'g-r', 'z_true'])\n",
        "\n",
        "tav_df_CASTOR_z_ge_15 = tav_df_CASTOR[tav_df_CASTOR['z_true'] >= 1.5]\n",
        "tav_df_CASTOR_z_less_15 = tav_df_CASTOR[tav_df_CASTOR['z_true'] < 1.5]\n",
        "\n",
        "\n",
        "quants_ge_15 = scipy.stats.mstats.mquantiles(tav_df_CASTOR_z_ge_15['g-r'], quants)\n",
        "quants_less_15 = scipy.stats.mstats.mquantiles(tav_df_CASTOR_z_less_15['g-r'], quants)\n",
        "\n",
        "plt.scatter(quants_less_15, quants_ge_15)\n",
        "\n",
        "x = np.linspace(np.min(quants_ge_15), np.max(quants_ge_15), 10)\n",
        "y = x\n",
        "\n",
        "plt.plot(x, y)\n",
        "plt.xlim(0, 4)\n",
        "plt.ylim(0, 4)\n",
        "\n",
        "plt.grid()\n",
        "\n",
        "plt.title('quantile-quantile plot of g-r, z > 1.5 vs z < 1.5')\n",
        "\n",
        "plt.xlabel('g-r z < 1.5')\n",
        "plt.ylabel('g-r z > 1.5')"
      ],
      "metadata": {
        "id": "u4oLCKBH5oDh"
      },
      "execution_count": null,
      "outputs": []
    },
    {
      "cell_type": "code",
      "source": [
        "delta_tav_array = np.array([- just_tav['LSST-only'] + just_tav['LSST+CASTOR'], catalogs['LSST+CASTOR']['u-g'], catalogs['LSST+CASTOR']['g-r'], catalogs['LSST+CASTOR']['z_true']]).T\n",
        "\n",
        "tav_df_CASTOR = pd.DataFrame(delta_tav_array, columns = ['delta tav', 'u-g', 'g-r', 'z_true'])\n",
        "\n",
        "tav_df_CASTOR_z_ge_15 = tav_df_CASTOR[tav_df_CASTOR['z_true'] >= 1.5]\n",
        "tav_df_CASTOR_z_less_15 = tav_df_CASTOR[tav_df_CASTOR['z_true'] < 1.5]\n",
        "\n",
        "\n",
        "quants_ge_15 = scipy.stats.mstats.mquantiles(tav_df_CASTOR_z_ge_15['u-g'], quants)\n",
        "quants_less_15 = scipy.stats.mstats.mquantiles(tav_df_CASTOR_z_less_15['u-g'], quants)\n",
        "\n",
        "plt.scatter(quants_less_15, quants_ge_15)\n",
        "\n",
        "x = np.linspace(np.min(quants_ge_15), np.max(quants_ge_15), 10)\n",
        "y = x\n",
        "\n",
        "plt.plot(x, y)\n",
        "plt.xlim(0, 4)\n",
        "plt.ylim(0, 4)\n",
        "\n",
        "plt.title('quantile-quantile plot of u-g, z > 1.5 vs z < 1.5')\n",
        "plt.grid()\n",
        "\n",
        "plt.xlabel('u-g z < 1.5')\n",
        "plt.ylabel('u-g z > 1.5')"
      ],
      "metadata": {
        "id": "Omc5exDM5qF1"
      },
      "execution_count": null,
      "outputs": []
    },
    {
      "cell_type": "code",
      "source": [
        "delta_tav_array_abs_LSST = np.array([just_tav['LSST-only'], catalogs['LSST+CASTOR']['u-g'], catalogs['LSST+CASTOR']['g-r'], catalogs['LSST+CASTOR']['z_true']]).T\n",
        "delta_tav_array_CASTOR = np.array([just_tav['LSST+CASTOR'], catalogs['LSST+CASTOR']['u-g'], catalogs['LSST+CASTOR']['g-r'], catalogs['LSST+CASTOR']['z_true']]).T\n",
        "\n",
        "\n",
        "tav_df_abs_LSST = pd.DataFrame(delta_tav_array_abs_LSST, columns = ['delta tav', 'u-g', 'g-r', 'z_true'])\n",
        "tav_df_abs_CASTOR = pd.DataFrame(delta_tav_array_CASTOR, columns = ['delta tav', 'u-g', 'g-r', 'z_true'])\n",
        "\n",
        "\n",
        "# tav_df_CASTOR_z_ge_15 = tav_df_CASTOR[tav_df_CASTOR['z_true'] >= 1.5]\n",
        "# tav_df_CASTOR_z_less_15 = tav_df_CASTOR[tav_df_CASTOR['z_true'] < 1.5]\n",
        "\n",
        "\n",
        "quants_LSST = scipy.stats.mstats.mquantiles(tav_df_abs_LSST['delta tav'], quants)\n",
        "quants_CASTOR = scipy.stats.mstats.mquantiles(tav_df_abs_CASTOR['delta tav'], quants)\n",
        "\n",
        "plt.scatter(quants_LSST, quants_CASTOR)\n",
        "\n",
        "x = np.linspace(np.min(quants_LSST), np.max(quants_CASTOR), 10)\n",
        "y = x\n",
        "\n",
        "plt.plot(x, y)\n",
        "plt.xlim(0, 4)\n",
        "plt.ylim(0, 4)\n",
        "\n",
        "plt.title('quantile-quantile plot of TLM, LSST vs LSST+ CASTOR')\n",
        "plt.xlabel('LSST')\n",
        "plt.ylabel('LSST + CASTOR')\n",
        "\n",
        "\n",
        "plt.grid()"
      ],
      "metadata": {
        "id": "XEVzhzM65sIe"
      },
      "execution_count": null,
      "outputs": []
    },
    {
      "cell_type": "code",
      "source": [
        "sns.violinplot(x=tav_df_CASTOR[\"delta tav\"])\n",
        "plt.show()\n",
        "sns.boxenplot(x=tav_df_CASTOR[\"delta tav\"])\n",
        "plt.show()\n",
        "sns.violinplot(x=tav_df_Euclid[\"delta tav\"])\n",
        "plt.show()\n",
        "sns.boxenplot(x=tav_df_Euclid[\"delta tav\"])"
      ],
      "metadata": {
        "id": "G5hCe7-_5vBT"
      },
      "execution_count": null,
      "outputs": []
    },
    {
      "cell_type": "code",
      "source": [
        "# split by TLM value\n",
        "\n",
        "delta_tav_array = np.array([- just_tav['LSST-only'] + just_tav['LSST+CASTOR'], catalogs['LSST+CASTOR']['u-g'], catalogs['LSST+CASTOR']['g-r'], catalogs['LSST+CASTOR']['z_true']]).T\n",
        "\n",
        "tav_df_CASTOR = pd.DataFrame(delta_tav_array, columns = ['delta tav', 'u-g', 'g-r', 'z_true'])\n",
        "\n",
        "sns.jointplot(tav_df_CASTOR[tav_df_CASTOR['delta tav']> 2], x='u-g', y=\"g-r\", kind = 'kde')\n",
        "\n",
        "plt.ylim(-1, 3)\n",
        "plt.xlim(-1, 3)\n",
        "\n",
        "sns.jointplot(tav_df_CASTOR[tav_df_CASTOR['delta tav']< 2], x='u-g', y=\"g-r\", kind = 'kde')\n",
        "\n",
        "plt.ylim(-1, 3)\n",
        "plt.xlim(-1, 3)"
      ],
      "metadata": {
        "id": "snRc-aH16DHY"
      },
      "execution_count": null,
      "outputs": []
    },
    {
      "cell_type": "code",
      "source": [
        "# adding some representative points\n",
        "\n",
        "gr = tav_df_CASTOR_z_cut[tav_df_CASTOR_z_cut['delta tav'] > 2].sort_values(by = ['delta tav'], ascending = False)[0:15]['g-r']\n",
        "ug = tav_df_CASTOR_z_cut[tav_df_CASTOR_z_cut['delta tav'] > 2].sort_values(by = ['delta tav'], ascending = False)[0:15]['u-g']"
      ],
      "metadata": {
        "id": "dGSay5Jf6P0t"
      },
      "execution_count": null,
      "outputs": []
    },
    {
      "cell_type": "code",
      "source": [
        "# split by \"pivot\" redshift\n",
        "\n",
        "delta_tav_array = np.array([- just_tav['LSST-only'] + just_tav['LSST+CASTOR'], catalogs['LSST+CASTOR']['u-g'], catalogs['LSST+CASTOR']['g-r'], catalogs['LSST+CASTOR']['z_true']]).T\n",
        "\n",
        "tav_df_CASTOR = pd.DataFrame(delta_tav_array, columns = ['delta tav', 'u-g', 'g-r', 'z_true'])\n",
        "tav_df_CASTOR_z_cut = tav_df_CASTOR[tav_df_CASTOR['z_true']> 1.5]\n",
        "\n",
        "sns.jointplot(tav_df_CASTOR_z_cut[tav_df_CASTOR_z_cut['delta tav']> 2], x='u-g', y=\"g-r\", kind = 'kde')\n",
        "\n",
        "plt.scatter(ug, gr)\n",
        "\n",
        "plt.ylim(-1, 3)\n",
        "plt.xlim(-1.5, 5.5)\n",
        "\n",
        "sns.jointplot(tav_df_CASTOR_z_cut[tav_df_CASTOR_z_cut['delta tav']< 2], x='u-g', y=\"g-r\", kind = 'kde')\n",
        "\n",
        "plt.ylim(-1, 3)\n",
        "plt.xlim(-1.5, 5.5)"
      ],
      "metadata": {
        "id": "ro_VN_746It5"
      },
      "execution_count": null,
      "outputs": []
    }
  ]
}