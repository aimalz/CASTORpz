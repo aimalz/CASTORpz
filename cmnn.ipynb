{
  "nbformat": 4,
  "nbformat_minor": 0,
  "metadata": {
    "colab": {
      "provenance": [],
      "authorship_tag": "ABX9TyO/mtDO2nTlg6XJLsfm2wlT",
      "include_colab_link": true
    },
    "kernelspec": {
      "name": "python3",
      "display_name": "Python 3"
    },
    "language_info": {
      "name": "python"
    }
  },
  "cells": [
    {
      "cell_type": "markdown",
      "metadata": {
        "id": "view-in-github",
        "colab_type": "text"
      },
      "source": [
        "<a href=\"https://colab.research.google.com/github/aimalz/CASTORpz/blob/main/cmnn.ipynb\" target=\"_parent\"><img src=\"https://colab.research.google.com/assets/colab-badge.svg\" alt=\"Open In Colab\"/></a>"
      ]
    },
    {
      "cell_type": "code",
      "execution_count": 1,
      "metadata": {
        "id": "QY7X2B4mKhsx",
        "colab": {
          "base_uri": "https://localhost:8080/"
        },
        "outputId": "1946f062-f711-4b14-db14-c79979fc0e83"
      },
      "outputs": [
        {
          "output_type": "stream",
          "name": "stdout",
          "text": [
            "Drive already mounted at /content/drive; to attempt to forcibly remount, call drive.mount(\"/content/drive\", force_remount=True).\n"
          ]
        }
      ],
      "source": [
        "from google.colab import drive\n",
        "drive.mount('/content/drive')"
      ]
    },
    {
      "cell_type": "code",
      "source": [
        "cd /content/drive/MyDrive/Research/CASTORpz"
      ],
      "metadata": {
        "colab": {
          "base_uri": "https://localhost:8080/"
        },
        "id": "qzZlflc-cKGz",
        "outputId": "b4563b2b-46eb-4bf6-b00b-6cc94d50df06"
      },
      "execution_count": 2,
      "outputs": [
        {
          "output_type": "stream",
          "name": "stdout",
          "text": [
            "/content/drive/MyDrive/Research/CASTORpz\n"
          ]
        }
      ]
    },
    {
      "cell_type": "code",
      "source": [
        "import cmnn_tools, cmnn_analysis, cmnn_catalog, cmnn_photoz, cmnn_run"
      ],
      "metadata": {
        "id": "8Hp0oyf5cpyg"
      },
      "execution_count": 3,
      "outputs": []
    },
    {
      "cell_type": "code",
      "source": [
        "cmnn_analysis.make_stats_plots(\n",
        "multi_run_ids = ['lsst-year1','lsst-year3','lsst-year6','lsst-year10'],\n",
        "multi_run_labels = ['Year 1','Year 3','Year 6','Year 10'])"
      ],
      "metadata": {
        "colab": {
          "base_uri": "https://localhost:8080/",
          "height": 278
        },
        "id": "SJGfoD0pc4BM",
        "outputId": "561d9a37-e293-4a38-de76-04c023149cc6"
      },
      "execution_count": 4,
      "outputs": [
        {
          "output_type": "stream",
          "name": "stdout",
          "text": [
            " \n",
            "Starting cmnn_analysis.make_stats_plots(),  2024-05-04 21:35:00.640898\n",
            "run ids:  ['lsst-year1', 'lsst-year3', 'lsst-year6', 'lsst-year10']\n",
            "run labels:  ['Year 1', 'Year 3', 'Year 6', 'Year 10']\n",
            " \n",
            "Error, file does not exist:  output/run_lsst-year1/analysis/stats.dat\n",
            "Need to run cmnn_analysis.make_stats_file() first.\n",
            "Exit.\n"
          ]
        },
        {
          "output_type": "error",
          "ename": "SystemExit",
          "evalue": "",
          "traceback": [
            "An exception has occurred, use %tb to see the full traceback.\n",
            "\u001b[0;31mSystemExit\u001b[0m\n"
          ]
        },
        {
          "output_type": "stream",
          "name": "stderr",
          "text": [
            "/usr/local/lib/python3.10/dist-packages/IPython/core/interactiveshell.py:3561: UserWarning: To exit: use 'exit', 'quit', or Ctrl-D.\n",
            "  warn(\"To exit: use 'exit', 'quit', or Ctrl-D.\", stacklevel=1)\n"
          ]
        }
      ]
    },
    {
      "cell_type": "code",
      "source": [
        "cmnn_analysis.make_stats_plots(\n",
        "    multi_run_ids=['lsst-year1', 'lsst-year3', 'lsst-year6', 'lsst-year10'],\n",
        "    multi_run_labels=['Year 1', 'Year 3', 'Year 6', 'Year 10']\n",
        ")"
      ],
      "metadata": {
        "colab": {
          "base_uri": "https://localhost:8080/",
          "height": 530
        },
        "id": "Yl-Z1sPYdu1O",
        "outputId": "d5496a05-9fa6-4801-f51a-8733be71efab"
      },
      "execution_count": 14,
      "outputs": [
        {
          "output_type": "stream",
          "name": "stdout",
          "text": [
            " \n",
            "Starting cmnn_analysis.make_stats_plots(),  2024-05-04 21:17:44.916465\n",
            "run ids:  ['lsst-year1', 'lsst-year3', 'lsst-year6', 'lsst-year10']\n",
            "run labels:  ['Year 1', 'Year 3', 'Year 6', 'Year 10']\n",
            " \n",
            "Error, file does not exist:  output/run_lsst-year1/analysis/stats.dat\n",
            "Need to run cmnn_analysis.make_stats_file() first.\n",
            "Exit.\n"
          ]
        },
        {
          "output_type": "error",
          "ename": "NameError",
          "evalue": "name 'exit' is not defined",
          "traceback": [
            "\u001b[0;31m---------------------------------------------------------------------------\u001b[0m",
            "\u001b[0;31mNameError\u001b[0m                                 Traceback (most recent call last)",
            "\u001b[0;32m<ipython-input-14-ba334817a8d4>\u001b[0m in \u001b[0;36m<cell line: 3>\u001b[0;34m()\u001b[0m\n\u001b[1;32m      1\u001b[0m \u001b[0;32mfrom\u001b[0m \u001b[0msys\u001b[0m \u001b[0;32mimport\u001b[0m \u001b[0mexit\u001b[0m\u001b[0;34m\u001b[0m\u001b[0;34m\u001b[0m\u001b[0m\n\u001b[1;32m      2\u001b[0m \u001b[0;34m\u001b[0m\u001b[0m\n\u001b[0;32m----> 3\u001b[0;31m cmnn_analysis.make_stats_plots(\n\u001b[0m\u001b[1;32m      4\u001b[0m     \u001b[0mmulti_run_ids\u001b[0m\u001b[0;34m=\u001b[0m\u001b[0;34m[\u001b[0m\u001b[0;34m'lsst-year1'\u001b[0m\u001b[0;34m,\u001b[0m \u001b[0;34m'lsst-year3'\u001b[0m\u001b[0;34m,\u001b[0m \u001b[0;34m'lsst-year6'\u001b[0m\u001b[0;34m,\u001b[0m \u001b[0;34m'lsst-year10'\u001b[0m\u001b[0;34m]\u001b[0m\u001b[0;34m,\u001b[0m\u001b[0;34m\u001b[0m\u001b[0;34m\u001b[0m\u001b[0m\n\u001b[1;32m      5\u001b[0m     \u001b[0mmulti_run_labels\u001b[0m\u001b[0;34m=\u001b[0m\u001b[0;34m[\u001b[0m\u001b[0;34m'Year 1'\u001b[0m\u001b[0;34m,\u001b[0m \u001b[0;34m'Year 3'\u001b[0m\u001b[0;34m,\u001b[0m \u001b[0;34m'Year 6'\u001b[0m\u001b[0;34m,\u001b[0m \u001b[0;34m'Year 10'\u001b[0m\u001b[0;34m]\u001b[0m\u001b[0;34m\u001b[0m\u001b[0;34m\u001b[0m\u001b[0m\n",
            "\u001b[0;32m/content/drive/MyDrive/Research/CASTORpz/cmnn_analysis.py\u001b[0m in \u001b[0;36mmake_stats_plots\u001b[0;34m(verbose, runid, user_stats, statsfile_suffix, bin_in_truez, show_SRD, show_binw, multi_run_ids, multi_run_labels, multi_run_colors, plot_title, custom_pfnm_id, custom_axlims)\u001b[0m\n\u001b[1;32m    408\u001b[0m                 \u001b[0mprint\u001b[0m\u001b[0;34m(\u001b[0m\u001b[0;34m'   and set bin_in_truez == True '\u001b[0m\u001b[0;34m)\u001b[0m\u001b[0;34m\u001b[0m\u001b[0;34m\u001b[0m\u001b[0m\n\u001b[1;32m    409\u001b[0m             \u001b[0mprint\u001b[0m\u001b[0;34m(\u001b[0m\u001b[0;34m'Exit.'\u001b[0m\u001b[0;34m)\u001b[0m\u001b[0;34m\u001b[0m\u001b[0;34m\u001b[0m\u001b[0m\n\u001b[0;32m--> 410\u001b[0;31m             \u001b[0mexit\u001b[0m\u001b[0;34m(\u001b[0m\u001b[0;34m)\u001b[0m\u001b[0;34m\u001b[0m\u001b[0;34m\u001b[0m\u001b[0m\n\u001b[0m\u001b[1;32m    411\u001b[0m         \u001b[0;32mdel\u001b[0m \u001b[0mstats_fnm\u001b[0m\u001b[0;34m\u001b[0m\u001b[0;34m\u001b[0m\u001b[0m\n\u001b[1;32m    412\u001b[0m \u001b[0;34m\u001b[0m\u001b[0m\n",
            "\u001b[0;31mNameError\u001b[0m: name 'exit' is not defined"
          ]
        }
      ]
    },
    {
      "cell_type": "code",
      "source": [
        "results_B = cmnn_tools.convert_year_to_depths_baseline( 5 )"
      ],
      "metadata": {
        "id": "wTNWz-b4d-xg"
      },
      "execution_count": 17,
      "outputs": []
    },
    {
      "cell_type": "code",
      "source": [
        "results_B"
      ],
      "metadata": {
        "colab": {
          "base_uri": "https://localhost:8080/"
        },
        "id": "BrWldhGaeSH9",
        "outputId": "3da7cbe6-184d-4563-ec8b-79bae9da5c50"
      },
      "execution_count": 16,
      "outputs": [
        {
          "output_type": "execute_result",
          "data": {
            "text/plain": [
              "array([25.70894754, 27.00257499, 27.15473478, 26.45473478, 25.67886248,\n",
              "       24.47886248])"
            ]
          },
          "metadata": {},
          "execution_count": 16
        }
      ]
    },
    {
      "cell_type": "code",
      "source": [
        "?cmnn_catalog.make_test_and_train"
      ],
      "metadata": {
        "id": "_G6FmCMQeTkC"
      },
      "execution_count": 5,
      "outputs": []
    },
    {
      "cell_type": "code",
      "source": [
        "?cmnn_run"
      ],
      "metadata": {
        "id": "6Q1IoVJtiRPO"
      },
      "execution_count": 7,
      "outputs": []
    },
    {
      "cell_type": "code",
      "source": [
        "from cmnn.photoz import"
      ],
      "metadata": {
        "id": "qXmFp_XciYTb"
      },
      "execution_count": null,
      "outputs": []
    }
  ]
}